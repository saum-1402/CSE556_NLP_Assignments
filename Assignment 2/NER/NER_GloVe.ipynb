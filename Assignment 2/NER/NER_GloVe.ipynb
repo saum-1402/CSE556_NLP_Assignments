{
  "cells": [
    {
      "cell_type": "code",
      "execution_count": 54,
      "metadata": {
        "colab": {
          "base_uri": "https://localhost:8080/"
        },
        "id": "OSuvVks5Xs4S",
        "outputId": "9274f161-ba04-422c-fe71-d6d3371d73cb"
      },
      "outputs": [],
      "source": [
        "import gensim.downloader as api\n",
        "\n",
        "# Load the model using gensim.downloader\n",
        "weight_model = api.load(\"glove-wiki-gigaword-300\")"
      ]
    },
    {
      "cell_type": "code",
      "execution_count": 55,
      "metadata": {
        "id": "zZREDtApWn3X"
      },
      "outputs": [],
      "source": [
        "from gensim.models import KeyedVectors\n",
        "\n",
        "import torch\n",
        "\n",
        "import gensim.downloader as api\n",
        "import matplotlib.pyplot as plt\n",
        "from torch.nn.utils.rnn import pad_sequence"
      ]
    },
    {
      "cell_type": "code",
      "execution_count": 56,
      "metadata": {
        "id": "YaOQVyJ2Wn3Z"
      },
      "outputs": [],
      "source": [
        "import torch.nn as nn\n",
        "import torch.optim as optim\n",
        "from torch.utils.data import  DataLoader, TensorDataset\n",
        "from sklearn.metrics import f1_score"
      ]
    },
    {
      "cell_type": "code",
      "execution_count": 57,
      "metadata": {
        "id": "j9dZhv7-Wn3Z"
      },
      "outputs": [],
      "source": [
        "# weight_model = KeyedVectors.load_word2vec_format('GoogleNews-vectors-negative300.bin', binary=True)"
      ]
    },
    {
      "cell_type": "code",
      "execution_count": 58,
      "metadata": {
        "id": "Ajq_NPaaWn3Z"
      },
      "outputs": [],
      "source": [
        "import json\n",
        "# Specify the path to your JSON file\n",
        "json_file_path = 'NER_training_data.json'\n",
        "\n",
        "# Read the JSON file\n",
        "with open(json_file_path) as f:\n",
        "    data = json.load(f)\n",
        "\n",
        "# data\n",
        "# print(len(data))\n",
        "\n",
        "# Specify the path to your JSON file\n",
        "json_file_path = 'NER_validation_data.json'\n",
        "\n",
        "# Read the JSON file\n",
        "with open(json_file_path) as f:\n",
        "    validation_data = json.load(f)\n",
        "\n"
      ]
    },
    {
      "cell_type": "code",
      "execution_count": 59,
      "metadata": {
        "id": "FENI-JTQWn3a"
      },
      "outputs": [],
      "source": [
        "\n",
        "for key, value in data.items():\n",
        "    word = value['text'].split()\n",
        "    labels = value['labels']\n",
        "    new_labels = []\n",
        "    new_word = []\n",
        "    for i in range(len(word)):\n",
        "        if(word[i]==''):\n",
        "            print(word)\n",
        "            continue\n",
        "        # new_labels.append(labels[i])\n",
        "        new_word.append(word[i])\n",
        "    # value['labels'] = new_labels\n",
        "    value['word'] = new_word\n"
      ]
    },
    {
      "cell_type": "code",
      "execution_count": 60,
      "metadata": {
        "id": "bRt8pPqLWn3a"
      },
      "outputs": [],
      "source": [
        "label_to_idx = {'O': 0, 'B_CASE_NUMBER': 1, 'I_CASE_NUMBER': 2, 'B_ORG': 3, 'I_ORG': 4, 'B_OTHER_PERSON': 5, 'I_OTHER_PERSON': 6,\n",
        "                    'B_STATUTE': 7, 'I_STATUTE': 8, 'B_PROVISION': 9, 'I_PROVISION': 10, 'B_COURT': 11, 'I_COURT': 12,\n",
        "                    'B_WITNESS': 13, 'I_WITNESS': 14, 'B_PRECEDENT': 15, 'I_PRECEDENT': 16, 'B_DATE': 17, 'I_DATE': 18,\n",
        "                    'B_PETITIONER': 19, 'I_PETITIONER': 20, 'B_GPE' : 21, 'I_GPE': 22, 'B_RESPONDENT': 23, 'I_RESPONDENT': 24,\n",
        "                    'B_COURT': 25, 'I_COURT': 26}"
      ]
    },
    {
      "cell_type": "code",
      "execution_count": 61,
      "metadata": {
        "colab": {
          "base_uri": "https://localhost:8080/"
        },
        "id": "eXkLXeKKWn3a",
        "outputId": "5a8bd9a2-3eea-4175-ebab-a08b726b6265"
      },
      "outputs": [
        {
          "name": "stdout",
          "output_type": "stream",
          "text": [
            "torch.Size([7545, 70])\n"
          ]
        }
      ],
      "source": [
        "sentence_for_training = []\n",
        "tags_for_training = []\n",
        "X_train=[]\n",
        "y_train=[]\n",
        "\n",
        "word_to_idx={}\n",
        "for idx, word in enumerate(weight_model.index_to_key):\n",
        "    word_to_idx[word] = idx + 1\n",
        "# label_to_idx = {\"B\": 0, \"I\": 1, \"O\": 2}\n",
        "\n",
        "for key, value in data.items():\n",
        "    word = value['text'].split()\n",
        "    tags = value['labels']\n",
        "    sentence = value['text']\n",
        "    # if len(word) < max_len:\n",
        "    #     word += [''] * (max_len - len(word))\n",
        "    #     tags += ['O'] * (max_len - len(tags))\n",
        "    T_idx = []\n",
        "    for i in word:\n",
        "        index = word_to_idx.get(i, 0)\n",
        "        T_idx.append(index)\n",
        "    X_train.append(torch.tensor(T_idx))\n",
        "    y_train.append(torch.tensor([label_to_idx.get(label, -1) for label in tags if label in label_to_idx]))\n",
        "X_train = pad_sequence(X_train, batch_first=True, padding_value=0)\n",
        "y_train = pad_sequence(y_train, batch_first=True, padding_value=0)\n",
        "\n",
        "print(X_train.shape)"
      ]
    },
    {
      "cell_type": "code",
      "execution_count": 62,
      "metadata": {
        "id": "GjJOLuT7Wn3a"
      },
      "outputs": [],
      "source": [
        "max_len=max([len(i) for i in X_train])\n",
        "X_validation=[]\n",
        "y_validation=[]\n",
        "\n",
        "word_to_idx={}\n",
        "# word_to_idx = {word: idx + 1 for idx, word in enumerate(word_vectors.index_to_key)}\n",
        "for idx, word in enumerate(weight_model.index_to_key):\n",
        "    word_to_idx[word] = idx + 1\n",
        "# label_to_idx = {\"B\": 0, \"I\": 1, \"O\": 2}\n",
        "\n",
        "for key, value in validation_data.items():\n",
        "    word = value['text'].split()\n",
        "    tags = value['labels']\n",
        "    sentence = value['text']\n",
        "    # if len(word) < max_len:\n",
        "    #     word += [''] * (max_len - len(word))\n",
        "    #     tags += ['O'] * (max_len - len(tags))\n",
        "    text_indices = []\n",
        "    for i in word:\n",
        "        index = word_to_idx.get(i, 0)\n",
        "        text_indices.append(index)\n",
        "    # text_indices = [word_to_idx.get(word, 0) for word in word]\n",
        "    X_validation.append(torch.tensor(text_indices))\n",
        "    y_validation.append(torch.tensor([label_to_idx.get(label, -1) for label in tags if label in label_to_idx]))\n",
        "X_validation = pad_sequence(X_validation, batch_first=True, padding_value=0)\n",
        "y_validation = pad_sequence(y_validation, batch_first=True, padding_value=0)"
      ]
    },
    {
      "cell_type": "code",
      "execution_count": 63,
      "metadata": {
        "id": "nUXqTf4TWn3b"
      },
      "outputs": [],
      "source": [
        "class rnnTagger(nn.Module):\n",
        "    def __init__(self, embedding_dim, hidden_dim, vocab_size, tagset_size, word_embeddings):\n",
        "        super(rnnTagger, self).__init__()\n",
        "        self.embedding = nn.Embedding.from_pretrained(word_embeddings, freeze=True)\n",
        "        self.rnn = nn.RNN(embedding_dim, hidden_dim, batch_first=True)\n",
        "        self.linear = nn.Linear(hidden_dim, tagset_size)\n",
        "\n",
        "    def forward(self, sentence):\n",
        "        embedding = self.embedding(sentence)\n",
        "        rnn_out_embed, _ = self.rnn(embedding)\n",
        "        tag_space_rnn = self.linear(rnn_out_embed)\n",
        "        return tag_space_rnn"
      ]
    },
    {
      "cell_type": "code",
      "execution_count": 64,
      "metadata": {
        "id": "Rfjxav5eWn3b"
      },
      "outputs": [],
      "source": [
        "# Define hyperparameters\n",
        "input_size = len(word_to_idx) + 1  # Add 1 for padding token\n",
        "embedding_dim = weight_model.vector_size  # Should match the dimensionality of your word vectors\n",
        "hidden_size = 64\n",
        "vocab_size = len(weight_model.index_to_key)\n",
        "\n",
        "output_size = 27"
      ]
    },
    {
      "cell_type": "code",
      "execution_count": 65,
      "metadata": {
        "id": "EF3ULoVwWn3b"
      },
      "outputs": [],
      "source": [
        "model = rnnTagger(embedding_dim, hidden_size, vocab_size, output_size, torch.FloatTensor(weight_model.vectors))"
      ]
    },
    {
      "cell_type": "code",
      "execution_count": 66,
      "metadata": {
        "id": "sozOXvXiWn3b"
      },
      "outputs": [],
      "source": [
        "# Define loss function and optimizer\n",
        "criterion = nn.CrossEntropyLoss()\n",
        "optimizer = torch.optim.Adam(model.parameters(), lr=0.001)"
      ]
    },
    {
      "cell_type": "code",
      "execution_count": 67,
      "metadata": {
        "id": "UZdOK0PRWn3b"
      },
      "outputs": [],
      "source": [
        "# Prepare data loaders\n",
        "train_dataset = TensorDataset(X_train, y_train)\n",
        "train_loader = DataLoader(train_dataset, batch_size=128, shuffle=True)  # Decrease batch size\n",
        "val_dataset = TensorDataset(X_validation, y_validation)\n",
        "val_loader = DataLoader(val_dataset, batch_size=128, shuffle=True)  # Decrease batch size"
      ]
    },
    {
      "cell_type": "code",
      "execution_count": 68,
      "metadata": {
        "id": "qgulX5CXWn3c"
      },
      "outputs": [],
      "source": [
        "# Train the model\n",
        "train_losses = []\n",
        "val_losses = []\n",
        "train_f1s = []\n",
        "val_f1s = []"
      ]
    },
    {
      "cell_type": "code",
      "execution_count": 69,
      "metadata": {
        "colab": {
          "base_uri": "https://localhost:8080/"
        },
        "id": "A5pCQiPNWn3c",
        "outputId": "112cbd76-1d61-488a-ce4c-b53198431e19"
      },
      "outputs": [
        {
          "name": "stdout",
          "output_type": "stream",
          "text": [
            "Epoch 1/100, Training Loss: 53.5740, Training Macro-F1: 0.0360, Validation Loss: 5.1992, Validation Macro-F1: 0.0370\n",
            "Epoch 2/100, Training Loss: 27.2611, Training Macro-F1: 0.0357, Validation Loss: 5.1063, Validation Macro-F1: 0.0357\n",
            "Epoch 3/100, Training Loss: 27.0045, Training Macro-F1: 0.0357, Validation Loss: 5.0434, Validation Macro-F1: 0.0357\n",
            "Epoch 4/100, Training Loss: 26.8723, Training Macro-F1: 0.0357, Validation Loss: 5.0179, Validation Macro-F1: 0.0357\n",
            "Epoch 5/100, Training Loss: 26.7193, Training Macro-F1: 0.0357, Validation Loss: 4.9796, Validation Macro-F1: 0.0357\n",
            "Epoch 6/100, Training Loss: 26.5548, Training Macro-F1: 0.0357, Validation Loss: 4.9420, Validation Macro-F1: 0.0357\n",
            "Epoch 7/100, Training Loss: 26.3715, Training Macro-F1: 0.0357, Validation Loss: 4.9324, Validation Macro-F1: 0.0357\n",
            "Epoch 8/100, Training Loss: 26.1680, Training Macro-F1: 0.0402, Validation Loss: 4.8051, Validation Macro-F1: 0.0403\n",
            "Epoch 9/100, Training Loss: 25.9050, Training Macro-F1: 0.0406, Validation Loss: 4.8377, Validation Macro-F1: 0.0403\n",
            "Epoch 10/100, Training Loss: 25.4477, Training Macro-F1: 0.0406, Validation Loss: 4.6228, Validation Macro-F1: 0.0402\n",
            "Epoch 11/100, Training Loss: 24.5688, Training Macro-F1: 0.0406, Validation Loss: 4.6730, Validation Macro-F1: 0.0402\n",
            "Epoch 12/100, Training Loss: 23.3649, Training Macro-F1: 0.0426, Validation Loss: 4.2058, Validation Macro-F1: 0.0442\n",
            "Epoch 13/100, Training Loss: 21.4437, Training Macro-F1: 0.0460, Validation Loss: 3.9312, Validation Macro-F1: 0.0467\n",
            "Epoch 14/100, Training Loss: 20.2869, Training Macro-F1: 0.0487, Validation Loss: 3.7593, Validation Macro-F1: 0.0500\n",
            "Epoch 15/100, Training Loss: 19.5559, Training Macro-F1: 0.0524, Validation Loss: 3.7287, Validation Macro-F1: 0.0526\n",
            "Epoch 16/100, Training Loss: 19.1416, Training Macro-F1: 0.0551, Validation Loss: 3.5680, Validation Macro-F1: 0.0532\n",
            "Epoch 17/100, Training Loss: 18.7913, Training Macro-F1: 0.0569, Validation Loss: 3.5720, Validation Macro-F1: 0.0561\n",
            "Epoch 18/100, Training Loss: 18.3174, Training Macro-F1: 0.0596, Validation Loss: 3.4422, Validation Macro-F1: 0.0572\n",
            "Epoch 19/100, Training Loss: 18.0143, Training Macro-F1: 0.0616, Validation Loss: 3.5398, Validation Macro-F1: 0.0576\n",
            "Epoch 20/100, Training Loss: 17.7027, Training Macro-F1: 0.0622, Validation Loss: 3.4441, Validation Macro-F1: 0.0582\n",
            "Epoch 21/100, Training Loss: 17.4036, Training Macro-F1: 0.0631, Validation Loss: 3.3561, Validation Macro-F1: 0.0628\n",
            "Epoch 22/100, Training Loss: 17.1419, Training Macro-F1: 0.0642, Validation Loss: 3.3008, Validation Macro-F1: 0.0638\n",
            "Epoch 23/100, Training Loss: 16.9148, Training Macro-F1: 0.0652, Validation Loss: 3.3230, Validation Macro-F1: 0.0665\n",
            "Epoch 24/100, Training Loss: 16.7124, Training Macro-F1: 0.0693, Validation Loss: 3.2101, Validation Macro-F1: 0.0700\n",
            "Epoch 25/100, Training Loss: 16.6506, Training Macro-F1: 0.0703, Validation Loss: 3.1533, Validation Macro-F1: 0.0701\n",
            "Epoch 26/100, Training Loss: 16.2629, Training Macro-F1: 0.0724, Validation Loss: 3.1180, Validation Macro-F1: 0.0722\n",
            "Epoch 27/100, Training Loss: 16.1465, Training Macro-F1: 0.0742, Validation Loss: 3.2047, Validation Macro-F1: 0.0733\n",
            "Epoch 28/100, Training Loss: 15.9268, Training Macro-F1: 0.0756, Validation Loss: 3.0329, Validation Macro-F1: 0.0781\n",
            "Epoch 29/100, Training Loss: 15.7268, Training Macro-F1: 0.0828, Validation Loss: 3.0278, Validation Macro-F1: 0.0856\n",
            "Epoch 30/100, Training Loss: 15.5790, Training Macro-F1: 0.0900, Validation Loss: 3.0266, Validation Macro-F1: 0.0894\n",
            "Epoch 31/100, Training Loss: 15.4081, Training Macro-F1: 0.0940, Validation Loss: 2.9707, Validation Macro-F1: 0.0960\n",
            "Epoch 32/100, Training Loss: 15.2931, Training Macro-F1: 0.0960, Validation Loss: 2.9471, Validation Macro-F1: 0.0956\n",
            "Epoch 33/100, Training Loss: 15.0864, Training Macro-F1: 0.1004, Validation Loss: 2.9207, Validation Macro-F1: 0.1030\n",
            "Epoch 34/100, Training Loss: 14.9287, Training Macro-F1: 0.1068, Validation Loss: 2.9209, Validation Macro-F1: 0.1128\n",
            "Epoch 35/100, Training Loss: 14.7695, Training Macro-F1: 0.1147, Validation Loss: 2.9511, Validation Macro-F1: 0.1111\n",
            "Epoch 36/100, Training Loss: 14.6830, Training Macro-F1: 0.1253, Validation Loss: 2.8281, Validation Macro-F1: 0.1322\n",
            "Epoch 37/100, Training Loss: 14.5951, Training Macro-F1: 0.1358, Validation Loss: 2.8454, Validation Macro-F1: 0.1460\n",
            "Epoch 38/100, Training Loss: 14.4397, Training Macro-F1: 0.1461, Validation Loss: 2.7964, Validation Macro-F1: 0.1426\n",
            "Epoch 39/100, Training Loss: 14.2395, Training Macro-F1: 0.1528, Validation Loss: 2.8277, Validation Macro-F1: 0.1513\n",
            "Epoch 40/100, Training Loss: 14.1378, Training Macro-F1: 0.1579, Validation Loss: 2.7571, Validation Macro-F1: 0.1607\n",
            "Epoch 41/100, Training Loss: 14.0848, Training Macro-F1: 0.1635, Validation Loss: 2.7505, Validation Macro-F1: 0.1660\n",
            "Epoch 42/100, Training Loss: 14.0153, Training Macro-F1: 0.1677, Validation Loss: 2.7471, Validation Macro-F1: 0.1668\n",
            "Epoch 43/100, Training Loss: 13.8388, Training Macro-F1: 0.1706, Validation Loss: 2.7250, Validation Macro-F1: 0.1700\n",
            "Epoch 44/100, Training Loss: 13.7365, Training Macro-F1: 0.1768, Validation Loss: 2.7810, Validation Macro-F1: 0.1734\n",
            "Epoch 45/100, Training Loss: 13.6269, Training Macro-F1: 0.1793, Validation Loss: 2.6558, Validation Macro-F1: 0.1862\n",
            "Epoch 46/100, Training Loss: 13.4689, Training Macro-F1: 0.1889, Validation Loss: 2.6779, Validation Macro-F1: 0.1806\n",
            "Epoch 47/100, Training Loss: 13.4324, Training Macro-F1: 0.1907, Validation Loss: 2.6626, Validation Macro-F1: 0.1856\n",
            "Epoch 48/100, Training Loss: 13.2685, Training Macro-F1: 0.1964, Validation Loss: 2.6555, Validation Macro-F1: 0.1914\n",
            "Epoch 49/100, Training Loss: 13.1862, Training Macro-F1: 0.2007, Validation Loss: 2.6956, Validation Macro-F1: 0.1981\n",
            "Epoch 50/100, Training Loss: 13.1777, Training Macro-F1: 0.2045, Validation Loss: 2.7566, Validation Macro-F1: 0.1897\n",
            "Epoch 51/100, Training Loss: 13.0030, Training Macro-F1: 0.2093, Validation Loss: 2.5711, Validation Macro-F1: 0.2026\n",
            "Epoch 52/100, Training Loss: 12.8868, Training Macro-F1: 0.2121, Validation Loss: 2.6032, Validation Macro-F1: 0.2029\n",
            "Epoch 53/100, Training Loss: 12.8208, Training Macro-F1: 0.2152, Validation Loss: 2.5889, Validation Macro-F1: 0.2065\n",
            "Epoch 54/100, Training Loss: 12.7034, Training Macro-F1: 0.2178, Validation Loss: 2.5905, Validation Macro-F1: 0.2155\n",
            "Epoch 55/100, Training Loss: 12.6961, Training Macro-F1: 0.2198, Validation Loss: 2.6466, Validation Macro-F1: 0.2154\n",
            "Epoch 56/100, Training Loss: 12.5741, Training Macro-F1: 0.2294, Validation Loss: 2.5982, Validation Macro-F1: 0.2136\n",
            "Epoch 57/100, Training Loss: 12.4539, Training Macro-F1: 0.2330, Validation Loss: 2.5894, Validation Macro-F1: 0.2105\n",
            "Epoch 58/100, Training Loss: 12.4597, Training Macro-F1: 0.2232, Validation Loss: 2.5497, Validation Macro-F1: 0.2148\n",
            "Epoch 59/100, Training Loss: 12.3796, Training Macro-F1: 0.2344, Validation Loss: 2.5079, Validation Macro-F1: 0.2141\n",
            "Epoch 60/100, Training Loss: 12.3451, Training Macro-F1: 0.2344, Validation Loss: 2.5539, Validation Macro-F1: 0.2226\n",
            "Epoch 61/100, Training Loss: 12.1999, Training Macro-F1: 0.2392, Validation Loss: 2.5448, Validation Macro-F1: 0.2207\n",
            "Epoch 62/100, Training Loss: 12.1439, Training Macro-F1: 0.2407, Validation Loss: 2.5964, Validation Macro-F1: 0.2295\n",
            "Epoch 63/100, Training Loss: 12.1031, Training Macro-F1: 0.2450, Validation Loss: 2.5152, Validation Macro-F1: 0.2202\n",
            "Epoch 64/100, Training Loss: 12.0490, Training Macro-F1: 0.2460, Validation Loss: 2.5285, Validation Macro-F1: 0.2208\n",
            "Epoch 65/100, Training Loss: 12.0313, Training Macro-F1: 0.2463, Validation Loss: 2.5635, Validation Macro-F1: 0.2299\n",
            "Epoch 66/100, Training Loss: 12.0464, Training Macro-F1: 0.2498, Validation Loss: 2.5716, Validation Macro-F1: 0.2230\n",
            "Epoch 67/100, Training Loss: 11.9017, Training Macro-F1: 0.2519, Validation Loss: 2.5074, Validation Macro-F1: 0.2220\n",
            "Epoch 68/100, Training Loss: 11.8333, Training Macro-F1: 0.2535, Validation Loss: 2.5453, Validation Macro-F1: 0.2311\n",
            "Epoch 69/100, Training Loss: 11.8081, Training Macro-F1: 0.2581, Validation Loss: 2.4871, Validation Macro-F1: 0.2323\n",
            "Epoch 70/100, Training Loss: 11.7538, Training Macro-F1: 0.2599, Validation Loss: 2.6062, Validation Macro-F1: 0.2302\n",
            "Epoch 71/100, Training Loss: 11.7767, Training Macro-F1: 0.2586, Validation Loss: 2.5056, Validation Macro-F1: 0.2458\n",
            "Epoch 72/100, Training Loss: 11.8030, Training Macro-F1: 0.2618, Validation Loss: 2.4829, Validation Macro-F1: 0.2160\n",
            "Epoch 73/100, Training Loss: 11.6764, Training Macro-F1: 0.2647, Validation Loss: 2.5277, Validation Macro-F1: 0.2469\n",
            "Epoch 74/100, Training Loss: 11.6373, Training Macro-F1: 0.2680, Validation Loss: 2.5176, Validation Macro-F1: 0.2472\n",
            "Epoch 75/100, Training Loss: 11.6297, Training Macro-F1: 0.2714, Validation Loss: 2.5044, Validation Macro-F1: 0.2310\n",
            "Epoch 76/100, Training Loss: 11.5224, Training Macro-F1: 0.2712, Validation Loss: 2.4477, Validation Macro-F1: 0.2424\n",
            "Epoch 77/100, Training Loss: 11.4440, Training Macro-F1: 0.2779, Validation Loss: 2.4880, Validation Macro-F1: 0.2678\n",
            "Epoch 78/100, Training Loss: 11.4406, Training Macro-F1: 0.2784, Validation Loss: 2.4707, Validation Macro-F1: 0.2599\n",
            "Epoch 79/100, Training Loss: 11.3615, Training Macro-F1: 0.2835, Validation Loss: 2.4770, Validation Macro-F1: 0.2486\n",
            "Epoch 80/100, Training Loss: 11.3578, Training Macro-F1: 0.2830, Validation Loss: 2.5147, Validation Macro-F1: 0.2622\n",
            "Epoch 81/100, Training Loss: 11.4362, Training Macro-F1: 0.2831, Validation Loss: 2.4572, Validation Macro-F1: 0.2512\n",
            "Epoch 82/100, Training Loss: 11.2489, Training Macro-F1: 0.2907, Validation Loss: 2.5045, Validation Macro-F1: 0.2552\n",
            "Epoch 83/100, Training Loss: 11.2768, Training Macro-F1: 0.2888, Validation Loss: 2.4495, Validation Macro-F1: 0.2549\n",
            "Epoch 84/100, Training Loss: 11.1806, Training Macro-F1: 0.2914, Validation Loss: 2.4751, Validation Macro-F1: 0.2657\n",
            "Epoch 85/100, Training Loss: 11.1574, Training Macro-F1: 0.2939, Validation Loss: 2.4927, Validation Macro-F1: 0.2648\n",
            "Epoch 86/100, Training Loss: 11.1420, Training Macro-F1: 0.2972, Validation Loss: 2.5099, Validation Macro-F1: 0.2531\n",
            "Epoch 87/100, Training Loss: 11.0458, Training Macro-F1: 0.2985, Validation Loss: 2.4763, Validation Macro-F1: 0.2604\n",
            "Epoch 88/100, Training Loss: 11.0364, Training Macro-F1: 0.3002, Validation Loss: 2.4514, Validation Macro-F1: 0.2699\n",
            "Epoch 89/100, Training Loss: 11.0889, Training Macro-F1: 0.2996, Validation Loss: 2.4938, Validation Macro-F1: 0.2655\n",
            "Epoch 90/100, Training Loss: 10.9886, Training Macro-F1: 0.3039, Validation Loss: 2.4907, Validation Macro-F1: 0.2487\n",
            "Epoch 91/100, Training Loss: 11.0375, Training Macro-F1: 0.3018, Validation Loss: 2.4918, Validation Macro-F1: 0.2673\n",
            "Epoch 92/100, Training Loss: 10.9792, Training Macro-F1: 0.3026, Validation Loss: 2.5316, Validation Macro-F1: 0.2521\n",
            "Epoch 93/100, Training Loss: 10.9094, Training Macro-F1: 0.3059, Validation Loss: 2.4513, Validation Macro-F1: 0.2608\n",
            "Epoch 94/100, Training Loss: 10.9215, Training Macro-F1: 0.3060, Validation Loss: 2.4449, Validation Macro-F1: 0.2666\n",
            "Epoch 95/100, Training Loss: 10.9122, Training Macro-F1: 0.3071, Validation Loss: 2.4636, Validation Macro-F1: 0.2691\n",
            "Epoch 96/100, Training Loss: 10.8209, Training Macro-F1: 0.3106, Validation Loss: 2.5548, Validation Macro-F1: 0.2570\n",
            "Epoch 97/100, Training Loss: 10.8525, Training Macro-F1: 0.3094, Validation Loss: 2.5777, Validation Macro-F1: 0.2684\n",
            "Epoch 98/100, Training Loss: 10.8267, Training Macro-F1: 0.3081, Validation Loss: 2.4878, Validation Macro-F1: 0.2888\n",
            "Epoch 99/100, Training Loss: 11.0036, Training Macro-F1: 0.3082, Validation Loss: 2.6055, Validation Macro-F1: 0.2682\n",
            "Epoch 100/100, Training Loss: 10.8921, Training Macro-F1: 0.3086, Validation Loss: 2.4669, Validation Macro-F1: 0.2765\n"
          ]
        }
      ],
      "source": [
        "num_epochs = 100\n",
        "predicted_labels1 = []\n",
        "for epoch in range(num_epochs):\n",
        "    model.train()\n",
        "    total_loss = 0\n",
        "    train_all_preds = []\n",
        "    train_all_labels = []\n",
        "    for text, labels in train_loader:\n",
        "        optimizer.zero_grad()\n",
        "        outputs = model(text)\n",
        "        loss = criterion(outputs.view(-1, output_size), labels.view(-1))\n",
        "        loss.backward()\n",
        "        optimizer.step()\n",
        "        total_loss += loss.item()\n",
        "\n",
        "        _, predicted = torch.max(outputs, 2)\n",
        "        train_all_preds.extend(predicted.view(-1).cpu().numpy().tolist())\n",
        "        predicted_labels1.extend(predicted.view(-1).cpu().numpy().tolist())\n",
        "        train_all_labels.extend(labels.view(-1).cpu().numpy().tolist())\n",
        "\n",
        "    val_loss = 0\n",
        "    val_all_preds = []\n",
        "    val_all_labels = []\n",
        "    with torch.no_grad():\n",
        "        model.eval()\n",
        "        for text, labels in val_loader:\n",
        "            outputs = model(text)\n",
        "            loss = criterion(outputs.view(-1, output_size), labels.view(-1))\n",
        "            val_loss += loss.item()\n",
        "\n",
        "\n",
        "            _, predicted = torch.max(outputs, 2)\n",
        "            val_all_preds.extend(predicted.view(-1).cpu().numpy().tolist())\n",
        "            val_all_labels.extend(labels.view(-1).cpu().numpy().tolist())\n",
        "\n",
        "    train_losses.append(total_loss / len(train_loader))\n",
        "    val_losses.append(val_loss / len(val_loader))\n",
        "    train_f1 = f1_score(train_all_labels, train_all_preds, average='macro')\n",
        "    val_f1 = f1_score(val_all_labels, val_all_preds, average='macro')\n",
        "    train_f1s.append(train_f1)\n",
        "    val_f1s.append(val_f1)\n",
        "\n",
        "    print(f\"Epoch {epoch+1}/{num_epochs}, Training Loss: {total_loss:.4f}, Training Macro-F1: {train_f1:.4f}, Validation Loss: {val_loss:.4f}, Validation Macro-F1: {val_f1:.4f}\")\n"
      ]
    },
    {
      "cell_type": "code",
      "execution_count": 70,
      "metadata": {},
      "outputs": [],
      "source": [
        "torch.save(model, 'NER_RNNglove.pt')"
      ]
    },
    {
      "cell_type": "code",
      "execution_count": 71,
      "metadata": {
        "id": "83v9iM6ZWn3c"
      },
      "outputs": [],
      "source": [
        "# Specify the path to your JSON file\n",
        "json_file_path = 'NER_test_data.json'\n",
        "\n",
        "# Read the JSON file\n",
        "with open(json_file_path) as f:\n",
        "    test_data = json.load(f)\n"
      ]
    },
    {
      "cell_type": "code",
      "execution_count": 72,
      "metadata": {
        "id": "uBtBTilJWn3d"
      },
      "outputs": [],
      "source": [
        "X_test=[]\n",
        "y_test=[]\n",
        "\n",
        "for idx, word in enumerate(weight_model.index_to_key):\n",
        "    word_to_idx[word] = idx + 1\n",
        "# label_to_idx = {\"B\": 0, \"I\": 1, \"O\": 2}\n",
        "\n",
        "for key, value in test_data.items():\n",
        "    word = value['text'].split()\n",
        "    tags = value['labels']\n",
        "    sentence = value['text']\n",
        "    # if len(word) < max_len:\n",
        "    #     word += [''] * (max_len - len(word))\n",
        "    #     tags += ['O'] * (max_len - len(tags))\n",
        "    text_indices = []\n",
        "    for i in word:\n",
        "        index = word_to_idx.get(i, 0)\n",
        "        text_indices.append(index)\n",
        "    X_test.append(torch.tensor(text_indices))\n",
        "    y_test.append(torch.tensor([label_to_idx.get(label, -1) for label in tags if label in label_to_idx]))\n",
        "X_test = pad_sequence(X_test, batch_first=True, padding_value=0)\n",
        "y_test = pad_sequence(y_test, batch_first=True, padding_value=0)"
      ]
    },
    {
      "cell_type": "code",
      "execution_count": 73,
      "metadata": {
        "colab": {
          "base_uri": "https://localhost:8080/",
          "height": 860
        },
        "id": "R3YO1IFBWn3d",
        "outputId": "1a0ea37f-f1aa-40b5-d088-fa7222bfe0ee"
      },
      "outputs": [
        {
          "name": "stdout",
          "output_type": "stream",
          "text": [
            "Test Loss: 0.2382, Test Macro-F1: 0.2699\n"
          ]
        },
        {
          "data": {
            "image/png": "[encoded data removed]",
            "text/plain": [
              "<Figure size 640x480 with 1 Axes>"
            ]
          },
          "metadata": {},
          "output_type": "display_data"
        },
        {
          "data": {
            "image/png": "[encoded data removed]",
            "text/plain": [
              "<Figure size 640x480 with 1 Axes>"
            ]
          },
          "metadata": {},
          "output_type": "display_data"
        }
      ],
      "source": [
        "def evaluate_model(model, dataloader, criterion, tagset_size):\n",
        "    model.eval()\n",
        "    total_loss = 0\n",
        "    all_preds = []\n",
        "    all_labels = []\n",
        "\n",
        "    with torch.no_grad():\n",
        "        for text, labels in dataloader:\n",
        "            outputs = model(text)\n",
        "            loss = criterion(outputs.view(-1, tagset_size), labels.view(-1))\n",
        "            total_loss += loss.item()\n",
        "\n",
        "            _, predicted = torch.max(outputs, 2)\n",
        "            all_preds.extend(predicted.view(-1).cpu().numpy().tolist())\n",
        "            all_labels.extend(labels.view(-1).cpu().numpy().tolist())\n",
        "\n",
        "    avg_loss = total_loss / len(dataloader)\n",
        "    macro_f1 = f1_score(all_labels, all_preds, average='macro')\n",
        "\n",
        "    return avg_loss, macro_f1\n",
        "# Evaluate on the test dataset\n",
        "test_dataset = TensorDataset(X_test, y_test)\n",
        "test_loader = DataLoader(test_dataset, batch_size=128, shuffle=True)  # Decrease batch size\n",
        "\n",
        "test_loss, test_f1 = evaluate_model(model, test_loader, criterion, output_size)\n",
        "print(f\"Test Loss: {test_loss:.4f}, Test Macro-F1: {test_f1:.4f}\")\n",
        "\n",
        "\n",
        "# Plot the training and validation loss\n",
        "def showresults():\n",
        "    plt.plot(train_losses, label='Training Loss')\n",
        "    plt.plot(val_losses, label='Validation Loss')\n",
        "    plt.legend()\n",
        "    # save the graph\n",
        "    plt.savefig('loss_NER_RNN.png')\n",
        "    plt.show()\n",
        "\n",
        "    plt.plot(train_f1s, label='Training Macro-F1')\n",
        "    plt.plot(val_f1s, label='Validation Macro-F1')\n",
        "    plt.legend()\n",
        "    # save the graph\n",
        "    plt.savefig('f1_NER_RNN.png')\n",
        "    plt.show()\n",
        "showresults()"
      ]
    },
    {
      "cell_type": "markdown",
      "metadata": {
        "id": "-1pUYb01e6n9"
      },
      "source": [
        "**LSTM**"
      ]
    },
    {
      "cell_type": "code",
      "execution_count": null,
      "metadata": {
        "id": "TalQ91fAe9zV"
      },
      "outputs": [],
      "source": []
    },
    {
      "cell_type": "code",
      "execution_count": 74,
      "metadata": {
        "id": "ZrUelcqTeeK4"
      },
      "outputs": [],
      "source": [
        "from gensim.models import KeyedVectors\n",
        "\n",
        "import torch\n",
        "\n",
        "import gensim.downloader as api\n",
        "import matplotlib.pyplot as plt\n",
        "from torch.nn.utils.rnn import pad_sequence"
      ]
    },
    {
      "cell_type": "code",
      "execution_count": 75,
      "metadata": {
        "id": "ou69M93YeeK5"
      },
      "outputs": [],
      "source": [
        "import torch.nn as nn\n",
        "import torch.optim as optim\n",
        "from torch.utils.data import  DataLoader, TensorDataset\n",
        "from sklearn.metrics import f1_score"
      ]
    },
    {
      "cell_type": "code",
      "execution_count": 76,
      "metadata": {
        "id": "d4GaL_CGeeK6"
      },
      "outputs": [],
      "source": [
        "#  import lstm libraries of torch\n",
        "from torch.nn import LSTM\n"
      ]
    },
    {
      "cell_type": "code",
      "execution_count": 77,
      "metadata": {
        "id": "HoPLn_KQeeK6"
      },
      "outputs": [],
      "source": [
        "import json\n",
        "# Specify the path to your JSON file\n",
        "json_file_path = 'NER_training_data.json'\n",
        "\n",
        "# Read the JSON file\n",
        "with open(json_file_path) as f:\n",
        "    data = json.load(f)\n",
        "\n",
        "# data\n",
        "# print(len(data))\n",
        "\n",
        "# Specify the path to your JSON file\n",
        "json_file_path = 'NER_validation_data.json'\n",
        "\n",
        "# Read the JSON file\n",
        "with open(json_file_path) as f:\n",
        "    validation_data = json.load(f)\n",
        "\n"
      ]
    },
    {
      "cell_type": "code",
      "execution_count": 78,
      "metadata": {
        "id": "GmsMCta4eeK6"
      },
      "outputs": [],
      "source": [
        "\n",
        "for key, value in data.items():\n",
        "    word = value['text'].split()\n",
        "    labels = value['labels']\n",
        "    new_labels = []\n",
        "    new_word = []\n",
        "    for i in range(len(word)):\n",
        "        if(word[i]==''):\n",
        "            print(word)\n",
        "            continue\n",
        "        # new_labels.append(labels[i])\n",
        "        new_word.append(word[i])\n",
        "    # value['labels'] = new_labels\n",
        "    value['word'] = new_word\n"
      ]
    },
    {
      "cell_type": "code",
      "execution_count": 79,
      "metadata": {
        "id": "2-HiplofeeK7"
      },
      "outputs": [],
      "source": [
        "label_to_idx = {'O': 0, 'B_CASE_NUMBER': 1, 'I_CASE_NUMBER': 2, 'B_ORG': 3, 'I_ORG': 4, 'B_OTHER_PERSON': 5, 'I_OTHER_PERSON': 6,\n",
        "                    'B_STATUTE': 7, 'I_STATUTE': 8, 'B_PROVISION': 9, 'I_PROVISION': 10, 'B_COURT': 11, 'I_COURT': 12,\n",
        "                    'B_WITNESS': 13, 'I_WITNESS': 14, 'B_PRECEDENT': 15, 'I_PRECEDENT': 16, 'B_DATE': 17, 'I_DATE': 18,\n",
        "                    'B_PETITIONER': 19, 'I_PETITIONER': 20, 'B_GPE' : 21, 'I_GPE': 22, 'B_RESPONDENT': 23, 'I_RESPONDENT': 24,\n",
        "                    'B_COURT': 25, 'I_COURT': 26}"
      ]
    },
    {
      "cell_type": "code",
      "execution_count": 80,
      "metadata": {
        "colab": {
          "base_uri": "https://localhost:8080/"
        },
        "id": "wrswzOgHeeK7",
        "outputId": "867479d3-50f1-439d-9b50-a590aa4c6ad9"
      },
      "outputs": [
        {
          "name": "stdout",
          "output_type": "stream",
          "text": [
            "torch.Size([7545, 70])\n"
          ]
        }
      ],
      "source": [
        "sentence_for_training = []\n",
        "tags_for_training = []\n",
        "X_train=[]\n",
        "y_train=[]\n",
        "\n",
        "word_to_idx={}\n",
        "for idx, word in enumerate(weight_model.index_to_key):\n",
        "    word_to_idx[word] = idx + 1\n",
        "# label_to_idx = {\"B\": 0, \"I\": 1, \"O\": 2}\n",
        "\n",
        "for key, value in data.items():\n",
        "    word = value['text'].split()\n",
        "    tags = value['labels']\n",
        "    sentence = value['text']\n",
        "    # if len(word) < max_len:\n",
        "    #     word += [''] * (max_len - len(word))\n",
        "    #     tags += ['O'] * (max_len - len(tags))\n",
        "    T_idx = []\n",
        "    for i in word:\n",
        "        index = word_to_idx.get(i, 0)\n",
        "        T_idx.append(index)\n",
        "    X_train.append(torch.tensor(T_idx))\n",
        "    y_train.append(torch.tensor([label_to_idx.get(label, -1) for label in tags if label in label_to_idx]))\n",
        "X_train = pad_sequence(X_train, batch_first=True, padding_value=0)\n",
        "y_train = pad_sequence(y_train, batch_first=True, padding_value=0)\n",
        "\n",
        "print(X_train.shape)"
      ]
    },
    {
      "cell_type": "code",
      "execution_count": 81,
      "metadata": {
        "id": "9O5mdIOleeK7"
      },
      "outputs": [],
      "source": [
        "max_len=max([len(i) for i in X_train])\n",
        "X_validation=[]\n",
        "y_validation=[]\n",
        "\n",
        "word_to_idx={}\n",
        "# word_to_idx = {word: idx + 1 for idx, word in enumerate(word_vectors.index_to_key)}\n",
        "for idx, word in enumerate(weight_model.index_to_key):\n",
        "    word_to_idx[word] = idx + 1\n",
        "# label_to_idx = {\"B\": 0, \"I\": 1, \"O\": 2}\n",
        "\n",
        "for key, value in validation_data.items():\n",
        "    word = value['text'].split()\n",
        "    tags = value['labels']\n",
        "    sentence = value['text']\n",
        "    # if len(word) < max_len:\n",
        "    #     word += [''] * (max_len - len(word))\n",
        "    #     tags += ['O'] * (max_len - len(tags))\n",
        "    text_indices = []\n",
        "    for i in word:\n",
        "        index = word_to_idx.get(i, 0)\n",
        "        text_indices.append(index)\n",
        "    # text_indices = [word_to_idx.get(word, 0) for word in word]\n",
        "    X_validation.append(torch.tensor(text_indices))\n",
        "    y_validation.append(torch.tensor([label_to_idx.get(label, -1) for label in tags if label in label_to_idx]))\n",
        "X_validation = pad_sequence(X_validation, batch_first=True, padding_value=0)\n",
        "y_validation = pad_sequence(y_validation, batch_first=True, padding_value=0)"
      ]
    },
    {
      "cell_type": "code",
      "execution_count": 82,
      "metadata": {
        "id": "ifMB5LZ7eeK7"
      },
      "outputs": [],
      "source": [
        "class LSTM(nn.Module):\n",
        "    def __init__(self, embedding_dim, hidden_dim, vocab_size, tagset_size, word_embeddings):\n",
        "        super(LSTM, self).__init__()\n",
        "        self.embedding = nn.Embedding.from_pretrained(word_embeddings, freeze=True)\n",
        "        self.lstm = nn.LSTM(embedding_dim, hidden_dim, batch_first=True)\n",
        "        self.linear = nn.Linear(hidden_dim, tagset_size)\n",
        "\n",
        "    def forward(self, sentence):\n",
        "        embedding = self.embedding(sentence)\n",
        "        lstm_out, _ = self.lstm(embedding)\n",
        "        tag_space_lstm = self.linear(lstm_out)\n",
        "        return tag_space_lstm"
      ]
    },
    {
      "cell_type": "code",
      "execution_count": 83,
      "metadata": {
        "id": "vcf8AXO9eeK8"
      },
      "outputs": [],
      "source": [
        "# Define hyperparameters\n",
        "input_size = len(word_to_idx) + 1  # Add 1 for padding token\n",
        "embedding_dim = weight_model.vector_size  # Should match the dimensionality of your word vectors\n",
        "hidden_size = 64\n",
        "vocab_size = len(weight_model.index_to_key)\n",
        "\n",
        "output_size = 27"
      ]
    },
    {
      "cell_type": "code",
      "execution_count": 84,
      "metadata": {
        "id": "VlBvcfi4eeK8"
      },
      "outputs": [],
      "source": [
        "model = LSTM(embedding_dim, hidden_size, vocab_size, output_size, torch.FloatTensor(weight_model.vectors))"
      ]
    },
    {
      "cell_type": "code",
      "execution_count": 85,
      "metadata": {
        "id": "Hv7ZY8KseeK8"
      },
      "outputs": [],
      "source": [
        "# Define loss function and optimizer\n",
        "criterion = nn.CrossEntropyLoss()\n",
        "optimizer = torch.optim.Adam(model.parameters(), lr=0.003)"
      ]
    },
    {
      "cell_type": "code",
      "execution_count": 86,
      "metadata": {
        "id": "OOad_GEDeeK8"
      },
      "outputs": [],
      "source": [
        "# Prepare data loaders\n",
        "train_dataset = TensorDataset(X_train, y_train)\n",
        "train_loader = DataLoader(train_dataset, batch_size=256, shuffle=True)  # Decrease batch size\n",
        "val_dataset = TensorDataset(X_validation, y_validation)\n",
        "val_loader = DataLoader(val_dataset, batch_size=256, shuffle=True)  # Decrease batch size"
      ]
    },
    {
      "cell_type": "code",
      "execution_count": 87,
      "metadata": {
        "id": "jwBOoFBTeeK9"
      },
      "outputs": [],
      "source": [
        "# Train the model\n",
        "train_losses = []\n",
        "val_losses = []\n",
        "train_f1s = []\n",
        "val_f1s = []"
      ]
    },
    {
      "cell_type": "code",
      "execution_count": 88,
      "metadata": {
        "colab": {
          "base_uri": "https://localhost:8080/"
        },
        "id": "1G5Cnf0deeK9",
        "outputId": "3f73c24a-520e-40da-e775-fa713613932f"
      },
      "outputs": [
        {
          "name": "stdout",
          "output_type": "stream",
          "text": [
            "Epoch 1/100, Training Loss: 25.2655, Training Macro-F1: 0.0355, Validation Loss: 2.8223, Validation Macro-F1: 0.0385\n",
            "Epoch 2/100, Training Loss: 13.9137, Training Macro-F1: 0.0385, Validation Loss: 2.8008, Validation Macro-F1: 0.0370\n",
            "Epoch 3/100, Training Loss: 13.7074, Training Macro-F1: 0.0385, Validation Loss: 2.7184, Validation Macro-F1: 0.0370\n",
            "Epoch 4/100, Training Loss: 13.5321, Training Macro-F1: 0.0370, Validation Loss: 2.6822, Validation Macro-F1: 0.0370\n",
            "Epoch 5/100, Training Loss: 13.3010, Training Macro-F1: 0.0370, Validation Loss: 2.5930, Validation Macro-F1: 0.0370\n",
            "Epoch 6/100, Training Loss: 13.0242, Training Macro-F1: 0.0370, Validation Loss: 2.5623, Validation Macro-F1: 0.0370\n",
            "Epoch 7/100, Training Loss: 12.4772, Training Macro-F1: 0.0395, Validation Loss: 2.5499, Validation Macro-F1: 0.0411\n",
            "Epoch 8/100, Training Loss: 11.6645, Training Macro-F1: 0.0420, Validation Loss: 2.2699, Validation Macro-F1: 0.0418\n",
            "Epoch 9/100, Training Loss: 10.7150, Training Macro-F1: 0.0426, Validation Loss: 2.0637, Validation Macro-F1: 0.0433\n",
            "Epoch 10/100, Training Loss: 9.9269, Training Macro-F1: 0.0508, Validation Loss: 1.9214, Validation Macro-F1: 0.0533\n",
            "Epoch 11/100, Training Loss: 9.3745, Training Macro-F1: 0.0567, Validation Loss: 1.8390, Validation Macro-F1: 0.0556\n",
            "Epoch 12/100, Training Loss: 9.0261, Training Macro-F1: 0.0586, Validation Loss: 1.7756, Validation Macro-F1: 0.0589\n",
            "Epoch 13/100, Training Loss: 8.6449, Training Macro-F1: 0.0613, Validation Loss: 1.7754, Validation Macro-F1: 0.0612\n",
            "Epoch 14/100, Training Loss: 8.3727, Training Macro-F1: 0.0635, Validation Loss: 1.7398, Validation Macro-F1: 0.0674\n",
            "Epoch 15/100, Training Loss: 8.2070, Training Macro-F1: 0.0709, Validation Loss: 1.6345, Validation Macro-F1: 0.0698\n",
            "Epoch 16/100, Training Loss: 8.0028, Training Macro-F1: 0.0738, Validation Loss: 1.6358, Validation Macro-F1: 0.0724\n",
            "Epoch 17/100, Training Loss: 7.8632, Training Macro-F1: 0.0766, Validation Loss: 1.6497, Validation Macro-F1: 0.0761\n",
            "Epoch 18/100, Training Loss: 7.6989, Training Macro-F1: 0.0808, Validation Loss: 1.6092, Validation Macro-F1: 0.0794\n",
            "Epoch 19/100, Training Loss: 7.6039, Training Macro-F1: 0.0901, Validation Loss: 1.5653, Validation Macro-F1: 0.0933\n",
            "Epoch 20/100, Training Loss: 7.4585, Training Macro-F1: 0.0994, Validation Loss: 1.5522, Validation Macro-F1: 0.0959\n",
            "Epoch 21/100, Training Loss: 7.3470, Training Macro-F1: 0.1060, Validation Loss: 1.5687, Validation Macro-F1: 0.1060\n",
            "Epoch 22/100, Training Loss: 7.2272, Training Macro-F1: 0.1142, Validation Loss: 1.5848, Validation Macro-F1: 0.1157\n",
            "Epoch 23/100, Training Loss: 7.1273, Training Macro-F1: 0.1228, Validation Loss: 1.5780, Validation Macro-F1: 0.1203\n",
            "Epoch 24/100, Training Loss: 7.0186, Training Macro-F1: 0.1280, Validation Loss: 1.4951, Validation Macro-F1: 0.1217\n",
            "Epoch 25/100, Training Loss: 6.9020, Training Macro-F1: 0.1393, Validation Loss: 1.5182, Validation Macro-F1: 0.1354\n",
            "Epoch 26/100, Training Loss: 6.8992, Training Macro-F1: 0.1462, Validation Loss: 1.4795, Validation Macro-F1: 0.1435\n",
            "Epoch 27/100, Training Loss: 6.7543, Training Macro-F1: 0.1515, Validation Loss: 1.5252, Validation Macro-F1: 0.1461\n",
            "Epoch 28/100, Training Loss: 6.7056, Training Macro-F1: 0.1696, Validation Loss: 1.4914, Validation Macro-F1: 0.1453\n",
            "Epoch 29/100, Training Loss: 6.6495, Training Macro-F1: 0.1761, Validation Loss: 1.5023, Validation Macro-F1: 0.1726\n",
            "Epoch 30/100, Training Loss: 6.5527, Training Macro-F1: 0.1900, Validation Loss: 1.3963, Validation Macro-F1: 0.1750\n",
            "Epoch 31/100, Training Loss: 6.4837, Training Macro-F1: 0.1946, Validation Loss: 1.3672, Validation Macro-F1: 0.1768\n",
            "Epoch 32/100, Training Loss: 6.4238, Training Macro-F1: 0.2076, Validation Loss: 1.4406, Validation Macro-F1: 0.1890\n",
            "Epoch 33/100, Training Loss: 6.4278, Training Macro-F1: 0.2087, Validation Loss: 1.3934, Validation Macro-F1: 0.2059\n",
            "Epoch 34/100, Training Loss: 6.3572, Training Macro-F1: 0.2155, Validation Loss: 1.4213, Validation Macro-F1: 0.2067\n",
            "Epoch 35/100, Training Loss: 6.2641, Training Macro-F1: 0.2273, Validation Loss: 1.3909, Validation Macro-F1: 0.1978\n",
            "Epoch 36/100, Training Loss: 6.1980, Training Macro-F1: 0.2273, Validation Loss: 1.3577, Validation Macro-F1: 0.2039\n",
            "Epoch 37/100, Training Loss: 6.2035, Training Macro-F1: 0.2335, Validation Loss: 1.4173, Validation Macro-F1: 0.2175\n",
            "Epoch 38/100, Training Loss: 6.1201, Training Macro-F1: 0.2377, Validation Loss: 1.3242, Validation Macro-F1: 0.2163\n",
            "Epoch 39/100, Training Loss: 6.0930, Training Macro-F1: 0.2397, Validation Loss: 1.4177, Validation Macro-F1: 0.2118\n",
            "Epoch 40/100, Training Loss: 6.0398, Training Macro-F1: 0.2429, Validation Loss: 1.3649, Validation Macro-F1: 0.2220\n",
            "Epoch 41/100, Training Loss: 6.0197, Training Macro-F1: 0.2450, Validation Loss: 1.4203, Validation Macro-F1: 0.2232\n",
            "Epoch 42/100, Training Loss: 6.0081, Training Macro-F1: 0.2467, Validation Loss: 1.3932, Validation Macro-F1: 0.2249\n",
            "Epoch 43/100, Training Loss: 5.9843, Training Macro-F1: 0.2488, Validation Loss: 1.3987, Validation Macro-F1: 0.2112\n",
            "Epoch 44/100, Training Loss: 5.9286, Training Macro-F1: 0.2506, Validation Loss: 1.3449, Validation Macro-F1: 0.2301\n",
            "Epoch 45/100, Training Loss: 5.8935, Training Macro-F1: 0.2539, Validation Loss: 1.3982, Validation Macro-F1: 0.2286\n",
            "Epoch 46/100, Training Loss: 5.8217, Training Macro-F1: 0.2583, Validation Loss: 1.4040, Validation Macro-F1: 0.2323\n",
            "Epoch 47/100, Training Loss: 5.8225, Training Macro-F1: 0.2585, Validation Loss: 1.4154, Validation Macro-F1: 0.2221\n",
            "Epoch 48/100, Training Loss: 5.7637, Training Macro-F1: 0.2630, Validation Loss: 1.3516, Validation Macro-F1: 0.2342\n",
            "Epoch 49/100, Training Loss: 5.7901, Training Macro-F1: 0.2603, Validation Loss: 1.3644, Validation Macro-F1: 0.2275\n",
            "Epoch 50/100, Training Loss: 5.7241, Training Macro-F1: 0.2665, Validation Loss: 1.3082, Validation Macro-F1: 0.2350\n",
            "Epoch 51/100, Training Loss: 5.6758, Training Macro-F1: 0.2675, Validation Loss: 1.3970, Validation Macro-F1: 0.2271\n",
            "Epoch 52/100, Training Loss: 5.6749, Training Macro-F1: 0.2681, Validation Loss: 1.3328, Validation Macro-F1: 0.2356\n",
            "Epoch 53/100, Training Loss: 5.6317, Training Macro-F1: 0.2699, Validation Loss: 1.3880, Validation Macro-F1: 0.2263\n",
            "Epoch 54/100, Training Loss: 5.6163, Training Macro-F1: 0.2735, Validation Loss: 1.3334, Validation Macro-F1: 0.2394\n",
            "Epoch 55/100, Training Loss: 5.5508, Training Macro-F1: 0.2759, Validation Loss: 1.4029, Validation Macro-F1: 0.2363\n",
            "Epoch 56/100, Training Loss: 5.5595, Training Macro-F1: 0.2792, Validation Loss: 1.4728, Validation Macro-F1: 0.2406\n",
            "Epoch 57/100, Training Loss: 5.5482, Training Macro-F1: 0.2788, Validation Loss: 1.3338, Validation Macro-F1: 0.2405\n",
            "Epoch 58/100, Training Loss: 5.5080, Training Macro-F1: 0.2847, Validation Loss: 1.4216, Validation Macro-F1: 0.2320\n",
            "Epoch 59/100, Training Loss: 5.4800, Training Macro-F1: 0.2836, Validation Loss: 1.3969, Validation Macro-F1: 0.2439\n",
            "Epoch 60/100, Training Loss: 5.4261, Training Macro-F1: 0.2899, Validation Loss: 1.3656, Validation Macro-F1: 0.2464\n",
            "Epoch 61/100, Training Loss: 5.3923, Training Macro-F1: 0.2911, Validation Loss: 1.3398, Validation Macro-F1: 0.2515\n",
            "Epoch 62/100, Training Loss: 5.3754, Training Macro-F1: 0.2952, Validation Loss: 1.3498, Validation Macro-F1: 0.2313\n",
            "Epoch 63/100, Training Loss: 5.3385, Training Macro-F1: 0.2947, Validation Loss: 1.4386, Validation Macro-F1: 0.2488\n",
            "Epoch 64/100, Training Loss: 5.3048, Training Macro-F1: 0.2996, Validation Loss: 1.4020, Validation Macro-F1: 0.2582\n",
            "Epoch 65/100, Training Loss: 5.2791, Training Macro-F1: 0.3032, Validation Loss: 1.3913, Validation Macro-F1: 0.2715\n",
            "Epoch 66/100, Training Loss: 5.2841, Training Macro-F1: 0.3046, Validation Loss: 1.3813, Validation Macro-F1: 0.2575\n",
            "Epoch 67/100, Training Loss: 5.2134, Training Macro-F1: 0.3082, Validation Loss: 1.3409, Validation Macro-F1: 0.2586\n",
            "Epoch 68/100, Training Loss: 5.2115, Training Macro-F1: 0.3124, Validation Loss: 1.3732, Validation Macro-F1: 0.2685\n",
            "Epoch 69/100, Training Loss: 5.2023, Training Macro-F1: 0.3119, Validation Loss: 1.3742, Validation Macro-F1: 0.2611\n",
            "Epoch 70/100, Training Loss: 5.1872, Training Macro-F1: 0.3148, Validation Loss: 1.4134, Validation Macro-F1: 0.2430\n",
            "Epoch 71/100, Training Loss: 5.1893, Training Macro-F1: 0.3142, Validation Loss: 1.3235, Validation Macro-F1: 0.2620\n",
            "Epoch 72/100, Training Loss: 5.0976, Training Macro-F1: 0.3189, Validation Loss: 1.3686, Validation Macro-F1: 0.2617\n",
            "Epoch 73/100, Training Loss: 5.0212, Training Macro-F1: 0.3264, Validation Loss: 1.3429, Validation Macro-F1: 0.2615\n",
            "Epoch 74/100, Training Loss: 5.0269, Training Macro-F1: 0.3274, Validation Loss: 1.4698, Validation Macro-F1: 0.2605\n",
            "Epoch 75/100, Training Loss: 4.9906, Training Macro-F1: 0.3313, Validation Loss: 1.3896, Validation Macro-F1: 0.2612\n",
            "Epoch 76/100, Training Loss: 4.9754, Training Macro-F1: 0.3349, Validation Loss: 1.4372, Validation Macro-F1: 0.2772\n",
            "Epoch 77/100, Training Loss: 4.9389, Training Macro-F1: 0.3375, Validation Loss: 1.3683, Validation Macro-F1: 0.2747\n",
            "Epoch 78/100, Training Loss: 4.9448, Training Macro-F1: 0.3380, Validation Loss: 1.4000, Validation Macro-F1: 0.2640\n",
            "Epoch 79/100, Training Loss: 4.9177, Training Macro-F1: 0.3417, Validation Loss: 1.4551, Validation Macro-F1: 0.2726\n",
            "Epoch 80/100, Training Loss: 4.8555, Training Macro-F1: 0.3440, Validation Loss: 1.4070, Validation Macro-F1: 0.2668\n",
            "Epoch 81/100, Training Loss: 4.9282, Training Macro-F1: 0.3430, Validation Loss: 1.5106, Validation Macro-F1: 0.2607\n",
            "Epoch 82/100, Training Loss: 4.8334, Training Macro-F1: 0.3494, Validation Loss: 1.3916, Validation Macro-F1: 0.2843\n",
            "Epoch 83/100, Training Loss: 4.8291, Training Macro-F1: 0.3511, Validation Loss: 1.3908, Validation Macro-F1: 0.2832\n",
            "Epoch 84/100, Training Loss: 4.7557, Training Macro-F1: 0.3589, Validation Loss: 1.4361, Validation Macro-F1: 0.2842\n",
            "Epoch 85/100, Training Loss: 4.7518, Training Macro-F1: 0.3580, Validation Loss: 1.3951, Validation Macro-F1: 0.2809\n",
            "Epoch 86/100, Training Loss: 4.7332, Training Macro-F1: 0.3608, Validation Loss: 1.4237, Validation Macro-F1: 0.2807\n",
            "Epoch 87/100, Training Loss: 4.6956, Training Macro-F1: 0.3629, Validation Loss: 1.4678, Validation Macro-F1: 0.2693\n",
            "Epoch 88/100, Training Loss: 4.6960, Training Macro-F1: 0.3642, Validation Loss: 1.4238, Validation Macro-F1: 0.2796\n",
            "Epoch 89/100, Training Loss: 4.6983, Training Macro-F1: 0.3649, Validation Loss: 1.4658, Validation Macro-F1: 0.2872\n",
            "Epoch 90/100, Training Loss: 4.6462, Training Macro-F1: 0.3702, Validation Loss: 1.4248, Validation Macro-F1: 0.2867\n",
            "Epoch 91/100, Training Loss: 4.6326, Training Macro-F1: 0.3729, Validation Loss: 1.3413, Validation Macro-F1: 0.2873\n",
            "Epoch 92/100, Training Loss: 4.5613, Training Macro-F1: 0.3767, Validation Loss: 1.4596, Validation Macro-F1: 0.2865\n",
            "Epoch 93/100, Training Loss: 4.5734, Training Macro-F1: 0.3802, Validation Loss: 1.4655, Validation Macro-F1: 0.2807\n",
            "Epoch 94/100, Training Loss: 4.5298, Training Macro-F1: 0.3816, Validation Loss: 1.4599, Validation Macro-F1: 0.2805\n",
            "Epoch 95/100, Training Loss: 4.5285, Training Macro-F1: 0.3831, Validation Loss: 1.3904, Validation Macro-F1: 0.2937\n",
            "Epoch 96/100, Training Loss: 4.5075, Training Macro-F1: 0.3854, Validation Loss: 1.3951, Validation Macro-F1: 0.2855\n",
            "Epoch 97/100, Training Loss: 4.5368, Training Macro-F1: 0.3867, Validation Loss: 1.4981, Validation Macro-F1: 0.2744\n",
            "Epoch 98/100, Training Loss: 4.5056, Training Macro-F1: 0.3879, Validation Loss: 1.5381, Validation Macro-F1: 0.2833\n",
            "Epoch 99/100, Training Loss: 4.4371, Training Macro-F1: 0.3920, Validation Loss: 1.4838, Validation Macro-F1: 0.2917\n",
            "Epoch 100/100, Training Loss: 4.4214, Training Macro-F1: 0.3958, Validation Loss: 1.4463, Validation Macro-F1: 0.2956\n"
          ]
        }
      ],
      "source": [
        "num_epochs = 100\n",
        "predicted_labels1 = []\n",
        "for epoch in range(num_epochs):\n",
        "    model.train()\n",
        "    total_loss = 0\n",
        "    train_all_preds = []\n",
        "    train_all_labels = []\n",
        "    for text, labels in train_loader:\n",
        "        optimizer.zero_grad()\n",
        "        outputs = model(text)\n",
        "        loss = criterion(outputs.view(-1, output_size), labels.view(-1))\n",
        "        loss.backward()\n",
        "        optimizer.step()\n",
        "        total_loss += loss.item()\n",
        "\n",
        "        _, predicted = torch.max(outputs, 2)\n",
        "        train_all_preds.extend(predicted.view(-1).cpu().numpy().tolist())\n",
        "        predicted_labels1.extend(predicted.view(-1).cpu().numpy().tolist())\n",
        "        train_all_labels.extend(labels.view(-1).cpu().numpy().tolist())\n",
        "\n",
        "    val_loss = 0\n",
        "    val_all_preds = []\n",
        "    val_all_labels = []\n",
        "    with torch.no_grad():\n",
        "        model.eval()\n",
        "        for text, labels in val_loader:\n",
        "            outputs = model(text)\n",
        "            loss = criterion(outputs.view(-1, output_size), labels.view(-1))\n",
        "            val_loss += loss.item()\n",
        "\n",
        "\n",
        "            _, predicted = torch.max(outputs, 2)\n",
        "            val_all_preds.extend(predicted.view(-1).cpu().numpy().tolist())\n",
        "            val_all_labels.extend(labels.view(-1).cpu().numpy().tolist())\n",
        "\n",
        "    train_losses.append(total_loss / len(train_loader))\n",
        "    val_losses.append(val_loss / len(val_loader))\n",
        "    train_f1 = f1_score(train_all_labels, train_all_preds, average='macro')\n",
        "    val_f1 = f1_score(val_all_labels, val_all_preds, average='macro')\n",
        "    train_f1s.append(train_f1)\n",
        "    val_f1s.append(val_f1)\n",
        "\n",
        "    print(f\"Epoch {epoch+1}/{num_epochs}, Training Loss: {total_loss:.4f}, Training Macro-F1: {train_f1:.4f}, Validation Loss: {val_loss:.4f}, Validation Macro-F1: {val_f1:.4f}\")\n"
      ]
    },
    {
      "cell_type": "code",
      "execution_count": 89,
      "metadata": {},
      "outputs": [],
      "source": [
        "# save tthe nmodel \n",
        "torch.save(model, 'NER_LSTMglove.pt')\n",
        "\n"
      ]
    },
    {
      "cell_type": "code",
      "execution_count": 90,
      "metadata": {
        "id": "zlfSYzAneeK9"
      },
      "outputs": [],
      "source": [
        "# Specify the path to your JSON file\n",
        "json_file_path = 'NER_test_data.json'\n",
        "\n",
        "# Read the JSON file\n",
        "with open(json_file_path) as f:\n",
        "    test_data = json.load(f)\n"
      ]
    },
    {
      "cell_type": "code",
      "execution_count": 91,
      "metadata": {
        "id": "a5S-YGSfeeK9"
      },
      "outputs": [],
      "source": [
        "X_test=[]\n",
        "y_test=[]\n",
        "\n",
        "for idx, word in enumerate(weight_model.index_to_key):\n",
        "    word_to_idx[word] = idx + 1\n",
        "# label_to_idx = {\"B\": 0, \"I\": 1, \"O\": 2}\n",
        "\n",
        "for key, value in test_data.items():\n",
        "    word = value['text'].split()\n",
        "    tags = value['labels']\n",
        "    sentence = value['text']\n",
        "    # if len(word) < max_len:\n",
        "    #     word += [''] * (max_len - len(word))\n",
        "    #     tags += ['O'] * (max_len - len(tags))\n",
        "    text_indices = []\n",
        "    for i in word:\n",
        "        index = word_to_idx.get(i, 0)\n",
        "        text_indices.append(index)\n",
        "    X_test.append(torch.tensor(text_indices))\n",
        "    y_test.append(torch.tensor([label_to_idx.get(label, -1) for label in tags if label in label_to_idx]))\n",
        "X_test = pad_sequence(X_test, batch_first=True, padding_value=0)\n",
        "y_test = pad_sequence(y_test, batch_first=True, padding_value=0)"
      ]
    },
    {
      "cell_type": "code",
      "execution_count": 92,
      "metadata": {
        "id": "hx0Ir85ueeK-",
        "outputId": "deeaeea4-9944-4a96-c7f4-489c02436e5f"
      },
      "outputs": [
        {
          "name": "stdout",
          "output_type": "stream",
          "text": [
            "Test Loss: 0.2776, Test Macro-F1: 0.2861\n"
          ]
        },
        {
          "data": {
            "image/png": "[encoded data removed]",
            "text/plain": [
              "<Figure size 640x480 with 1 Axes>"
            ]
          },
          "metadata": {},
          "output_type": "display_data"
        },
        {
          "data": {
            "image/png": "[encoded data removed]",
            "text/plain": [
              "<Figure size 640x480 with 1 Axes>"
            ]
          },
          "metadata": {},
          "output_type": "display_data"
        }
      ],
      "source": [
        "def evaluate_model(model, dataloader, criterion, tagset_size):\n",
        "    model.eval()\n",
        "    total_loss = 0\n",
        "    all_preds = []\n",
        "    all_labels = []\n",
        "\n",
        "    with torch.no_grad():\n",
        "        for text, labels in dataloader:\n",
        "            outputs = model(text)\n",
        "            loss = criterion(outputs.view(-1, tagset_size), labels.view(-1))\n",
        "            total_loss += loss.item()\n",
        "\n",
        "            _, predicted = torch.max(outputs, 2)\n",
        "            all_preds.extend(predicted.view(-1).cpu().numpy().tolist())\n",
        "            all_labels.extend(labels.view(-1).cpu().numpy().tolist())\n",
        "\n",
        "    avg_loss = total_loss / len(dataloader)\n",
        "    macro_f1 = f1_score(all_labels, all_preds, average='macro')\n",
        "\n",
        "    return avg_loss, macro_f1\n",
        "# Evaluate on the test dataset\n",
        "test_dataset = TensorDataset(X_test, y_test)\n",
        "test_loader = DataLoader(test_dataset, batch_size=128, shuffle=True)  # Decrease batch size\n",
        "\n",
        "test_loss, test_f1 = evaluate_model(model, test_loader, criterion, output_size)\n",
        "print(f\"Test Loss: {test_loss:.4f}, Test Macro-F1: {test_f1:.4f}\")\n",
        "\n",
        "# Plot the training and validation loss\n",
        "def showresults():\n",
        "    plt.plot(train_losses, label='Training Loss')\n",
        "    plt.plot(val_losses, label='Validation Loss')\n",
        "    plt.legend()\n",
        "    # save the graph\n",
        "    plt.savefig('loss_NER_LSTM.png')\n",
        "    plt.show()\n",
        "\n",
        "    plt.plot(train_f1s, label='Training Macro-F1')\n",
        "    plt.plot(val_f1s, label='Validation Macro-F1')\n",
        "    plt.legend()\n",
        "    # save the graph\n",
        "    plt.savefig('f1_NER_LSTM.png')\n",
        "    plt.show()\n",
        "showresults()"
      ]
    },
    {
      "cell_type": "markdown",
      "metadata": {
        "id": "IviIl-J_on2O"
      },
      "source": [
        "**GRU**"
      ]
    },
    {
      "cell_type": "code",
      "execution_count": 93,
      "metadata": {
        "id": "8yHhcE_Ze4bV"
      },
      "outputs": [],
      "source": [
        "from gensim.models import KeyedVectors\n",
        "\n",
        "import torch\n",
        "\n",
        "import gensim.downloader as api\n",
        "import matplotlib.pyplot as plt\n",
        "from torch.nn.utils.rnn import pad_sequence"
      ]
    },
    {
      "cell_type": "code",
      "execution_count": 94,
      "metadata": {
        "id": "JX9N50Lme4bW"
      },
      "outputs": [],
      "source": [
        "import torch.nn as nn\n",
        "import torch.optim as optim\n",
        "from torch.utils.data import  DataLoader, TensorDataset\n",
        "from sklearn.metrics import f1_score"
      ]
    },
    {
      "cell_type": "code",
      "execution_count": 95,
      "metadata": {
        "id": "irW4aEswe4bX"
      },
      "outputs": [],
      "source": [
        "import json\n",
        "# Specify the path to your JSON file\n",
        "json_file_path = 'NER_training_data.json'\n",
        "\n",
        "# Read the JSON file\n",
        "with open(json_file_path) as f:\n",
        "    data = json.load(f)\n",
        "\n",
        "# data\n",
        "# print(len(data))\n",
        "\n",
        "# Specify the path to your JSON file\n",
        "json_file_path = 'NER_validation_data.json'\n",
        "\n",
        "# Read the JSON file\n",
        "with open(json_file_path) as f:\n",
        "    validation_data = json.load(f)\n",
        "\n"
      ]
    },
    {
      "cell_type": "code",
      "execution_count": 96,
      "metadata": {
        "id": "xAU8ZWnxe4bY"
      },
      "outputs": [],
      "source": [
        "\n",
        "for key, value in data.items():\n",
        "    word = value['text'].split()\n",
        "    labels = value['labels']\n",
        "    new_labels = []\n",
        "    new_word = []\n",
        "    for i in range(len(word)):\n",
        "        if(word[i]==''):\n",
        "            print(word)\n",
        "            continue\n",
        "        # new_labels.append(labels[i])\n",
        "        new_word.append(word[i])\n",
        "    # value['labels'] = new_labels\n",
        "    value['word'] = new_word\n"
      ]
    },
    {
      "cell_type": "code",
      "execution_count": 97,
      "metadata": {
        "id": "GWAgo3t-e4bY"
      },
      "outputs": [],
      "source": [
        "label_to_idx = {'O': 0, 'B_CASE_NUMBER': 1, 'I_CASE_NUMBER': 2, 'B_ORG': 3, 'I_ORG': 4, 'B_OTHER_PERSON': 5, 'I_OTHER_PERSON': 6,\n",
        "                    'B_STATUTE': 7, 'I_STATUTE': 8, 'B_PROVISION': 9, 'I_PROVISION': 10, 'B_COURT': 11, 'I_COURT': 12,\n",
        "                    'B_WITNESS': 13, 'I_WITNESS': 14, 'B_PRECEDENT': 15, 'I_PRECEDENT': 16, 'B_DATE': 17, 'I_DATE': 18,\n",
        "                    'B_PETITIONER': 19, 'I_PETITIONER': 20, 'B_GPE' : 21, 'I_GPE': 22, 'B_RESPONDENT': 23, 'I_RESPONDENT': 24,\n",
        "                    'B_COURT': 25, 'I_COURT': 26}"
      ]
    },
    {
      "cell_type": "code",
      "execution_count": 98,
      "metadata": {
        "id": "Of3Z9-qIe4bY",
        "outputId": "d6637d58-f4e9-4a80-c653-563b78486d7a"
      },
      "outputs": [
        {
          "name": "stdout",
          "output_type": "stream",
          "text": [
            "torch.Size([7545, 70])\n"
          ]
        }
      ],
      "source": [
        "sentence_for_training = []\n",
        "tags_for_training = []\n",
        "X_train=[]\n",
        "y_train=[]\n",
        "\n",
        "word_to_idx={}\n",
        "for idx, word in enumerate(weight_model.index_to_key):\n",
        "    word_to_idx[word] = idx + 1\n",
        "# label_to_idx = {\"B\": 0, \"I\": 1, \"O\": 2}\n",
        "\n",
        "for key, value in data.items():\n",
        "    word = value['text'].split()\n",
        "    tags = value['labels']\n",
        "    sentence = value['text']\n",
        "    # if len(word) < max_len:\n",
        "    #     word += [''] * (max_len - len(word))\n",
        "    #     tags += ['O'] * (max_len - len(tags))\n",
        "    T_idx = []\n",
        "    for i in word:\n",
        "        index = word_to_idx.get(i, 0)\n",
        "        T_idx.append(index)\n",
        "    X_train.append(torch.tensor(T_idx))\n",
        "    y_train.append(torch.tensor([label_to_idx.get(label, -1) for label in tags if label in label_to_idx]))\n",
        "X_train = pad_sequence(X_train, batch_first=True, padding_value=0)\n",
        "y_train = pad_sequence(y_train, batch_first=True, padding_value=0)\n",
        "\n",
        "print(X_train.shape)"
      ]
    },
    {
      "cell_type": "code",
      "execution_count": 99,
      "metadata": {
        "id": "ojZqNc82e4bY"
      },
      "outputs": [],
      "source": [
        "max_len=max([len(i) for i in X_train])\n",
        "X_validation=[]\n",
        "y_validation=[]\n",
        "\n",
        "word_to_idx={}\n",
        "# word_to_idx = {word: idx + 1 for idx, word in enumerate(word_vectors.index_to_key)}\n",
        "for idx, word in enumerate(weight_model.index_to_key):\n",
        "    word_to_idx[word] = idx + 1\n",
        "# label_to_idx = {\"B\": 0, \"I\": 1, \"O\": 2}\n",
        "\n",
        "for key, value in validation_data.items():\n",
        "    word = value['text'].split()\n",
        "    tags = value['labels']\n",
        "    sentence = value['text']\n",
        "    # if len(word) < max_len:\n",
        "    #     word += [''] * (max_len - len(word))\n",
        "    #     tags += ['O'] * (max_len - len(tags))\n",
        "    text_indices = []\n",
        "    for i in word:\n",
        "        index = word_to_idx.get(i, 0)\n",
        "        text_indices.append(index)\n",
        "    # text_indices = [word_to_idx.get(word, 0) for word in word]\n",
        "    X_validation.append(torch.tensor(text_indices))\n",
        "    y_validation.append(torch.tensor([label_to_idx.get(label, -1) for label in tags if label in label_to_idx]))\n",
        "X_validation = pad_sequence(X_validation, batch_first=True, padding_value=0)\n",
        "y_validation = pad_sequence(y_validation, batch_first=True, padding_value=0)"
      ]
    },
    {
      "cell_type": "code",
      "execution_count": 115,
      "metadata": {
        "id": "wW6aIftSe4bZ"
      },
      "outputs": [],
      "source": [
        "class GRUTagger(nn.Module):\n",
        "    def __init__(self, embedding_dim, hidden_dim, vocab_size, tagset_size, word_embeddings):\n",
        "        super(GRUTagger, self).__init__()\n",
        "        self.embedding = nn.Embedding.from_pretrained(word_embeddings, freeze=True)\n",
        "        self.gru = nn.GRU(embedding_dim, hidden_dim, batch_first=True)\n",
        "        self.linear = nn.Linear(hidden_dim, tagset_size)\n",
        "\n",
        "    def forward(self, sentence):\n",
        "        embedding = self.embedding(sentence)\n",
        "        gru_out, _ = self.gru(embedding)\n",
        "        tag_space_gru = self.linear(gru_out)\n",
        "        return tag_space_gru\n",
        "    "
      ]
    },
    {
      "cell_type": "code",
      "execution_count": 116,
      "metadata": {
        "id": "Ispcr2Jne4bZ"
      },
      "outputs": [],
      "source": [
        "# Define hyperparameters\n",
        "input_size = len(word_to_idx) + 1  # Add 1 for padding token\n",
        "embedding_dim = weight_model.vector_size  # Should match the dimensionality of your word vectors\n",
        "hidden_size = 64\n",
        "vocab_size = len(weight_model.index_to_key)\n",
        "\n",
        "output_size = 27"
      ]
    },
    {
      "cell_type": "code",
      "execution_count": 117,
      "metadata": {
        "id": "zLwWhMeae4bZ",
        "outputId": "97919332-b0be-4eeb-b5f9-4879f8703c79"
      },
      "outputs": [],
      "source": [
        "model = GRUTagger(embedding_dim, hidden_size, vocab_size, output_size, torch.FloatTensor(weight_model.vectors))"
      ]
    },
    {
      "cell_type": "code",
      "execution_count": 118,
      "metadata": {
        "id": "cJTwnTobe4ba",
        "outputId": "925cca83-d4f1-48d7-823f-b6096e756361"
      },
      "outputs": [],
      "source": [
        "# Define loss function and optimizer\n",
        "criterion = nn.CrossEntropyLoss()\n",
        "optimizer = torch.optim.Adam(model.parameters(), lr=0.001)"
      ]
    },
    {
      "cell_type": "code",
      "execution_count": 119,
      "metadata": {
        "id": "h-UrSV9qe4ba"
      },
      "outputs": [],
      "source": [
        "# Prepare data loaders\n",
        "train_dataset = TensorDataset(X_train, y_train)\n",
        "train_loader = DataLoader(train_dataset, batch_size=128, shuffle=True)  # Decrease batch size\n",
        "val_dataset = TensorDataset(X_validation, y_validation)\n",
        "val_loader = DataLoader(val_dataset, batch_size=128, shuffle=True)  # Decrease batch size"
      ]
    },
    {
      "cell_type": "code",
      "execution_count": 120,
      "metadata": {
        "id": "YVIjt4Lme4ba"
      },
      "outputs": [],
      "source": [
        "# Train the model\n",
        "train_losses = []\n",
        "val_losses = []\n",
        "train_f1s = []\n",
        "val_f1s = []"
      ]
    },
    {
      "cell_type": "code",
      "execution_count": 121,
      "metadata": {
        "id": "d0J4FZOme4ba",
        "outputId": "c19d9a7f-58b8-4cfa-c0dd-39dd4d964f05"
      },
      "outputs": [
        {
          "name": "stdout",
          "output_type": "stream",
          "text": [
            "Epoch 1/100, Training Loss: 54.1555, Training Macro-F1: 0.0355, Validation Loss: 5.0660, Validation Macro-F1: 0.0385\n",
            "Epoch 2/100, Training Loss: 26.3911, Training Macro-F1: 0.0357, Validation Loss: 4.8040, Validation Macro-F1: 0.0370\n",
            "Epoch 3/100, Training Loss: 25.1887, Training Macro-F1: 0.0362, Validation Loss: 4.6115, Validation Macro-F1: 0.0401\n",
            "Epoch 4/100, Training Loss: 24.0266, Training Macro-F1: 0.0471, Validation Loss: 4.4415, Validation Macro-F1: 0.0526\n",
            "Epoch 5/100, Training Loss: 23.0628, Training Macro-F1: 0.0548, Validation Loss: 4.2932, Validation Macro-F1: 0.0533\n",
            "Epoch 6/100, Training Loss: 22.2403, Training Macro-F1: 0.0562, Validation Loss: 4.1650, Validation Macro-F1: 0.0536\n",
            "Epoch 7/100, Training Loss: 21.5538, Training Macro-F1: 0.0566, Validation Loss: 3.9797, Validation Macro-F1: 0.0540\n",
            "Epoch 8/100, Training Loss: 20.6315, Training Macro-F1: 0.0569, Validation Loss: 3.7202, Validation Macro-F1: 0.0540\n",
            "Epoch 9/100, Training Loss: 19.7927, Training Macro-F1: 0.0572, Validation Loss: 3.7320, Validation Macro-F1: 0.0549\n",
            "Epoch 10/100, Training Loss: 19.0951, Training Macro-F1: 0.0600, Validation Loss: 3.5674, Validation Macro-F1: 0.0565\n",
            "Epoch 11/100, Training Loss: 18.4563, Training Macro-F1: 0.0590, Validation Loss: 3.5290, Validation Macro-F1: 0.0573\n",
            "Epoch 12/100, Training Loss: 17.9150, Training Macro-F1: 0.0607, Validation Loss: 3.3833, Validation Macro-F1: 0.0584\n",
            "Epoch 13/100, Training Loss: 17.4058, Training Macro-F1: 0.0651, Validation Loss: 3.2894, Validation Macro-F1: 0.0633\n",
            "Epoch 14/100, Training Loss: 16.9296, Training Macro-F1: 0.0713, Validation Loss: 3.2653, Validation Macro-F1: 0.0727\n",
            "Epoch 15/100, Training Loss: 16.4200, Training Macro-F1: 0.0834, Validation Loss: 3.0837, Validation Macro-F1: 0.0866\n",
            "Epoch 16/100, Training Loss: 15.9876, Training Macro-F1: 0.0972, Validation Loss: 3.0359, Validation Macro-F1: 0.0981\n",
            "Epoch 17/100, Training Loss: 15.6020, Training Macro-F1: 0.1102, Validation Loss: 3.0119, Validation Macro-F1: 0.1066\n",
            "Epoch 18/100, Training Loss: 15.2461, Training Macro-F1: 0.1173, Validation Loss: 2.9498, Validation Macro-F1: 0.1221\n",
            "Epoch 19/100, Training Loss: 14.9385, Training Macro-F1: 0.1283, Validation Loss: 2.9607, Validation Macro-F1: 0.1284\n",
            "Epoch 20/100, Training Loss: 14.6477, Training Macro-F1: 0.1384, Validation Loss: 2.9005, Validation Macro-F1: 0.1405\n",
            "Epoch 21/100, Training Loss: 14.3729, Training Macro-F1: 0.1458, Validation Loss: 2.7730, Validation Macro-F1: 0.1518\n",
            "Epoch 22/100, Training Loss: 14.1275, Training Macro-F1: 0.1545, Validation Loss: 2.7814, Validation Macro-F1: 0.1590\n",
            "Epoch 23/100, Training Loss: 13.8945, Training Macro-F1: 0.1645, Validation Loss: 2.7583, Validation Macro-F1: 0.1657\n",
            "Epoch 24/100, Training Loss: 13.6831, Training Macro-F1: 0.1737, Validation Loss: 2.7508, Validation Macro-F1: 0.1616\n",
            "Epoch 25/100, Training Loss: 13.4836, Training Macro-F1: 0.1823, Validation Loss: 2.7456, Validation Macro-F1: 0.1702\n",
            "Epoch 26/100, Training Loss: 13.3003, Training Macro-F1: 0.1989, Validation Loss: 2.7563, Validation Macro-F1: 0.1871\n",
            "Epoch 27/100, Training Loss: 13.1377, Training Macro-F1: 0.2086, Validation Loss: 2.6466, Validation Macro-F1: 0.1962\n",
            "Epoch 28/100, Training Loss: 12.9880, Training Macro-F1: 0.2145, Validation Loss: 2.6376, Validation Macro-F1: 0.2011\n",
            "Epoch 29/100, Training Loss: 12.8377, Training Macro-F1: 0.2228, Validation Loss: 2.6083, Validation Macro-F1: 0.2039\n",
            "Epoch 30/100, Training Loss: 12.6693, Training Macro-F1: 0.2292, Validation Loss: 2.6109, Validation Macro-F1: 0.2232\n",
            "Epoch 31/100, Training Loss: 12.5336, Training Macro-F1: 0.2380, Validation Loss: 2.6162, Validation Macro-F1: 0.2085\n",
            "Epoch 32/100, Training Loss: 12.4014, Training Macro-F1: 0.2432, Validation Loss: 2.5668, Validation Macro-F1: 0.2307\n",
            "Epoch 33/100, Training Loss: 12.2734, Training Macro-F1: 0.2487, Validation Loss: 2.5761, Validation Macro-F1: 0.2298\n",
            "Epoch 34/100, Training Loss: 12.1454, Training Macro-F1: 0.2526, Validation Loss: 2.5394, Validation Macro-F1: 0.2389\n",
            "Epoch 35/100, Training Loss: 12.0245, Training Macro-F1: 0.2569, Validation Loss: 2.5102, Validation Macro-F1: 0.2390\n",
            "Epoch 36/100, Training Loss: 11.8965, Training Macro-F1: 0.2637, Validation Loss: 2.5745, Validation Macro-F1: 0.2398\n",
            "Epoch 37/100, Training Loss: 11.7726, Training Macro-F1: 0.2667, Validation Loss: 2.5864, Validation Macro-F1: 0.2442\n",
            "Epoch 38/100, Training Loss: 11.6568, Training Macro-F1: 0.2700, Validation Loss: 2.5076, Validation Macro-F1: 0.2518\n",
            "Epoch 39/100, Training Loss: 11.5078, Training Macro-F1: 0.2770, Validation Loss: 2.4920, Validation Macro-F1: 0.2418\n",
            "Epoch 40/100, Training Loss: 11.3851, Training Macro-F1: 0.2814, Validation Loss: 2.5318, Validation Macro-F1: 0.2484\n",
            "Epoch 41/100, Training Loss: 11.2836, Training Macro-F1: 0.2846, Validation Loss: 2.5345, Validation Macro-F1: 0.2515\n",
            "Epoch 42/100, Training Loss: 11.1853, Training Macro-F1: 0.2910, Validation Loss: 2.5026, Validation Macro-F1: 0.2564\n",
            "Epoch 43/100, Training Loss: 11.0920, Training Macro-F1: 0.2961, Validation Loss: 2.4895, Validation Macro-F1: 0.2515\n",
            "Epoch 44/100, Training Loss: 10.9689, Training Macro-F1: 0.3044, Validation Loss: 2.4581, Validation Macro-F1: 0.2557\n",
            "Epoch 45/100, Training Loss: 10.8761, Training Macro-F1: 0.3054, Validation Loss: 2.4954, Validation Macro-F1: 0.2563\n",
            "Epoch 46/100, Training Loss: 10.7740, Training Macro-F1: 0.3123, Validation Loss: 2.5309, Validation Macro-F1: 0.2576\n",
            "Epoch 47/100, Training Loss: 10.6989, Training Macro-F1: 0.3183, Validation Loss: 2.4769, Validation Macro-F1: 0.2656\n",
            "Epoch 48/100, Training Loss: 10.6052, Training Macro-F1: 0.3232, Validation Loss: 2.5092, Validation Macro-F1: 0.2662\n",
            "Epoch 49/100, Training Loss: 10.5242, Training Macro-F1: 0.3257, Validation Loss: 2.4881, Validation Macro-F1: 0.2682\n",
            "Epoch 50/100, Training Loss: 10.4408, Training Macro-F1: 0.3294, Validation Loss: 2.5456, Validation Macro-F1: 0.2688\n",
            "Epoch 51/100, Training Loss: 10.3444, Training Macro-F1: 0.3367, Validation Loss: 2.5903, Validation Macro-F1: 0.2703\n",
            "Epoch 52/100, Training Loss: 10.2641, Training Macro-F1: 0.3380, Validation Loss: 2.5569, Validation Macro-F1: 0.2770\n",
            "Epoch 53/100, Training Loss: 10.1973, Training Macro-F1: 0.3412, Validation Loss: 2.5514, Validation Macro-F1: 0.2727\n",
            "Epoch 54/100, Training Loss: 10.1175, Training Macro-F1: 0.3463, Validation Loss: 2.5073, Validation Macro-F1: 0.2853\n",
            "Epoch 55/100, Training Loss: 10.0384, Training Macro-F1: 0.3484, Validation Loss: 2.5848, Validation Macro-F1: 0.2792\n",
            "Epoch 56/100, Training Loss: 9.9707, Training Macro-F1: 0.3530, Validation Loss: 2.6272, Validation Macro-F1: 0.2739\n",
            "Epoch 57/100, Training Loss: 9.9078, Training Macro-F1: 0.3555, Validation Loss: 2.6187, Validation Macro-F1: 0.2791\n",
            "Epoch 58/100, Training Loss: 9.8249, Training Macro-F1: 0.3585, Validation Loss: 2.7437, Validation Macro-F1: 0.2870\n",
            "Epoch 59/100, Training Loss: 9.8813, Training Macro-F1: 0.3597, Validation Loss: 2.5852, Validation Macro-F1: 0.2828\n",
            "Epoch 60/100, Training Loss: 9.7358, Training Macro-F1: 0.3657, Validation Loss: 2.6314, Validation Macro-F1: 0.2876\n",
            "Epoch 61/100, Training Loss: 9.6497, Training Macro-F1: 0.3696, Validation Loss: 2.6071, Validation Macro-F1: 0.2870\n",
            "Epoch 62/100, Training Loss: 9.5728, Training Macro-F1: 0.3735, Validation Loss: 2.6147, Validation Macro-F1: 0.2939\n",
            "Epoch 63/100, Training Loss: 9.5056, Training Macro-F1: 0.3755, Validation Loss: 2.6695, Validation Macro-F1: 0.3027\n",
            "Epoch 64/100, Training Loss: 9.4549, Training Macro-F1: 0.3818, Validation Loss: 2.6225, Validation Macro-F1: 0.2946\n",
            "Epoch 65/100, Training Loss: 9.3733, Training Macro-F1: 0.3814, Validation Loss: 2.5778, Validation Macro-F1: 0.3000\n",
            "Epoch 66/100, Training Loss: 9.3312, Training Macro-F1: 0.3855, Validation Loss: 2.6423, Validation Macro-F1: 0.2952\n",
            "Epoch 67/100, Training Loss: 9.2699, Training Macro-F1: 0.3906, Validation Loss: 2.6774, Validation Macro-F1: 0.3015\n",
            "Epoch 68/100, Training Loss: 9.1946, Training Macro-F1: 0.3933, Validation Loss: 2.6862, Validation Macro-F1: 0.3060\n",
            "Epoch 69/100, Training Loss: 9.1316, Training Macro-F1: 0.3978, Validation Loss: 2.6887, Validation Macro-F1: 0.3010\n",
            "Epoch 70/100, Training Loss: 9.0650, Training Macro-F1: 0.3997, Validation Loss: 2.6634, Validation Macro-F1: 0.3065\n",
            "Epoch 71/100, Training Loss: 9.0188, Training Macro-F1: 0.4037, Validation Loss: 2.7368, Validation Macro-F1: 0.3018\n",
            "Epoch 72/100, Training Loss: 8.9579, Training Macro-F1: 0.4068, Validation Loss: 2.8317, Validation Macro-F1: 0.3003\n",
            "Epoch 73/100, Training Loss: 8.9231, Training Macro-F1: 0.4065, Validation Loss: 2.8347, Validation Macro-F1: 0.3003\n",
            "Epoch 74/100, Training Loss: 8.8679, Training Macro-F1: 0.4133, Validation Loss: 2.7205, Validation Macro-F1: 0.3021\n",
            "Epoch 75/100, Training Loss: 8.8371, Training Macro-F1: 0.4136, Validation Loss: 2.8021, Validation Macro-F1: 0.3067\n",
            "Epoch 76/100, Training Loss: 8.7583, Training Macro-F1: 0.4172, Validation Loss: 2.7521, Validation Macro-F1: 0.3096\n",
            "Epoch 77/100, Training Loss: 8.6887, Training Macro-F1: 0.4213, Validation Loss: 2.7993, Validation Macro-F1: 0.3070\n",
            "Epoch 78/100, Training Loss: 8.6486, Training Macro-F1: 0.4259, Validation Loss: 2.9488, Validation Macro-F1: 0.3017\n",
            "Epoch 79/100, Training Loss: 8.5587, Training Macro-F1: 0.4312, Validation Loss: 2.8534, Validation Macro-F1: 0.3071\n",
            "Epoch 80/100, Training Loss: 8.5247, Training Macro-F1: 0.4314, Validation Loss: 2.8013, Validation Macro-F1: 0.3164\n",
            "Epoch 81/100, Training Loss: 8.4754, Training Macro-F1: 0.4367, Validation Loss: 2.8117, Validation Macro-F1: 0.3058\n",
            "Epoch 82/100, Training Loss: 8.4074, Training Macro-F1: 0.4375, Validation Loss: 2.9520, Validation Macro-F1: 0.3087\n",
            "Epoch 83/100, Training Loss: 8.3595, Training Macro-F1: 0.4417, Validation Loss: 2.9063, Validation Macro-F1: 0.3138\n",
            "Epoch 84/100, Training Loss: 8.3296, Training Macro-F1: 0.4445, Validation Loss: 2.9912, Validation Macro-F1: 0.2996\n",
            "Epoch 85/100, Training Loss: 8.3957, Training Macro-F1: 0.4417, Validation Loss: 2.8747, Validation Macro-F1: 0.2756\n",
            "Epoch 86/100, Training Loss: 8.6331, Training Macro-F1: 0.4313, Validation Loss: 2.8565, Validation Macro-F1: 0.3064\n",
            "Epoch 87/100, Training Loss: 8.3103, Training Macro-F1: 0.4480, Validation Loss: 2.9264, Validation Macro-F1: 0.3163\n",
            "Epoch 88/100, Training Loss: 8.2121, Training Macro-F1: 0.4530, Validation Loss: 2.9642, Validation Macro-F1: 0.3089\n",
            "Epoch 89/100, Training Loss: 8.1560, Training Macro-F1: 0.4555, Validation Loss: 3.0218, Validation Macro-F1: 0.3066\n",
            "Epoch 90/100, Training Loss: 8.1017, Training Macro-F1: 0.4592, Validation Loss: 2.9958, Validation Macro-F1: 0.3112\n",
            "Epoch 91/100, Training Loss: 8.0209, Training Macro-F1: 0.4641, Validation Loss: 3.0075, Validation Macro-F1: 0.3057\n",
            "Epoch 92/100, Training Loss: 7.9985, Training Macro-F1: 0.4644, Validation Loss: 3.0949, Validation Macro-F1: 0.3132\n",
            "Epoch 93/100, Training Loss: 7.9837, Training Macro-F1: 0.4688, Validation Loss: 2.9967, Validation Macro-F1: 0.3125\n",
            "Epoch 94/100, Training Loss: 7.9238, Training Macro-F1: 0.4666, Validation Loss: 3.0052, Validation Macro-F1: 0.3097\n",
            "Epoch 95/100, Training Loss: 7.8455, Training Macro-F1: 0.4747, Validation Loss: 3.0345, Validation Macro-F1: 0.3183\n",
            "Epoch 96/100, Training Loss: 7.8003, Training Macro-F1: 0.4776, Validation Loss: 3.0660, Validation Macro-F1: 0.3159\n",
            "Epoch 97/100, Training Loss: 7.7896, Training Macro-F1: 0.4780, Validation Loss: 3.0952, Validation Macro-F1: 0.3052\n",
            "Epoch 98/100, Training Loss: 7.7462, Training Macro-F1: 0.4807, Validation Loss: 3.1896, Validation Macro-F1: 0.3060\n",
            "Epoch 99/100, Training Loss: 7.7157, Training Macro-F1: 0.4821, Validation Loss: 3.2786, Validation Macro-F1: 0.3134\n",
            "Epoch 100/100, Training Loss: 7.6417, Training Macro-F1: 0.4862, Validation Loss: 3.1698, Validation Macro-F1: 0.3185\n"
          ]
        }
      ],
      "source": [
        "num_epochs = 100\n",
        "predicted_labels1 = []\n",
        "for epoch in range(num_epochs):\n",
        "    model.train()\n",
        "    total_loss = 0\n",
        "    train_all_preds = []\n",
        "    train_all_labels = []\n",
        "    for text, labels in train_loader:\n",
        "        optimizer.zero_grad()\n",
        "        outputs = model(text)\n",
        "        loss = criterion(outputs.view(-1, output_size), labels.view(-1))\n",
        "        loss.backward()\n",
        "        optimizer.step()\n",
        "        total_loss += loss.item()\n",
        "\n",
        "        _, predicted = torch.max(outputs, 2)\n",
        "        train_all_preds.extend(predicted.view(-1).cpu().numpy().tolist())\n",
        "        predicted_labels1.extend(predicted.view(-1).cpu().numpy().tolist())\n",
        "        train_all_labels.extend(labels.view(-1).cpu().numpy().tolist())\n",
        "\n",
        "    val_loss = 0\n",
        "    val_all_preds = []\n",
        "    val_all_labels = []\n",
        "    with torch.no_grad():\n",
        "        model.eval()\n",
        "        for text, labels in val_loader:\n",
        "            outputs = model(text)\n",
        "            loss = criterion(outputs.view(-1, output_size), labels.view(-1))\n",
        "            val_loss += loss.item()\n",
        "\n",
        "\n",
        "            _, predicted = torch.max(outputs, 2)\n",
        "            val_all_preds.extend(predicted.view(-1).cpu().numpy().tolist())\n",
        "            val_all_labels.extend(labels.view(-1).cpu().numpy().tolist())\n",
        "\n",
        "    train_losses.append(total_loss / len(train_loader))\n",
        "    val_losses.append(val_loss / len(val_loader))\n",
        "    train_f1 = f1_score(train_all_labels, train_all_preds, average='macro')\n",
        "    val_f1 = f1_score(val_all_labels, val_all_preds, average='macro')\n",
        "    train_f1s.append(train_f1)\n",
        "    val_f1s.append(val_f1)\n",
        "\n",
        "    print(f\"Epoch {epoch+1}/{num_epochs}, Training Loss: {total_loss:.4f}, Training Macro-F1: {train_f1:.4f}, Validation Loss: {val_loss:.4f}, Validation Macro-F1: {val_f1:.4f}\")\n"
      ]
    },
    {
      "cell_type": "code",
      "execution_count": 126,
      "metadata": {},
      "outputs": [],
      "source": [
        "# save tthe nmodel \n",
        "torch.save(model, 'NER_GRUglove.pt')\n",
        "\n"
      ]
    },
    {
      "cell_type": "code",
      "execution_count": 123,
      "metadata": {
        "id": "ML67HQkze4bb"
      },
      "outputs": [],
      "source": [
        "# Specify the path to your JSON file\n",
        "json_file_path = 'NER_test_data.json'\n",
        "\n",
        "# Read the JSON file\n",
        "with open(json_file_path) as f:\n",
        "    test_data = json.load(f)\n"
      ]
    },
    {
      "cell_type": "code",
      "execution_count": 124,
      "metadata": {
        "id": "PtBzJJu7e4bb"
      },
      "outputs": [],
      "source": [
        "X_test=[]\n",
        "y_test=[]\n",
        "\n",
        "for idx, word in enumerate(weight_model.index_to_key):\n",
        "    word_to_idx[word] = idx + 1\n",
        "# label_to_idx = {\"B\": 0, \"I\": 1, \"O\": 2}\n",
        "\n",
        "for key, value in test_data.items():\n",
        "    word = value['text'].split()\n",
        "    tags = value['labels']\n",
        "    sentence = value['text']\n",
        "    # if len(word) < max_len:\n",
        "    #     word += [''] * (max_len - len(word))\n",
        "    #     tags += ['O'] * (max_len - len(tags))\n",
        "    text_indices = []\n",
        "    for i in word:\n",
        "        index = word_to_idx.get(i, 0)\n",
        "        text_indices.append(index)\n",
        "    X_test.append(torch.tensor(text_indices))\n",
        "    y_test.append(torch.tensor([label_to_idx.get(label, -1) for label in tags if label in label_to_idx]))\n",
        "X_test = pad_sequence(X_test, batch_first=True, padding_value=0)\n",
        "y_test = pad_sequence(y_test, batch_first=True, padding_value=0)"
      ]
    },
    {
      "cell_type": "code",
      "execution_count": 125,
      "metadata": {
        "id": "8L2sC86Je4bb",
        "outputId": "f815180b-f3f1-4072-de44-85d3f26e1a6d"
      },
      "outputs": [
        {
          "name": "stdout",
          "output_type": "stream",
          "text": [
            "Test Loss: 0.3270, Test Macro-F1: 0.2921\n"
          ]
        },
        {
          "data": {
            "image/png": "[encoded data removed]",
            "text/plain": [
              "<Figure size 640x480 with 1 Axes>"
            ]
          },
          "metadata": {},
          "output_type": "display_data"
        },
        {
          "data": {
            "image/png": "[encoded data removed]",
            "text/plain": [
              "<Figure size 640x480 with 1 Axes>"
            ]
          },
          "metadata": {},
          "output_type": "display_data"
        }
      ],
      "source": [
        "def evaluate_model(model, dataloader, criterion, tagset_size):\n",
        "    model.eval()\n",
        "    total_loss = 0\n",
        "    all_preds = []\n",
        "    all_labels = []\n",
        "\n",
        "    with torch.no_grad():\n",
        "        for text, labels in dataloader:\n",
        "            outputs = model(text)\n",
        "            loss = criterion(outputs.view(-1, tagset_size), labels.view(-1))\n",
        "            total_loss += loss.item()\n",
        "\n",
        "            _, predicted = torch.max(outputs, 2)\n",
        "            all_preds.extend(predicted.view(-1).cpu().numpy().tolist())\n",
        "            all_labels.extend(labels.view(-1).cpu().numpy().tolist())\n",
        "\n",
        "    avg_loss = total_loss / len(dataloader)\n",
        "    macro_f1 = f1_score(all_labels, all_preds, average='macro')\n",
        "\n",
        "    return avg_loss, macro_f1\n",
        "# Evaluate on the test dataset\n",
        "test_dataset = TensorDataset(X_test, y_test)\n",
        "test_loader = DataLoader(test_dataset, batch_size=128, shuffle=True)  # Decrease batch size\n",
        "\n",
        "test_loss, test_f1 = evaluate_model(model, test_loader, criterion, output_size)\n",
        "print(f\"Test Loss: {test_loss:.4f}, Test Macro-F1: {test_f1:.4f}\")\n",
        "\n",
        "\n",
        "# Plot the training and validation loss\n",
        "def showresults():\n",
        "    plt.plot(train_losses, label='Training Loss')\n",
        "    plt.plot(val_losses, label='Validation Loss')\n",
        "    plt.legend()\n",
        "    # save the graph\n",
        "    plt.savefig('loss_NER_RNN.png')\n",
        "    plt.show()\n",
        "\n",
        "    plt.plot(train_f1s, label='Training Macro-F1')\n",
        "    plt.plot(val_f1s, label='Validation Macro-F1')\n",
        "    plt.legend()\n",
        "    # save the graph\n",
        "    plt.savefig('f1_NER_RNN.png')\n",
        "    plt.show()\n",
        "showresults()"
      ]
    }
  ],
  "metadata": {
    "colab": {
      "provenance": []
    },
    "kernelspec": {
      "display_name": "Python 3",
      "language": "python",
      "name": "python3"
    },
    "language_info": {
      "codemirror_mode": {
        "name": "ipython",
        "version": 3
      },
      "file_extension": ".py",
      "mimetype": "text/x-python",
      "name": "python",
      "nbconvert_exporter": "python",
      "pygments_lexer": "ipython3",
      "version": "3.11.3"
    }
  },
  "nbformat": 4,
  "nbformat_minor": 0
}
