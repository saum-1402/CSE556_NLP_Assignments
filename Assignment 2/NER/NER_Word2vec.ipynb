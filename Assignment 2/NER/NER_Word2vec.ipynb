{
  "cells": [
    {
      "cell_type": "code",
      "source": [
        "import gensim.downloader as api\n",
        "\n",
        "# Load the model using gensim.downloader\n",
        "weight_model = api.load(\"word2vec-google-news-300\")"
      ],
      "metadata": {
        "colab": {
          "base_uri": "https://localhost:8080/"
        },
        "id": "OSuvVks5Xs4S",
        "outputId": "9274f161-ba04-422c-fe71-d6d3371d73cb"
      },
      "execution_count": 1,
      "outputs": [
        {
          "output_type": "stream",
          "name": "stdout",
          "text": [
            "[==================================================] 100.0% 1662.8/1662.8MB downloaded\n"
          ]
        }
      ]
    },
    {
      "cell_type": "code",
      "execution_count": 2,
      "metadata": {
        "id": "zZREDtApWn3X"
      },
      "outputs": [],
      "source": [
        "from gensim.models import KeyedVectors\n",
        "\n",
        "import torch\n",
        "\n",
        "import gensim.downloader as api\n",
        "import matplotlib.pyplot as plt\n",
        "from torch.nn.utils.rnn import pad_sequence"
      ]
    },
    {
      "cell_type": "code",
      "execution_count": 3,
      "metadata": {
        "id": "YaOQVyJ2Wn3Z"
      },
      "outputs": [],
      "source": [
        "import torch.nn as nn\n",
        "import torch.optim as optim\n",
        "from torch.utils.data import  DataLoader, TensorDataset\n",
        "from sklearn.metrics import f1_score"
      ]
    },
    {
      "cell_type": "code",
      "execution_count": null,
      "metadata": {
        "id": "j9dZhv7-Wn3Z"
      },
      "outputs": [],
      "source": [
        "# weight_model = KeyedVectors.load_word2vec_format('GoogleNews-vectors-negative300.bin', binary=True)"
      ]
    },
    {
      "cell_type": "code",
      "execution_count": 4,
      "metadata": {
        "id": "Ajq_NPaaWn3Z"
      },
      "outputs": [],
      "source": [
        "import json\n",
        "# Specify the path to your JSON file\n",
        "json_file_path = 'NER_training_data.json'\n",
        "\n",
        "# Read the JSON file\n",
        "with open(json_file_path) as f:\n",
        "    data = json.load(f)\n",
        "\n",
        "# data\n",
        "# print(len(data))\n",
        "\n",
        "# Specify the path to your JSON file\n",
        "json_file_path = 'NER_validation_data.json'\n",
        "\n",
        "# Read the JSON file\n",
        "with open(json_file_path) as f:\n",
        "    validation_data = json.load(f)\n",
        "\n"
      ]
    },
    {
      "cell_type": "code",
      "execution_count": 5,
      "metadata": {
        "id": "FENI-JTQWn3a"
      },
      "outputs": [],
      "source": [
        "\n",
        "for key, value in data.items():\n",
        "    word = value['text'].split()\n",
        "    labels = value['labels']\n",
        "    new_labels = []\n",
        "    new_word = []\n",
        "    for i in range(len(word)):\n",
        "        if(word[i]==''):\n",
        "            print(word)\n",
        "            continue\n",
        "        # new_labels.append(labels[i])\n",
        "        new_word.append(word[i])\n",
        "    # value['labels'] = new_labels\n",
        "    value['word'] = new_word\n"
      ]
    },
    {
      "cell_type": "code",
      "execution_count": 6,
      "metadata": {
        "id": "bRt8pPqLWn3a"
      },
      "outputs": [],
      "source": [
        "label_to_idx = {'O': 0, 'B_CASE_NUMBER': 1, 'I_CASE_NUMBER': 2, 'B_ORG': 3, 'I_ORG': 4, 'B_OTHER_PERSON': 5, 'I_OTHER_PERSON': 6,\n",
        "                    'B_STATUTE': 7, 'I_STATUTE': 8, 'B_PROVISION': 9, 'I_PROVISION': 10, 'B_COURT': 11, 'I_COURT': 12,\n",
        "                    'B_WITNESS': 13, 'I_WITNESS': 14, 'B_PRECEDENT': 15, 'I_PRECEDENT': 16, 'B_DATE': 17, 'I_DATE': 18,\n",
        "                    'B_PETITIONER': 19, 'I_PETITIONER': 20, 'B_GPE' : 21, 'I_GPE': 22, 'B_RESPONDENT': 23, 'I_RESPONDENT': 24,\n",
        "                    'B_COURT': 25, 'I_COURT': 26}"
      ]
    },
    {
      "cell_type": "code",
      "execution_count": 7,
      "metadata": {
        "colab": {
          "base_uri": "https://localhost:8080/"
        },
        "id": "eXkLXeKKWn3a",
        "outputId": "5a8bd9a2-3eea-4175-ebab-a08b726b6265"
      },
      "outputs": [
        {
          "output_type": "stream",
          "name": "stdout",
          "text": [
            "torch.Size([7545, 70])\n"
          ]
        }
      ],
      "source": [
        "sentence_for_training = []\n",
        "tags_for_training = []\n",
        "X_train=[]\n",
        "y_train=[]\n",
        "\n",
        "word_to_idx={}\n",
        "for idx, word in enumerate(weight_model.index_to_key):\n",
        "    word_to_idx[word] = idx + 1\n",
        "# label_to_idx = {\"B\": 0, \"I\": 1, \"O\": 2}\n",
        "\n",
        "for key, value in data.items():\n",
        "    word = value['text'].split()\n",
        "    tags = value['labels']\n",
        "    sentence = value['text']\n",
        "    # if len(word) < max_len:\n",
        "    #     word += [''] * (max_len - len(word))\n",
        "    #     tags += ['O'] * (max_len - len(tags))\n",
        "    T_idx = []\n",
        "    for i in word:\n",
        "        index = word_to_idx.get(i, 0)\n",
        "        T_idx.append(index)\n",
        "    X_train.append(torch.tensor(T_idx))\n",
        "    y_train.append(torch.tensor([label_to_idx.get(label, -1) for label in tags if label in label_to_idx]))\n",
        "X_train = pad_sequence(X_train, batch_first=True, padding_value=0)\n",
        "y_train = pad_sequence(y_train, batch_first=True, padding_value=0)\n",
        "\n",
        "print(X_train.shape)"
      ]
    },
    {
      "cell_type": "code",
      "execution_count": 8,
      "metadata": {
        "id": "GjJOLuT7Wn3a"
      },
      "outputs": [],
      "source": [
        "max_len=max([len(i) for i in X_train])\n",
        "X_validation=[]\n",
        "y_validation=[]\n",
        "\n",
        "word_to_idx={}\n",
        "# word_to_idx = {word: idx + 1 for idx, word in enumerate(word_vectors.index_to_key)}\n",
        "for idx, word in enumerate(weight_model.index_to_key):\n",
        "    word_to_idx[word] = idx + 1\n",
        "# label_to_idx = {\"B\": 0, \"I\": 1, \"O\": 2}\n",
        "\n",
        "for key, value in validation_data.items():\n",
        "    word = value['text'].split()\n",
        "    tags = value['labels']\n",
        "    sentence = value['text']\n",
        "    # if len(word) < max_len:\n",
        "    #     word += [''] * (max_len - len(word))\n",
        "    #     tags += ['O'] * (max_len - len(tags))\n",
        "    text_indices = []\n",
        "    for i in word:\n",
        "        index = word_to_idx.get(i, 0)\n",
        "        text_indices.append(index)\n",
        "    # text_indices = [word_to_idx.get(word, 0) for word in word]\n",
        "    X_validation.append(torch.tensor(text_indices))\n",
        "    y_validation.append(torch.tensor([label_to_idx.get(label, -1) for label in tags if label in label_to_idx]))\n",
        "X_validation = pad_sequence(X_validation, batch_first=True, padding_value=0)\n",
        "y_validation = pad_sequence(y_validation, batch_first=True, padding_value=0)"
      ]
    },
    {
      "cell_type": "code",
      "execution_count": 9,
      "metadata": {
        "id": "nUXqTf4TWn3b"
      },
      "outputs": [],
      "source": [
        "class rnnTagger(nn.Module):\n",
        "    def __init__(self, embedding_dim, hidden_dim, vocab_size, tagset_size, word_embeddings):\n",
        "        super(rnnTagger, self).__init__()\n",
        "        self.embedding = nn.Embedding.from_pretrained(word_embeddings, freeze=True)\n",
        "        self.rnn = nn.RNN(embedding_dim, hidden_dim, batch_first=True)\n",
        "        self.linear = nn.Linear(hidden_dim, tagset_size)\n",
        "\n",
        "    def forward(self, sentence):\n",
        "        embedding = self.embedding(sentence)\n",
        "        rnn_out_embed, _ = self.rnn(embedding)\n",
        "        tag_space_rnn = self.linear(rnn_out_embed)\n",
        "        return tag_space_rnn"
      ]
    },
    {
      "cell_type": "code",
      "execution_count": 10,
      "metadata": {
        "id": "Rfjxav5eWn3b"
      },
      "outputs": [],
      "source": [
        "# Define hyperparameters\n",
        "input_size = len(word_to_idx) + 1  # Add 1 for padding token\n",
        "embedding_dim = weight_model.vector_size  # Should match the dimensionality of your word vectors\n",
        "hidden_size = 64\n",
        "vocab_size = len(weight_model.index_to_key)\n",
        "\n",
        "output_size = 27"
      ]
    },
    {
      "cell_type": "code",
      "execution_count": 11,
      "metadata": {
        "id": "EF3ULoVwWn3b"
      },
      "outputs": [],
      "source": [
        "model = rnnTagger(embedding_dim, hidden_size, vocab_size, output_size, torch.FloatTensor(weight_model.vectors))"
      ]
    },
    {
      "cell_type": "code",
      "execution_count": 12,
      "metadata": {
        "id": "sozOXvXiWn3b"
      },
      "outputs": [],
      "source": [
        "# Define loss function and optimizer\n",
        "criterion = nn.CrossEntropyLoss()\n",
        "optimizer = torch.optim.Adam(model.parameters(), lr=0.001)"
      ]
    },
    {
      "cell_type": "code",
      "execution_count": 13,
      "metadata": {
        "id": "UZdOK0PRWn3b"
      },
      "outputs": [],
      "source": [
        "# Prepare data loaders\n",
        "train_dataset = TensorDataset(X_train, y_train)\n",
        "train_loader = DataLoader(train_dataset, batch_size=128, shuffle=True)  # Decrease batch size\n",
        "val_dataset = TensorDataset(X_validation, y_validation)\n",
        "val_loader = DataLoader(val_dataset, batch_size=128, shuffle=True)  # Decrease batch size"
      ]
    },
    {
      "cell_type": "code",
      "execution_count": 14,
      "metadata": {
        "id": "qgulX5CXWn3c"
      },
      "outputs": [],
      "source": [
        "# Train the model\n",
        "train_losses = []\n",
        "val_losses = []\n",
        "train_f1s = []\n",
        "val_f1s = []"
      ]
    },
    {
      "cell_type": "code",
      "execution_count": 16,
      "metadata": {
        "colab": {
          "base_uri": "https://localhost:8080/"
        },
        "id": "A5pCQiPNWn3c",
        "outputId": "112cbd76-1d61-488a-ce4c-b53198431e19"
      },
      "outputs": [
        {
          "output_type": "stream",
          "name": "stdout",
          "text": [
            "Epoch 1/100, Training Loss: 7.9039, Training Macro-F1: 0.4601, Validation Loss: 1.9357, Validation Macro-F1: 0.4104\n",
            "Epoch 2/100, Training Loss: 7.8346, Training Macro-F1: 0.4635, Validation Loss: 1.9664, Validation Macro-F1: 0.4075\n",
            "Epoch 3/100, Training Loss: 7.8197, Training Macro-F1: 0.4660, Validation Loss: 1.9858, Validation Macro-F1: 0.3992\n",
            "Epoch 4/100, Training Loss: 7.7627, Training Macro-F1: 0.4670, Validation Loss: 1.9885, Validation Macro-F1: 0.4172\n",
            "Epoch 5/100, Training Loss: 7.6767, Training Macro-F1: 0.4710, Validation Loss: 2.0228, Validation Macro-F1: 0.4098\n",
            "Epoch 6/100, Training Loss: 7.6844, Training Macro-F1: 0.4701, Validation Loss: 1.9331, Validation Macro-F1: 0.4191\n",
            "Epoch 7/100, Training Loss: 7.5521, Training Macro-F1: 0.4734, Validation Loss: 1.9963, Validation Macro-F1: 0.4090\n",
            "Epoch 8/100, Training Loss: 7.5176, Training Macro-F1: 0.4770, Validation Loss: 1.9553, Validation Macro-F1: 0.4139\n",
            "Epoch 9/100, Training Loss: 7.4985, Training Macro-F1: 0.4782, Validation Loss: 1.9539, Validation Macro-F1: 0.4147\n",
            "Epoch 10/100, Training Loss: 7.4947, Training Macro-F1: 0.4790, Validation Loss: 1.9599, Validation Macro-F1: 0.4218\n",
            "Epoch 11/100, Training Loss: 7.4056, Training Macro-F1: 0.4819, Validation Loss: 2.0181, Validation Macro-F1: 0.4329\n",
            "Epoch 12/100, Training Loss: 7.3453, Training Macro-F1: 0.4886, Validation Loss: 2.0267, Validation Macro-F1: 0.4163\n",
            "Epoch 13/100, Training Loss: 7.3397, Training Macro-F1: 0.4857, Validation Loss: 1.9926, Validation Macro-F1: 0.4313\n",
            "Epoch 14/100, Training Loss: 7.3153, Training Macro-F1: 0.4875, Validation Loss: 1.9514, Validation Macro-F1: 0.4292\n",
            "Epoch 15/100, Training Loss: 7.2523, Training Macro-F1: 0.4928, Validation Loss: 2.0611, Validation Macro-F1: 0.4234\n",
            "Epoch 16/100, Training Loss: 7.2749, Training Macro-F1: 0.4922, Validation Loss: 1.9376, Validation Macro-F1: 0.4280\n",
            "Epoch 17/100, Training Loss: 7.2412, Training Macro-F1: 0.4936, Validation Loss: 2.1652, Validation Macro-F1: 0.4122\n",
            "Epoch 18/100, Training Loss: 7.1228, Training Macro-F1: 0.4996, Validation Loss: 1.9509, Validation Macro-F1: 0.4306\n",
            "Epoch 19/100, Training Loss: 7.0533, Training Macro-F1: 0.5035, Validation Loss: 2.0277, Validation Macro-F1: 0.4318\n",
            "Epoch 20/100, Training Loss: 7.0382, Training Macro-F1: 0.5028, Validation Loss: 2.0151, Validation Macro-F1: 0.4313\n",
            "Epoch 21/100, Training Loss: 7.0143, Training Macro-F1: 0.5046, Validation Loss: 2.0681, Validation Macro-F1: 0.4334\n",
            "Epoch 22/100, Training Loss: 6.9846, Training Macro-F1: 0.5048, Validation Loss: 1.9760, Validation Macro-F1: 0.4402\n",
            "Epoch 23/100, Training Loss: 6.9622, Training Macro-F1: 0.5108, Validation Loss: 2.0081, Validation Macro-F1: 0.4390\n",
            "Epoch 24/100, Training Loss: 6.8932, Training Macro-F1: 0.5120, Validation Loss: 1.9967, Validation Macro-F1: 0.4308\n",
            "Epoch 25/100, Training Loss: 6.9497, Training Macro-F1: 0.5104, Validation Loss: 2.0037, Validation Macro-F1: 0.4328\n",
            "Epoch 26/100, Training Loss: 6.8640, Training Macro-F1: 0.5113, Validation Loss: 2.0143, Validation Macro-F1: 0.4340\n",
            "Epoch 27/100, Training Loss: 6.7776, Training Macro-F1: 0.5169, Validation Loss: 1.9999, Validation Macro-F1: 0.4405\n",
            "Epoch 28/100, Training Loss: 6.7621, Training Macro-F1: 0.5187, Validation Loss: 2.0316, Validation Macro-F1: 0.4383\n",
            "Epoch 29/100, Training Loss: 6.7496, Training Macro-F1: 0.5216, Validation Loss: 1.9777, Validation Macro-F1: 0.4348\n",
            "Epoch 30/100, Training Loss: 6.6946, Training Macro-F1: 0.5224, Validation Loss: 2.0830, Validation Macro-F1: 0.4403\n",
            "Epoch 31/100, Training Loss: 6.6933, Training Macro-F1: 0.5256, Validation Loss: 1.9964, Validation Macro-F1: 0.4398\n",
            "Epoch 32/100, Training Loss: 6.6218, Training Macro-F1: 0.5279, Validation Loss: 2.0758, Validation Macro-F1: 0.4391\n",
            "Epoch 33/100, Training Loss: 6.6252, Training Macro-F1: 0.5293, Validation Loss: 2.0859, Validation Macro-F1: 0.4406\n",
            "Epoch 34/100, Training Loss: 6.5572, Training Macro-F1: 0.5310, Validation Loss: 2.1567, Validation Macro-F1: 0.4394\n",
            "Epoch 35/100, Training Loss: 6.5516, Training Macro-F1: 0.5334, Validation Loss: 2.0234, Validation Macro-F1: 0.4376\n",
            "Epoch 36/100, Training Loss: 6.5111, Training Macro-F1: 0.5342, Validation Loss: 1.9704, Validation Macro-F1: 0.4350\n",
            "Epoch 37/100, Training Loss: 6.4661, Training Macro-F1: 0.5411, Validation Loss: 2.0544, Validation Macro-F1: 0.4310\n",
            "Epoch 38/100, Training Loss: 6.4674, Training Macro-F1: 0.5386, Validation Loss: 2.0427, Validation Macro-F1: 0.4389\n",
            "Epoch 39/100, Training Loss: 6.4128, Training Macro-F1: 0.5421, Validation Loss: 2.0780, Validation Macro-F1: 0.4462\n",
            "Epoch 40/100, Training Loss: 6.4319, Training Macro-F1: 0.5382, Validation Loss: 2.0474, Validation Macro-F1: 0.4388\n",
            "Epoch 41/100, Training Loss: 6.3538, Training Macro-F1: 0.5451, Validation Loss: 2.0756, Validation Macro-F1: 0.4358\n",
            "Epoch 42/100, Training Loss: 6.6783, Training Macro-F1: 0.5438, Validation Loss: 2.0608, Validation Macro-F1: 0.4322\n",
            "Epoch 43/100, Training Loss: 6.6687, Training Macro-F1: 0.5328, Validation Loss: 2.0447, Validation Macro-F1: 0.4429\n",
            "Epoch 44/100, Training Loss: 6.3890, Training Macro-F1: 0.5473, Validation Loss: 2.1232, Validation Macro-F1: 0.4433\n",
            "Epoch 45/100, Training Loss: 6.2886, Training Macro-F1: 0.5494, Validation Loss: 2.0672, Validation Macro-F1: 0.4479\n",
            "Epoch 46/100, Training Loss: 6.2442, Training Macro-F1: 0.5544, Validation Loss: 2.1013, Validation Macro-F1: 0.4422\n",
            "Epoch 47/100, Training Loss: 6.2187, Training Macro-F1: 0.5568, Validation Loss: 2.1072, Validation Macro-F1: 0.4428\n",
            "Epoch 48/100, Training Loss: 6.2045, Training Macro-F1: 0.5580, Validation Loss: 2.0829, Validation Macro-F1: 0.4380\n",
            "Epoch 49/100, Training Loss: 6.1855, Training Macro-F1: 0.5555, Validation Loss: 2.0655, Validation Macro-F1: 0.4474\n",
            "Epoch 50/100, Training Loss: 6.1756, Training Macro-F1: 0.5577, Validation Loss: 2.1315, Validation Macro-F1: 0.4464\n",
            "Epoch 51/100, Training Loss: 6.1770, Training Macro-F1: 0.5600, Validation Loss: 2.0546, Validation Macro-F1: 0.4406\n",
            "Epoch 52/100, Training Loss: 6.0879, Training Macro-F1: 0.5627, Validation Loss: 2.1963, Validation Macro-F1: 0.4359\n",
            "Epoch 53/100, Training Loss: 6.0454, Training Macro-F1: 0.5654, Validation Loss: 2.1375, Validation Macro-F1: 0.4443\n",
            "Epoch 54/100, Training Loss: 6.0272, Training Macro-F1: 0.5651, Validation Loss: 2.1932, Validation Macro-F1: 0.4477\n",
            "Epoch 55/100, Training Loss: 6.0604, Training Macro-F1: 0.5675, Validation Loss: 2.2442, Validation Macro-F1: 0.4493\n",
            "Epoch 56/100, Training Loss: 5.9964, Training Macro-F1: 0.5678, Validation Loss: 2.1451, Validation Macro-F1: 0.4488\n",
            "Epoch 57/100, Training Loss: 5.9755, Training Macro-F1: 0.5704, Validation Loss: 2.1396, Validation Macro-F1: 0.4481\n",
            "Epoch 58/100, Training Loss: 5.9586, Training Macro-F1: 0.5714, Validation Loss: 2.0970, Validation Macro-F1: 0.4452\n",
            "Epoch 59/100, Training Loss: 5.9242, Training Macro-F1: 0.5723, Validation Loss: 2.1384, Validation Macro-F1: 0.4506\n",
            "Epoch 60/100, Training Loss: 5.8938, Training Macro-F1: 0.5744, Validation Loss: 2.1366, Validation Macro-F1: 0.4503\n",
            "Epoch 61/100, Training Loss: 5.8552, Training Macro-F1: 0.5780, Validation Loss: 2.2052, Validation Macro-F1: 0.4493\n",
            "Epoch 62/100, Training Loss: 5.8522, Training Macro-F1: 0.5788, Validation Loss: 2.2139, Validation Macro-F1: 0.4523\n",
            "Epoch 63/100, Training Loss: 5.8187, Training Macro-F1: 0.5790, Validation Loss: 2.2109, Validation Macro-F1: 0.4457\n",
            "Epoch 64/100, Training Loss: 5.8445, Training Macro-F1: 0.5779, Validation Loss: 2.1681, Validation Macro-F1: 0.4431\n",
            "Epoch 65/100, Training Loss: 5.9245, Training Macro-F1: 0.5779, Validation Loss: 2.2084, Validation Macro-F1: 0.4550\n",
            "Epoch 66/100, Training Loss: 5.8051, Training Macro-F1: 0.5844, Validation Loss: 2.1759, Validation Macro-F1: 0.4568\n",
            "Epoch 67/100, Training Loss: 5.7346, Training Macro-F1: 0.5844, Validation Loss: 2.1880, Validation Macro-F1: 0.4518\n",
            "Epoch 68/100, Training Loss: 5.7705, Training Macro-F1: 0.5853, Validation Loss: 2.1402, Validation Macro-F1: 0.4494\n",
            "Epoch 69/100, Training Loss: 5.7214, Training Macro-F1: 0.5866, Validation Loss: 2.1811, Validation Macro-F1: 0.4494\n",
            "Epoch 70/100, Training Loss: 5.6878, Training Macro-F1: 0.5905, Validation Loss: 2.2605, Validation Macro-F1: 0.4528\n",
            "Epoch 71/100, Training Loss: 5.7040, Training Macro-F1: 0.5905, Validation Loss: 2.1619, Validation Macro-F1: 0.4484\n",
            "Epoch 72/100, Training Loss: 5.7663, Training Macro-F1: 0.5893, Validation Loss: 2.3178, Validation Macro-F1: 0.4451\n",
            "Epoch 73/100, Training Loss: 5.7346, Training Macro-F1: 0.5903, Validation Loss: 2.1220, Validation Macro-F1: 0.4541\n",
            "Epoch 74/100, Training Loss: 5.6421, Training Macro-F1: 0.5950, Validation Loss: 2.2770, Validation Macro-F1: 0.4486\n",
            "Epoch 75/100, Training Loss: 5.6111, Training Macro-F1: 0.5980, Validation Loss: 2.3102, Validation Macro-F1: 0.4484\n",
            "Epoch 76/100, Training Loss: 5.5346, Training Macro-F1: 0.5962, Validation Loss: 2.2674, Validation Macro-F1: 0.4501\n",
            "Epoch 77/100, Training Loss: 6.4885, Training Macro-F1: 0.5714, Validation Loss: 2.2133, Validation Macro-F1: 0.4388\n",
            "Epoch 78/100, Training Loss: 6.1349, Training Macro-F1: 0.5744, Validation Loss: 2.2508, Validation Macro-F1: 0.4598\n",
            "Epoch 79/100, Training Loss: 5.7620, Training Macro-F1: 0.5914, Validation Loss: 2.2330, Validation Macro-F1: 0.4526\n",
            "Epoch 80/100, Training Loss: 5.6293, Training Macro-F1: 0.5957, Validation Loss: 2.2078, Validation Macro-F1: 0.4544\n",
            "Epoch 81/100, Training Loss: 5.5632, Training Macro-F1: 0.6028, Validation Loss: 2.2961, Validation Macro-F1: 0.4499\n",
            "Epoch 82/100, Training Loss: 5.5259, Training Macro-F1: 0.6028, Validation Loss: 2.2398, Validation Macro-F1: 0.4509\n",
            "Epoch 83/100, Training Loss: 5.4943, Training Macro-F1: 0.6028, Validation Loss: 2.3152, Validation Macro-F1: 0.4553\n",
            "Epoch 84/100, Training Loss: 5.4837, Training Macro-F1: 0.6050, Validation Loss: 2.2608, Validation Macro-F1: 0.4478\n",
            "Epoch 85/100, Training Loss: 5.4734, Training Macro-F1: 0.6096, Validation Loss: 2.2642, Validation Macro-F1: 0.4554\n",
            "Epoch 86/100, Training Loss: 5.4215, Training Macro-F1: 0.6072, Validation Loss: 2.3621, Validation Macro-F1: 0.4503\n",
            "Epoch 87/100, Training Loss: 5.3950, Training Macro-F1: 0.6117, Validation Loss: 2.2911, Validation Macro-F1: 0.4412\n",
            "Epoch 88/100, Training Loss: 5.4792, Training Macro-F1: 0.6052, Validation Loss: 2.2797, Validation Macro-F1: 0.4504\n",
            "Epoch 89/100, Training Loss: 5.5457, Training Macro-F1: 0.6075, Validation Loss: 2.2787, Validation Macro-F1: 0.4525\n",
            "Epoch 90/100, Training Loss: 5.4275, Training Macro-F1: 0.6089, Validation Loss: 2.2318, Validation Macro-F1: 0.4565\n",
            "Epoch 91/100, Training Loss: 5.3045, Training Macro-F1: 0.6142, Validation Loss: 2.2971, Validation Macro-F1: 0.4561\n",
            "Epoch 92/100, Training Loss: 5.3231, Training Macro-F1: 0.6161, Validation Loss: 2.3137, Validation Macro-F1: 0.4534\n",
            "Epoch 93/100, Training Loss: 5.3258, Training Macro-F1: 0.6147, Validation Loss: 2.3447, Validation Macro-F1: 0.4560\n",
            "Epoch 94/100, Training Loss: 5.2566, Training Macro-F1: 0.6167, Validation Loss: 2.3676, Validation Macro-F1: 0.4534\n",
            "Epoch 95/100, Training Loss: 5.3819, Training Macro-F1: 0.6128, Validation Loss: 2.2879, Validation Macro-F1: 0.4554\n",
            "Epoch 96/100, Training Loss: 5.3588, Training Macro-F1: 0.6132, Validation Loss: 2.3503, Validation Macro-F1: 0.4511\n",
            "Epoch 97/100, Training Loss: 5.2493, Training Macro-F1: 0.6213, Validation Loss: 2.3183, Validation Macro-F1: 0.4531\n",
            "Epoch 98/100, Training Loss: 5.1873, Training Macro-F1: 0.6230, Validation Loss: 2.4589, Validation Macro-F1: 0.4520\n",
            "Epoch 99/100, Training Loss: 5.1865, Training Macro-F1: 0.6234, Validation Loss: 2.3184, Validation Macro-F1: 0.4513\n",
            "Epoch 100/100, Training Loss: 5.1906, Training Macro-F1: 0.6203, Validation Loss: 2.2894, Validation Macro-F1: 0.4584\n"
          ]
        }
      ],
      "source": [
        "num_epochs = 100\n",
        "predicted_labels1 = []\n",
        "for epoch in range(num_epochs):\n",
        "    model.train()\n",
        "    total_loss = 0\n",
        "    train_all_preds = []\n",
        "    train_all_labels = []\n",
        "    for text, labels in train_loader:\n",
        "        optimizer.zero_grad()\n",
        "        outputs = model(text)\n",
        "        loss = criterion(outputs.view(-1, output_size), labels.view(-1))\n",
        "        loss.backward()\n",
        "        optimizer.step()\n",
        "        total_loss += loss.item()\n",
        "\n",
        "        _, predicted = torch.max(outputs, 2)\n",
        "        train_all_preds.extend(predicted.view(-1).cpu().numpy().tolist())\n",
        "        predicted_labels1.extend(predicted.view(-1).cpu().numpy().tolist())\n",
        "        train_all_labels.extend(labels.view(-1).cpu().numpy().tolist())\n",
        "\n",
        "    val_loss = 0\n",
        "    val_all_preds = []\n",
        "    val_all_labels = []\n",
        "    with torch.no_grad():\n",
        "        model.eval()\n",
        "        for text, labels in val_loader:\n",
        "            outputs = model(text)\n",
        "            loss = criterion(outputs.view(-1, output_size), labels.view(-1))\n",
        "            val_loss += loss.item()\n",
        "\n",
        "\n",
        "            _, predicted = torch.max(outputs, 2)\n",
        "            val_all_preds.extend(predicted.view(-1).cpu().numpy().tolist())\n",
        "            val_all_labels.extend(labels.view(-1).cpu().numpy().tolist())\n",
        "\n",
        "    train_losses.append(total_loss / len(train_loader))\n",
        "    val_losses.append(val_loss / len(val_loader))\n",
        "    train_f1 = f1_score(train_all_labels, train_all_preds, average='macro')\n",
        "    val_f1 = f1_score(val_all_labels, val_all_preds, average='macro')\n",
        "    train_f1s.append(train_f1)\n",
        "    val_f1s.append(val_f1)\n",
        "\n",
        "    print(f\"Epoch {epoch+1}/{num_epochs}, Training Loss: {total_loss:.4f}, Training Macro-F1: {train_f1:.4f}, Validation Loss: {val_loss:.4f}, Validation Macro-F1: {val_f1:.4f}\")\n"
      ]
    },
    {
      "cell_type": "code",
      "execution_count": 17,
      "metadata": {
        "id": "83v9iM6ZWn3c"
      },
      "outputs": [],
      "source": [
        "# Specify the path to your JSON file\n",
        "json_file_path = 'NER_test_data.json'\n",
        "\n",
        "# Read the JSON file\n",
        "with open(json_file_path) as f:\n",
        "    test_data = json.load(f)\n"
      ]
    },
    {
      "cell_type": "code",
      "execution_count": 18,
      "metadata": {
        "id": "uBtBTilJWn3d"
      },
      "outputs": [],
      "source": [
        "X_test=[]\n",
        "y_test=[]\n",
        "\n",
        "for idx, word in enumerate(weight_model.index_to_key):\n",
        "    word_to_idx[word] = idx + 1\n",
        "# label_to_idx = {\"B\": 0, \"I\": 1, \"O\": 2}\n",
        "\n",
        "for key, value in test_data.items():\n",
        "    word = value['text'].split()\n",
        "    tags = value['labels']\n",
        "    sentence = value['text']\n",
        "    # if len(word) < max_len:\n",
        "    #     word += [''] * (max_len - len(word))\n",
        "    #     tags += ['O'] * (max_len - len(tags))\n",
        "    text_indices = []\n",
        "    for i in word:\n",
        "        index = word_to_idx.get(i, 0)\n",
        "        text_indices.append(index)\n",
        "    X_test.append(torch.tensor(text_indices))\n",
        "    y_test.append(torch.tensor([label_to_idx.get(label, -1) for label in tags if label in label_to_idx]))\n",
        "X_test = pad_sequence(X_test, batch_first=True, padding_value=0)\n",
        "y_test = pad_sequence(y_test, batch_first=True, padding_value=0)"
      ]
    },
    {
      "cell_type": "code",
      "execution_count": 19,
      "metadata": {
        "colab": {
          "base_uri": "https://localhost:8080/",
          "height": 860
        },
        "id": "R3YO1IFBWn3d",
        "outputId": "1a0ea37f-f1aa-40b5-d088-fa7222bfe0ee"
      },
      "outputs": [
        {
          "output_type": "stream",
          "name": "stdout",
          "text": [
            "Test Loss: 0.2474, Test Macro-F1: 0.4442\n"
          ]
        },
        {
          "output_type": "display_data",
          "data": {
            "text/plain": [
              "<Figure size 640x480 with 1 Axes>"
            ],
            "image/png": "[encoded data removed]"
          },
          "metadata": {}
        },
        {
          "output_type": "display_data",
          "data": {
            "text/plain": [
              "<Figure size 640x480 with 1 Axes>"
            ],
            "image/png": "[encoded data removed]"
          },
          "metadata": {}
        }
      ],
      "source": [
        "def evaluate_model(model, dataloader, criterion, tagset_size):\n",
        "    model.eval()\n",
        "    total_loss = 0\n",
        "    all_preds = []\n",
        "    all_labels = []\n",
        "\n",
        "    with torch.no_grad():\n",
        "        for text, labels in dataloader:\n",
        "            outputs = model(text)\n",
        "            loss = criterion(outputs.view(-1, tagset_size), labels.view(-1))\n",
        "            total_loss += loss.item()\n",
        "\n",
        "            _, predicted = torch.max(outputs, 2)\n",
        "            all_preds.extend(predicted.view(-1).cpu().numpy().tolist())\n",
        "            all_labels.extend(labels.view(-1).cpu().numpy().tolist())\n",
        "\n",
        "    avg_loss = total_loss / len(dataloader)\n",
        "    macro_f1 = f1_score(all_labels, all_preds, average='macro')\n",
        "\n",
        "    return avg_loss, macro_f1\n",
        "# Evaluate on the test dataset\n",
        "test_dataset = TensorDataset(X_test, y_test)\n",
        "test_loader = DataLoader(test_dataset, batch_size=128, shuffle=True)  # Decrease batch size\n",
        "\n",
        "test_loss, test_f1 = evaluate_model(model, test_loader, criterion, output_size)\n",
        "print(f\"Test Loss: {test_loss:.4f}, Test Macro-F1: {test_f1:.4f}\")\n",
        "\n",
        "\n",
        "# Plot the training and validation loss\n",
        "def showresults():\n",
        "    plt.plot(train_losses, label='Training Loss')\n",
        "    plt.plot(val_losses, label='Validation Loss')\n",
        "    plt.legend()\n",
        "    # save the graph\n",
        "    plt.savefig('loss_NER_RNN.png')\n",
        "    plt.show()\n",
        "\n",
        "    plt.plot(train_f1s, label='Training Macro-F1')\n",
        "    plt.plot(val_f1s, label='Validation Macro-F1')\n",
        "    plt.legend()\n",
        "    # save the graph\n",
        "    plt.savefig('f1_NER_RNN.png')\n",
        "    plt.show()\n",
        "showresults()"
      ]
    },
    {
      "cell_type": "markdown",
      "source": [
        "**LSTM**"
      ],
      "metadata": {
        "id": "-1pUYb01e6n9"
      }
    },
    {
      "cell_type": "code",
      "source": [],
      "metadata": {
        "id": "TalQ91fAe9zV"
      },
      "execution_count": null,
      "outputs": []
    },
    {
      "cell_type": "code",
      "execution_count": 20,
      "metadata": {
        "id": "ZrUelcqTeeK4"
      },
      "outputs": [],
      "source": [
        "from gensim.models import KeyedVectors\n",
        "\n",
        "import torch\n",
        "\n",
        "import gensim.downloader as api\n",
        "import matplotlib.pyplot as plt\n",
        "from torch.nn.utils.rnn import pad_sequence"
      ]
    },
    {
      "cell_type": "code",
      "execution_count": 21,
      "metadata": {
        "id": "ou69M93YeeK5"
      },
      "outputs": [],
      "source": [
        "import torch.nn as nn\n",
        "import torch.optim as optim\n",
        "from torch.utils.data import  DataLoader, TensorDataset\n",
        "from sklearn.metrics import f1_score"
      ]
    },
    {
      "cell_type": "code",
      "execution_count": 22,
      "metadata": {
        "id": "d4GaL_CGeeK6"
      },
      "outputs": [],
      "source": [
        "#  import lstm libraries of torch\n",
        "from torch.nn import LSTM\n"
      ]
    },
    {
      "cell_type": "code",
      "execution_count": 23,
      "metadata": {
        "id": "HoPLn_KQeeK6"
      },
      "outputs": [],
      "source": [
        "import json\n",
        "# Specify the path to your JSON file\n",
        "json_file_path = 'NER_training_data.json'\n",
        "\n",
        "# Read the JSON file\n",
        "with open(json_file_path) as f:\n",
        "    data = json.load(f)\n",
        "\n",
        "# data\n",
        "# print(len(data))\n",
        "\n",
        "# Specify the path to your JSON file\n",
        "json_file_path = 'NER_validation_data.json'\n",
        "\n",
        "# Read the JSON file\n",
        "with open(json_file_path) as f:\n",
        "    validation_data = json.load(f)\n",
        "\n"
      ]
    },
    {
      "cell_type": "code",
      "execution_count": 24,
      "metadata": {
        "id": "GmsMCta4eeK6"
      },
      "outputs": [],
      "source": [
        "\n",
        "for key, value in data.items():\n",
        "    word = value['text'].split()\n",
        "    labels = value['labels']\n",
        "    new_labels = []\n",
        "    new_word = []\n",
        "    for i in range(len(word)):\n",
        "        if(word[i]==''):\n",
        "            print(word)\n",
        "            continue\n",
        "        # new_labels.append(labels[i])\n",
        "        new_word.append(word[i])\n",
        "    # value['labels'] = new_labels\n",
        "    value['word'] = new_word\n"
      ]
    },
    {
      "cell_type": "code",
      "execution_count": 25,
      "metadata": {
        "id": "2-HiplofeeK7"
      },
      "outputs": [],
      "source": [
        "label_to_idx = {'O': 0, 'B_CASE_NUMBER': 1, 'I_CASE_NUMBER': 2, 'B_ORG': 3, 'I_ORG': 4, 'B_OTHER_PERSON': 5, 'I_OTHER_PERSON': 6,\n",
        "                    'B_STATUTE': 7, 'I_STATUTE': 8, 'B_PROVISION': 9, 'I_PROVISION': 10, 'B_COURT': 11, 'I_COURT': 12,\n",
        "                    'B_WITNESS': 13, 'I_WITNESS': 14, 'B_PRECEDENT': 15, 'I_PRECEDENT': 16, 'B_DATE': 17, 'I_DATE': 18,\n",
        "                    'B_PETITIONER': 19, 'I_PETITIONER': 20, 'B_GPE' : 21, 'I_GPE': 22, 'B_RESPONDENT': 23, 'I_RESPONDENT': 24,\n",
        "                    'B_COURT': 25, 'I_COURT': 26}"
      ]
    },
    {
      "cell_type": "code",
      "execution_count": 26,
      "metadata": {
        "id": "wrswzOgHeeK7",
        "outputId": "867479d3-50f1-439d-9b50-a590aa4c6ad9",
        "colab": {
          "base_uri": "https://localhost:8080/"
        }
      },
      "outputs": [
        {
          "output_type": "stream",
          "name": "stdout",
          "text": [
            "torch.Size([7545, 70])\n"
          ]
        }
      ],
      "source": [
        "sentence_for_training = []\n",
        "tags_for_training = []\n",
        "X_train=[]\n",
        "y_train=[]\n",
        "\n",
        "word_to_idx={}\n",
        "for idx, word in enumerate(weight_model.index_to_key):\n",
        "    word_to_idx[word] = idx + 1\n",
        "# label_to_idx = {\"B\": 0, \"I\": 1, \"O\": 2}\n",
        "\n",
        "for key, value in data.items():\n",
        "    word = value['text'].split()\n",
        "    tags = value['labels']\n",
        "    sentence = value['text']\n",
        "    # if len(word) < max_len:\n",
        "    #     word += [''] * (max_len - len(word))\n",
        "    #     tags += ['O'] * (max_len - len(tags))\n",
        "    T_idx = []\n",
        "    for i in word:\n",
        "        index = word_to_idx.get(i, 0)\n",
        "        T_idx.append(index)\n",
        "    X_train.append(torch.tensor(T_idx))\n",
        "    y_train.append(torch.tensor([label_to_idx.get(label, -1) for label in tags if label in label_to_idx]))\n",
        "X_train = pad_sequence(X_train, batch_first=True, padding_value=0)\n",
        "y_train = pad_sequence(y_train, batch_first=True, padding_value=0)\n",
        "\n",
        "print(X_train.shape)"
      ]
    },
    {
      "cell_type": "code",
      "execution_count": 27,
      "metadata": {
        "id": "9O5mdIOleeK7"
      },
      "outputs": [],
      "source": [
        "max_len=max([len(i) for i in X_train])\n",
        "X_validation=[]\n",
        "y_validation=[]\n",
        "\n",
        "word_to_idx={}\n",
        "# word_to_idx = {word: idx + 1 for idx, word in enumerate(word_vectors.index_to_key)}\n",
        "for idx, word in enumerate(weight_model.index_to_key):\n",
        "    word_to_idx[word] = idx + 1\n",
        "# label_to_idx = {\"B\": 0, \"I\": 1, \"O\": 2}\n",
        "\n",
        "for key, value in validation_data.items():\n",
        "    word = value['text'].split()\n",
        "    tags = value['labels']\n",
        "    sentence = value['text']\n",
        "    # if len(word) < max_len:\n",
        "    #     word += [''] * (max_len - len(word))\n",
        "    #     tags += ['O'] * (max_len - len(tags))\n",
        "    text_indices = []\n",
        "    for i in word:\n",
        "        index = word_to_idx.get(i, 0)\n",
        "        text_indices.append(index)\n",
        "    # text_indices = [word_to_idx.get(word, 0) for word in word]\n",
        "    X_validation.append(torch.tensor(text_indices))\n",
        "    y_validation.append(torch.tensor([label_to_idx.get(label, -1) for label in tags if label in label_to_idx]))\n",
        "X_validation = pad_sequence(X_validation, batch_first=True, padding_value=0)\n",
        "y_validation = pad_sequence(y_validation, batch_first=True, padding_value=0)"
      ]
    },
    {
      "cell_type": "code",
      "execution_count": 28,
      "metadata": {
        "id": "ifMB5LZ7eeK7"
      },
      "outputs": [],
      "source": [
        "class LSTM(nn.Module):\n",
        "    def __init__(self, embedding_dim, hidden_dim, vocab_size, tagset_size, word_embeddings):\n",
        "        super(LSTM, self).__init__()\n",
        "        self.embedding = nn.Embedding.from_pretrained(word_embeddings, freeze=True)\n",
        "        self.lstm = nn.LSTM(embedding_dim, hidden_dim, batch_first=True)\n",
        "        self.linear = nn.Linear(hidden_dim, tagset_size)\n",
        "\n",
        "    def forward(self, sentence):\n",
        "        embedding = self.embedding(sentence)\n",
        "        lstm_out, _ = self.lstm(embedding)\n",
        "        tag_space_lstm = self.linear(lstm_out)\n",
        "        return tag_space_lstm"
      ]
    },
    {
      "cell_type": "code",
      "execution_count": 29,
      "metadata": {
        "id": "vcf8AXO9eeK8"
      },
      "outputs": [],
      "source": [
        "# Define hyperparameters\n",
        "input_size = len(word_to_idx) + 1  # Add 1 for padding token\n",
        "embedding_dim = weight_model.vector_size  # Should match the dimensionality of your word vectors\n",
        "hidden_size = 64\n",
        "vocab_size = len(weight_model.index_to_key)\n",
        "\n",
        "output_size = 27"
      ]
    },
    {
      "cell_type": "code",
      "execution_count": 30,
      "metadata": {
        "id": "VlBvcfi4eeK8"
      },
      "outputs": [],
      "source": [
        "model = LSTM(embedding_dim, hidden_size, vocab_size, output_size, torch.FloatTensor(weight_model.vectors))"
      ]
    },
    {
      "cell_type": "code",
      "execution_count": 31,
      "metadata": {
        "id": "Hv7ZY8KseeK8"
      },
      "outputs": [],
      "source": [
        "# Define loss function and optimizer\n",
        "criterion = nn.CrossEntropyLoss()\n",
        "optimizer = torch.optim.Adam(model.parameters(), lr=0.003)"
      ]
    },
    {
      "cell_type": "code",
      "execution_count": 32,
      "metadata": {
        "id": "OOad_GEDeeK8"
      },
      "outputs": [],
      "source": [
        "# Prepare data loaders\n",
        "train_dataset = TensorDataset(X_train, y_train)\n",
        "train_loader = DataLoader(train_dataset, batch_size=256, shuffle=True)  # Decrease batch size\n",
        "val_dataset = TensorDataset(X_validation, y_validation)\n",
        "val_loader = DataLoader(val_dataset, batch_size=256, shuffle=True)  # Decrease batch size"
      ]
    },
    {
      "cell_type": "code",
      "execution_count": 33,
      "metadata": {
        "id": "jwBOoFBTeeK9"
      },
      "outputs": [],
      "source": [
        "# Train the model\n",
        "train_losses = []\n",
        "val_losses = []\n",
        "train_f1s = []\n",
        "val_f1s = []"
      ]
    },
    {
      "cell_type": "code",
      "execution_count": null,
      "metadata": {
        "id": "1G5Cnf0deeK9",
        "outputId": "3f73c24a-520e-40da-e775-fa713613932f",
        "colab": {
          "base_uri": "https://localhost:8080/"
        }
      },
      "outputs": [
        {
          "output_type": "stream",
          "name": "stdout",
          "text": [
            "Epoch 1/160, Training Loss: 35.5936, Training Macro-F1: 0.0387, Validation Loss: 3.0392, Validation Macro-F1: 0.0385\n",
            "Epoch 2/160, Training Loss: 14.3753, Training Macro-F1: 0.0385, Validation Loss: 2.7092, Validation Macro-F1: 0.0385\n",
            "Epoch 3/160, Training Loss: 13.4998, Training Macro-F1: 0.0385, Validation Loss: 2.6757, Validation Macro-F1: 0.0385\n",
            "Epoch 4/160, Training Loss: 12.3295, Training Macro-F1: 0.0386, Validation Loss: 2.3610, Validation Macro-F1: 0.0403\n",
            "Epoch 5/160, Training Loss: 11.2404, Training Macro-F1: 0.0480, Validation Loss: 2.1435, Validation Macro-F1: 0.0569\n",
            "Epoch 6/160, Training Loss: 10.2150, Training Macro-F1: 0.0709, Validation Loss: 1.9904, Validation Macro-F1: 0.0777\n",
            "Epoch 7/160, Training Loss: 9.4364, Training Macro-F1: 0.0885, Validation Loss: 1.8024, Validation Macro-F1: 0.0950\n",
            "Epoch 8/160, Training Loss: 8.8825, Training Macro-F1: 0.1042, Validation Loss: 1.7279, Validation Macro-F1: 0.1067\n",
            "Epoch 9/160, Training Loss: 8.4759, Training Macro-F1: 0.1224, Validation Loss: 1.6309, Validation Macro-F1: 0.1303\n",
            "Epoch 10/160, Training Loss: 8.1652, Training Macro-F1: 0.1500, Validation Loss: 1.6064, Validation Macro-F1: 0.1577\n",
            "Epoch 11/160, Training Loss: 7.8746, Training Macro-F1: 0.1719, Validation Loss: 1.5922, Validation Macro-F1: 0.1728\n",
            "Epoch 12/160, Training Loss: 7.5658, Training Macro-F1: 0.1867, Validation Loss: 1.6457, Validation Macro-F1: 0.1768\n",
            "Epoch 13/160, Training Loss: 7.3687, Training Macro-F1: 0.1989, Validation Loss: 1.5432, Validation Macro-F1: 0.1908\n",
            "Epoch 14/160, Training Loss: 7.1169, Training Macro-F1: 0.2075, Validation Loss: 1.4366, Validation Macro-F1: 0.2010\n",
            "Epoch 15/160, Training Loss: 6.9444, Training Macro-F1: 0.2159, Validation Loss: 1.4760, Validation Macro-F1: 0.2145\n",
            "Epoch 16/160, Training Loss: 6.7512, Training Macro-F1: 0.2336, Validation Loss: 1.4393, Validation Macro-F1: 0.2218\n",
            "Epoch 17/160, Training Loss: 6.5688, Training Macro-F1: 0.2464, Validation Loss: 1.3957, Validation Macro-F1: 0.2377\n",
            "Epoch 18/160, Training Loss: 6.4140, Training Macro-F1: 0.2571, Validation Loss: 1.4058, Validation Macro-F1: 0.2546\n",
            "Epoch 19/160, Training Loss: 6.2528, Training Macro-F1: 0.2659, Validation Loss: 1.3490, Validation Macro-F1: 0.2640\n",
            "Epoch 20/160, Training Loss: 6.0957, Training Macro-F1: 0.2773, Validation Loss: 1.3305, Validation Macro-F1: 0.2661\n",
            "Epoch 21/160, Training Loss: 5.9718, Training Macro-F1: 0.2854, Validation Loss: 1.3052, Validation Macro-F1: 0.2756\n",
            "Epoch 22/160, Training Loss: 5.8231, Training Macro-F1: 0.2959, Validation Loss: 1.2771, Validation Macro-F1: 0.2873\n",
            "Epoch 23/160, Training Loss: 5.7032, Training Macro-F1: 0.3054, Validation Loss: 1.3317, Validation Macro-F1: 0.2885\n",
            "Epoch 24/160, Training Loss: 5.5829, Training Macro-F1: 0.3172, Validation Loss: 1.2764, Validation Macro-F1: 0.2837\n",
            "Epoch 25/160, Training Loss: 5.4995, Training Macro-F1: 0.3238, Validation Loss: 1.2296, Validation Macro-F1: 0.3072\n",
            "Epoch 26/160, Training Loss: 5.3842, Training Macro-F1: 0.3331, Validation Loss: 1.1946, Validation Macro-F1: 0.3179\n",
            "Epoch 27/160, Training Loss: 5.3020, Training Macro-F1: 0.3391, Validation Loss: 1.1997, Validation Macro-F1: 0.3242\n",
            "Epoch 28/160, Training Loss: 5.1770, Training Macro-F1: 0.3490, Validation Loss: 1.1790, Validation Macro-F1: 0.3261\n",
            "Epoch 29/160, Training Loss: 5.0838, Training Macro-F1: 0.3535, Validation Loss: 1.1789, Validation Macro-F1: 0.3212\n",
            "Epoch 30/160, Training Loss: 5.0097, Training Macro-F1: 0.3584, Validation Loss: 1.1974, Validation Macro-F1: 0.3376\n",
            "Epoch 31/160, Training Loss: 4.9230, Training Macro-F1: 0.3676, Validation Loss: 1.1796, Validation Macro-F1: 0.3355\n",
            "Epoch 32/160, Training Loss: 4.8376, Training Macro-F1: 0.3717, Validation Loss: 1.1243, Validation Macro-F1: 0.3360\n",
            "Epoch 33/160, Training Loss: 4.7706, Training Macro-F1: 0.3763, Validation Loss: 1.1307, Validation Macro-F1: 0.3334\n",
            "Epoch 34/160, Training Loss: 4.7419, Training Macro-F1: 0.3794, Validation Loss: 1.1615, Validation Macro-F1: 0.3415\n",
            "Epoch 35/160, Training Loss: 4.6310, Training Macro-F1: 0.3861, Validation Loss: 1.2434, Validation Macro-F1: 0.3424\n",
            "Epoch 36/160, Training Loss: 4.5588, Training Macro-F1: 0.3914, Validation Loss: 1.1077, Validation Macro-F1: 0.3500\n",
            "Epoch 37/160, Training Loss: 4.5136, Training Macro-F1: 0.3954, Validation Loss: 1.0958, Validation Macro-F1: 0.3545\n",
            "Epoch 38/160, Training Loss: 4.4433, Training Macro-F1: 0.4005, Validation Loss: 1.1303, Validation Macro-F1: 0.3556\n",
            "Epoch 39/160, Training Loss: 4.3638, Training Macro-F1: 0.4050, Validation Loss: 1.1317, Validation Macro-F1: 0.3569\n",
            "Epoch 40/160, Training Loss: 4.3067, Training Macro-F1: 0.4088, Validation Loss: 1.0940, Validation Macro-F1: 0.3571\n",
            "Epoch 41/160, Training Loss: 4.2544, Training Macro-F1: 0.4124, Validation Loss: 1.1707, Validation Macro-F1: 0.3666\n",
            "Epoch 42/160, Training Loss: 4.1913, Training Macro-F1: 0.4165, Validation Loss: 1.1379, Validation Macro-F1: 0.3692\n",
            "Epoch 43/160, Training Loss: 4.1579, Training Macro-F1: 0.4209, Validation Loss: 1.0691, Validation Macro-F1: 0.3713\n",
            "Epoch 44/160, Training Loss: 4.1063, Training Macro-F1: 0.4239, Validation Loss: 1.1683, Validation Macro-F1: 0.3629\n",
            "Epoch 45/160, Training Loss: 4.0716, Training Macro-F1: 0.4285, Validation Loss: 1.1517, Validation Macro-F1: 0.3768\n",
            "Epoch 46/160, Training Loss: 4.0208, Training Macro-F1: 0.4312, Validation Loss: 1.0682, Validation Macro-F1: 0.3826\n",
            "Epoch 47/160, Training Loss: 3.9526, Training Macro-F1: 0.4359, Validation Loss: 1.1078, Validation Macro-F1: 0.3746\n",
            "Epoch 48/160, Training Loss: 3.9716, Training Macro-F1: 0.4353, Validation Loss: 1.1540, Validation Macro-F1: 0.3707\n",
            "Epoch 49/160, Training Loss: 3.8908, Training Macro-F1: 0.4408, Validation Loss: 1.1351, Validation Macro-F1: 0.3795\n",
            "Epoch 50/160, Training Loss: 3.8266, Training Macro-F1: 0.4451, Validation Loss: 1.1198, Validation Macro-F1: 0.3894\n",
            "Epoch 51/160, Training Loss: 3.7657, Training Macro-F1: 0.4484, Validation Loss: 1.0878, Validation Macro-F1: 0.3912\n",
            "Epoch 52/160, Training Loss: 3.7256, Training Macro-F1: 0.4519, Validation Loss: 1.1824, Validation Macro-F1: 0.3765\n",
            "Epoch 53/160, Training Loss: 3.7356, Training Macro-F1: 0.4545, Validation Loss: 1.1380, Validation Macro-F1: 0.3966\n",
            "Epoch 54/160, Training Loss: 3.7079, Training Macro-F1: 0.4569, Validation Loss: 1.0561, Validation Macro-F1: 0.3912\n",
            "Epoch 55/160, Training Loss: 3.6197, Training Macro-F1: 0.4617, Validation Loss: 1.0889, Validation Macro-F1: 0.3968\n",
            "Epoch 56/160, Training Loss: 3.5626, Training Macro-F1: 0.4671, Validation Loss: 1.1026, Validation Macro-F1: 0.3908\n",
            "Epoch 57/160, Training Loss: 3.5367, Training Macro-F1: 0.4701, Validation Loss: 1.0861, Validation Macro-F1: 0.4057\n",
            "Epoch 58/160, Training Loss: 3.4991, Training Macro-F1: 0.4732, Validation Loss: 1.1679, Validation Macro-F1: 0.3972\n",
            "Epoch 59/160, Training Loss: 3.5238, Training Macro-F1: 0.4730, Validation Loss: 1.0840, Validation Macro-F1: 0.3977\n",
            "Epoch 60/160, Training Loss: 3.4047, Training Macro-F1: 0.4833, Validation Loss: 1.0888, Validation Macro-F1: 0.4041\n",
            "Epoch 61/160, Training Loss: 3.3685, Training Macro-F1: 0.4834, Validation Loss: 1.1276, Validation Macro-F1: 0.4067\n",
            "Epoch 62/160, Training Loss: 3.3511, Training Macro-F1: 0.4893, Validation Loss: 1.1121, Validation Macro-F1: 0.4111\n",
            "Epoch 63/160, Training Loss: 3.3146, Training Macro-F1: 0.4933, Validation Loss: 1.1100, Validation Macro-F1: 0.4100\n",
            "Epoch 64/160, Training Loss: 3.2952, Training Macro-F1: 0.4944, Validation Loss: 1.1407, Validation Macro-F1: 0.4105\n",
            "Epoch 65/160, Training Loss: 3.2319, Training Macro-F1: 0.5026, Validation Loss: 1.1189, Validation Macro-F1: 0.4087\n",
            "Epoch 66/160, Training Loss: 3.2043, Training Macro-F1: 0.5056, Validation Loss: 1.1507, Validation Macro-F1: 0.4096\n",
            "Epoch 67/160, Training Loss: 3.1984, Training Macro-F1: 0.5083, Validation Loss: 1.0973, Validation Macro-F1: 0.4162\n",
            "Epoch 68/160, Training Loss: 3.1957, Training Macro-F1: 0.5084, Validation Loss: 1.1910, Validation Macro-F1: 0.4126\n",
            "Epoch 69/160, Training Loss: 3.1255, Training Macro-F1: 0.5178, Validation Loss: 1.0976, Validation Macro-F1: 0.4165\n",
            "Epoch 70/160, Training Loss: 3.0677, Training Macro-F1: 0.5226, Validation Loss: 1.0848, Validation Macro-F1: 0.4146\n",
            "Epoch 71/160, Training Loss: 3.0403, Training Macro-F1: 0.5266, Validation Loss: 1.0822, Validation Macro-F1: 0.4194\n",
            "Epoch 72/160, Training Loss: 3.0648, Training Macro-F1: 0.5278, Validation Loss: 1.1897, Validation Macro-F1: 0.4056\n",
            "Epoch 73/160, Training Loss: 3.0078, Training Macro-F1: 0.5310, Validation Loss: 1.1054, Validation Macro-F1: 0.4250\n",
            "Epoch 74/160, Training Loss: 2.9590, Training Macro-F1: 0.5356, Validation Loss: 1.1198, Validation Macro-F1: 0.4247\n",
            "Epoch 75/160, Training Loss: 2.9388, Training Macro-F1: 0.5380, Validation Loss: 1.1313, Validation Macro-F1: 0.4230\n",
            "Epoch 76/160, Training Loss: 2.8793, Training Macro-F1: 0.5435, Validation Loss: 1.1809, Validation Macro-F1: 0.4238\n",
            "Epoch 77/160, Training Loss: 2.8710, Training Macro-F1: 0.5465, Validation Loss: 1.1540, Validation Macro-F1: 0.4265\n",
            "Epoch 78/160, Training Loss: 2.8265, Training Macro-F1: 0.5501, Validation Loss: 1.1860, Validation Macro-F1: 0.4260\n",
            "Epoch 79/160, Training Loss: 2.7908, Training Macro-F1: 0.5599, Validation Loss: 1.1636, Validation Macro-F1: 0.4246\n",
            "Epoch 80/160, Training Loss: 2.7685, Training Macro-F1: 0.5631, Validation Loss: 1.2291, Validation Macro-F1: 0.4341\n",
            "Epoch 81/160, Training Loss: 2.7230, Training Macro-F1: 0.5670, Validation Loss: 1.1679, Validation Macro-F1: 0.4220\n",
            "Epoch 82/160, Training Loss: 2.7099, Training Macro-F1: 0.5693, Validation Loss: 1.2484, Validation Macro-F1: 0.4256\n",
            "Epoch 83/160, Training Loss: 2.7206, Training Macro-F1: 0.5708, Validation Loss: 1.2199, Validation Macro-F1: 0.4247\n",
            "Epoch 84/160, Training Loss: 2.6781, Training Macro-F1: 0.5771, Validation Loss: 1.1101, Validation Macro-F1: 0.4271\n",
            "Epoch 85/160, Training Loss: 2.6427, Training Macro-F1: 0.5828, Validation Loss: 1.2846, Validation Macro-F1: 0.4237\n",
            "Epoch 86/160, Training Loss: 2.6110, Training Macro-F1: 0.5880, Validation Loss: 1.1947, Validation Macro-F1: 0.4305\n",
            "Epoch 87/160, Training Loss: 2.5635, Training Macro-F1: 0.5962, Validation Loss: 1.1500, Validation Macro-F1: 0.4295\n",
            "Epoch 88/160, Training Loss: 2.5433, Training Macro-F1: 0.5956, Validation Loss: 1.2299, Validation Macro-F1: 0.4434\n",
            "Epoch 89/160, Training Loss: 2.5377, Training Macro-F1: 0.6043, Validation Loss: 1.1972, Validation Macro-F1: 0.4439\n",
            "Epoch 90/160, Training Loss: 2.4800, Training Macro-F1: 0.6101, Validation Loss: 1.2590, Validation Macro-F1: 0.4391\n",
            "Epoch 91/160, Training Loss: 2.4459, Training Macro-F1: 0.6181, Validation Loss: 1.2025, Validation Macro-F1: 0.4282\n",
            "Epoch 92/160, Training Loss: 2.4417, Training Macro-F1: 0.6151, Validation Loss: 1.3162, Validation Macro-F1: 0.4349\n",
            "Epoch 93/160, Training Loss: 2.4257, Training Macro-F1: 0.6269, Validation Loss: 1.2397, Validation Macro-F1: 0.4383\n",
            "Epoch 94/160, Training Loss: 2.4422, Training Macro-F1: 0.6242, Validation Loss: 1.2720, Validation Macro-F1: 0.4396\n",
            "Epoch 95/160, Training Loss: 2.3536, Training Macro-F1: 0.6369, Validation Loss: 1.3781, Validation Macro-F1: 0.4438\n",
            "Epoch 96/160, Training Loss: 2.4869, Training Macro-F1: 0.6297, Validation Loss: 1.2189, Validation Macro-F1: 0.4430\n",
            "Epoch 97/160, Training Loss: 2.3767, Training Macro-F1: 0.6380, Validation Loss: 1.2571, Validation Macro-F1: 0.4475\n",
            "Epoch 98/160, Training Loss: 2.3143, Training Macro-F1: 0.6456, Validation Loss: 1.3471, Validation Macro-F1: 0.4415\n",
            "Epoch 99/160, Training Loss: 2.2561, Training Macro-F1: 0.6558, Validation Loss: 1.2795, Validation Macro-F1: 0.4510\n",
            "Epoch 100/160, Training Loss: 2.2179, Training Macro-F1: 0.6596, Validation Loss: 1.2585, Validation Macro-F1: 0.4472\n",
            "Epoch 101/160, Training Loss: 2.1972, Training Macro-F1: 0.6672, Validation Loss: 1.2453, Validation Macro-F1: 0.4513\n",
            "Epoch 102/160, Training Loss: 2.1868, Training Macro-F1: 0.6697, Validation Loss: 1.2803, Validation Macro-F1: 0.4544\n",
            "Epoch 103/160, Training Loss: 2.1558, Training Macro-F1: 0.6770, Validation Loss: 1.2988, Validation Macro-F1: 0.4584\n",
            "Epoch 104/160, Training Loss: 2.1107, Training Macro-F1: 0.6830, Validation Loss: 1.2505, Validation Macro-F1: 0.4639\n",
            "Epoch 105/160, Training Loss: 2.0996, Training Macro-F1: 0.6856, Validation Loss: 1.3101, Validation Macro-F1: 0.4596\n",
            "Epoch 106/160, Training Loss: 2.0928, Training Macro-F1: 0.6868, Validation Loss: 1.2940, Validation Macro-F1: 0.4546\n",
            "Epoch 107/160, Training Loss: 2.1110, Training Macro-F1: 0.6918, Validation Loss: 1.3203, Validation Macro-F1: 0.4611\n",
            "Epoch 108/160, Training Loss: 2.0903, Training Macro-F1: 0.6906, Validation Loss: 1.3244, Validation Macro-F1: 0.4644\n",
            "Epoch 109/160, Training Loss: 2.0076, Training Macro-F1: 0.7053, Validation Loss: 1.2656, Validation Macro-F1: 0.4629\n",
            "Epoch 110/160, Training Loss: 1.9857, Training Macro-F1: 0.7089, Validation Loss: 1.2482, Validation Macro-F1: 0.4689\n",
            "Epoch 111/160, Training Loss: 1.9690, Training Macro-F1: 0.7136, Validation Loss: 1.2986, Validation Macro-F1: 0.4631\n",
            "Epoch 112/160, Training Loss: 1.9475, Training Macro-F1: 0.7148, Validation Loss: 1.3989, Validation Macro-F1: 0.4600\n",
            "Epoch 113/160, Training Loss: 1.9183, Training Macro-F1: 0.7202, Validation Loss: 1.3340, Validation Macro-F1: 0.4602\n",
            "Epoch 114/160, Training Loss: 1.8868, Training Macro-F1: 0.7241, Validation Loss: 1.3443, Validation Macro-F1: 0.4661\n",
            "Epoch 115/160, Training Loss: 1.8912, Training Macro-F1: 0.7319, Validation Loss: 1.6274, Validation Macro-F1: 0.4435\n",
            "Epoch 116/160, Training Loss: 2.1486, Training Macro-F1: 0.6964, Validation Loss: 1.3627, Validation Macro-F1: 0.4594\n",
            "Epoch 117/160, Training Loss: 1.8930, Training Macro-F1: 0.7276, Validation Loss: 1.3125, Validation Macro-F1: 0.4661\n",
            "Epoch 118/160, Training Loss: 1.8223, Training Macro-F1: 0.7367, Validation Loss: 1.3842, Validation Macro-F1: 0.4594\n",
            "Epoch 119/160, Training Loss: 1.8019, Training Macro-F1: 0.7435, Validation Loss: 1.3226, Validation Macro-F1: 0.4673\n",
            "Epoch 120/160, Training Loss: 1.7642, Training Macro-F1: 0.7502, Validation Loss: 1.3274, Validation Macro-F1: 0.4606\n",
            "Epoch 121/160, Training Loss: 1.7463, Training Macro-F1: 0.7507, Validation Loss: 1.5139, Validation Macro-F1: 0.4647\n",
            "Epoch 122/160, Training Loss: 1.7414, Training Macro-F1: 0.7553, Validation Loss: 1.3658, Validation Macro-F1: 0.4664\n",
            "Epoch 123/160, Training Loss: 1.7175, Training Macro-F1: 0.7564, Validation Loss: 1.4100, Validation Macro-F1: 0.4642\n",
            "Epoch 124/160, Training Loss: 1.6999, Training Macro-F1: 0.7609, Validation Loss: 1.4408, Validation Macro-F1: 0.4629\n",
            "Epoch 125/160, Training Loss: 1.6935, Training Macro-F1: 0.7619, Validation Loss: 1.4231, Validation Macro-F1: 0.4653\n",
            "Epoch 126/160, Training Loss: 1.6890, Training Macro-F1: 0.7682, Validation Loss: 1.4442, Validation Macro-F1: 0.4603\n",
            "Epoch 127/160, Training Loss: 1.6350, Training Macro-F1: 0.7690, Validation Loss: 1.3694, Validation Macro-F1: 0.4663\n",
            "Epoch 128/160, Training Loss: 1.6056, Training Macro-F1: 0.7738, Validation Loss: 1.5045, Validation Macro-F1: 0.4627\n",
            "Epoch 129/160, Training Loss: 1.6644, Training Macro-F1: 0.7665, Validation Loss: 1.5363, Validation Macro-F1: 0.4617\n",
            "Epoch 130/160, Training Loss: 1.8028, Training Macro-F1: 0.7582, Validation Loss: 1.4883, Validation Macro-F1: 0.4514\n",
            "Epoch 131/160, Training Loss: 1.7287, Training Macro-F1: 0.7588, Validation Loss: 1.4569, Validation Macro-F1: 0.4638\n",
            "Epoch 132/160, Training Loss: 1.6109, Training Macro-F1: 0.7777, Validation Loss: 1.4477, Validation Macro-F1: 0.4627\n",
            "Epoch 133/160, Training Loss: 1.5665, Training Macro-F1: 0.7829, Validation Loss: 1.4888, Validation Macro-F1: 0.4673\n",
            "Epoch 134/160, Training Loss: 1.5222, Training Macro-F1: 0.7898, Validation Loss: 1.4419, Validation Macro-F1: 0.4627\n",
            "Epoch 135/160, Training Loss: 1.4868, Training Macro-F1: 0.7931, Validation Loss: 1.4221, Validation Macro-F1: 0.4606\n",
            "Epoch 136/160, Training Loss: 1.4798, Training Macro-F1: 0.7975, Validation Loss: 1.4044, Validation Macro-F1: 0.4598\n",
            "Epoch 137/160, Training Loss: 1.4440, Training Macro-F1: 0.8038, Validation Loss: 1.6025, Validation Macro-F1: 0.4622\n",
            "Epoch 138/160, Training Loss: 1.4253, Training Macro-F1: 0.8061, Validation Loss: 1.5640, Validation Macro-F1: 0.4554\n"
          ]
        }
      ],
      "source": [
        "num_epochs = 160\n",
        "predicted_labels1 = []\n",
        "for epoch in range(num_epochs):\n",
        "    model.train()\n",
        "    total_loss = 0\n",
        "    train_all_preds = []\n",
        "    train_all_labels = []\n",
        "    for text, labels in train_loader:\n",
        "        optimizer.zero_grad()\n",
        "        outputs = model(text)\n",
        "        loss = criterion(outputs.view(-1, output_size), labels.view(-1))\n",
        "        loss.backward()\n",
        "        optimizer.step()\n",
        "        total_loss += loss.item()\n",
        "\n",
        "        _, predicted = torch.max(outputs, 2)\n",
        "        train_all_preds.extend(predicted.view(-1).cpu().numpy().tolist())\n",
        "        predicted_labels1.extend(predicted.view(-1).cpu().numpy().tolist())\n",
        "        train_all_labels.extend(labels.view(-1).cpu().numpy().tolist())\n",
        "\n",
        "    val_loss = 0\n",
        "    val_all_preds = []\n",
        "    val_all_labels = []\n",
        "    with torch.no_grad():\n",
        "        model.eval()\n",
        "        for text, labels in val_loader:\n",
        "            outputs = model(text)\n",
        "            loss = criterion(outputs.view(-1, output_size), labels.view(-1))\n",
        "            val_loss += loss.item()\n",
        "\n",
        "\n",
        "            _, predicted = torch.max(outputs, 2)\n",
        "            val_all_preds.extend(predicted.view(-1).cpu().numpy().tolist())\n",
        "            val_all_labels.extend(labels.view(-1).cpu().numpy().tolist())\n",
        "\n",
        "    train_losses.append(total_loss / len(train_loader))\n",
        "    val_losses.append(val_loss / len(val_loader))\n",
        "    train_f1 = f1_score(train_all_labels, train_all_preds, average='macro')\n",
        "    val_f1 = f1_score(val_all_labels, val_all_preds, average='macro')\n",
        "    train_f1s.append(train_f1)\n",
        "    val_f1s.append(val_f1)\n",
        "\n",
        "    print(f\"Epoch {epoch+1}/{num_epochs}, Training Loss: {total_loss:.4f}, Training Macro-F1: {train_f1:.4f}, Validation Loss: {val_loss:.4f}, Validation Macro-F1: {val_f1:.4f}\")\n"
      ]
    },
    {
      "cell_type": "code",
      "execution_count": null,
      "metadata": {
        "id": "zlfSYzAneeK9"
      },
      "outputs": [],
      "source": [
        "# Specify the path to your JSON file\n",
        "json_file_path = 'NER_test_data.json'\n",
        "\n",
        "# Read the JSON file\n",
        "with open(json_file_path) as f:\n",
        "    test_data = json.load(f)\n"
      ]
    },
    {
      "cell_type": "code",
      "execution_count": null,
      "metadata": {
        "id": "a5S-YGSfeeK9"
      },
      "outputs": [],
      "source": [
        "X_test=[]\n",
        "y_test=[]\n",
        "\n",
        "for idx, word in enumerate(weight_model.index_to_key):\n",
        "    word_to_idx[word] = idx + 1\n",
        "# label_to_idx = {\"B\": 0, \"I\": 1, \"O\": 2}\n",
        "\n",
        "for key, value in test_data.items():\n",
        "    word = value['text'].split()\n",
        "    tags = value['labels']\n",
        "    sentence = value['text']\n",
        "    # if len(word) < max_len:\n",
        "    #     word += [''] * (max_len - len(word))\n",
        "    #     tags += ['O'] * (max_len - len(tags))\n",
        "    text_indices = []\n",
        "    for i in word:\n",
        "        index = word_to_idx.get(i, 0)\n",
        "        text_indices.append(index)\n",
        "    X_test.append(torch.tensor(text_indices))\n",
        "    y_test.append(torch.tensor([label_to_idx.get(label, -1) for label in tags if label in label_to_idx]))\n",
        "X_test = pad_sequence(X_test, batch_first=True, padding_value=0)\n",
        "y_test = pad_sequence(y_test, batch_first=True, padding_value=0)"
      ]
    },
    {
      "cell_type": "code",
      "execution_count": null,
      "metadata": {
        "id": "hx0Ir85ueeK-",
        "outputId": "deeaeea4-9944-4a96-c7f4-489c02436e5f"
      },
      "outputs": [
        {
          "name": "stdout",
          "output_type": "stream",
          "text": [
            "Test Loss: 0.2790, Test Macro-F1: 0.4493\n"
          ]
        },
        {
          "data": {
            "image/png": "[encoded data removed]",
            "text/plain": [
              "<Figure size 640x480 with 1 Axes>"
            ]
          },
          "metadata": {},
          "output_type": "display_data"
        },
        {
          "data": {
            "image/png": "[encoded data removed]",
            "text/plain": [
              "<Figure size 640x480 with 1 Axes>"
            ]
          },
          "metadata": {},
          "output_type": "display_data"
        }
      ],
      "source": [
        "def evaluate_model(model, dataloader, criterion, tagset_size):\n",
        "    model.eval()\n",
        "    total_loss = 0\n",
        "    all_preds = []\n",
        "    all_labels = []\n",
        "\n",
        "    with torch.no_grad():\n",
        "        for text, labels in dataloader:\n",
        "            outputs = model(text)\n",
        "            loss = criterion(outputs.view(-1, tagset_size), labels.view(-1))\n",
        "            total_loss += loss.item()\n",
        "\n",
        "            _, predicted = torch.max(outputs, 2)\n",
        "            all_preds.extend(predicted.view(-1).cpu().numpy().tolist())\n",
        "            all_labels.extend(labels.view(-1).cpu().numpy().tolist())\n",
        "\n",
        "    avg_loss = total_loss / len(dataloader)\n",
        "    macro_f1 = f1_score(all_labels, all_preds, average='macro')\n",
        "\n",
        "    return avg_loss, macro_f1\n",
        "# Evaluate on the test dataset\n",
        "test_dataset = TensorDataset(X_test, y_test)\n",
        "test_loader = DataLoader(test_dataset, batch_size=128, shuffle=True)  # Decrease batch size\n",
        "\n",
        "test_loss, test_f1 = evaluate_model(model, test_loader, criterion, output_size)\n",
        "print(f\"Test Loss: {test_loss:.4f}, Test Macro-F1: {test_f1:.4f}\")\n",
        "\n",
        "# Plot the training and validation loss\n",
        "def showresults():\n",
        "    plt.plot(train_losses, label='Training Loss')\n",
        "    plt.plot(val_losses, label='Validation Loss')\n",
        "    plt.legend()\n",
        "    # save the graph\n",
        "    plt.savefig('loss_NER_LSTM.png')\n",
        "    plt.show()\n",
        "\n",
        "    plt.plot(train_f1s, label='Training Macro-F1')\n",
        "    plt.plot(val_f1s, label='Validation Macro-F1')\n",
        "    plt.legend()\n",
        "    # save the graph\n",
        "    plt.savefig('f1_NER_LSTM.png')\n",
        "    plt.show()\n",
        "showresults()"
      ]
    },
    {
      "cell_type": "code",
      "execution_count": null,
      "metadata": {
        "id": "F8ydFEeZeeK-",
        "outputId": "842a3ecd-2cb9-4065-b10e-b697c2306ed7"
      },
      "outputs": [
        {
          "data": {
            "text/plain": [
              "<All keys matched successfully>"
            ]
          },
          "execution_count": 39,
          "metadata": {},
          "output_type": "execute_result"
        }
      ],
      "source": [
        "#  save the model\n",
        "torch.save(model.state_dict(), 'NER_LSTM.pth')\n",
        "\n",
        "#  load the model\n",
        "model = LSTM(embedding_dim, hidden_size, vocab_size, output_size, torch.FloatTensor(weight_model.vectors))\n",
        "model.load_state_dict(torch.load('NER_LSTM.pth'))"
      ]
    },
    {
      "cell_type": "markdown",
      "source": [
        "**GRU**"
      ],
      "metadata": {
        "id": "IviIl-J_on2O"
      }
    },
    {
      "cell_type": "code",
      "source": [],
      "metadata": {
        "id": "7It1HEHho6E8"
      },
      "execution_count": null,
      "outputs": []
    },
    {
      "cell_type": "code",
      "execution_count": null,
      "metadata": {
        "id": "8yHhcE_Ze4bV"
      },
      "outputs": [],
      "source": [
        "from gensim.models import KeyedVectors\n",
        "\n",
        "import torch\n",
        "\n",
        "import gensim.downloader as api\n",
        "import matplotlib.pyplot as plt\n",
        "from torch.nn.utils.rnn import pad_sequence"
      ]
    },
    {
      "cell_type": "code",
      "execution_count": null,
      "metadata": {
        "id": "JX9N50Lme4bW"
      },
      "outputs": [],
      "source": [
        "import torch.nn as nn\n",
        "import torch.optim as optim\n",
        "from torch.utils.data import  DataLoader, TensorDataset\n",
        "from sklearn.metrics import f1_score"
      ]
    },
    {
      "cell_type": "code",
      "execution_count": null,
      "metadata": {
        "id": "irW4aEswe4bX"
      },
      "outputs": [],
      "source": [
        "import json\n",
        "# Specify the path to your JSON file\n",
        "json_file_path = 'NER_training_data.json'\n",
        "\n",
        "# Read the JSON file\n",
        "with open(json_file_path) as f:\n",
        "    data = json.load(f)\n",
        "\n",
        "# data\n",
        "# print(len(data))\n",
        "\n",
        "# Specify the path to your JSON file\n",
        "json_file_path = 'NER_validation_data.json'\n",
        "\n",
        "# Read the JSON file\n",
        "with open(json_file_path) as f:\n",
        "    validation_data = json.load(f)\n",
        "\n"
      ]
    },
    {
      "cell_type": "code",
      "execution_count": null,
      "metadata": {
        "id": "xAU8ZWnxe4bY"
      },
      "outputs": [],
      "source": [
        "\n",
        "for key, value in data.items():\n",
        "    word = value['text'].split()\n",
        "    labels = value['labels']\n",
        "    new_labels = []\n",
        "    new_word = []\n",
        "    for i in range(len(word)):\n",
        "        if(word[i]==''):\n",
        "            print(word)\n",
        "            continue\n",
        "        # new_labels.append(labels[i])\n",
        "        new_word.append(word[i])\n",
        "    # value['labels'] = new_labels\n",
        "    value['word'] = new_word\n"
      ]
    },
    {
      "cell_type": "code",
      "execution_count": null,
      "metadata": {
        "id": "GWAgo3t-e4bY"
      },
      "outputs": [],
      "source": [
        "label_to_idx = {'O': 0, 'B_CASE_NUMBER': 1, 'I_CASE_NUMBER': 2, 'B_ORG': 3, 'I_ORG': 4, 'B_OTHER_PERSON': 5, 'I_OTHER_PERSON': 6,\n",
        "                    'B_STATUTE': 7, 'I_STATUTE': 8, 'B_PROVISION': 9, 'I_PROVISION': 10, 'B_COURT': 11, 'I_COURT': 12,\n",
        "                    'B_WITNESS': 13, 'I_WITNESS': 14, 'B_PRECEDENT': 15, 'I_PRECEDENT': 16, 'B_DATE': 17, 'I_DATE': 18,\n",
        "                    'B_PETITIONER': 19, 'I_PETITIONER': 20, 'B_GPE' : 21, 'I_GPE': 22, 'B_RESPONDENT': 23, 'I_RESPONDENT': 24,\n",
        "                    'B_COURT': 25, 'I_COURT': 26}"
      ]
    },
    {
      "cell_type": "code",
      "execution_count": null,
      "metadata": {
        "id": "Of3Z9-qIe4bY",
        "outputId": "d6637d58-f4e9-4a80-c653-563b78486d7a"
      },
      "outputs": [
        {
          "name": "stdout",
          "output_type": "stream",
          "text": [
            "torch.Size([7545, 70])\n"
          ]
        }
      ],
      "source": [
        "sentence_for_training = []\n",
        "tags_for_training = []\n",
        "X_train=[]\n",
        "y_train=[]\n",
        "\n",
        "word_to_idx={}\n",
        "for idx, word in enumerate(weight_model.index_to_key):\n",
        "    word_to_idx[word] = idx + 1\n",
        "# label_to_idx = {\"B\": 0, \"I\": 1, \"O\": 2}\n",
        "\n",
        "for key, value in data.items():\n",
        "    word = value['text'].split()\n",
        "    tags = value['labels']\n",
        "    sentence = value['text']\n",
        "    # if len(word) < max_len:\n",
        "    #     word += [''] * (max_len - len(word))\n",
        "    #     tags += ['O'] * (max_len - len(tags))\n",
        "    T_idx = []\n",
        "    for i in word:\n",
        "        index = word_to_idx.get(i, 0)\n",
        "        T_idx.append(index)\n",
        "    X_train.append(torch.tensor(T_idx))\n",
        "    y_train.append(torch.tensor([label_to_idx.get(label, -1) for label in tags if label in label_to_idx]))\n",
        "X_train = pad_sequence(X_train, batch_first=True, padding_value=0)\n",
        "y_train = pad_sequence(y_train, batch_first=True, padding_value=0)\n",
        "\n",
        "print(X_train.shape)"
      ]
    },
    {
      "cell_type": "code",
      "execution_count": null,
      "metadata": {
        "id": "ojZqNc82e4bY"
      },
      "outputs": [],
      "source": [
        "max_len=max([len(i) for i in X_train])\n",
        "X_validation=[]\n",
        "y_validation=[]\n",
        "\n",
        "word_to_idx={}\n",
        "# word_to_idx = {word: idx + 1 for idx, word in enumerate(word_vectors.index_to_key)}\n",
        "for idx, word in enumerate(weight_model.index_to_key):\n",
        "    word_to_idx[word] = idx + 1\n",
        "# label_to_idx = {\"B\": 0, \"I\": 1, \"O\": 2}\n",
        "\n",
        "for key, value in validation_data.items():\n",
        "    word = value['text'].split()\n",
        "    tags = value['labels']\n",
        "    sentence = value['text']\n",
        "    # if len(word) < max_len:\n",
        "    #     word += [''] * (max_len - len(word))\n",
        "    #     tags += ['O'] * (max_len - len(tags))\n",
        "    text_indices = []\n",
        "    for i in word:\n",
        "        index = word_to_idx.get(i, 0)\n",
        "        text_indices.append(index)\n",
        "    # text_indices = [word_to_idx.get(word, 0) for word in word]\n",
        "    X_validation.append(torch.tensor(text_indices))\n",
        "    y_validation.append(torch.tensor([label_to_idx.get(label, -1) for label in tags if label in label_to_idx]))\n",
        "X_validation = pad_sequence(X_validation, batch_first=True, padding_value=0)\n",
        "y_validation = pad_sequence(y_validation, batch_first=True, padding_value=0)"
      ]
    },
    {
      "cell_type": "code",
      "execution_count": null,
      "metadata": {
        "id": "wW6aIftSe4bZ"
      },
      "outputs": [],
      "source": [
        "class rnnTagger(nn.Module):\n",
        "    def __init__(self, embedding_dim, hidden_dim, vocab_size, tagset_size, word_embeddings):\n",
        "        super(rnnTagger, self).__init__()\n",
        "        self.embedding = nn.Embedding.from_pretrained(word_embeddings, freeze=True)\n",
        "        self.rnn = nn.RNN(embedding_dim, hidden_dim, batch_first=True)\n",
        "        self.linear = nn.Linear(hidden_dim, tagset_size)\n",
        "\n",
        "    def forward(self, sentence):\n",
        "        embedding = self.embedding(sentence)\n",
        "        rnn_out_embed, _ = self.rnn(embedding)\n",
        "        tag_space_rnn = self.linear(rnn_out_embed)\n",
        "        return tag_space_rnn"
      ]
    },
    {
      "cell_type": "code",
      "execution_count": null,
      "metadata": {
        "id": "Ispcr2Jne4bZ"
      },
      "outputs": [],
      "source": [
        "# Define hyperparameters\n",
        "input_size = len(word_to_idx) + 1  # Add 1 for padding token\n",
        "embedding_dim = weight_model.vector_size  # Should match the dimensionality of your word vectors\n",
        "hidden_size = 64\n",
        "vocab_size = len(weight_model.index_to_key)\n",
        "\n",
        "output_size = 27"
      ]
    },
    {
      "cell_type": "code",
      "execution_count": null,
      "metadata": {
        "id": "zLwWhMeae4bZ",
        "outputId": "97919332-b0be-4eeb-b5f9-4879f8703c79"
      },
      "outputs": [
        {
          "ename": "NameError",
          "evalue": "name 'RNNTagger' is not defined",
          "output_type": "error",
          "traceback": [
            "\u001b[1;31m---------------------------------------------------------------------------\u001b[0m",
            "\u001b[1;31mNameError\u001b[0m                                 Traceback (most recent call last)",
            "Cell \u001b[1;32mIn[11], line 1\u001b[0m\n\u001b[1;32m----> 1\u001b[0m model \u001b[38;5;241m=\u001b[39m \u001b[43mRNNTagger\u001b[49m(embedding_dim, hidden_size, vocab_size, output_size, torch\u001b[38;5;241m.\u001b[39mFloatTensor(weight_model\u001b[38;5;241m.\u001b[39mvectors))\n",
            "\u001b[1;31mNameError\u001b[0m: name 'RNNTagger' is not defined"
          ]
        }
      ],
      "source": [
        "model = rnnTagger(embedding_dim, hidden_size, vocab_size, output_size, torch.FloatTensor(weight_model.vectors))"
      ]
    },
    {
      "cell_type": "code",
      "execution_count": null,
      "metadata": {
        "id": "cJTwnTobe4ba",
        "outputId": "925cca83-d4f1-48d7-823f-b6096e756361"
      },
      "outputs": [
        {
          "name": "stderr",
          "output_type": "stream",
          "text": [
            "C:\\Users\\lenovo\\AppData\\Local\\Packages\\PythonSoftwareFoundation.Python.3.11_qbz5n2kfra8p0\\LocalCache\\local-packages\\Python311\\site-packages\\tqdm\\auto.py:21: TqdmWarning: IProgress not found. Please update jupyter and ipywidgets. See https://ipywidgets.readthedocs.io/en/stable/user_install.html\n",
            "  from .autonotebook import tqdm as notebook_tqdm\n"
          ]
        }
      ],
      "source": [
        "# Define loss function and optimizer\n",
        "criterion = nn.CrossEntropyLoss()\n",
        "optimizer = torch.optim.Adam(model.parameters(), lr=0.001)"
      ]
    },
    {
      "cell_type": "code",
      "execution_count": null,
      "metadata": {
        "id": "h-UrSV9qe4ba"
      },
      "outputs": [],
      "source": [
        "# Prepare data loaders\n",
        "train_dataset = TensorDataset(X_train, y_train)\n",
        "train_loader = DataLoader(train_dataset, batch_size=128, shuffle=True)  # Decrease batch size\n",
        "val_dataset = TensorDataset(X_validation, y_validation)\n",
        "val_loader = DataLoader(val_dataset, batch_size=128, shuffle=True)  # Decrease batch size"
      ]
    },
    {
      "cell_type": "code",
      "execution_count": null,
      "metadata": {
        "id": "YVIjt4Lme4ba"
      },
      "outputs": [],
      "source": [
        "# Train the model\n",
        "train_losses = []\n",
        "val_losses = []\n",
        "train_f1s = []\n",
        "val_f1s = []"
      ]
    },
    {
      "cell_type": "code",
      "execution_count": null,
      "metadata": {
        "id": "d0J4FZOme4ba",
        "outputId": "c19d9a7f-58b8-4cfa-c0dd-39dd4d964f05"
      },
      "outputs": [
        {
          "name": "stdout",
          "output_type": "stream",
          "text": [
            "Epoch 1/60, Training Loss: 73.4622, Validation Loss: 5.2877, Training Macro-F1: 0.0348, Validation Macro-F1: 0.0385\n",
            "Epoch 2/60, Training Loss: 27.8818, Validation Loss: 5.1541, Training Macro-F1: 0.0385, Validation Macro-F1: 0.0385\n",
            "Epoch 3/60, Training Loss: 27.2887, Validation Loss: 5.0513, Training Macro-F1: 0.0375, Validation Macro-F1: 0.0395\n",
            "Epoch 4/60, Training Loss: 26.5449, Validation Loss: 4.8503, Training Macro-F1: 0.0377, Validation Macro-F1: 0.0399\n",
            "Epoch 5/60, Training Loss: 24.6086, Validation Loss: 4.2819, Training Macro-F1: 0.0389, Validation Macro-F1: 0.0402\n",
            "Epoch 6/60, Training Loss: 21.7325, Validation Loss: 3.8872, Training Macro-F1: 0.0477, Validation Macro-F1: 0.0601\n",
            "Epoch 7/60, Training Loss: 19.9617, Validation Loss: 3.6367, Training Macro-F1: 0.0784, Validation Macro-F1: 0.0901\n",
            "Epoch 8/60, Training Loss: 18.7388, Validation Loss: 3.4751, Training Macro-F1: 0.1179, Validation Macro-F1: 0.1241\n",
            "Epoch 9/60, Training Loss: 17.7424, Validation Loss: 3.2991, Training Macro-F1: 0.1471, Validation Macro-F1: 0.1445\n",
            "Epoch 10/60, Training Loss: 16.9098, Validation Loss: 3.1482, Training Macro-F1: 0.1631, Validation Macro-F1: 0.1622\n",
            "Epoch 11/60, Training Loss: 16.1702, Validation Loss: 3.0120, Training Macro-F1: 0.1788, Validation Macro-F1: 0.1795\n",
            "Epoch 12/60, Training Loss: 15.5250, Validation Loss: 2.9593, Training Macro-F1: 0.1922, Validation Macro-F1: 0.1932\n",
            "Epoch 13/60, Training Loss: 14.9704, Validation Loss: 2.8580, Training Macro-F1: 0.2095, Validation Macro-F1: 0.2122\n",
            "Epoch 14/60, Training Loss: 14.3984, Validation Loss: 2.7434, Training Macro-F1: 0.2252, Validation Macro-F1: 0.2158\n",
            "Epoch 15/60, Training Loss: 13.9322, Validation Loss: 2.6581, Training Macro-F1: 0.2385, Validation Macro-F1: 0.2411\n",
            "Epoch 16/60, Training Loss: 13.4798, Validation Loss: 2.6388, Training Macro-F1: 0.2550, Validation Macro-F1: 0.2467\n",
            "Epoch 17/60, Training Loss: 13.0425, Validation Loss: 2.5400, Training Macro-F1: 0.2684, Validation Macro-F1: 0.2620\n",
            "Epoch 18/60, Training Loss: 12.6824, Validation Loss: 2.5052, Training Macro-F1: 0.2818, Validation Macro-F1: 0.2734\n",
            "Epoch 19/60, Training Loss: 12.3438, Validation Loss: 2.3953, Training Macro-F1: 0.2907, Validation Macro-F1: 0.2757\n",
            "Epoch 20/60, Training Loss: 12.0612, Validation Loss: 2.4465, Training Macro-F1: 0.2994, Validation Macro-F1: 0.2891\n",
            "Epoch 21/60, Training Loss: 11.8409, Validation Loss: 2.4385, Training Macro-F1: 0.3074, Validation Macro-F1: 0.2912\n",
            "Epoch 22/60, Training Loss: 11.5565, Validation Loss: 2.3603, Training Macro-F1: 0.3187, Validation Macro-F1: 0.2983\n",
            "Epoch 23/60, Training Loss: 11.3438, Validation Loss: 2.3685, Training Macro-F1: 0.3254, Validation Macro-F1: 0.2930\n",
            "Epoch 24/60, Training Loss: 11.2056, Validation Loss: 2.2966, Training Macro-F1: 0.3326, Validation Macro-F1: 0.3157\n",
            "Epoch 25/60, Training Loss: 10.9870, Validation Loss: 2.2405, Training Macro-F1: 0.3383, Validation Macro-F1: 0.3200\n",
            "Epoch 26/60, Training Loss: 10.8342, Validation Loss: 2.2295, Training Macro-F1: 0.3451, Validation Macro-F1: 0.3274\n",
            "Epoch 27/60, Training Loss: 10.6614, Validation Loss: 2.1916, Training Macro-F1: 0.3519, Validation Macro-F1: 0.3308\n",
            "Epoch 28/60, Training Loss: 10.4929, Validation Loss: 2.1778, Training Macro-F1: 0.3551, Validation Macro-F1: 0.3405\n",
            "Epoch 29/60, Training Loss: 10.3780, Validation Loss: 2.2067, Training Macro-F1: 0.3614, Validation Macro-F1: 0.3356\n",
            "Epoch 30/60, Training Loss: 10.2305, Validation Loss: 2.1665, Training Macro-F1: 0.3644, Validation Macro-F1: 0.3389\n",
            "Epoch 31/60, Training Loss: 10.0909, Validation Loss: 2.1129, Training Macro-F1: 0.3708, Validation Macro-F1: 0.3435\n",
            "Epoch 32/60, Training Loss: 9.9703, Validation Loss: 2.1363, Training Macro-F1: 0.3738, Validation Macro-F1: 0.3455\n",
            "Epoch 33/60, Training Loss: 9.9930, Validation Loss: 2.1673, Training Macro-F1: 0.3747, Validation Macro-F1: 0.3427\n",
            "Epoch 34/60, Training Loss: 9.7776, Validation Loss: 2.1388, Training Macro-F1: 0.3807, Validation Macro-F1: 0.3492\n",
            "Epoch 35/60, Training Loss: 9.7008, Validation Loss: 2.0871, Training Macro-F1: 0.3834, Validation Macro-F1: 0.3578\n",
            "Epoch 36/60, Training Loss: 9.5656, Validation Loss: 2.1418, Training Macro-F1: 0.3871, Validation Macro-F1: 0.3495\n",
            "Epoch 37/60, Training Loss: 9.4519, Validation Loss: 2.0403, Training Macro-F1: 0.3910, Validation Macro-F1: 0.3594\n",
            "Epoch 38/60, Training Loss: 9.4143, Validation Loss: 2.0300, Training Macro-F1: 0.3929, Validation Macro-F1: 0.3658\n",
            "Epoch 39/60, Training Loss: 9.2973, Validation Loss: 2.0602, Training Macro-F1: 0.3964, Validation Macro-F1: 0.3643\n",
            "Epoch 40/60, Training Loss: 9.1786, Validation Loss: 2.0956, Training Macro-F1: 0.4020, Validation Macro-F1: 0.3574\n",
            "Epoch 41/60, Training Loss: 9.0761, Validation Loss: 2.0581, Training Macro-F1: 0.4045, Validation Macro-F1: 0.3666\n",
            "Epoch 42/60, Training Loss: 9.0448, Validation Loss: 2.0410, Training Macro-F1: 0.4059, Validation Macro-F1: 0.3613\n",
            "Epoch 43/60, Training Loss: 9.5908, Validation Loss: 2.0726, Training Macro-F1: 0.3972, Validation Macro-F1: 0.3601\n",
            "Epoch 44/60, Training Loss: 9.0258, Validation Loss: 2.0194, Training Macro-F1: 0.4058, Validation Macro-F1: 0.3633\n",
            "Epoch 45/60, Training Loss: 8.8580, Validation Loss: 2.0383, Training Macro-F1: 0.4120, Validation Macro-F1: 0.3663\n",
            "Epoch 46/60, Training Loss: 8.7798, Validation Loss: 2.0479, Training Macro-F1: 0.4153, Validation Macro-F1: 0.3695\n",
            "Epoch 47/60, Training Loss: 8.7693, Validation Loss: 2.0034, Training Macro-F1: 0.4161, Validation Macro-F1: 0.3761\n",
            "Epoch 48/60, Training Loss: 8.6352, Validation Loss: 2.0243, Training Macro-F1: 0.4195, Validation Macro-F1: 0.3822\n",
            "Epoch 49/60, Training Loss: 8.5862, Validation Loss: 2.0026, Training Macro-F1: 0.4211, Validation Macro-F1: 0.3814\n",
            "Epoch 50/60, Training Loss: 8.5197, Validation Loss: 2.0182, Training Macro-F1: 0.4246, Validation Macro-F1: 0.3852\n",
            "Epoch 51/60, Training Loss: 8.4379, Validation Loss: 1.9982, Training Macro-F1: 0.4266, Validation Macro-F1: 0.3825\n",
            "Epoch 52/60, Training Loss: 8.3945, Validation Loss: 2.0628, Training Macro-F1: 0.4296, Validation Macro-F1: 0.3773\n",
            "Epoch 53/60, Training Loss: 8.3490, Validation Loss: 1.9803, Training Macro-F1: 0.4319, Validation Macro-F1: 0.3842\n",
            "Epoch 54/60, Training Loss: 8.2915, Validation Loss: 1.9518, Training Macro-F1: 0.4342, Validation Macro-F1: 0.3913\n",
            "Epoch 55/60, Training Loss: 8.2214, Validation Loss: 2.0319, Training Macro-F1: 0.4380, Validation Macro-F1: 0.3740\n",
            "Epoch 56/60, Training Loss: 8.1948, Validation Loss: 1.9864, Training Macro-F1: 0.4365, Validation Macro-F1: 0.3914\n",
            "Epoch 57/60, Training Loss: 8.0921, Validation Loss: 1.9871, Training Macro-F1: 0.4421, Validation Macro-F1: 0.3922\n",
            "Epoch 58/60, Training Loss: 8.1366, Validation Loss: 1.9694, Training Macro-F1: 0.4418, Validation Macro-F1: 0.3867\n",
            "Epoch 59/60, Training Loss: 8.0340, Validation Loss: 1.9785, Training Macro-F1: 0.4453, Validation Macro-F1: 0.3917\n",
            "Epoch 60/60, Training Loss: 7.9629, Validation Loss: 2.0014, Training Macro-F1: 0.4496, Validation Macro-F1: 0.3932\n"
          ]
        }
      ],
      "source": [
        "num_epochs = 160\n",
        "predicted_labels1 = []\n",
        "for epoch in range(num_epochs):\n",
        "    model.train()\n",
        "    total_loss = 0\n",
        "    train_all_preds = []\n",
        "    train_all_labels = []\n",
        "    for text, labels in train_loader:\n",
        "        optimizer.zero_grad()\n",
        "        outputs = model(text)\n",
        "        loss = criterion(outputs.view(-1, output_size), labels.view(-1))\n",
        "        loss.backward()\n",
        "        optimizer.step()\n",
        "        total_loss += loss.item()\n",
        "\n",
        "        _, predicted = torch.max(outputs, 2)\n",
        "        train_all_preds.extend(predicted.view(-1).cpu().numpy().tolist())\n",
        "        predicted_labels1.extend(predicted.view(-1).cpu().numpy().tolist())\n",
        "        train_all_labels.extend(labels.view(-1).cpu().numpy().tolist())\n",
        "\n",
        "    val_loss = 0\n",
        "    val_all_preds = []\n",
        "    val_all_labels = []\n",
        "    with torch.no_grad():\n",
        "        model.eval()\n",
        "        for text, labels in val_loader:\n",
        "            outputs = model(text)\n",
        "            loss = criterion(outputs.view(-1, output_size), labels.view(-1))\n",
        "            val_loss += loss.item()\n",
        "\n",
        "\n",
        "            _, predicted = torch.max(outputs, 2)\n",
        "            val_all_preds.extend(predicted.view(-1).cpu().numpy().tolist())\n",
        "            val_all_labels.extend(labels.view(-1).cpu().numpy().tolist())\n",
        "\n",
        "    train_losses.append(total_loss / len(train_loader))\n",
        "    val_losses.append(val_loss / len(val_loader))\n",
        "    train_f1 = f1_score(train_all_labels, train_all_preds, average='macro')\n",
        "    val_f1 = f1_score(val_all_labels, val_all_preds, average='macro')\n",
        "    train_f1s.append(train_f1)\n",
        "    val_f1s.append(val_f1)\n",
        "\n",
        "    print(f\"Epoch {epoch+1}/{num_epochs}, Training Loss: {total_loss:.4f}, Training Macro-F1: {train_f1:.4f}, Validation Loss: {val_loss:.4f}, Validation Macro-F1: {val_f1:.4f}\")\n"
      ]
    },
    {
      "cell_type": "code",
      "execution_count": null,
      "metadata": {
        "id": "ML67HQkze4bb"
      },
      "outputs": [],
      "source": [
        "# Specify the path to your JSON file\n",
        "json_file_path = 'NER_test_data.json'\n",
        "\n",
        "# Read the JSON file\n",
        "with open(json_file_path) as f:\n",
        "    test_data = json.load(f)\n"
      ]
    },
    {
      "cell_type": "code",
      "execution_count": null,
      "metadata": {
        "id": "PtBzJJu7e4bb"
      },
      "outputs": [],
      "source": [
        "X_test=[]\n",
        "y_test=[]\n",
        "\n",
        "for idx, word in enumerate(weight_model.index_to_key):\n",
        "    word_to_idx[word] = idx + 1\n",
        "# label_to_idx = {\"B\": 0, \"I\": 1, \"O\": 2}\n",
        "\n",
        "for key, value in test_data.items():\n",
        "    word = value['text'].split()\n",
        "    tags = value['labels']\n",
        "    sentence = value['text']\n",
        "    # if len(word) < max_len:\n",
        "    #     word += [''] * (max_len - len(word))\n",
        "    #     tags += ['O'] * (max_len - len(tags))\n",
        "    text_indices = []\n",
        "    for i in word:\n",
        "        index = word_to_idx.get(i, 0)\n",
        "        text_indices.append(index)\n",
        "    X_test.append(torch.tensor(text_indices))\n",
        "    y_test.append(torch.tensor([label_to_idx.get(label, -1) for label in tags if label in label_to_idx]))\n",
        "X_test = pad_sequence(X_test, batch_first=True, padding_value=0)\n",
        "y_test = pad_sequence(y_test, batch_first=True, padding_value=0)"
      ]
    },
    {
      "cell_type": "code",
      "execution_count": null,
      "metadata": {
        "id": "8L2sC86Je4bb",
        "outputId": "f815180b-f3f1-4072-de44-85d3f26e1a6d"
      },
      "outputs": [
        {
          "ename": "NameError",
          "evalue": "name 'X_test' is not defined",
          "output_type": "error",
          "traceback": [
            "\u001b[1;31m---------------------------------------------------------------------------\u001b[0m",
            "\u001b[1;31mNameError\u001b[0m                                 Traceback (most recent call last)",
            "Cell \u001b[1;32mIn[12], line 22\u001b[0m\n\u001b[0;32m     20\u001b[0m     \u001b[38;5;28;01mreturn\u001b[39;00m avg_loss, macro_f1\n\u001b[0;32m     21\u001b[0m \u001b[38;5;66;03m# Evaluate on the test dataset\u001b[39;00m\n\u001b[1;32m---> 22\u001b[0m test_dataset \u001b[38;5;241m=\u001b[39m TensorDataset(\u001b[43mX_test\u001b[49m, y_test)\n\u001b[0;32m     23\u001b[0m test_loader \u001b[38;5;241m=\u001b[39m DataLoader(test_dataset, batch_size\u001b[38;5;241m=\u001b[39m\u001b[38;5;241m128\u001b[39m, shuffle\u001b[38;5;241m=\u001b[39m\u001b[38;5;28;01mTrue\u001b[39;00m)  \u001b[38;5;66;03m# Decrease batch size\u001b[39;00m\n\u001b[0;32m     25\u001b[0m test_loss, test_f1 \u001b[38;5;241m=\u001b[39m evaluate_model(model, test_loader, criterion, output_size)\n",
            "\u001b[1;31mNameError\u001b[0m: name 'X_test' is not defined"
          ]
        }
      ],
      "source": [
        "def evaluate_model(model, dataloader, criterion, tagset_size):\n",
        "    model.eval()\n",
        "    total_loss = 0\n",
        "    all_preds = []\n",
        "    all_labels = []\n",
        "\n",
        "    with torch.no_grad():\n",
        "        for text, labels in dataloader:\n",
        "            outputs = model(text)\n",
        "            loss = criterion(outputs.view(-1, tagset_size), labels.view(-1))\n",
        "            total_loss += loss.item()\n",
        "\n",
        "            _, predicted = torch.max(outputs, 2)\n",
        "            all_preds.extend(predicted.view(-1).cpu().numpy().tolist())\n",
        "            all_labels.extend(labels.view(-1).cpu().numpy().tolist())\n",
        "\n",
        "    avg_loss = total_loss / len(dataloader)\n",
        "    macro_f1 = f1_score(all_labels, all_preds, average='macro')\n",
        "\n",
        "    return avg_loss, macro_f1\n",
        "# Evaluate on the test dataset\n",
        "test_dataset = TensorDataset(X_test, y_test)\n",
        "test_loader = DataLoader(test_dataset, batch_size=128, shuffle=True)  # Decrease batch size\n",
        "\n",
        "test_loss, test_f1 = evaluate_model(model, test_loader, criterion, output_size)\n",
        "print(f\"Test Loss: {test_loss:.4f}, Test Macro-F1: {test_f1:.4f}\")\n",
        "\n",
        "\n",
        "# Plot the training and validation loss\n",
        "def showresults():\n",
        "    plt.plot(train_losses, label='Training Loss')\n",
        "    plt.plot(val_losses, label='Validation Loss')\n",
        "    plt.legend()\n",
        "    # save the graph\n",
        "    plt.savefig('loss_NER_RNN.png')\n",
        "    plt.show()\n",
        "\n",
        "    plt.plot(train_f1s, label='Training Macro-F1')\n",
        "    plt.plot(val_f1s, label='Validation Macro-F1')\n",
        "    plt.legend()\n",
        "    # save the graph\n",
        "    plt.savefig('f1_NER_RNN.png')\n",
        "    plt.show()\n",
        "showresults()"
      ]
    }
  ],
  "metadata": {
    "kernelspec": {
      "display_name": "Python 3",
      "language": "python",
      "name": "python3"
    },
    "language_info": {
      "codemirror_mode": {
        "name": "ipython",
        "version": 3
      },
      "file_extension": ".py",
      "mimetype": "text/x-python",
      "name": "python",
      "nbconvert_exporter": "python",
      "pygments_lexer": "ipython3",
      "version": "3.11.2"
    },
    "colab": {
      "provenance": []
    }
  },
  "nbformat": 4,
  "nbformat_minor": 0
}