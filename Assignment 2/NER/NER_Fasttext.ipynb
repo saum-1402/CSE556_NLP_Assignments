{
  "cells": [
    {
      "cell_type": "code",
      "execution_count": 9,
      "metadata": {
        "colab": {
          "base_uri": "https://localhost:8080/"
        },
        "id": "OSuvVks5Xs4S",
        "outputId": "9274f161-ba04-422c-fe71-d6d3371d73cb"
      },
      "outputs": [],
      "source": [
        "import gensim.downloader as api\n",
        "\n",
        "# Load the model using gensim.downloader\n",
        "weight_model = api.load(\"fasttext-wiki-news-subwords-300\")"
      ]
    },
    {
      "cell_type": "code",
      "execution_count": 50,
      "metadata": {
        "id": "zZREDtApWn3X"
      },
      "outputs": [],
      "source": [
        "from gensim.models import KeyedVectors\n",
        "\n",
        "import torch\n",
        "\n",
        "import gensim.downloader as api\n",
        "import matplotlib.pyplot as plt\n",
        "from torch.nn.utils.rnn import pad_sequence"
      ]
    },
    {
      "cell_type": "code",
      "execution_count": 51,
      "metadata": {
        "id": "YaOQVyJ2Wn3Z"
      },
      "outputs": [],
      "source": [
        "import torch.nn as nn\n",
        "import torch.optim as optim\n",
        "from torch.utils.data import  DataLoader, TensorDataset\n",
        "from sklearn.metrics import f1_score"
      ]
    },
    {
      "cell_type": "code",
      "execution_count": 52,
      "metadata": {
        "id": "j9dZhv7-Wn3Z"
      },
      "outputs": [],
      "source": [
        "# weight_model = KeyedVectors.load_word2vec_format('GoogleNews-vectors-negative300.bin', binary=True)"
      ]
    },
    {
      "cell_type": "code",
      "execution_count": 53,
      "metadata": {
        "id": "Ajq_NPaaWn3Z"
      },
      "outputs": [],
      "source": [
        "import json\n",
        "# Specify the path to your JSON file\n",
        "json_file_path = 'NER_training_data.json'\n",
        "\n",
        "# Read the JSON file\n",
        "with open(json_file_path) as f:\n",
        "    data = json.load(f)\n",
        "\n",
        "# data\n",
        "# print(len(data))\n",
        "\n",
        "# Specify the path to your JSON file\n",
        "json_file_path = 'NER_validation_data.json'\n",
        "\n",
        "# Read the JSON file\n",
        "with open(json_file_path) as f:\n",
        "    validation_data = json.load(f)\n",
        "\n"
      ]
    },
    {
      "cell_type": "code",
      "execution_count": 54,
      "metadata": {
        "id": "FENI-JTQWn3a"
      },
      "outputs": [],
      "source": [
        "\n",
        "for key, value in data.items():\n",
        "    word = value['text'].split()\n",
        "    labels = value['labels']\n",
        "    new_labels = []\n",
        "    new_word = []\n",
        "    for i in range(len(word)):\n",
        "        if(word[i]==''):\n",
        "            print(word)\n",
        "            continue\n",
        "        # new_labels.append(labels[i])\n",
        "        new_word.append(word[i])\n",
        "    # value['labels'] = new_labels\n",
        "    value['word'] = new_word\n"
      ]
    },
    {
      "cell_type": "code",
      "execution_count": 55,
      "metadata": {
        "id": "bRt8pPqLWn3a"
      },
      "outputs": [],
      "source": [
        "label_to_idx = {'O': 0, 'B_CASE_NUMBER': 1, 'I_CASE_NUMBER': 2, 'B_ORG': 3, 'I_ORG': 4, 'B_OTHER_PERSON': 5, 'I_OTHER_PERSON': 6,\n",
        "                    'B_STATUTE': 7, 'I_STATUTE': 8, 'B_PROVISION': 9, 'I_PROVISION': 10, 'B_COURT': 11, 'I_COURT': 12,\n",
        "                    'B_WITNESS': 13, 'I_WITNESS': 14, 'B_PRECEDENT': 15, 'I_PRECEDENT': 16, 'B_DATE': 17, 'I_DATE': 18,\n",
        "                    'B_PETITIONER': 19, 'I_PETITIONER': 20, 'B_GPE' : 21, 'I_GPE': 22, 'B_RESPONDENT': 23, 'I_RESPONDENT': 24,\n",
        "                    'B_COURT': 25, 'I_COURT': 26}"
      ]
    },
    {
      "cell_type": "code",
      "execution_count": 56,
      "metadata": {
        "colab": {
          "base_uri": "https://localhost:8080/"
        },
        "id": "eXkLXeKKWn3a",
        "outputId": "5a8bd9a2-3eea-4175-ebab-a08b726b6265"
      },
      "outputs": [
        {
          "name": "stdout",
          "output_type": "stream",
          "text": [
            "torch.Size([7545, 70])\n"
          ]
        }
      ],
      "source": [
        "sentence_for_training = []\n",
        "tags_for_training = []\n",
        "X_train=[]\n",
        "y_train=[]\n",
        "\n",
        "word_to_idx={}\n",
        "for idx, word in enumerate(weight_model.index_to_key):\n",
        "    word_to_idx[word] = idx + 1\n",
        "# label_to_idx = {\"B\": 0, \"I\": 1, \"O\": 2}\n",
        "\n",
        "for key, value in data.items():\n",
        "    word = value['text'].split()\n",
        "    tags = value['labels']\n",
        "    sentence = value['text']\n",
        "    # if len(word) < max_len:\n",
        "    #     word += [''] * (max_len - len(word))\n",
        "    #     tags += ['O'] * (max_len - len(tags))\n",
        "    T_idx = []\n",
        "    for i in word:\n",
        "        index = word_to_idx.get(i, 0)\n",
        "        T_idx.append(index)\n",
        "    X_train.append(torch.tensor(T_idx))\n",
        "    y_train.append(torch.tensor([label_to_idx.get(label, -1) for label in tags if label in label_to_idx]))\n",
        "X_train = pad_sequence(X_train, batch_first=True, padding_value=0)\n",
        "y_train = pad_sequence(y_train, batch_first=True, padding_value=0)\n",
        "\n",
        "print(X_train.shape)"
      ]
    },
    {
      "cell_type": "code",
      "execution_count": 57,
      "metadata": {
        "id": "GjJOLuT7Wn3a"
      },
      "outputs": [],
      "source": [
        "max_len=max([len(i) for i in X_train])\n",
        "X_validation=[]\n",
        "y_validation=[]\n",
        "\n",
        "word_to_idx={}\n",
        "# word_to_idx = {word: idx + 1 for idx, word in enumerate(word_vectors.index_to_key)}\n",
        "for idx, word in enumerate(weight_model.index_to_key):\n",
        "    word_to_idx[word] = idx + 1\n",
        "# label_to_idx = {\"B\": 0, \"I\": 1, \"O\": 2}\n",
        "\n",
        "for key, value in validation_data.items():\n",
        "    word = value['text'].split()\n",
        "    tags = value['labels']\n",
        "    sentence = value['text']\n",
        "    # if len(word) < max_len:\n",
        "    #     word += [''] * (max_len - len(word))\n",
        "    #     tags += ['O'] * (max_len - len(tags))\n",
        "    text_indices = []\n",
        "    for i in word:\n",
        "        index = word_to_idx.get(i, 0)\n",
        "        text_indices.append(index)\n",
        "    # text_indices = [word_to_idx.get(word, 0) for word in word]\n",
        "    X_validation.append(torch.tensor(text_indices))\n",
        "    y_validation.append(torch.tensor([label_to_idx.get(label, -1) for label in tags if label in label_to_idx]))\n",
        "X_validation = pad_sequence(X_validation, batch_first=True, padding_value=0)\n",
        "y_validation = pad_sequence(y_validation, batch_first=True, padding_value=0)"
      ]
    },
    {
      "cell_type": "code",
      "execution_count": 58,
      "metadata": {
        "id": "nUXqTf4TWn3b"
      },
      "outputs": [],
      "source": [
        "class rnnTagger(nn.Module):\n",
        "    def __init__(self, embedding_dim, hidden_dim, vocab_size, tagset_size, word_embeddings):\n",
        "        super(rnnTagger, self).__init__()\n",
        "        self.embedding = nn.Embedding.from_pretrained(word_embeddings, freeze=True)\n",
        "        self.rnn = nn.RNN(embedding_dim, hidden_dim, batch_first=True)\n",
        "        self.linear = nn.Linear(hidden_dim, tagset_size)\n",
        "\n",
        "    def forward(self, sentence):\n",
        "        embedding = self.embedding(sentence)\n",
        "        rnn_out_embed, _ = self.rnn(embedding)\n",
        "        tag_space_rnn = self.linear(rnn_out_embed)\n",
        "        return tag_space_rnn"
      ]
    },
    {
      "cell_type": "code",
      "execution_count": 59,
      "metadata": {
        "id": "Rfjxav5eWn3b"
      },
      "outputs": [],
      "source": [
        "# Define hyperparameters\n",
        "input_size = len(word_to_idx) + 1  # Add 1 for padding token\n",
        "embedding_dim = weight_model.vector_size  # Should match the dimensionality of your word vectors\n",
        "hidden_size = 64\n",
        "vocab_size = len(weight_model.index_to_key)\n",
        "\n",
        "output_size = 27"
      ]
    },
    {
      "cell_type": "code",
      "execution_count": 60,
      "metadata": {
        "id": "EF3ULoVwWn3b"
      },
      "outputs": [],
      "source": [
        "model = rnnTagger(embedding_dim, hidden_size, vocab_size, output_size, torch.FloatTensor(weight_model.vectors))"
      ]
    },
    {
      "cell_type": "code",
      "execution_count": 61,
      "metadata": {
        "id": "sozOXvXiWn3b"
      },
      "outputs": [],
      "source": [
        "# Define loss function and optimizer\n",
        "criterion = nn.CrossEntropyLoss()\n",
        "optimizer = torch.optim.Adam(model.parameters(), lr=0.001)"
      ]
    },
    {
      "cell_type": "code",
      "execution_count": 62,
      "metadata": {
        "id": "UZdOK0PRWn3b"
      },
      "outputs": [],
      "source": [
        "# Prepare data loaders\n",
        "train_dataset = TensorDataset(X_train, y_train)\n",
        "train_loader = DataLoader(train_dataset, batch_size=128, shuffle=True)  # Decrease batch size\n",
        "val_dataset = TensorDataset(X_validation, y_validation)\n",
        "val_loader = DataLoader(val_dataset, batch_size=128, shuffle=True)  # Decrease batch size"
      ]
    },
    {
      "cell_type": "code",
      "execution_count": 63,
      "metadata": {
        "id": "qgulX5CXWn3c"
      },
      "outputs": [],
      "source": [
        "# Train the model\n",
        "train_losses = []\n",
        "val_losses = []\n",
        "train_f1s = []\n",
        "val_f1s = []"
      ]
    },
    {
      "cell_type": "code",
      "execution_count": 64,
      "metadata": {
        "colab": {
          "base_uri": "https://localhost:8080/"
        },
        "id": "A5pCQiPNWn3c",
        "outputId": "112cbd76-1d61-488a-ce4c-b53198431e19"
      },
      "outputs": [
        {
          "name": "stdout",
          "output_type": "stream",
          "text": [
            "Epoch 1/100, Training Loss: 65.0085, Training Macro-F1: 0.0380, Validation Loss: 5.4590, Validation Macro-F1: 0.0385\n",
            "Epoch 2/100, Training Loss: 28.5028, Training Macro-F1: 0.0385, Validation Loss: 5.2356, Validation Macro-F1: 0.0385\n",
            "Epoch 3/100, Training Loss: 27.8484, Training Macro-F1: 0.0385, Validation Loss: 5.1334, Validation Macro-F1: 0.0385\n",
            "Epoch 4/100, Training Loss: 27.1050, Training Macro-F1: 0.0385, Validation Loss: 4.9553, Validation Macro-F1: 0.0385\n",
            "Epoch 5/100, Training Loss: 25.7205, Training Macro-F1: 0.0385, Validation Loss: 4.6739, Validation Macro-F1: 0.0385\n",
            "Epoch 6/100, Training Loss: 24.1849, Training Macro-F1: 0.0385, Validation Loss: 4.4798, Validation Macro-F1: 0.0385\n",
            "Epoch 7/100, Training Loss: 22.7634, Training Macro-F1: 0.0395, Validation Loss: 4.0707, Validation Macro-F1: 0.0412\n",
            "Epoch 8/100, Training Loss: 21.3560, Training Macro-F1: 0.0461, Validation Loss: 3.8985, Validation Macro-F1: 0.0470\n",
            "Epoch 9/100, Training Loss: 20.4011, Training Macro-F1: 0.0542, Validation Loss: 3.7401, Validation Macro-F1: 0.0567\n",
            "Epoch 10/100, Training Loss: 19.6260, Training Macro-F1: 0.0608, Validation Loss: 3.6257, Validation Macro-F1: 0.0692\n",
            "Epoch 11/100, Training Loss: 19.0008, Training Macro-F1: 0.0733, Validation Loss: 3.5228, Validation Macro-F1: 0.0755\n",
            "Epoch 12/100, Training Loss: 18.4329, Training Macro-F1: 0.0835, Validation Loss: 3.4696, Validation Macro-F1: 0.0892\n",
            "Epoch 13/100, Training Loss: 17.9710, Training Macro-F1: 0.0944, Validation Loss: 3.2964, Validation Macro-F1: 0.1002\n",
            "Epoch 14/100, Training Loss: 17.3817, Training Macro-F1: 0.1025, Validation Loss: 3.2591, Validation Macro-F1: 0.1056\n",
            "Epoch 15/100, Training Loss: 16.9509, Training Macro-F1: 0.1100, Validation Loss: 3.2200, Validation Macro-F1: 0.1136\n",
            "Epoch 16/100, Training Loss: 16.6160, Training Macro-F1: 0.1194, Validation Loss: 3.0831, Validation Macro-F1: 0.1208\n",
            "Epoch 17/100, Training Loss: 16.1049, Training Macro-F1: 0.1290, Validation Loss: 3.0816, Validation Macro-F1: 0.1282\n",
            "Epoch 18/100, Training Loss: 15.7027, Training Macro-F1: 0.1372, Validation Loss: 2.9840, Validation Macro-F1: 0.1357\n",
            "Epoch 19/100, Training Loss: 15.3038, Training Macro-F1: 0.1490, Validation Loss: 2.8704, Validation Macro-F1: 0.1501\n",
            "Epoch 20/100, Training Loss: 14.9454, Training Macro-F1: 0.1669, Validation Loss: 2.7847, Validation Macro-F1: 0.1503\n",
            "Epoch 21/100, Training Loss: 14.5404, Training Macro-F1: 0.1846, Validation Loss: 2.8108, Validation Macro-F1: 0.1844\n",
            "Epoch 22/100, Training Loss: 14.2391, Training Macro-F1: 0.2016, Validation Loss: 2.7266, Validation Macro-F1: 0.1966\n",
            "Epoch 23/100, Training Loss: 13.9760, Training Macro-F1: 0.2137, Validation Loss: 2.6855, Validation Macro-F1: 0.2064\n",
            "Epoch 24/100, Training Loss: 13.7819, Training Macro-F1: 0.2248, Validation Loss: 2.6902, Validation Macro-F1: 0.2158\n",
            "Epoch 25/100, Training Loss: 13.5522, Training Macro-F1: 0.2340, Validation Loss: 2.6088, Validation Macro-F1: 0.2347\n",
            "Epoch 26/100, Training Loss: 13.3247, Training Macro-F1: 0.2435, Validation Loss: 2.6027, Validation Macro-F1: 0.2278\n",
            "Epoch 27/100, Training Loss: 13.0447, Training Macro-F1: 0.2518, Validation Loss: 2.5551, Validation Macro-F1: 0.2421\n",
            "Epoch 28/100, Training Loss: 12.8537, Training Macro-F1: 0.2618, Validation Loss: 2.4846, Validation Macro-F1: 0.2503\n",
            "Epoch 29/100, Training Loss: 12.6454, Training Macro-F1: 0.2670, Validation Loss: 2.4813, Validation Macro-F1: 0.2536\n",
            "Epoch 30/100, Training Loss: 12.4984, Training Macro-F1: 0.2748, Validation Loss: 2.4401, Validation Macro-F1: 0.2467\n",
            "Epoch 31/100, Training Loss: 12.3399, Training Macro-F1: 0.2819, Validation Loss: 2.4778, Validation Macro-F1: 0.2639\n",
            "Epoch 32/100, Training Loss: 12.2739, Training Macro-F1: 0.2874, Validation Loss: 2.5410, Validation Macro-F1: 0.2588\n",
            "Epoch 33/100, Training Loss: 12.0970, Training Macro-F1: 0.2958, Validation Loss: 2.4159, Validation Macro-F1: 0.2813\n",
            "Epoch 34/100, Training Loss: 11.9364, Training Macro-F1: 0.2996, Validation Loss: 2.3839, Validation Macro-F1: 0.2799\n",
            "Epoch 35/100, Training Loss: 11.8071, Training Macro-F1: 0.3043, Validation Loss: 2.3822, Validation Macro-F1: 0.2797\n",
            "Epoch 36/100, Training Loss: 11.6362, Training Macro-F1: 0.3115, Validation Loss: 2.3656, Validation Macro-F1: 0.2929\n",
            "Epoch 37/100, Training Loss: 11.5592, Training Macro-F1: 0.3143, Validation Loss: 2.3575, Validation Macro-F1: 0.3052\n",
            "Epoch 38/100, Training Loss: 11.4620, Training Macro-F1: 0.3186, Validation Loss: 2.2953, Validation Macro-F1: 0.2842\n",
            "Epoch 39/100, Training Loss: 11.4053, Training Macro-F1: 0.3214, Validation Loss: 2.3234, Validation Macro-F1: 0.2991\n",
            "Epoch 40/100, Training Loss: 11.2612, Training Macro-F1: 0.3269, Validation Loss: 2.2469, Validation Macro-F1: 0.3008\n",
            "Epoch 41/100, Training Loss: 11.1452, Training Macro-F1: 0.3300, Validation Loss: 2.2032, Validation Macro-F1: 0.3127\n",
            "Epoch 42/100, Training Loss: 10.9906, Training Macro-F1: 0.3347, Validation Loss: 2.2352, Validation Macro-F1: 0.3139\n",
            "Epoch 43/100, Training Loss: 10.9257, Training Macro-F1: 0.3369, Validation Loss: 2.2538, Validation Macro-F1: 0.3127\n",
            "Epoch 44/100, Training Loss: 10.8228, Training Macro-F1: 0.3408, Validation Loss: 2.2185, Validation Macro-F1: 0.3188\n",
            "Epoch 45/100, Training Loss: 10.7535, Training Macro-F1: 0.3447, Validation Loss: 2.2139, Validation Macro-F1: 0.3191\n",
            "Epoch 46/100, Training Loss: 10.7199, Training Macro-F1: 0.3448, Validation Loss: 2.2841, Validation Macro-F1: 0.3178\n",
            "Epoch 47/100, Training Loss: 10.5511, Training Macro-F1: 0.3520, Validation Loss: 2.1182, Validation Macro-F1: 0.3258\n",
            "Epoch 48/100, Training Loss: 10.4939, Training Macro-F1: 0.3525, Validation Loss: 2.2051, Validation Macro-F1: 0.3214\n",
            "Epoch 49/100, Training Loss: 10.4524, Training Macro-F1: 0.3548, Validation Loss: 2.1776, Validation Macro-F1: 0.3346\n",
            "Epoch 50/100, Training Loss: 10.3709, Training Macro-F1: 0.3588, Validation Loss: 2.2042, Validation Macro-F1: 0.3275\n",
            "Epoch 51/100, Training Loss: 10.2661, Training Macro-F1: 0.3614, Validation Loss: 2.1471, Validation Macro-F1: 0.3283\n",
            "Epoch 52/100, Training Loss: 10.2253, Training Macro-F1: 0.3633, Validation Loss: 2.1474, Validation Macro-F1: 0.3430\n",
            "Epoch 53/100, Training Loss: 10.1349, Training Macro-F1: 0.3676, Validation Loss: 2.1006, Validation Macro-F1: 0.3385\n",
            "Epoch 54/100, Training Loss: 10.0817, Training Macro-F1: 0.3678, Validation Loss: 2.1214, Validation Macro-F1: 0.3410\n",
            "Epoch 55/100, Training Loss: 10.0178, Training Macro-F1: 0.3716, Validation Loss: 2.1405, Validation Macro-F1: 0.3465\n",
            "Epoch 56/100, Training Loss: 9.9895, Training Macro-F1: 0.3727, Validation Loss: 2.1429, Validation Macro-F1: 0.3372\n",
            "Epoch 57/100, Training Loss: 9.9473, Training Macro-F1: 0.3747, Validation Loss: 2.1174, Validation Macro-F1: 0.3340\n",
            "Epoch 58/100, Training Loss: 9.8331, Training Macro-F1: 0.3771, Validation Loss: 2.1772, Validation Macro-F1: 0.3374\n",
            "Epoch 59/100, Training Loss: 9.7547, Training Macro-F1: 0.3809, Validation Loss: 2.1368, Validation Macro-F1: 0.3420\n",
            "Epoch 60/100, Training Loss: 9.7097, Training Macro-F1: 0.3836, Validation Loss: 2.0751, Validation Macro-F1: 0.3459\n",
            "Epoch 61/100, Training Loss: 9.7002, Training Macro-F1: 0.3839, Validation Loss: 2.1840, Validation Macro-F1: 0.3423\n",
            "Epoch 62/100, Training Loss: 9.5826, Training Macro-F1: 0.3863, Validation Loss: 2.0832, Validation Macro-F1: 0.3481\n",
            "Epoch 63/100, Training Loss: 9.5855, Training Macro-F1: 0.3897, Validation Loss: 2.1205, Validation Macro-F1: 0.3597\n",
            "Epoch 64/100, Training Loss: 9.5075, Training Macro-F1: 0.3923, Validation Loss: 2.0743, Validation Macro-F1: 0.3615\n",
            "Epoch 65/100, Training Loss: 9.4305, Training Macro-F1: 0.3928, Validation Loss: 2.0801, Validation Macro-F1: 0.3559\n",
            "Epoch 66/100, Training Loss: 9.3496, Training Macro-F1: 0.3974, Validation Loss: 2.0563, Validation Macro-F1: 0.3507\n",
            "Epoch 67/100, Training Loss: 9.3963, Training Macro-F1: 0.3962, Validation Loss: 2.0442, Validation Macro-F1: 0.3628\n",
            "Epoch 68/100, Training Loss: 9.3271, Training Macro-F1: 0.3987, Validation Loss: 2.0810, Validation Macro-F1: 0.3638\n",
            "Epoch 69/100, Training Loss: 9.3373, Training Macro-F1: 0.3997, Validation Loss: 2.0846, Validation Macro-F1: 0.3599\n",
            "Epoch 70/100, Training Loss: 9.2070, Training Macro-F1: 0.4028, Validation Loss: 2.0651, Validation Macro-F1: 0.3458\n",
            "Epoch 71/100, Training Loss: 9.2134, Training Macro-F1: 0.4019, Validation Loss: 2.0767, Validation Macro-F1: 0.3685\n",
            "Epoch 72/100, Training Loss: 9.1730, Training Macro-F1: 0.4059, Validation Loss: 2.1058, Validation Macro-F1: 0.3465\n",
            "Epoch 73/100, Training Loss: 9.1293, Training Macro-F1: 0.4057, Validation Loss: 2.0457, Validation Macro-F1: 0.3664\n",
            "Epoch 74/100, Training Loss: 9.0797, Training Macro-F1: 0.4093, Validation Loss: 1.9959, Validation Macro-F1: 0.3585\n",
            "Epoch 75/100, Training Loss: 8.9934, Training Macro-F1: 0.4102, Validation Loss: 2.0382, Validation Macro-F1: 0.3724\n",
            "Epoch 76/100, Training Loss: 8.9582, Training Macro-F1: 0.4137, Validation Loss: 2.0299, Validation Macro-F1: 0.3809\n",
            "Epoch 77/100, Training Loss: 8.9036, Training Macro-F1: 0.4141, Validation Loss: 1.9905, Validation Macro-F1: 0.3756\n",
            "Epoch 78/100, Training Loss: 8.8598, Training Macro-F1: 0.4185, Validation Loss: 2.0447, Validation Macro-F1: 0.3682\n",
            "Epoch 79/100, Training Loss: 8.8788, Training Macro-F1: 0.4154, Validation Loss: 2.0444, Validation Macro-F1: 0.3610\n",
            "Epoch 80/100, Training Loss: 8.8143, Training Macro-F1: 0.4183, Validation Loss: 2.1058, Validation Macro-F1: 0.3794\n",
            "Epoch 81/100, Training Loss: 8.7710, Training Macro-F1: 0.4218, Validation Loss: 2.0218, Validation Macro-F1: 0.3578\n",
            "Epoch 82/100, Training Loss: 8.7519, Training Macro-F1: 0.4214, Validation Loss: 1.9955, Validation Macro-F1: 0.3759\n",
            "Epoch 83/100, Training Loss: 8.6719, Training Macro-F1: 0.4262, Validation Loss: 2.0850, Validation Macro-F1: 0.3811\n",
            "Epoch 84/100, Training Loss: 8.6661, Training Macro-F1: 0.4261, Validation Loss: 2.0224, Validation Macro-F1: 0.3759\n",
            "Epoch 85/100, Training Loss: 8.6253, Training Macro-F1: 0.4285, Validation Loss: 2.0160, Validation Macro-F1: 0.3767\n",
            "Epoch 86/100, Training Loss: 8.5779, Training Macro-F1: 0.4306, Validation Loss: 1.9313, Validation Macro-F1: 0.3765\n",
            "Epoch 87/100, Training Loss: 8.5759, Training Macro-F1: 0.4334, Validation Loss: 2.0496, Validation Macro-F1: 0.3841\n",
            "Epoch 88/100, Training Loss: 8.4804, Training Macro-F1: 0.4346, Validation Loss: 2.0629, Validation Macro-F1: 0.3837\n",
            "Epoch 89/100, Training Loss: 8.4871, Training Macro-F1: 0.4360, Validation Loss: 2.0663, Validation Macro-F1: 0.3808\n",
            "Epoch 90/100, Training Loss: 8.4681, Training Macro-F1: 0.4356, Validation Loss: 2.1133, Validation Macro-F1: 0.3830\n",
            "Epoch 91/100, Training Loss: 8.5129, Training Macro-F1: 0.4361, Validation Loss: 1.9896, Validation Macro-F1: 0.3924\n",
            "Epoch 92/100, Training Loss: 8.3969, Training Macro-F1: 0.4396, Validation Loss: 2.0773, Validation Macro-F1: 0.3865\n",
            "Epoch 93/100, Training Loss: 8.3531, Training Macro-F1: 0.4437, Validation Loss: 2.0617, Validation Macro-F1: 0.3889\n",
            "Epoch 94/100, Training Loss: 8.3608, Training Macro-F1: 0.4430, Validation Loss: 2.0102, Validation Macro-F1: 0.3865\n",
            "Epoch 95/100, Training Loss: 8.3299, Training Macro-F1: 0.4447, Validation Loss: 2.0164, Validation Macro-F1: 0.3840\n",
            "Epoch 96/100, Training Loss: 8.3077, Training Macro-F1: 0.4453, Validation Loss: 1.9934, Validation Macro-F1: 0.3938\n",
            "Epoch 97/100, Training Loss: 8.5331, Training Macro-F1: 0.4422, Validation Loss: 1.9859, Validation Macro-F1: 0.3867\n",
            "Epoch 98/100, Training Loss: 8.2201, Training Macro-F1: 0.4494, Validation Loss: 1.9960, Validation Macro-F1: 0.3941\n",
            "Epoch 99/100, Training Loss: 8.2573, Training Macro-F1: 0.4486, Validation Loss: 2.0139, Validation Macro-F1: 0.3980\n",
            "Epoch 100/100, Training Loss: 8.1875, Training Macro-F1: 0.4507, Validation Loss: 2.0414, Validation Macro-F1: 0.3841\n"
          ]
        }
      ],
      "source": [
        "num_epochs = 100\n",
        "predicted_labels1 = []\n",
        "for epoch in range(num_epochs):\n",
        "    model.train()\n",
        "    total_loss = 0\n",
        "    train_all_preds = []\n",
        "    train_all_labels = []\n",
        "    for text, labels in train_loader:\n",
        "        optimizer.zero_grad()\n",
        "        outputs = model(text)\n",
        "        loss = criterion(outputs.view(-1, output_size), labels.view(-1))\n",
        "        loss.backward()\n",
        "        optimizer.step()\n",
        "        total_loss += loss.item()\n",
        "\n",
        "        _, predicted = torch.max(outputs, 2)\n",
        "        train_all_preds.extend(predicted.view(-1).cpu().numpy().tolist())\n",
        "        predicted_labels1.extend(predicted.view(-1).cpu().numpy().tolist())\n",
        "        train_all_labels.extend(labels.view(-1).cpu().numpy().tolist())\n",
        "\n",
        "    val_loss = 0\n",
        "    val_all_preds = []\n",
        "    val_all_labels = []\n",
        "    with torch.no_grad():\n",
        "        model.eval()\n",
        "        for text, labels in val_loader:\n",
        "            outputs = model(text)\n",
        "            loss = criterion(outputs.view(-1, output_size), labels.view(-1))\n",
        "            val_loss += loss.item()\n",
        "\n",
        "\n",
        "            _, predicted = torch.max(outputs, 2)\n",
        "            val_all_preds.extend(predicted.view(-1).cpu().numpy().tolist())\n",
        "            val_all_labels.extend(labels.view(-1).cpu().numpy().tolist())\n",
        "\n",
        "    train_losses.append(total_loss / len(train_loader))\n",
        "    val_losses.append(val_loss / len(val_loader))\n",
        "    train_f1 = f1_score(train_all_labels, train_all_preds, average='macro')\n",
        "    val_f1 = f1_score(val_all_labels, val_all_preds, average='macro')\n",
        "    train_f1s.append(train_f1)\n",
        "    val_f1s.append(val_f1)\n",
        "\n",
        "    print(f\"Epoch {epoch+1}/{num_epochs}, Training Loss: {total_loss:.4f}, Training Macro-F1: {train_f1:.4f}, Validation Loss: {val_loss:.4f}, Validation Macro-F1: {val_f1:.4f}\")\n"
      ]
    },
    {
      "cell_type": "code",
      "execution_count": 65,
      "metadata": {},
      "outputs": [],
      "source": [
        "# save tthe nmodel \n",
        "torch.save(model.state_dict(), 'NER_RNNfast.pth')\n"
      ]
    },
    {
      "cell_type": "code",
      "execution_count": 66,
      "metadata": {
        "id": "83v9iM6ZWn3c"
      },
      "outputs": [],
      "source": [
        "# Specify the path to your JSON file\n",
        "json_file_path = 'NER_test_data.json'\n",
        "\n",
        "# Read the JSON file\n",
        "with open(json_file_path) as f:\n",
        "    test_data = json.load(f)\n"
      ]
    },
    {
      "cell_type": "code",
      "execution_count": 67,
      "metadata": {
        "id": "uBtBTilJWn3d"
      },
      "outputs": [],
      "source": [
        "X_test=[]\n",
        "y_test=[]\n",
        "\n",
        "for idx, word in enumerate(weight_model.index_to_key):\n",
        "    word_to_idx[word] = idx + 1\n",
        "# label_to_idx = {\"B\": 0, \"I\": 1, \"O\": 2}\n",
        "\n",
        "for key, value in test_data.items():\n",
        "    word = value['text'].split()\n",
        "    tags = value['labels']\n",
        "    sentence = value['text']\n",
        "    # if len(word) < max_len:\n",
        "    #     word += [''] * (max_len - len(word))\n",
        "    #     tags += ['O'] * (max_len - len(tags))\n",
        "    text_indices = []\n",
        "    for i in word:\n",
        "        index = word_to_idx.get(i, 0)\n",
        "        text_indices.append(index)\n",
        "    X_test.append(torch.tensor(text_indices))\n",
        "    y_test.append(torch.tensor([label_to_idx.get(label, -1) for label in tags if label in label_to_idx]))\n",
        "X_test = pad_sequence(X_test, batch_first=True, padding_value=0)\n",
        "y_test = pad_sequence(y_test, batch_first=True, padding_value=0)"
      ]
    },
    {
      "cell_type": "code",
      "execution_count": 68,
      "metadata": {
        "colab": {
          "base_uri": "https://localhost:8080/",
          "height": 860
        },
        "id": "R3YO1IFBWn3d",
        "outputId": "1a0ea37f-f1aa-40b5-d088-fa7222bfe0ee"
      },
      "outputs": [
        {
          "name": "stdout",
          "output_type": "stream",
          "text": [
            "Test Loss: 0.1910, Test Macro-F1: 0.3893\n"
          ]
        },
        {
          "data": {
            "image/png": "[encoded data removed]",
            "text/plain": [
              "<Figure size 640x480 with 1 Axes>"
            ]
          },
          "metadata": {},
          "output_type": "display_data"
        },
        {
          "data": {
            "image/png": "[encoded data removed]",
            "text/plain": [
              "<Figure size 640x480 with 1 Axes>"
            ]
          },
          "metadata": {},
          "output_type": "display_data"
        }
      ],
      "source": [
        "def evaluate_model(model, dataloader, criterion, tagset_size):\n",
        "    model.eval()\n",
        "    total_loss = 0\n",
        "    all_preds = []\n",
        "    all_labels = []\n",
        "\n",
        "    with torch.no_grad():\n",
        "        for text, labels in dataloader:\n",
        "            outputs = model(text)\n",
        "            loss = criterion(outputs.view(-1, tagset_size), labels.view(-1))\n",
        "            total_loss += loss.item()\n",
        "\n",
        "            _, predicted = torch.max(outputs, 2)\n",
        "            all_preds.extend(predicted.view(-1).cpu().numpy().tolist())\n",
        "            all_labels.extend(labels.view(-1).cpu().numpy().tolist())\n",
        "\n",
        "    avg_loss = total_loss / len(dataloader)\n",
        "    macro_f1 = f1_score(all_labels, all_preds, average='macro')\n",
        "\n",
        "    return avg_loss, macro_f1\n",
        "# Evaluate on the test dataset\n",
        "test_dataset = TensorDataset(X_test, y_test)\n",
        "test_loader = DataLoader(test_dataset, batch_size=128, shuffle=True)  # Decrease batch size\n",
        "\n",
        "test_loss, test_f1 = evaluate_model(model, test_loader, criterion, output_size)\n",
        "print(f\"Test Loss: {test_loss:.4f}, Test Macro-F1: {test_f1:.4f}\")\n",
        "\n",
        "\n",
        "# Plot the training and validation loss\n",
        "plt.plot(train_losses, label='Training Loss', color='blue', linestyle='dashed')\n",
        "plt.plot(val_losses, label='Validation Loss', color='red')\n",
        "plt.xlabel('Epoch')\n",
        "plt.ylabel('Loss')\n",
        "plt.legend()\n",
        "plt.show()\n",
        "\n",
        "# Plot the training and validation F1 score\n",
        "plt.plot(train_f1s, label='Training F1', color='blue', linestyle='dashed')\n",
        "plt.plot(val_f1s, label='Validation F1', color='red')\n",
        "plt.xlabel('Epoch')\n",
        "plt.ylabel('F1')\n",
        "plt.legend()\n",
        "plt.show()"
      ]
    },
    {
      "cell_type": "markdown",
      "metadata": {
        "id": "-1pUYb01e6n9"
      },
      "source": [
        "**LSTM**"
      ]
    },
    {
      "cell_type": "code",
      "execution_count": null,
      "metadata": {
        "id": "TalQ91fAe9zV"
      },
      "outputs": [],
      "source": []
    },
    {
      "cell_type": "code",
      "execution_count": 69,
      "metadata": {
        "id": "ZrUelcqTeeK4"
      },
      "outputs": [],
      "source": [
        "from gensim.models import KeyedVectors\n",
        "\n",
        "import torch\n",
        "\n",
        "import gensim.downloader as api\n",
        "import matplotlib.pyplot as plt\n",
        "from torch.nn.utils.rnn import pad_sequence"
      ]
    },
    {
      "cell_type": "code",
      "execution_count": 70,
      "metadata": {
        "id": "ou69M93YeeK5"
      },
      "outputs": [],
      "source": [
        "import torch.nn as nn\n",
        "import torch.optim as optim\n",
        "from torch.utils.data import  DataLoader, TensorDataset\n",
        "from sklearn.metrics import f1_score"
      ]
    },
    {
      "cell_type": "code",
      "execution_count": 71,
      "metadata": {
        "id": "d4GaL_CGeeK6"
      },
      "outputs": [],
      "source": [
        "#  import lstm libraries of torch\n",
        "from torch.nn import LSTM\n"
      ]
    },
    {
      "cell_type": "code",
      "execution_count": 72,
      "metadata": {
        "id": "HoPLn_KQeeK6"
      },
      "outputs": [],
      "source": [
        "import json\n",
        "# Specify the path to your JSON file\n",
        "json_file_path = 'NER_training_data.json'\n",
        "\n",
        "# Read the JSON file\n",
        "with open(json_file_path) as f:\n",
        "    data = json.load(f)\n",
        "\n",
        "# data\n",
        "# print(len(data))\n",
        "\n",
        "# Specify the path to your JSON file\n",
        "json_file_path = 'NER_validation_data.json'\n",
        "\n",
        "# Read the JSON file\n",
        "with open(json_file_path) as f:\n",
        "    validation_data = json.load(f)\n",
        "\n"
      ]
    },
    {
      "cell_type": "code",
      "execution_count": 73,
      "metadata": {
        "id": "GmsMCta4eeK6"
      },
      "outputs": [],
      "source": [
        "\n",
        "for key, value in data.items():\n",
        "    word = value['text'].split()\n",
        "    labels = value['labels']\n",
        "    new_labels = []\n",
        "    new_word = []\n",
        "    for i in range(len(word)):\n",
        "        if(word[i]==''):\n",
        "            print(word)\n",
        "            continue\n",
        "        # new_labels.append(labels[i])\n",
        "        new_word.append(word[i])\n",
        "    # value['labels'] = new_labels\n",
        "    value['word'] = new_word\n"
      ]
    },
    {
      "cell_type": "code",
      "execution_count": 74,
      "metadata": {
        "id": "2-HiplofeeK7"
      },
      "outputs": [],
      "source": [
        "label_to_idx = {'O': 0, 'B_CASE_NUMBER': 1, 'I_CASE_NUMBER': 2, 'B_ORG': 3, 'I_ORG': 4, 'B_OTHER_PERSON': 5, 'I_OTHER_PERSON': 6,\n",
        "                    'B_STATUTE': 7, 'I_STATUTE': 8, 'B_PROVISION': 9, 'I_PROVISION': 10, 'B_COURT': 11, 'I_COURT': 12,\n",
        "                    'B_WITNESS': 13, 'I_WITNESS': 14, 'B_PRECEDENT': 15, 'I_PRECEDENT': 16, 'B_DATE': 17, 'I_DATE': 18,\n",
        "                    'B_PETITIONER': 19, 'I_PETITIONER': 20, 'B_GPE' : 21, 'I_GPE': 22, 'B_RESPONDENT': 23, 'I_RESPONDENT': 24,\n",
        "                    'B_COURT': 25, 'I_COURT': 26}"
      ]
    },
    {
      "cell_type": "code",
      "execution_count": 75,
      "metadata": {
        "colab": {
          "base_uri": "https://localhost:8080/"
        },
        "id": "wrswzOgHeeK7",
        "outputId": "867479d3-50f1-439d-9b50-a590aa4c6ad9"
      },
      "outputs": [
        {
          "name": "stdout",
          "output_type": "stream",
          "text": [
            "torch.Size([7545, 70])\n"
          ]
        }
      ],
      "source": [
        "sentence_for_training = []\n",
        "tags_for_training = []\n",
        "X_train=[]\n",
        "y_train=[]\n",
        "\n",
        "word_to_idx={}\n",
        "for idx, word in enumerate(weight_model.index_to_key):\n",
        "    word_to_idx[word] = idx + 1\n",
        "# label_to_idx = {\"B\": 0, \"I\": 1, \"O\": 2}\n",
        "\n",
        "for key, value in data.items():\n",
        "    word = value['text'].split()\n",
        "    tags = value['labels']\n",
        "    sentence = value['text']\n",
        "    # if len(word) < max_len:\n",
        "    #     word += [''] * (max_len - len(word))\n",
        "    #     tags += ['O'] * (max_len - len(tags))\n",
        "    T_idx = []\n",
        "    for i in word:\n",
        "        index = word_to_idx.get(i, 0)\n",
        "        T_idx.append(index)\n",
        "    X_train.append(torch.tensor(T_idx))\n",
        "    y_train.append(torch.tensor([label_to_idx.get(label, -1) for label in tags if label in label_to_idx]))\n",
        "X_train = pad_sequence(X_train, batch_first=True, padding_value=0)\n",
        "y_train = pad_sequence(y_train, batch_first=True, padding_value=0)\n",
        "\n",
        "print(X_train.shape)"
      ]
    },
    {
      "cell_type": "code",
      "execution_count": 76,
      "metadata": {
        "id": "9O5mdIOleeK7"
      },
      "outputs": [],
      "source": [
        "max_len=max([len(i) for i in X_train])\n",
        "X_validation=[]\n",
        "y_validation=[]\n",
        "\n",
        "word_to_idx={}\n",
        "# word_to_idx = {word: idx + 1 for idx, word in enumerate(word_vectors.index_to_key)}\n",
        "for idx, word in enumerate(weight_model.index_to_key):\n",
        "    word_to_idx[word] = idx + 1\n",
        "# label_to_idx = {\"B\": 0, \"I\": 1, \"O\": 2}\n",
        "\n",
        "for key, value in validation_data.items():\n",
        "    word = value['text'].split()\n",
        "    tags = value['labels']\n",
        "    sentence = value['text']\n",
        "    # if len(word) < max_len:\n",
        "    #     word += [''] * (max_len - len(word))\n",
        "    #     tags += ['O'] * (max_len - len(tags))\n",
        "    text_indices = []\n",
        "    for i in word:\n",
        "        index = word_to_idx.get(i, 0)\n",
        "        text_indices.append(index)\n",
        "    # text_indices = [word_to_idx.get(word, 0) for word in word]\n",
        "    X_validation.append(torch.tensor(text_indices))\n",
        "    y_validation.append(torch.tensor([label_to_idx.get(label, -1) for label in tags if label in label_to_idx]))\n",
        "X_validation = pad_sequence(X_validation, batch_first=True, padding_value=0)\n",
        "y_validation = pad_sequence(y_validation, batch_first=True, padding_value=0)"
      ]
    },
    {
      "cell_type": "code",
      "execution_count": 77,
      "metadata": {
        "id": "ifMB5LZ7eeK7"
      },
      "outputs": [],
      "source": [
        "class LSTM(nn.Module):\n",
        "    def __init__(self, embedding_dim, hidden_dim, vocab_size, tagset_size, word_embeddings):\n",
        "        super(LSTM, self).__init__()\n",
        "        self.embedding = nn.Embedding.from_pretrained(word_embeddings, freeze=True)\n",
        "        self.lstm = nn.LSTM(embedding_dim, hidden_dim, batch_first=True)\n",
        "        self.linear = nn.Linear(hidden_dim, tagset_size)\n",
        "\n",
        "    def forward(self, sentence):\n",
        "        embedding = self.embedding(sentence)\n",
        "        lstm_out, _ = self.lstm(embedding)\n",
        "        tag_space_lstm = self.linear(lstm_out)\n",
        "        return tag_space_lstm"
      ]
    },
    {
      "cell_type": "code",
      "execution_count": 78,
      "metadata": {
        "id": "vcf8AXO9eeK8"
      },
      "outputs": [],
      "source": [
        "# Define hyperparameters\n",
        "input_size = len(word_to_idx) + 1  # Add 1 for padding token\n",
        "embedding_dim = weight_model.vector_size  # Should match the dimensionality of your word vectors\n",
        "hidden_size = 64\n",
        "vocab_size = len(weight_model.index_to_key)\n",
        "\n",
        "output_size = 27"
      ]
    },
    {
      "cell_type": "code",
      "execution_count": 79,
      "metadata": {
        "id": "VlBvcfi4eeK8"
      },
      "outputs": [],
      "source": [
        "model = LSTM(embedding_dim, hidden_size, vocab_size, output_size, torch.FloatTensor(weight_model.vectors))"
      ]
    },
    {
      "cell_type": "code",
      "execution_count": 80,
      "metadata": {
        "id": "Hv7ZY8KseeK8"
      },
      "outputs": [],
      "source": [
        "# Define loss function and optimizer\n",
        "criterion = nn.CrossEntropyLoss()\n",
        "optimizer = torch.optim.Adam(model.parameters(), lr=0.003)"
      ]
    },
    {
      "cell_type": "code",
      "execution_count": 81,
      "metadata": {
        "id": "OOad_GEDeeK8"
      },
      "outputs": [],
      "source": [
        "# Prepare data loaders\n",
        "train_dataset = TensorDataset(X_train, y_train)\n",
        "train_loader = DataLoader(train_dataset, batch_size=256, shuffle=True)  # Decrease batch size\n",
        "val_dataset = TensorDataset(X_validation, y_validation)\n",
        "val_loader = DataLoader(val_dataset, batch_size=256, shuffle=True)  # Decrease batch size"
      ]
    },
    {
      "cell_type": "code",
      "execution_count": 82,
      "metadata": {
        "id": "jwBOoFBTeeK9"
      },
      "outputs": [],
      "source": [
        "# Train the model\n",
        "train_losses = []\n",
        "val_losses = []\n",
        "train_f1s = []\n",
        "val_f1s = []"
      ]
    },
    {
      "cell_type": "code",
      "execution_count": 83,
      "metadata": {
        "colab": {
          "base_uri": "https://localhost:8080/"
        },
        "id": "1G5Cnf0deeK9",
        "outputId": "3f73c24a-520e-40da-e775-fa713613932f"
      },
      "outputs": [
        {
          "name": "stdout",
          "output_type": "stream",
          "text": [
            "Epoch 1/100, Training Loss: 37.0550, Training Macro-F1: 0.0382, Validation Loss: 3.1744, Validation Macro-F1: 0.0385\n",
            "Epoch 2/100, Training Loss: 14.7443, Training Macro-F1: 0.0385, Validation Loss: 2.8349, Validation Macro-F1: 0.0385\n",
            "Epoch 3/100, Training Loss: 13.7606, Training Macro-F1: 0.0385, Validation Loss: 2.6808, Validation Macro-F1: 0.0385\n",
            "Epoch 4/100, Training Loss: 12.8148, Training Macro-F1: 0.0385, Validation Loss: 2.4801, Validation Macro-F1: 0.0385\n",
            "Epoch 5/100, Training Loss: 11.8219, Training Macro-F1: 0.0385, Validation Loss: 2.2531, Validation Macro-F1: 0.0385\n",
            "Epoch 6/100, Training Loss: 10.9057, Training Macro-F1: 0.0387, Validation Loss: 2.1232, Validation Macro-F1: 0.0394\n",
            "Epoch 7/100, Training Loss: 10.3699, Training Macro-F1: 0.0442, Validation Loss: 2.0394, Validation Macro-F1: 0.0494\n",
            "Epoch 8/100, Training Loss: 9.9538, Training Macro-F1: 0.0516, Validation Loss: 2.0030, Validation Macro-F1: 0.0559\n",
            "Epoch 9/100, Training Loss: 9.6498, Training Macro-F1: 0.0570, Validation Loss: 1.9256, Validation Macro-F1: 0.0585\n",
            "Epoch 10/100, Training Loss: 9.3806, Training Macro-F1: 0.0656, Validation Loss: 1.8935, Validation Macro-F1: 0.0726\n",
            "Epoch 11/100, Training Loss: 9.1255, Training Macro-F1: 0.0759, Validation Loss: 1.8167, Validation Macro-F1: 0.0775\n",
            "Epoch 12/100, Training Loss: 8.9602, Training Macro-F1: 0.0794, Validation Loss: 1.8636, Validation Macro-F1: 0.0776\n",
            "Epoch 13/100, Training Loss: 8.7717, Training Macro-F1: 0.0833, Validation Loss: 1.8335, Validation Macro-F1: 0.0859\n",
            "Epoch 14/100, Training Loss: 8.6166, Training Macro-F1: 0.0872, Validation Loss: 1.6743, Validation Macro-F1: 0.0893\n",
            "Epoch 15/100, Training Loss: 8.3903, Training Macro-F1: 0.0934, Validation Loss: 1.6182, Validation Macro-F1: 0.0994\n",
            "Epoch 16/100, Training Loss: 8.1855, Training Macro-F1: 0.1073, Validation Loss: 1.6520, Validation Macro-F1: 0.1079\n",
            "Epoch 17/100, Training Loss: 8.0219, Training Macro-F1: 0.1187, Validation Loss: 1.5590, Validation Macro-F1: 0.1205\n",
            "Epoch 18/100, Training Loss: 7.8673, Training Macro-F1: 0.1277, Validation Loss: 1.6134, Validation Macro-F1: 0.1272\n",
            "Epoch 19/100, Training Loss: 7.6848, Training Macro-F1: 0.1336, Validation Loss: 1.6152, Validation Macro-F1: 0.1315\n",
            "Epoch 20/100, Training Loss: 7.5806, Training Macro-F1: 0.1407, Validation Loss: 1.6098, Validation Macro-F1: 0.1346\n",
            "Epoch 21/100, Training Loss: 7.4942, Training Macro-F1: 0.1492, Validation Loss: 1.5568, Validation Macro-F1: 0.1498\n",
            "Epoch 22/100, Training Loss: 7.2239, Training Macro-F1: 0.1645, Validation Loss: 1.4551, Validation Macro-F1: 0.1638\n",
            "Epoch 23/100, Training Loss: 7.0727, Training Macro-F1: 0.1788, Validation Loss: 1.4796, Validation Macro-F1: 0.1857\n",
            "Epoch 24/100, Training Loss: 6.8971, Training Macro-F1: 0.2014, Validation Loss: 1.4511, Validation Macro-F1: 0.1934\n",
            "Epoch 25/100, Training Loss: 6.7767, Training Macro-F1: 0.2161, Validation Loss: 1.3794, Validation Macro-F1: 0.2101\n",
            "Epoch 26/100, Training Loss: 6.6217, Training Macro-F1: 0.2293, Validation Loss: 1.4016, Validation Macro-F1: 0.2181\n",
            "Epoch 27/100, Training Loss: 6.4778, Training Macro-F1: 0.2419, Validation Loss: 1.4712, Validation Macro-F1: 0.2420\n",
            "Epoch 28/100, Training Loss: 6.3399, Training Macro-F1: 0.2521, Validation Loss: 1.3235, Validation Macro-F1: 0.2556\n",
            "Epoch 29/100, Training Loss: 6.2369, Training Macro-F1: 0.2641, Validation Loss: 1.2990, Validation Macro-F1: 0.2398\n",
            "Epoch 30/100, Training Loss: 6.1251, Training Macro-F1: 0.2736, Validation Loss: 1.2966, Validation Macro-F1: 0.2605\n",
            "Epoch 31/100, Training Loss: 6.0713, Training Macro-F1: 0.2813, Validation Loss: 1.2994, Validation Macro-F1: 0.2689\n",
            "Epoch 32/100, Training Loss: 5.9453, Training Macro-F1: 0.2904, Validation Loss: 1.2693, Validation Macro-F1: 0.2845\n",
            "Epoch 33/100, Training Loss: 5.8385, Training Macro-F1: 0.2987, Validation Loss: 1.2146, Validation Macro-F1: 0.2793\n",
            "Epoch 34/100, Training Loss: 5.7696, Training Macro-F1: 0.3046, Validation Loss: 1.3350, Validation Macro-F1: 0.2795\n",
            "Epoch 35/100, Training Loss: 5.7059, Training Macro-F1: 0.3105, Validation Loss: 1.2800, Validation Macro-F1: 0.2715\n",
            "Epoch 36/100, Training Loss: 5.6145, Training Macro-F1: 0.3156, Validation Loss: 1.2315, Validation Macro-F1: 0.2955\n",
            "Epoch 37/100, Training Loss: 5.5243, Training Macro-F1: 0.3199, Validation Loss: 1.1817, Validation Macro-F1: 0.2988\n",
            "Epoch 38/100, Training Loss: 5.4660, Training Macro-F1: 0.3257, Validation Loss: 1.2619, Validation Macro-F1: 0.3057\n",
            "Epoch 39/100, Training Loss: 5.4163, Training Macro-F1: 0.3287, Validation Loss: 1.1751, Validation Macro-F1: 0.3017\n",
            "Epoch 40/100, Training Loss: 5.3827, Training Macro-F1: 0.3307, Validation Loss: 1.2096, Validation Macro-F1: 0.3022\n",
            "Epoch 41/100, Training Loss: 5.3118, Training Macro-F1: 0.3367, Validation Loss: 1.1556, Validation Macro-F1: 0.3120\n",
            "Epoch 42/100, Training Loss: 5.2496, Training Macro-F1: 0.3420, Validation Loss: 1.1480, Validation Macro-F1: 0.3143\n",
            "Epoch 43/100, Training Loss: 5.1794, Training Macro-F1: 0.3461, Validation Loss: 1.1291, Validation Macro-F1: 0.3139\n",
            "Epoch 44/100, Training Loss: 5.1496, Training Macro-F1: 0.3496, Validation Loss: 1.2120, Validation Macro-F1: 0.3197\n",
            "Epoch 45/100, Training Loss: 5.1226, Training Macro-F1: 0.3501, Validation Loss: 1.1568, Validation Macro-F1: 0.3175\n",
            "Epoch 46/100, Training Loss: 5.0346, Training Macro-F1: 0.3565, Validation Loss: 1.1155, Validation Macro-F1: 0.3324\n",
            "Epoch 47/100, Training Loss: 4.9973, Training Macro-F1: 0.3601, Validation Loss: 1.1163, Validation Macro-F1: 0.3362\n",
            "Epoch 48/100, Training Loss: 4.9637, Training Macro-F1: 0.3620, Validation Loss: 1.1288, Validation Macro-F1: 0.3286\n",
            "Epoch 49/100, Training Loss: 4.9175, Training Macro-F1: 0.3665, Validation Loss: 1.1335, Validation Macro-F1: 0.3441\n",
            "Epoch 50/100, Training Loss: 4.8730, Training Macro-F1: 0.3700, Validation Loss: 1.1750, Validation Macro-F1: 0.3408\n",
            "Epoch 51/100, Training Loss: 4.8336, Training Macro-F1: 0.3724, Validation Loss: 1.1415, Validation Macro-F1: 0.3410\n",
            "Epoch 52/100, Training Loss: 4.7985, Training Macro-F1: 0.3725, Validation Loss: 1.1566, Validation Macro-F1: 0.3462\n",
            "Epoch 53/100, Training Loss: 4.7772, Training Macro-F1: 0.3775, Validation Loss: 1.1451, Validation Macro-F1: 0.3501\n",
            "Epoch 54/100, Training Loss: 4.7149, Training Macro-F1: 0.3815, Validation Loss: 1.1063, Validation Macro-F1: 0.3510\n",
            "Epoch 55/100, Training Loss: 4.6897, Training Macro-F1: 0.3837, Validation Loss: 1.1370, Validation Macro-F1: 0.3524\n",
            "Epoch 56/100, Training Loss: 4.6436, Training Macro-F1: 0.3853, Validation Loss: 1.0783, Validation Macro-F1: 0.3517\n",
            "Epoch 57/100, Training Loss: 4.6185, Training Macro-F1: 0.3900, Validation Loss: 1.0636, Validation Macro-F1: 0.3598\n",
            "Epoch 58/100, Training Loss: 4.5962, Training Macro-F1: 0.3914, Validation Loss: 1.0683, Validation Macro-F1: 0.3596\n",
            "Epoch 59/100, Training Loss: 4.5435, Training Macro-F1: 0.3959, Validation Loss: 1.1329, Validation Macro-F1: 0.3532\n",
            "Epoch 60/100, Training Loss: 4.5076, Training Macro-F1: 0.3983, Validation Loss: 1.0722, Validation Macro-F1: 0.3666\n",
            "Epoch 61/100, Training Loss: 4.4956, Training Macro-F1: 0.3990, Validation Loss: 1.1248, Validation Macro-F1: 0.3621\n",
            "Epoch 62/100, Training Loss: 4.4876, Training Macro-F1: 0.4026, Validation Loss: 1.0787, Validation Macro-F1: 0.3657\n",
            "Epoch 63/100, Training Loss: 4.3936, Training Macro-F1: 0.4091, Validation Loss: 1.0510, Validation Macro-F1: 0.3702\n",
            "Epoch 64/100, Training Loss: 4.3603, Training Macro-F1: 0.4098, Validation Loss: 1.1276, Validation Macro-F1: 0.3687\n",
            "Epoch 65/100, Training Loss: 4.3527, Training Macro-F1: 0.4119, Validation Loss: 1.0417, Validation Macro-F1: 0.3690\n",
            "Epoch 66/100, Training Loss: 4.3119, Training Macro-F1: 0.4151, Validation Loss: 1.0379, Validation Macro-F1: 0.3736\n",
            "Epoch 67/100, Training Loss: 4.3300, Training Macro-F1: 0.4184, Validation Loss: 1.0856, Validation Macro-F1: 0.3687\n",
            "Epoch 68/100, Training Loss: 4.2765, Training Macro-F1: 0.4194, Validation Loss: 1.0525, Validation Macro-F1: 0.3818\n",
            "Epoch 69/100, Training Loss: 4.2459, Training Macro-F1: 0.4221, Validation Loss: 1.0610, Validation Macro-F1: 0.3823\n",
            "Epoch 70/100, Training Loss: 4.2026, Training Macro-F1: 0.4259, Validation Loss: 1.0633, Validation Macro-F1: 0.3753\n",
            "Epoch 71/100, Training Loss: 4.1614, Training Macro-F1: 0.4307, Validation Loss: 1.0008, Validation Macro-F1: 0.3824\n",
            "Epoch 72/100, Training Loss: 4.1532, Training Macro-F1: 0.4309, Validation Loss: 1.0313, Validation Macro-F1: 0.3865\n",
            "Epoch 73/100, Training Loss: 4.1254, Training Macro-F1: 0.4341, Validation Loss: 1.1164, Validation Macro-F1: 0.3828\n",
            "Epoch 74/100, Training Loss: 4.0650, Training Macro-F1: 0.4383, Validation Loss: 1.1011, Validation Macro-F1: 0.3716\n",
            "Epoch 75/100, Training Loss: 4.1055, Training Macro-F1: 0.4375, Validation Loss: 1.0182, Validation Macro-F1: 0.3894\n",
            "Epoch 76/100, Training Loss: 4.0712, Training Macro-F1: 0.4415, Validation Loss: 1.1297, Validation Macro-F1: 0.3835\n",
            "Epoch 77/100, Training Loss: 4.0538, Training Macro-F1: 0.4413, Validation Loss: 1.0002, Validation Macro-F1: 0.3950\n",
            "Epoch 78/100, Training Loss: 4.0061, Training Macro-F1: 0.4491, Validation Loss: 1.0617, Validation Macro-F1: 0.3969\n",
            "Epoch 79/100, Training Loss: 3.9459, Training Macro-F1: 0.4501, Validation Loss: 1.0489, Validation Macro-F1: 0.4036\n",
            "Epoch 80/100, Training Loss: 3.9498, Training Macro-F1: 0.4545, Validation Loss: 1.0023, Validation Macro-F1: 0.3994\n",
            "Epoch 81/100, Training Loss: 3.8855, Training Macro-F1: 0.4565, Validation Loss: 0.9957, Validation Macro-F1: 0.4023\n",
            "Epoch 82/100, Training Loss: 3.8673, Training Macro-F1: 0.4582, Validation Loss: 1.0216, Validation Macro-F1: 0.4031\n",
            "Epoch 83/100, Training Loss: 3.8444, Training Macro-F1: 0.4625, Validation Loss: 1.0429, Validation Macro-F1: 0.4003\n",
            "Epoch 84/100, Training Loss: 3.8390, Training Macro-F1: 0.4623, Validation Loss: 1.0635, Validation Macro-F1: 0.4093\n",
            "Epoch 85/100, Training Loss: 3.8089, Training Macro-F1: 0.4664, Validation Loss: 1.0183, Validation Macro-F1: 0.4031\n",
            "Epoch 86/100, Training Loss: 3.7627, Training Macro-F1: 0.4676, Validation Loss: 1.0648, Validation Macro-F1: 0.3944\n",
            "Epoch 87/100, Training Loss: 3.7597, Training Macro-F1: 0.4701, Validation Loss: 1.0028, Validation Macro-F1: 0.4046\n",
            "Epoch 88/100, Training Loss: 3.7372, Training Macro-F1: 0.4757, Validation Loss: 1.0227, Validation Macro-F1: 0.4112\n",
            "Epoch 89/100, Training Loss: 3.7045, Training Macro-F1: 0.4751, Validation Loss: 0.9764, Validation Macro-F1: 0.4041\n",
            "Epoch 90/100, Training Loss: 3.6466, Training Macro-F1: 0.4809, Validation Loss: 1.0269, Validation Macro-F1: 0.4038\n",
            "Epoch 91/100, Training Loss: 3.6750, Training Macro-F1: 0.4763, Validation Loss: 1.0091, Validation Macro-F1: 0.4105\n",
            "Epoch 92/100, Training Loss: 3.6911, Training Macro-F1: 0.4813, Validation Loss: 0.9930, Validation Macro-F1: 0.4140\n",
            "Epoch 93/100, Training Loss: 3.5935, Training Macro-F1: 0.4847, Validation Loss: 1.0701, Validation Macro-F1: 0.4091\n",
            "Epoch 94/100, Training Loss: 3.5971, Training Macro-F1: 0.4924, Validation Loss: 1.0385, Validation Macro-F1: 0.3982\n",
            "Epoch 95/100, Training Loss: 3.5558, Training Macro-F1: 0.4903, Validation Loss: 0.9999, Validation Macro-F1: 0.4140\n",
            "Epoch 96/100, Training Loss: 3.5105, Training Macro-F1: 0.4955, Validation Loss: 0.9882, Validation Macro-F1: 0.4193\n",
            "Epoch 97/100, Training Loss: 3.5065, Training Macro-F1: 0.4972, Validation Loss: 1.0365, Validation Macro-F1: 0.4118\n",
            "Epoch 98/100, Training Loss: 3.4688, Training Macro-F1: 0.4992, Validation Loss: 1.0456, Validation Macro-F1: 0.4160\n",
            "Epoch 99/100, Training Loss: 3.4849, Training Macro-F1: 0.4993, Validation Loss: 1.0782, Validation Macro-F1: 0.4177\n",
            "Epoch 100/100, Training Loss: 3.4641, Training Macro-F1: 0.5021, Validation Loss: 1.0495, Validation Macro-F1: 0.4159\n"
          ]
        }
      ],
      "source": [
        "num_epochs = 100\n",
        "predicted_labels1 = []\n",
        "for epoch in range(num_epochs):\n",
        "    model.train()\n",
        "    total_loss = 0\n",
        "    train_all_preds = []\n",
        "    train_all_labels = []\n",
        "    for text, labels in train_loader:\n",
        "        optimizer.zero_grad()\n",
        "        outputs = model(text)\n",
        "        loss = criterion(outputs.view(-1, output_size), labels.view(-1))\n",
        "        loss.backward()\n",
        "        optimizer.step()\n",
        "        total_loss += loss.item()\n",
        "\n",
        "        _, predicted = torch.max(outputs, 2)\n",
        "        train_all_preds.extend(predicted.view(-1).cpu().numpy().tolist())\n",
        "        predicted_labels1.extend(predicted.view(-1).cpu().numpy().tolist())\n",
        "        train_all_labels.extend(labels.view(-1).cpu().numpy().tolist())\n",
        "\n",
        "    val_loss = 0\n",
        "    val_all_preds = []\n",
        "    val_all_labels = []\n",
        "    with torch.no_grad():\n",
        "        model.eval()\n",
        "        for text, labels in val_loader:\n",
        "            outputs = model(text)\n",
        "            loss = criterion(outputs.view(-1, output_size), labels.view(-1))\n",
        "            val_loss += loss.item()\n",
        "\n",
        "\n",
        "            _, predicted = torch.max(outputs, 2)\n",
        "            val_all_preds.extend(predicted.view(-1).cpu().numpy().tolist())\n",
        "            val_all_labels.extend(labels.view(-1).cpu().numpy().tolist())\n",
        "\n",
        "    train_losses.append(total_loss / len(train_loader))\n",
        "    val_losses.append(val_loss / len(val_loader))\n",
        "    train_f1 = f1_score(train_all_labels, train_all_preds, average='macro')\n",
        "    val_f1 = f1_score(val_all_labels, val_all_preds, average='macro')\n",
        "    train_f1s.append(train_f1)\n",
        "    val_f1s.append(val_f1)\n",
        "\n",
        "    print(f\"Epoch {epoch+1}/{num_epochs}, Training Loss: {total_loss:.4f}, Training Macro-F1: {train_f1:.4f}, Validation Loss: {val_loss:.4f}, Validation Macro-F1: {val_f1:.4f}\")\n"
      ]
    },
    {
      "cell_type": "code",
      "execution_count": 84,
      "metadata": {},
      "outputs": [],
      "source": [
        "# save tthe nmodel \n",
        "torch.save(model.state_dict(), 'NER_LSTMfast.pth')\n"
      ]
    },
    {
      "cell_type": "code",
      "execution_count": 85,
      "metadata": {
        "id": "zlfSYzAneeK9"
      },
      "outputs": [],
      "source": [
        "# Specify the path to your JSON file\n",
        "json_file_path = 'NER_test_data.json'\n",
        "\n",
        "# Read the JSON file\n",
        "with open(json_file_path) as f:\n",
        "    test_data = json.load(f)\n"
      ]
    },
    {
      "cell_type": "code",
      "execution_count": 86,
      "metadata": {
        "id": "a5S-YGSfeeK9"
      },
      "outputs": [],
      "source": [
        "X_test=[]\n",
        "y_test=[]\n",
        "\n",
        "for idx, word in enumerate(weight_model.index_to_key):\n",
        "    word_to_idx[word] = idx + 1\n",
        "# label_to_idx = {\"B\": 0, \"I\": 1, \"O\": 2}\n",
        "\n",
        "for key, value in test_data.items():\n",
        "    word = value['text'].split()\n",
        "    tags = value['labels']\n",
        "    sentence = value['text']\n",
        "    # if len(word) < max_len:\n",
        "    #     word += [''] * (max_len - len(word))\n",
        "    #     tags += ['O'] * (max_len - len(tags))\n",
        "    text_indices = []\n",
        "    for i in word:\n",
        "        index = word_to_idx.get(i, 0)\n",
        "        text_indices.append(index)\n",
        "    X_test.append(torch.tensor(text_indices))\n",
        "    y_test.append(torch.tensor([label_to_idx.get(label, -1) for label in tags if label in label_to_idx]))\n",
        "X_test = pad_sequence(X_test, batch_first=True, padding_value=0)\n",
        "y_test = pad_sequence(y_test, batch_first=True, padding_value=0)"
      ]
    },
    {
      "cell_type": "code",
      "execution_count": 87,
      "metadata": {
        "id": "hx0Ir85ueeK-",
        "outputId": "deeaeea4-9944-4a96-c7f4-489c02436e5f"
      },
      "outputs": [
        {
          "name": "stdout",
          "output_type": "stream",
          "text": [
            "Test Loss: 0.1886, Test Macro-F1: 0.4246\n"
          ]
        },
        {
          "data": {
            "image/png": "[encoded data removed]",
            "text/plain": [
              "<Figure size 640x480 with 1 Axes>"
            ]
          },
          "metadata": {},
          "output_type": "display_data"
        },
        {
          "data": {
            "image/png": "[encoded data removed]",
            "text/plain": [
              "<Figure size 640x480 with 1 Axes>"
            ]
          },
          "metadata": {},
          "output_type": "display_data"
        }
      ],
      "source": [
        "def evaluate_model(model, dataloader, criterion, tagset_size):\n",
        "    model.eval()\n",
        "    total_loss = 0\n",
        "    all_preds = []\n",
        "    all_labels = []\n",
        "\n",
        "    with torch.no_grad():\n",
        "        for text, labels in dataloader:\n",
        "            outputs = model(text)\n",
        "            loss = criterion(outputs.view(-1, tagset_size), labels.view(-1))\n",
        "            total_loss += loss.item()\n",
        "\n",
        "            _, predicted = torch.max(outputs, 2)\n",
        "            all_preds.extend(predicted.view(-1).cpu().numpy().tolist())\n",
        "            all_labels.extend(labels.view(-1).cpu().numpy().tolist())\n",
        "\n",
        "    avg_loss = total_loss / len(dataloader)\n",
        "    macro_f1 = f1_score(all_labels, all_preds, average='macro')\n",
        "\n",
        "    return avg_loss, macro_f1\n",
        "# Evaluate on the test dataset\n",
        "test_dataset = TensorDataset(X_test, y_test)\n",
        "test_loader = DataLoader(test_dataset, batch_size=128, shuffle=True)  # Decrease batch size\n",
        "\n",
        "test_loss, test_f1 = evaluate_model(model, test_loader, criterion, output_size)\n",
        "print(f\"Test Loss: {test_loss:.4f}, Test Macro-F1: {test_f1:.4f}\")\n",
        "\n",
        "# Plot the training and validation loss\n",
        "def showresults():\n",
        "    plt.plot(train_losses, label='Training Loss')\n",
        "    plt.plot(val_losses, label='Validation Loss')\n",
        "    plt.legend()\n",
        "    # save the graph\n",
        "    plt.savefig('loss_NER_LSTM.png')\n",
        "    plt.show()\n",
        "\n",
        "    plt.plot(train_f1s, label='Training Macro-F1')\n",
        "    plt.plot(val_f1s, label='Validation Macro-F1')\n",
        "    plt.legend()\n",
        "    # save the graph\n",
        "    plt.savefig('f1_NER_LSTM.png')\n",
        "    plt.show()\n",
        "showresults()"
      ]
    },
    {
      "cell_type": "code",
      "execution_count": 88,
      "metadata": {
        "id": "F8ydFEeZeeK-",
        "outputId": "842a3ecd-2cb9-4065-b10e-b697c2306ed7"
      },
      "outputs": [],
      "source": [
        "# #  save the model\n",
        "# # torch.save(model.state_dict(), 'NER_LSTM.pth')\n",
        "\n",
        "\n",
        "# #save it to the model  in h5\n",
        "# model.save('NER_LSTM.h5')\n",
        "           \n",
        "# #  load the model\n",
        "# model = LSTM(embedding_dim, hidden_size, vocab_size, output_size, torch.FloatTensor(weight_model.vectors))\n",
        "# model = \n",
        "# # model.load_state_dict(torch.load('NER_LSTM.pth'))\n",
        "\n",
        "# # model.load('NER_LSTM.h5')"
      ]
    },
    {
      "cell_type": "markdown",
      "metadata": {
        "id": "IviIl-J_on2O"
      },
      "source": [
        "**GRU**"
      ]
    },
    {
      "cell_type": "code",
      "execution_count": null,
      "metadata": {
        "id": "7It1HEHho6E8"
      },
      "outputs": [],
      "source": []
    },
    {
      "cell_type": "code",
      "execution_count": 89,
      "metadata": {
        "id": "8yHhcE_Ze4bV"
      },
      "outputs": [],
      "source": [
        "from gensim.models import KeyedVectors\n",
        "\n",
        "import torch\n",
        "\n",
        "import gensim.downloader as api\n",
        "import matplotlib.pyplot as plt\n",
        "from torch.nn.utils.rnn import pad_sequence"
      ]
    },
    {
      "cell_type": "code",
      "execution_count": 90,
      "metadata": {
        "id": "JX9N50Lme4bW"
      },
      "outputs": [],
      "source": [
        "import torch.nn as nn\n",
        "import torch.optim as optim\n",
        "from torch.utils.data import  DataLoader, TensorDataset\n",
        "from sklearn.metrics import f1_score"
      ]
    },
    {
      "cell_type": "code",
      "execution_count": 91,
      "metadata": {
        "id": "irW4aEswe4bX"
      },
      "outputs": [],
      "source": [
        "import json\n",
        "# Specify the path to your JSON file\n",
        "json_file_path = 'NER_training_data.json'\n",
        "\n",
        "# Read the JSON file\n",
        "with open(json_file_path) as f:\n",
        "    data = json.load(f)\n",
        "\n",
        "# data\n",
        "# print(len(data))\n",
        "\n",
        "# Specify the path to your JSON file\n",
        "json_file_path = 'NER_validation_data.json'\n",
        "\n",
        "# Read the JSON file\n",
        "with open(json_file_path) as f:\n",
        "    validation_data = json.load(f)\n",
        "\n"
      ]
    },
    {
      "cell_type": "code",
      "execution_count": 92,
      "metadata": {
        "id": "xAU8ZWnxe4bY"
      },
      "outputs": [],
      "source": [
        "\n",
        "for key, value in data.items():\n",
        "    word = value['text'].split()\n",
        "    labels = value['labels']\n",
        "    new_labels = []\n",
        "    new_word = []\n",
        "    for i in range(len(word)):\n",
        "        if(word[i]==''):\n",
        "            print(word)\n",
        "            continue\n",
        "        # new_labels.append(labels[i])\n",
        "        new_word.append(word[i])\n",
        "    # value['labels'] = new_labels\n",
        "    value['word'] = new_word\n"
      ]
    },
    {
      "cell_type": "code",
      "execution_count": 93,
      "metadata": {
        "id": "GWAgo3t-e4bY"
      },
      "outputs": [],
      "source": [
        "label_to_idx = {'O': 0, 'B_CASE_NUMBER': 1, 'I_CASE_NUMBER': 2, 'B_ORG': 3, 'I_ORG': 4, 'B_OTHER_PERSON': 5, 'I_OTHER_PERSON': 6,\n",
        "                    'B_STATUTE': 7, 'I_STATUTE': 8, 'B_PROVISION': 9, 'I_PROVISION': 10, 'B_COURT': 11, 'I_COURT': 12,\n",
        "                    'B_WITNESS': 13, 'I_WITNESS': 14, 'B_PRECEDENT': 15, 'I_PRECEDENT': 16, 'B_DATE': 17, 'I_DATE': 18,\n",
        "                    'B_PETITIONER': 19, 'I_PETITIONER': 20, 'B_GPE' : 21, 'I_GPE': 22, 'B_RESPONDENT': 23, 'I_RESPONDENT': 24,\n",
        "                    'B_COURT': 25, 'I_COURT': 26}"
      ]
    },
    {
      "cell_type": "code",
      "execution_count": 94,
      "metadata": {
        "id": "Of3Z9-qIe4bY",
        "outputId": "d6637d58-f4e9-4a80-c653-563b78486d7a"
      },
      "outputs": [
        {
          "name": "stdout",
          "output_type": "stream",
          "text": [
            "torch.Size([7545, 70])\n"
          ]
        }
      ],
      "source": [
        "sentence_for_training = []\n",
        "tags_for_training = []\n",
        "X_train=[]\n",
        "y_train=[]\n",
        "\n",
        "word_to_idx={}\n",
        "for idx, word in enumerate(weight_model.index_to_key):\n",
        "    word_to_idx[word] = idx + 1\n",
        "# label_to_idx = {\"B\": 0, \"I\": 1, \"O\": 2}\n",
        "\n",
        "for key, value in data.items():\n",
        "    word = value['text'].split()\n",
        "    tags = value['labels']\n",
        "    sentence = value['text']\n",
        "    # if len(word) < max_len:\n",
        "    #     word += [''] * (max_len - len(word))\n",
        "    #     tags += ['O'] * (max_len - len(tags))\n",
        "    T_idx = []\n",
        "    for i in word:\n",
        "        index = word_to_idx.get(i, 0)\n",
        "        T_idx.append(index)\n",
        "    X_train.append(torch.tensor(T_idx))\n",
        "    y_train.append(torch.tensor([label_to_idx.get(label, -1) for label in tags if label in label_to_idx]))\n",
        "X_train = pad_sequence(X_train, batch_first=True, padding_value=0)\n",
        "y_train = pad_sequence(y_train, batch_first=True, padding_value=0)\n",
        "\n",
        "print(X_train.shape)"
      ]
    },
    {
      "cell_type": "code",
      "execution_count": 95,
      "metadata": {
        "id": "ojZqNc82e4bY"
      },
      "outputs": [],
      "source": [
        "max_len=max([len(i) for i in X_train])\n",
        "X_validation=[]\n",
        "y_validation=[]\n",
        "\n",
        "word_to_idx={}\n",
        "# word_to_idx = {word: idx + 1 for idx, word in enumerate(word_vectors.index_to_key)}\n",
        "for idx, word in enumerate(weight_model.index_to_key):\n",
        "    word_to_idx[word] = idx + 1\n",
        "# label_to_idx = {\"B\": 0, \"I\": 1, \"O\": 2}\n",
        "\n",
        "for key, value in validation_data.items():\n",
        "    word = value['text'].split()\n",
        "    tags = value['labels']\n",
        "    sentence = value['text']\n",
        "    # if len(word) < max_len:\n",
        "    #     word += [''] * (max_len - len(word))\n",
        "    #     tags += ['O'] * (max_len - len(tags))\n",
        "    text_indices = []\n",
        "    for i in word:\n",
        "        index = word_to_idx.get(i, 0)\n",
        "        text_indices.append(index)\n",
        "    # text_indices = [word_to_idx.get(word, 0) for word in word]\n",
        "    X_validation.append(torch.tensor(text_indices))\n",
        "    y_validation.append(torch.tensor([label_to_idx.get(label, -1) for label in tags if label in label_to_idx]))\n",
        "X_validation = pad_sequence(X_validation, batch_first=True, padding_value=0)\n",
        "y_validation = pad_sequence(y_validation, batch_first=True, padding_value=0)"
      ]
    },
    {
      "cell_type": "code",
      "execution_count": 96,
      "metadata": {
        "id": "wW6aIftSe4bZ"
      },
      "outputs": [],
      "source": [
        "class GRUTagger(nn.Module):\n",
        "    def __init__(self, embedding_dim, hidden_dim, vocab_size, tagset_size, word_embeddings):\n",
        "        super(GRUTagger, self).__init__()\n",
        "        self.embedding = nn.Embedding.from_pretrained(word_embeddings, freeze=True)\n",
        "        self.gru = nn.RNN(embedding_dim, hidden_dim, batch_first=True)\n",
        "        self.linear = nn.Linear(hidden_dim, tagset_size)\n",
        "\n",
        "    def forward(self, sentence):\n",
        "        embedding = self.embedding(sentence)\n",
        "        gru_out_embed, _ = self.gru(embedding)\n",
        "        tag_space_gru = self.linear(gru_out_embed)\n",
        "        return tag_space_gru"
      ]
    },
    {
      "cell_type": "code",
      "execution_count": 97,
      "metadata": {
        "id": "Ispcr2Jne4bZ"
      },
      "outputs": [],
      "source": [
        "# Define hyperparameters\n",
        "input_size = len(word_to_idx) + 1  # Add 1 for padding token\n",
        "embedding_dim = weight_model.vector_size  # Should match the dimensionality of your word vectors\n",
        "hidden_size = 64\n",
        "vocab_size = len(weight_model.index_to_key)\n",
        "\n",
        "output_size = 27"
      ]
    },
    {
      "cell_type": "code",
      "execution_count": 98,
      "metadata": {
        "id": "zLwWhMeae4bZ",
        "outputId": "97919332-b0be-4eeb-b5f9-4879f8703c79"
      },
      "outputs": [],
      "source": [
        "model = GRUTagger(embedding_dim, hidden_size, vocab_size, output_size, torch.FloatTensor(weight_model.vectors))"
      ]
    },
    {
      "cell_type": "code",
      "execution_count": 99,
      "metadata": {
        "id": "cJTwnTobe4ba",
        "outputId": "925cca83-d4f1-48d7-823f-b6096e756361"
      },
      "outputs": [],
      "source": [
        "# Define loss function and optimizer\n",
        "criterion = nn.CrossEntropyLoss()\n",
        "optimizer = torch.optim.Adam(model.parameters(), lr=0.001)"
      ]
    },
    {
      "cell_type": "code",
      "execution_count": 100,
      "metadata": {
        "id": "h-UrSV9qe4ba"
      },
      "outputs": [],
      "source": [
        "# Prepare data loaders\n",
        "train_dataset = TensorDataset(X_train, y_train)\n",
        "train_loader = DataLoader(train_dataset, batch_size=128, shuffle=True)  # Decrease batch size\n",
        "val_dataset = TensorDataset(X_validation, y_validation)\n",
        "val_loader = DataLoader(val_dataset, batch_size=128, shuffle=True)  # Decrease batch size"
      ]
    },
    {
      "cell_type": "code",
      "execution_count": 101,
      "metadata": {
        "id": "YVIjt4Lme4ba"
      },
      "outputs": [],
      "source": [
        "# Train the model\n",
        "train_losses = []\n",
        "val_losses = []\n",
        "train_f1s = []\n",
        "val_f1s = []"
      ]
    },
    {
      "cell_type": "code",
      "execution_count": 102,
      "metadata": {
        "id": "d0J4FZOme4ba",
        "outputId": "c19d9a7f-58b8-4cfa-c0dd-39dd4d964f05"
      },
      "outputs": [
        {
          "name": "stdout",
          "output_type": "stream",
          "text": [
            "Epoch 1/100, Training Loss: 66.0508, Training Macro-F1: 0.0361, Validation Loss: 5.3894, Validation Macro-F1: 0.0385\n",
            "Epoch 2/100, Training Loss: 28.5007, Training Macro-F1: 0.0385, Validation Loss: 5.2796, Validation Macro-F1: 0.0385\n",
            "Epoch 3/100, Training Loss: 27.6941, Training Macro-F1: 0.0385, Validation Loss: 5.0473, Validation Macro-F1: 0.0385\n",
            "Epoch 4/100, Training Loss: 26.4544, Training Macro-F1: 0.0385, Validation Loss: 4.7796, Validation Macro-F1: 0.0385\n",
            "Epoch 5/100, Training Loss: 24.9535, Training Macro-F1: 0.0385, Validation Loss: 4.5633, Validation Macro-F1: 0.0385\n",
            "Epoch 6/100, Training Loss: 23.7063, Training Macro-F1: 0.0371, Validation Loss: 4.2991, Validation Macro-F1: 0.0385\n",
            "Epoch 7/100, Training Loss: 22.3665, Training Macro-F1: 0.0371, Validation Loss: 4.0375, Validation Macro-F1: 0.0388\n",
            "Epoch 8/100, Training Loss: 21.3942, Training Macro-F1: 0.0395, Validation Loss: 3.9368, Validation Macro-F1: 0.0484\n",
            "Epoch 9/100, Training Loss: 20.6068, Training Macro-F1: 0.0469, Validation Loss: 3.7680, Validation Macro-F1: 0.0514\n",
            "Epoch 10/100, Training Loss: 19.9542, Training Macro-F1: 0.0512, Validation Loss: 3.6656, Validation Macro-F1: 0.0529\n",
            "Epoch 11/100, Training Loss: 19.4334, Training Macro-F1: 0.0536, Validation Loss: 3.5629, Validation Macro-F1: 0.0556\n",
            "Epoch 12/100, Training Loss: 18.9706, Training Macro-F1: 0.0656, Validation Loss: 3.5971, Validation Macro-F1: 0.0661\n",
            "Epoch 13/100, Training Loss: 18.4920, Training Macro-F1: 0.0735, Validation Loss: 3.4510, Validation Macro-F1: 0.0716\n",
            "Epoch 14/100, Training Loss: 18.0329, Training Macro-F1: 0.0786, Validation Loss: 3.3279, Validation Macro-F1: 0.0838\n",
            "Epoch 15/100, Training Loss: 17.7764, Training Macro-F1: 0.0829, Validation Loss: 3.3343, Validation Macro-F1: 0.0923\n",
            "Epoch 16/100, Training Loss: 17.2229, Training Macro-F1: 0.0973, Validation Loss: 3.2346, Validation Macro-F1: 0.1031\n",
            "Epoch 17/100, Training Loss: 16.8408, Training Macro-F1: 0.1091, Validation Loss: 3.1726, Validation Macro-F1: 0.1195\n",
            "Epoch 18/100, Training Loss: 16.4504, Training Macro-F1: 0.1204, Validation Loss: 3.1702, Validation Macro-F1: 0.1213\n",
            "Epoch 19/100, Training Loss: 16.1291, Training Macro-F1: 0.1289, Validation Loss: 3.0331, Validation Macro-F1: 0.1269\n",
            "Epoch 20/100, Training Loss: 15.8240, Training Macro-F1: 0.1362, Validation Loss: 3.0381, Validation Macro-F1: 0.1341\n",
            "Epoch 21/100, Training Loss: 15.6102, Training Macro-F1: 0.1434, Validation Loss: 2.9848, Validation Macro-F1: 0.1423\n",
            "Epoch 22/100, Training Loss: 15.1626, Training Macro-F1: 0.1544, Validation Loss: 2.8321, Validation Macro-F1: 0.1587\n",
            "Epoch 23/100, Training Loss: 14.8461, Training Macro-F1: 0.1681, Validation Loss: 2.8330, Validation Macro-F1: 0.1690\n",
            "Epoch 24/100, Training Loss: 14.5942, Training Macro-F1: 0.1788, Validation Loss: 2.8171, Validation Macro-F1: 0.1730\n",
            "Epoch 25/100, Training Loss: 14.3772, Training Macro-F1: 0.1878, Validation Loss: 2.7926, Validation Macro-F1: 0.1862\n",
            "Epoch 26/100, Training Loss: 14.0653, Training Macro-F1: 0.1996, Validation Loss: 2.6876, Validation Macro-F1: 0.1969\n",
            "Epoch 27/100, Training Loss: 13.8385, Training Macro-F1: 0.2135, Validation Loss: 2.6977, Validation Macro-F1: 0.2095\n",
            "Epoch 28/100, Training Loss: 13.5945, Training Macro-F1: 0.2240, Validation Loss: 2.6816, Validation Macro-F1: 0.2249\n",
            "Epoch 29/100, Training Loss: 13.4209, Training Macro-F1: 0.2349, Validation Loss: 2.5896, Validation Macro-F1: 0.2311\n",
            "Epoch 30/100, Training Loss: 13.1460, Training Macro-F1: 0.2457, Validation Loss: 2.5883, Validation Macro-F1: 0.2485\n",
            "Epoch 31/100, Training Loss: 12.9506, Training Macro-F1: 0.2567, Validation Loss: 2.5485, Validation Macro-F1: 0.2497\n",
            "Epoch 32/100, Training Loss: 12.8492, Training Macro-F1: 0.2617, Validation Loss: 2.5681, Validation Macro-F1: 0.2659\n",
            "Epoch 33/100, Training Loss: 12.5916, Training Macro-F1: 0.2698, Validation Loss: 2.4726, Validation Macro-F1: 0.2657\n",
            "Epoch 34/100, Training Loss: 12.3350, Training Macro-F1: 0.2816, Validation Loss: 2.5380, Validation Macro-F1: 0.2606\n",
            "Epoch 35/100, Training Loss: 12.2027, Training Macro-F1: 0.2857, Validation Loss: 2.4769, Validation Macro-F1: 0.2811\n",
            "Epoch 36/100, Training Loss: 12.0204, Training Macro-F1: 0.2925, Validation Loss: 2.4187, Validation Macro-F1: 0.2825\n",
            "Epoch 37/100, Training Loss: 11.8564, Training Macro-F1: 0.2982, Validation Loss: 2.3843, Validation Macro-F1: 0.2900\n",
            "Epoch 38/100, Training Loss: 11.8311, Training Macro-F1: 0.3025, Validation Loss: 2.3861, Validation Macro-F1: 0.2977\n",
            "Epoch 39/100, Training Loss: 11.6268, Training Macro-F1: 0.3074, Validation Loss: 2.3442, Validation Macro-F1: 0.2902\n",
            "Epoch 40/100, Training Loss: 11.5211, Training Macro-F1: 0.3121, Validation Loss: 2.3314, Validation Macro-F1: 0.3053\n",
            "Epoch 41/100, Training Loss: 11.4219, Training Macro-F1: 0.3174, Validation Loss: 2.3000, Validation Macro-F1: 0.3013\n",
            "Epoch 42/100, Training Loss: 11.4016, Training Macro-F1: 0.3191, Validation Loss: 2.3404, Validation Macro-F1: 0.3017\n",
            "Epoch 43/100, Training Loss: 11.1986, Training Macro-F1: 0.3247, Validation Loss: 2.3298, Validation Macro-F1: 0.2995\n",
            "Epoch 44/100, Training Loss: 11.0953, Training Macro-F1: 0.3281, Validation Loss: 2.2558, Validation Macro-F1: 0.3096\n",
            "Epoch 45/100, Training Loss: 10.9737, Training Macro-F1: 0.3325, Validation Loss: 2.2322, Validation Macro-F1: 0.3168\n",
            "Epoch 46/100, Training Loss: 10.9045, Training Macro-F1: 0.3341, Validation Loss: 2.3168, Validation Macro-F1: 0.3086\n",
            "Epoch 47/100, Training Loss: 10.8163, Training Macro-F1: 0.3371, Validation Loss: 2.2014, Validation Macro-F1: 0.3181\n",
            "Epoch 48/100, Training Loss: 10.7371, Training Macro-F1: 0.3405, Validation Loss: 2.2362, Validation Macro-F1: 0.3272\n",
            "Epoch 49/100, Training Loss: 10.6550, Training Macro-F1: 0.3435, Validation Loss: 2.2159, Validation Macro-F1: 0.3183\n",
            "Epoch 50/100, Training Loss: 10.5220, Training Macro-F1: 0.3475, Validation Loss: 2.1908, Validation Macro-F1: 0.3337\n",
            "Epoch 51/100, Training Loss: 10.4712, Training Macro-F1: 0.3489, Validation Loss: 2.1570, Validation Macro-F1: 0.3171\n",
            "Epoch 52/100, Training Loss: 10.3941, Training Macro-F1: 0.3529, Validation Loss: 2.1648, Validation Macro-F1: 0.3284\n",
            "Epoch 53/100, Training Loss: 10.3258, Training Macro-F1: 0.3548, Validation Loss: 2.1543, Validation Macro-F1: 0.3346\n",
            "Epoch 54/100, Training Loss: 10.3291, Training Macro-F1: 0.3564, Validation Loss: 2.1333, Validation Macro-F1: 0.3384\n",
            "Epoch 55/100, Training Loss: 10.1488, Training Macro-F1: 0.3596, Validation Loss: 2.1226, Validation Macro-F1: 0.3436\n",
            "Epoch 56/100, Training Loss: 10.1329, Training Macro-F1: 0.3610, Validation Loss: 2.1402, Validation Macro-F1: 0.3306\n",
            "Epoch 57/100, Training Loss: 10.0495, Training Macro-F1: 0.3646, Validation Loss: 2.1967, Validation Macro-F1: 0.3294\n",
            "Epoch 58/100, Training Loss: 9.9643, Training Macro-F1: 0.3661, Validation Loss: 2.0890, Validation Macro-F1: 0.3403\n",
            "Epoch 59/100, Training Loss: 9.9098, Training Macro-F1: 0.3679, Validation Loss: 2.0910, Validation Macro-F1: 0.3331\n",
            "Epoch 60/100, Training Loss: 9.8638, Training Macro-F1: 0.3714, Validation Loss: 2.0766, Validation Macro-F1: 0.3485\n",
            "Epoch 61/100, Training Loss: 9.7940, Training Macro-F1: 0.3741, Validation Loss: 2.1155, Validation Macro-F1: 0.3388\n",
            "Epoch 62/100, Training Loss: 9.7872, Training Macro-F1: 0.3743, Validation Loss: 2.1093, Validation Macro-F1: 0.3487\n",
            "Epoch 63/100, Training Loss: 9.6890, Training Macro-F1: 0.3774, Validation Loss: 2.1310, Validation Macro-F1: 0.3539\n",
            "Epoch 64/100, Training Loss: 9.6430, Training Macro-F1: 0.3773, Validation Loss: 2.1935, Validation Macro-F1: 0.3525\n",
            "Epoch 65/100, Training Loss: 9.5903, Training Macro-F1: 0.3810, Validation Loss: 2.0940, Validation Macro-F1: 0.3468\n",
            "Epoch 66/100, Training Loss: 9.4782, Training Macro-F1: 0.3838, Validation Loss: 2.1098, Validation Macro-F1: 0.3576\n",
            "Epoch 67/100, Training Loss: 9.4521, Training Macro-F1: 0.3849, Validation Loss: 2.0516, Validation Macro-F1: 0.3627\n",
            "Epoch 68/100, Training Loss: 9.4264, Training Macro-F1: 0.3869, Validation Loss: 2.0818, Validation Macro-F1: 0.3577\n",
            "Epoch 69/100, Training Loss: 9.3970, Training Macro-F1: 0.3873, Validation Loss: 2.0889, Validation Macro-F1: 0.3524\n",
            "Epoch 70/100, Training Loss: 9.2957, Training Macro-F1: 0.3905, Validation Loss: 2.0466, Validation Macro-F1: 0.3616\n",
            "Epoch 71/100, Training Loss: 9.3803, Training Macro-F1: 0.3935, Validation Loss: 2.0422, Validation Macro-F1: 0.3514\n",
            "Epoch 72/100, Training Loss: 9.1851, Training Macro-F1: 0.3937, Validation Loss: 2.0374, Validation Macro-F1: 0.3606\n",
            "Epoch 73/100, Training Loss: 9.1741, Training Macro-F1: 0.3975, Validation Loss: 2.0937, Validation Macro-F1: 0.3611\n",
            "Epoch 74/100, Training Loss: 9.1561, Training Macro-F1: 0.3988, Validation Loss: 2.0492, Validation Macro-F1: 0.3748\n",
            "Epoch 75/100, Training Loss: 9.1205, Training Macro-F1: 0.3987, Validation Loss: 2.1292, Validation Macro-F1: 0.3533\n",
            "Epoch 76/100, Training Loss: 9.0957, Training Macro-F1: 0.3994, Validation Loss: 2.0155, Validation Macro-F1: 0.3549\n",
            "Epoch 77/100, Training Loss: 9.0409, Training Macro-F1: 0.4028, Validation Loss: 2.0055, Validation Macro-F1: 0.3679\n",
            "Epoch 78/100, Training Loss: 8.9470, Training Macro-F1: 0.4081, Validation Loss: 2.0406, Validation Macro-F1: 0.3675\n",
            "Epoch 79/100, Training Loss: 8.9159, Training Macro-F1: 0.4081, Validation Loss: 2.0011, Validation Macro-F1: 0.3689\n",
            "Epoch 80/100, Training Loss: 8.8561, Training Macro-F1: 0.4094, Validation Loss: 2.0448, Validation Macro-F1: 0.3785\n",
            "Epoch 81/100, Training Loss: 8.8241, Training Macro-F1: 0.4124, Validation Loss: 2.0120, Validation Macro-F1: 0.3734\n",
            "Epoch 82/100, Training Loss: 8.7940, Training Macro-F1: 0.4138, Validation Loss: 2.0118, Validation Macro-F1: 0.3744\n",
            "Epoch 83/100, Training Loss: 8.7684, Training Macro-F1: 0.4179, Validation Loss: 2.0042, Validation Macro-F1: 0.3738\n",
            "Epoch 84/100, Training Loss: 8.7008, Training Macro-F1: 0.4189, Validation Loss: 2.0689, Validation Macro-F1: 0.3674\n",
            "Epoch 85/100, Training Loss: 8.6922, Training Macro-F1: 0.4210, Validation Loss: 2.0266, Validation Macro-F1: 0.3690\n",
            "Epoch 86/100, Training Loss: 9.1910, Training Macro-F1: 0.4109, Validation Loss: 2.0027, Validation Macro-F1: 0.3687\n",
            "Epoch 87/100, Training Loss: 8.7136, Training Macro-F1: 0.4224, Validation Loss: 2.0060, Validation Macro-F1: 0.3683\n",
            "Epoch 88/100, Training Loss: 8.6342, Training Macro-F1: 0.4244, Validation Loss: 2.0003, Validation Macro-F1: 0.3863\n",
            "Epoch 89/100, Training Loss: 8.5167, Training Macro-F1: 0.4283, Validation Loss: 2.0266, Validation Macro-F1: 0.3758\n",
            "Epoch 90/100, Training Loss: 8.4955, Training Macro-F1: 0.4306, Validation Loss: 1.9752, Validation Macro-F1: 0.3799\n",
            "Epoch 91/100, Training Loss: 8.4621, Training Macro-F1: 0.4303, Validation Loss: 2.0130, Validation Macro-F1: 0.3799\n",
            "Epoch 92/100, Training Loss: 8.4418, Training Macro-F1: 0.4346, Validation Loss: 2.1313, Validation Macro-F1: 0.3779\n",
            "Epoch 93/100, Training Loss: 10.1656, Training Macro-F1: 0.3933, Validation Loss: 2.0054, Validation Macro-F1: 0.3819\n",
            "Epoch 94/100, Training Loss: 8.7386, Training Macro-F1: 0.4263, Validation Loss: 1.9805, Validation Macro-F1: 0.3843\n",
            "Epoch 95/100, Training Loss: 8.5274, Training Macro-F1: 0.4331, Validation Loss: 1.9755, Validation Macro-F1: 0.3779\n",
            "Epoch 96/100, Training Loss: 8.4215, Training Macro-F1: 0.4337, Validation Loss: 2.0634, Validation Macro-F1: 0.3904\n",
            "Epoch 97/100, Training Loss: 8.3643, Training Macro-F1: 0.4379, Validation Loss: 2.0428, Validation Macro-F1: 0.3860\n",
            "Epoch 98/100, Training Loss: 8.2985, Training Macro-F1: 0.4426, Validation Loss: 1.9480, Validation Macro-F1: 0.3957\n",
            "Epoch 99/100, Training Loss: 8.2924, Training Macro-F1: 0.4428, Validation Loss: 1.9922, Validation Macro-F1: 0.3973\n",
            "Epoch 100/100, Training Loss: 8.2315, Training Macro-F1: 0.4469, Validation Loss: 1.9904, Validation Macro-F1: 0.3968\n"
          ]
        }
      ],
      "source": [
        "num_epochs = 100\n",
        "predicted_labels1 = []\n",
        "for epoch in range(num_epochs):\n",
        "    model.train()\n",
        "    total_loss = 0\n",
        "    train_all_preds = []\n",
        "    train_all_labels = []\n",
        "    for text, labels in train_loader:\n",
        "        optimizer.zero_grad()\n",
        "        outputs = model(text)\n",
        "        loss = criterion(outputs.view(-1, output_size), labels.view(-1))\n",
        "        loss.backward()\n",
        "        optimizer.step()\n",
        "        total_loss += loss.item()\n",
        "\n",
        "        _, predicted = torch.max(outputs, 2)\n",
        "        train_all_preds.extend(predicted.view(-1).cpu().numpy().tolist())\n",
        "        predicted_labels1.extend(predicted.view(-1).cpu().numpy().tolist())\n",
        "        train_all_labels.extend(labels.view(-1).cpu().numpy().tolist())\n",
        "\n",
        "    val_loss = 0\n",
        "    val_all_preds = []\n",
        "    val_all_labels = []\n",
        "    with torch.no_grad():\n",
        "        model.eval()\n",
        "        for text, labels in val_loader:\n",
        "            outputs = model(text)\n",
        "            loss = criterion(outputs.view(-1, output_size), labels.view(-1))\n",
        "            val_loss += loss.item()\n",
        "\n",
        "\n",
        "            _, predicted = torch.max(outputs, 2)\n",
        "            val_all_preds.extend(predicted.view(-1).cpu().numpy().tolist())\n",
        "            val_all_labels.extend(labels.view(-1).cpu().numpy().tolist())\n",
        "\n",
        "    train_losses.append(total_loss / len(train_loader))\n",
        "    val_losses.append(val_loss / len(val_loader))\n",
        "    train_f1 = f1_score(train_all_labels, train_all_preds, average='macro')\n",
        "    val_f1 = f1_score(val_all_labels, val_all_preds, average='macro')\n",
        "    train_f1s.append(train_f1)\n",
        "    val_f1s.append(val_f1)\n",
        "\n",
        "    print(f\"Epoch {epoch+1}/{num_epochs}, Training Loss: {total_loss:.4f}, Training Macro-F1: {train_f1:.4f}, Validation Loss: {val_loss:.4f}, Validation Macro-F1: {val_f1:.4f}\")\n"
      ]
    },
    {
      "cell_type": "code",
      "execution_count": 103,
      "metadata": {
        "id": "ML67HQkze4bb"
      },
      "outputs": [],
      "source": [
        "# Specify the path to your JSON file\n",
        "json_file_path = 'NER_test_data.json'\n",
        "\n",
        "# Read the JSON file\n",
        "with open(json_file_path) as f:\n",
        "    test_data = json.load(f)\n"
      ]
    },
    {
      "cell_type": "code",
      "execution_count": 104,
      "metadata": {
        "id": "PtBzJJu7e4bb"
      },
      "outputs": [],
      "source": [
        "X_test=[]\n",
        "y_test=[]\n",
        "\n",
        "for idx, word in enumerate(weight_model.index_to_key):\n",
        "    word_to_idx[word] = idx + 1\n",
        "# label_to_idx = {\"B\": 0, \"I\": 1, \"O\": 2}\n",
        "\n",
        "for key, value in test_data.items():\n",
        "    word = value['text'].split()\n",
        "    tags = value['labels']\n",
        "    sentence = value['text']\n",
        "    # if len(word) < max_len:\n",
        "    #     word += [''] * (max_len - len(word))\n",
        "    #     tags += ['O'] * (max_len - len(tags))\n",
        "    text_indices = []\n",
        "    for i in word:\n",
        "        index = word_to_idx.get(i, 0)\n",
        "        text_indices.append(index)\n",
        "    X_test.append(torch.tensor(text_indices))\n",
        "    y_test.append(torch.tensor([label_to_idx.get(label, -1) for label in tags if label in label_to_idx]))\n",
        "X_test = pad_sequence(X_test, batch_first=True, padding_value=0)\n",
        "y_test = pad_sequence(y_test, batch_first=True, padding_value=0)"
      ]
    },
    {
      "cell_type": "code",
      "execution_count": 105,
      "metadata": {
        "id": "8L2sC86Je4bb",
        "outputId": "f815180b-f3f1-4072-de44-85d3f26e1a6d"
      },
      "outputs": [
        {
          "name": "stdout",
          "output_type": "stream",
          "text": [
            "Test Loss: 0.1888, Test Macro-F1: 0.3954\n"
          ]
        },
        {
          "data": {
            "image/png": "[encoded data removed]",
            "text/plain": [
              "<Figure size 640x480 with 1 Axes>"
            ]
          },
          "metadata": {},
          "output_type": "display_data"
        },
        {
          "data": {
            "image/png": "[encoded data removed]",
            "text/plain": [
              "<Figure size 640x480 with 1 Axes>"
            ]
          },
          "metadata": {},
          "output_type": "display_data"
        }
      ],
      "source": [
        "def evaluate_model(model, dataloader, criterion, tagset_size):\n",
        "    model.eval()\n",
        "    total_loss = 0\n",
        "    all_preds = []\n",
        "    all_labels = []\n",
        "\n",
        "    with torch.no_grad():\n",
        "        for text, labels in dataloader:\n",
        "            outputs = model(text)\n",
        "            loss = criterion(outputs.view(-1, tagset_size), labels.view(-1))\n",
        "            total_loss += loss.item()\n",
        "\n",
        "            _, predicted = torch.max(outputs, 2)\n",
        "            all_preds.extend(predicted.view(-1).cpu().numpy().tolist())\n",
        "            all_labels.extend(labels.view(-1).cpu().numpy().tolist())\n",
        "\n",
        "    avg_loss = total_loss / len(dataloader)\n",
        "    macro_f1 = f1_score(all_labels, all_preds, average='macro')\n",
        "\n",
        "    return avg_loss, macro_f1\n",
        "# Evaluate on the test dataset\n",
        "test_dataset = TensorDataset(X_test, y_test)\n",
        "test_loader = DataLoader(test_dataset, batch_size=128, shuffle=True)  # Decrease batch size\n",
        "\n",
        "test_loss, test_f1 = evaluate_model(model, test_loader, criterion, output_size)\n",
        "print(f\"Test Loss: {test_loss:.4f}, Test Macro-F1: {test_f1:.4f}\")\n",
        "\n",
        "\n",
        "# Plot the training and validation loss\n",
        "def showresults():\n",
        "    plt.plot(train_losses, label='Training Loss')\n",
        "    plt.plot(val_losses, label='Validation Loss')\n",
        "    plt.legend()\n",
        "    # save the graph\n",
        "    plt.savefig('loss_NER_GRU.png')\n",
        "    plt.show()\n",
        "\n",
        "    plt.plot(train_f1s, label='Training Macro-F1')\n",
        "    plt.plot(val_f1s, label='Validation Macro-F1')\n",
        "    plt.legend()\n",
        "    # save the graph\n",
        "    plt.savefig('f1_NER_GRU.png')\n",
        "    plt.show()\n",
        "showresults()"
      ]
    },
    {
      "cell_type": "code",
      "execution_count": 106,
      "metadata": {},
      "outputs": [],
      "source": [
        "# save tthe nmodel \n",
        "torch.save(model.state_dict(), 'NER_GRU.pth')\n"
      ]
    },
    {
      "cell_type": "code",
      "execution_count": null,
      "metadata": {},
      "outputs": [],
      "source": []
    }
  ],
  "metadata": {
    "colab": {
      "provenance": []
    },
    "kernelspec": {
      "display_name": "Python 3",
      "language": "python",
      "name": "python3"
    },
    "language_info": {
      "codemirror_mode": {
        "name": "ipython",
        "version": 3
      },
      "file_extension": ".py",
      "mimetype": "text/x-python",
      "name": "python",
      "nbconvert_exporter": "python",
      "pygments_lexer": "ipython3",
      "version": "3.11.3"
    }
  },
  "nbformat": 4,
  "nbformat_minor": 0
}
