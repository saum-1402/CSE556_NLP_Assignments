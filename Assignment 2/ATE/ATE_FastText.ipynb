{
  "cells": [
    {
      "cell_type": "code",
      "execution_count": 1,
      "metadata": {
        "id": "jfHG8zJPkQrk"
      },
      "outputs": [],
      "source": [
        "import gensim.downloader as api\n",
        "\n",
        "# Load the model using gensim.downloader\n",
        "model_GloVe = api.load(\"fasttext-wiki-news-subwords-300\")"
      ]
    },
    {
      "cell_type": "code",
      "execution_count": null,
      "metadata": {
        "id": "iS4m2brx5Ggt"
      },
      "outputs": [],
      "source": []
    },
    {
      "cell_type": "code",
      "execution_count": 3,
      "metadata": {
        "id": "ej0QUa4jxzsV"
      },
      "outputs": [],
      "source": [
        "\n",
        "from gensim.models import KeyedVectors# Load pre-trained model\n",
        "# import torch\n",
        "# import torch.nn as nn\n",
        "import json\n",
        "import tensorflow as tf\n",
        "from tensorflow.keras.preprocessing.text import Tokenizer\n",
        "from tensorflow.keras.preprocessing.sequence import pad_sequences\n",
        "from keras.utils import to_categorical\n",
        "import numpy as np\n",
        "import keras\n"
      ]
    },
    {
      "cell_type": "code",
      "execution_count": 4,
      "metadata": {
        "id": "cVFmMOoKxzsX"
      },
      "outputs": [],
      "source": [
        "# Specify the path to your JSON file\n",
        "json_file_path = 'ATE_training_data.json'\n",
        "\n",
        "# Read the JSON file\n",
        "with open(json_file_path) as f:\n",
        "    data = json.load(f)\n",
        "\n",
        "# data\n",
        "# print(len(data))\n",
        "\n",
        "# Specify the path to your JSON file\n",
        "json_file_path = 'ATE_validation_data.json'\n",
        "\n",
        "# Read the JSON file\n",
        "with open(json_file_path) as f:\n",
        "    validation_data = json.load(f)\n",
        "\n",
        "\n"
      ]
    },
    {
      "cell_type": "code",
      "execution_count": 5,
      "metadata": {
        "id": "tynHnkjqxzsX"
      },
      "outputs": [],
      "source": [
        "# max_len=0\n",
        "# for key,value in data.items():\n",
        "#     max_len=max(max_len,len(value['text'].split(\" \")))\n",
        "max_len=78\n"
      ]
    },
    {
      "cell_type": "code",
      "execution_count": 6,
      "metadata": {
        "id": "67jvkQyAxzsX"
      },
      "outputs": [],
      "source": [
        "c=1\n",
        "for key, value in data.items():\n",
        "    word = value['text'].split(\" \")\n",
        "    labels = value['labels']\n",
        "    new_labels = []\n",
        "    new_word = []\n",
        "    for i in range(len(word)):\n",
        "        if(word[i]==''):\n",
        "            print(word)\n",
        "            continue\n",
        "        # new_labels.append(labels[i])\n",
        "        new_word.append(word[i])\n",
        "    # value['labels'] = new_labels\n",
        "    value['word'] = new_word\n",
        "\n",
        "\n",
        "for key, value in validation_data.items():\n",
        "    word = value['text'].split(\" \")\n",
        "    labels = value['labels']\n",
        "    new_labels = []\n",
        "    new_word = []\n",
        "    for i in range(len(word)):\n",
        "        if(word[i]==''):\n",
        "            continue\n",
        "        # new_labels.append(labels[i])\n",
        "        new_word.append(word[i])\n",
        "    # value['labels'] = new_labels\n",
        "    value['word'] = new_word"
      ]
    },
    {
      "cell_type": "code",
      "execution_count": 8,
      "metadata": {
        "id": "uMSk9nHzxzsY"
      },
      "outputs": [],
      "source": [
        "sentence_for_training = []\n",
        "tags_for_training = []\n",
        "X_train = []\n",
        "\n",
        "for key, value in data.items():\n",
        "    word = value['word']\n",
        "    tags = value['labels']\n",
        "    sentence = value['text']\n",
        "    # Pad the entire sentence\n",
        "    # if len(word) < max_len:\n",
        "    #     word += [''] * (max_len - len(word))\n",
        "    #     tags += ['O'] * (max_len - len(tags))\n",
        "\n",
        "    sentence_for_training.append(word)\n",
        "    tags_for_training.append(tags)\n",
        "\n",
        "    # # Tokenize the entire sentence\n",
        "    # tokenizer = Tokenizer()\n",
        "    # tokenizer.fit_on_texts([word])\n",
        "    X_train.append(word)\n",
        "\n",
        "\n",
        "tokenizer = Tokenizer()\n",
        "tokenizer.fit_on_texts(X_train)\n",
        "X_train = tokenizer.texts_to_sequences(X_train)\n",
        "X_train = pad_sequences(X_train, maxlen=max_len, padding='post', truncating='pre')\n",
        "# print(max_len)\n",
        "# for i in X_train:\n",
        "#     if(len(i)>max_len):\n",
        "#         print(len(i))"
      ]
    },
    {
      "cell_type": "code",
      "execution_count": 9,
      "metadata": {
        "colab": {
          "base_uri": "https://localhost:8080/"
        },
        "id": "t-GOBDk56VlO",
        "outputId": "8c8cc10b-cb8c-438f-9eef-6066a82332f3"
      },
      "outputs": [
        {
          "name": "stdout",
          "output_type": "stream",
          "text": [
            "[ 327    3    1  414 1169    4  199 1170 1171  200  136   72  268  156\n",
            "  805   41  806   15  328  201   36    2    0    0    0    0    0    0\n",
            "    0    0    0    0    0    0    0    0    0    0    0    0    0    0\n",
            "    0    0    0    0    0    0    0    0    0    0    0    0    0    0\n",
            "    0    0    0    0    0    0    0    0    0    0    0    0    0    0\n",
            "    0    0    0    0    0    0    0    0]\n",
            "['However', ',', 'the', 'multi-touch', 'gestures', 'and', 'large', 'tracking', 'area', 'make', 'having', 'an', 'external', 'mouse', 'unnecessary', '(', 'unless', 'you', \"'re\", 'gaming', ')', '.']\n"
          ]
        }
      ],
      "source": [
        "print(X_train[5])\n",
        "print(sentence_for_training[5])"
      ]
    },
    {
      "cell_type": "code",
      "execution_count": 10,
      "metadata": {
        "colab": {
          "base_uri": "https://localhost:8080/"
        },
        "id": "QdDIx9Eg6X-C",
        "outputId": "566a96ca-f0eb-42fc-b442-81db6437f929"
      },
      "outputs": [
        {
          "data": {
            "text/plain": [
              "(906, 78)"
            ]
          },
          "execution_count": 10,
          "metadata": {},
          "output_type": "execute_result"
        }
      ],
      "source": [
        "X_train.shape"
      ]
    },
    {
      "cell_type": "code",
      "execution_count": 11,
      "metadata": {
        "id": "0L2ZWSzgxzsY"
      },
      "outputs": [],
      "source": [
        "sentence_for_validation = []\n",
        "tags_for_validation = []\n",
        "X_validation = []\n",
        "\n",
        "for key, value in validation_data.items():\n",
        "    word = value['word']\n",
        "    tags = value['labels']\n",
        "\n",
        "    # # Pad the entire sentence\n",
        "    # if len(word) < max_len:\n",
        "    #     word += [''] * (max_len - len(word))\n",
        "    #     tags += ['O'] * (max_len - len(tags))\n",
        "\n",
        "    sentence_for_validation.append(word)\n",
        "    tags_for_validation.append(tags)\n",
        "\n",
        "    # Tokenize the entire sentence\n",
        "    # tokenizer = Tokenizer()\n",
        "    # tokenizer.fit_on_texts([word])\n",
        "    X_validation.append(word)\n",
        "\n",
        "\n",
        "tokenizer = Tokenizer()\n",
        "tokenizer.fit_on_texts(X_validation)\n",
        "X_validation = tokenizer.texts_to_sequences(X_validation)\n",
        "X_validation = pad_sequences(X_validation, maxlen= max_len, padding='post', truncating='pre')\n",
        "# y_validation = pad_sequences(y_validation, batch_first=True, padding_value=0)\n"
      ]
    },
    {
      "cell_type": "code",
      "execution_count": 12,
      "metadata": {
        "colab": {
          "base_uri": "https://localhost:8080/"
        },
        "id": "DbGAiKswxzsY",
        "outputId": "0929365f-21e5-41cf-fd79-d97f97a954a9"
      },
      "outputs": [
        {
          "name": "stdout",
          "output_type": "stream",
          "text": [
            "(906, 78)\n"
          ]
        }
      ],
      "source": [
        "print(X_train.shape)"
      ]
    },
    {
      "cell_type": "code",
      "execution_count": 13,
      "metadata": {
        "colab": {
          "base_uri": "https://localhost:8080/"
        },
        "id": "AwigSqXIxzsY",
        "outputId": "3406e93a-f970-4ba6-e996-b093be4a3ad2"
      },
      "outputs": [
        {
          "name": "stdout",
          "output_type": "stream",
          "text": [
            "2740\n"
          ]
        }
      ],
      "source": [
        "vocab = []\n",
        "for i in sentence_for_training:\n",
        "    for j in i:\n",
        "        if j not in vocab:\n",
        "            vocab.append(j)\n",
        "# vocab = list(set(vocab))\n",
        "print(len(vocab))    #30220"
      ]
    },
    {
      "cell_type": "code",
      "execution_count": 14,
      "metadata": {
        "id": "xXKObDiPxzsZ"
      },
      "outputs": [],
      "source": [
        "vocab_weight = {}\n",
        "c = 0\n",
        "for i in vocab:\n",
        "   if i in model_GloVe:  # Use model to access word vectors\n",
        "       vocab_weight[i] = model_GloVe[i]"
      ]
    },
    {
      "cell_type": "code",
      "execution_count": 15,
      "metadata": {
        "id": "Usrl5n3JxzsZ"
      },
      "outputs": [],
      "source": [
        "# give code to make embedding weight matrix\n",
        "# vocab=len(vocab)+1\n",
        "weights = np.zeros((len(vocab)+1, 300))\n",
        "for i in range(len(vocab)):\n",
        "    if(vocab[i] in vocab_weight):\n",
        "        weights[i] = vocab_weight[vocab[i]]\n",
        "    # weights[i] = vocab_weight[vocab[i]]\n",
        "\n"
      ]
    },
    {
      "cell_type": "code",
      "execution_count": 16,
      "metadata": {
        "colab": {
          "base_uri": "https://localhost:8080/"
        },
        "id": "o_xX9TKIxzsZ",
        "outputId": "7c1497bf-e108-45b4-ce1b-acdc2f4b682e"
      },
      "outputs": [
        {
          "data": {
            "text/plain": [
              "(2741, 300)"
            ]
          },
          "execution_count": 16,
          "metadata": {},
          "output_type": "execute_result"
        }
      ],
      "source": [
        "# weights = []\n",
        "# for i in vocab:\n",
        "#     weights.append(vocab_weight[i])\n",
        "# weights = np.array(weights)\n",
        "weights.shape\n",
        "# # weights"
      ]
    },
    {
      "cell_type": "code",
      "execution_count": 17,
      "metadata": {
        "id": "ckF6Jp_6xzsZ"
      },
      "outputs": [],
      "source": [
        "y_train=[]\n",
        "y_validation=[]\n",
        "y_test=[]\n",
        "\n",
        "word_tokenizer = Tokenizer()                      # instantiate tokeniser\n",
        "word_tokenizer.fit_on_texts(tags_for_training)                    # fit tokeniser on data\n",
        "y_train = word_tokenizer.texts_to_sequences(tags_for_training)  # use the tokeniser to encode input sequence.\n",
        "y_train = pad_sequences(y_train, maxlen= max_len, padding='post', truncating='pre')\n",
        "\n",
        "\n",
        "# for i in range(len(y_train)):\n",
        "#     for j in range(len(y_train[i])):\n",
        "#         y_train[i][j]-=1\n",
        "\n",
        "\n",
        "word_tokenizer = Tokenizer()                      # instantiate tokeniser\n",
        "word_tokenizer.fit_on_texts(tags_for_training)                    # fit tokeniser on data\n",
        "y_validation = word_tokenizer.texts_to_sequences(tags_for_validation)  # use the tokeniser to encode input sequence\n",
        "y_validation = pad_sequences(y_validation,  maxlen= max_len, padding='post', truncating='pre')\n",
        "\n",
        "# for i in range(len(y_validation)):\n",
        "#     for j in range(len(y_validation[i])):\n",
        "#         y_validation[i][j]-=1\n",
        "\n",
        "\n",
        "# y_train = pad_sequences(y_train, maxlen= max_len, padding='pre', truncating='post')\n",
        "# y_validation = pad_sequences(y_validation,maxlen= max_len, padding='pre', truncating='post')\n",
        "y_train = to_categorical(y_train)\n",
        "y_validation = to_categorical(y_validation)\n",
        "\n",
        "\n",
        "# y_train.shape\n",
        "# y_validation.shape\n",
        "# y_train"
      ]
    },
    {
      "cell_type": "code",
      "execution_count": 18,
      "metadata": {
        "colab": {
          "base_uri": "https://localhost:8080/"
        },
        "id": "2eF184lLxzsZ",
        "outputId": "82257116-9545-49a2-ab56-3988dd8358c4"
      },
      "outputs": [
        {
          "name": "stdout",
          "output_type": "stream",
          "text": [
            "(906, 78, 4)\n",
            "(219, 78, 4)\n"
          ]
        }
      ],
      "source": [
        "print(y_train.shape)\n",
        "print(y_validation.shape)"
      ]
    },
    {
      "cell_type": "code",
      "execution_count": 19,
      "metadata": {
        "id": "fJJpDkRixzsa"
      },
      "outputs": [
        {
          "name": "stderr",
          "output_type": "stream",
          "text": [
            "2024-03-17 10:43:25.690201: I metal_plugin/src/device/metal_device.cc:1154] Metal device set to: Apple M2\n",
            "2024-03-17 10:43:25.690383: I metal_plugin/src/device/metal_device.cc:296] systemMemory: 8.00 GB\n",
            "2024-03-17 10:43:25.690441: I metal_plugin/src/device/metal_device.cc:313] maxCacheSize: 2.67 GB\n",
            "2024-03-17 10:43:25.691190: I tensorflow/core/common_runtime/pluggable_device/pluggable_device_factory.cc:306] Could not identify NUMA node of platform GPU ID 0, defaulting to 0. Your kernel may not have been built with NUMA support.\n",
            "2024-03-17 10:43:25.691810: I tensorflow/core/common_runtime/pluggable_device/pluggable_device_factory.cc:272] Created TensorFlow device (/job:localhost/replica:0/task:0/device:GPU:0 with 0 MB memory) -> physical PluggableDevice (device: 0, name: METAL, pci bus id: <undefined>)\n"
          ]
        }
      ],
      "source": [
        "from tensorflow.keras import Model,Input\n",
        "from keras.models import Sequential\n",
        "\n",
        "from tensorflow.keras.layers import SimpleRNN,LSTM,Embedding,Dense\n",
        "from tensorflow.keras.layers import TimeDistributed, SpatialDropout1D,Bidirectional\n",
        "# create architecture\n",
        "\n",
        "# VOCABULARY_SIZE = len(vocab)\n",
        "\n",
        "\n",
        "rnn_model = Sequential()\n",
        "rnn_model.add(Embedding(input_dim     = len(vocab)+1,         # vocabulary size - number of unique words in data\n",
        "                         output_dim    = 300,          # length of vector with which each word is represented\n",
        "                         input_length  = max_len,          # length of input sequence\n",
        "                         weights       = [weights],     # word embedding matrix\n",
        "                         trainable     = True                     # True - update embeddings_weight matrix\n",
        "))\n",
        "rnn_model.add(SimpleRNN(64, return_sequences=True))\n",
        "rnn_model.add(TimeDistributed(Dense(4, activation='softmax')))"
      ]
    },
    {
      "cell_type": "code",
      "execution_count": 20,
      "metadata": {
        "id": "RomJHQCs53Ny"
      },
      "outputs": [],
      "source": [
        "from sklearn.metrics import f1_score\n",
        "\n",
        "def macro_f1(y_true, y_pred):\n",
        "    # labels are one-hot encoded. so, need to convert\n",
        "    # [1,0,0] to 0 and\n",
        "    # [0,1,0] to 1 and\n",
        "    # [0,0,1] to 2. Then pass these arrays to sklearn f1_score.\n",
        "    y_true = np.argmax(y_true, axis=1)\n",
        "    y_pred = np.argmax(y_pred, axis=1)\n",
        "    return f1_score(y_true, y_pred, average='macro')"
      ]
    },
    {
      "cell_type": "code",
      "execution_count": 21,
      "metadata": {
        "colab": {
          "base_uri": "https://localhost:8080/"
        },
        "id": "0-QIuRfUxzsa",
        "outputId": "2d881592-ace9-4d7a-ab47-c84c881da7b8"
      },
      "outputs": [
        {
          "name": "stdout",
          "output_type": "stream",
          "text": [
            "Model: \"sequential\"\n",
            "_________________________________________________________________\n",
            " Layer (type)                Output Shape              Param #   \n",
            "=================================================================\n",
            " embedding (Embedding)       (None, 78, 300)           822300    \n",
            "                                                                 \n",
            " simple_rnn (SimpleRNN)      (None, 78, 64)            23360     \n",
            "                                                                 \n",
            " time_distributed (TimeDist  (None, 78, 4)             260       \n",
            " ributed)                                                        \n",
            "                                                                 \n",
            "=================================================================\n",
            "Total params: 845920 (3.23 MB)\n",
            "Trainable params: 845920 (3.23 MB)\n",
            "Non-trainable params: 0 (0.00 Byte)\n",
            "_________________________________________________________________\n"
          ]
        }
      ],
      "source": [
        "from keras import backend as K\n",
        "from sklearn.metrics import f1_score\n",
        "import matplotlib.pyplot as plt\n",
        "\n",
        "def recall_m(y_true, y_pred):\n",
        "    true_positives = K.sum(K.round(K.clip(y_true * y_pred, 0, 1)))\n",
        "    possible_positives = K.sum(K.round(K.clip(y_true, 0, 1)))\n",
        "    recall = true_positives / (possible_positives + K.epsilon())\n",
        "    return recall\n",
        "\n",
        "def precision_m(y_true, y_pred):\n",
        "    true_positives = K.sum(K.round(K.clip(y_true * y_pred, 0, 1)))\n",
        "    predicted_positives = K.sum(K.round(K.clip(y_pred, 0, 1)))\n",
        "    precision = true_positives / (predicted_positives + K.epsilon())\n",
        "    return precision\n",
        "\n",
        "def f1_m(y_true, y_pred):\n",
        "    true_positives = K.sum(K.round(K.clip(y_true * y_pred, 0, 1)), axis=0)\n",
        "    predicted_positives = K.sum(K.round(K.clip(y_pred, 0, 1)), axis=0)\n",
        "    possible_positives = K.sum(K.round(K.clip(y_true, 0, 1)), axis=0)\n",
        "\n",
        "    precision = true_positives / (predicted_positives + K.epsilon())\n",
        "    recall = true_positives / (possible_positives + K.epsilon())\n",
        "\n",
        "    f1 = 2 * precision * recall / (precision + recall + K.epsilon())\n",
        "\n",
        "    macro_f1 = K.mean(f1)\n",
        "    return macro_f1\n",
        "\n",
        "# compile the model\n",
        "rnn_model.compile(optimizer='adam', loss='categorical_crossentropy', metrics=['acc',f1_m,precision_m, recall_m])\n",
        "\n",
        "rnn_model.summary()"
      ]
    },
    {
      "cell_type": "code",
      "execution_count": 22,
      "metadata": {
        "colab": {
          "base_uri": "https://localhost:8080/"
        },
        "id": "lfFJoYlKxzsa",
        "outputId": "ce007557-7ef0-4894-e559-963aab20d627"
      },
      "outputs": [
        {
          "name": "stdout",
          "output_type": "stream",
          "text": [
            "Epoch 1/10\n"
          ]
        },
        {
          "name": "stderr",
          "output_type": "stream",
          "text": [
            "2024-03-17 10:43:33.601003: I tensorflow/core/grappler/optimizers/custom_graph_optimizer_registry.cc:117] Plugin optimizer for device_type GPU is enabled.\n"
          ]
        },
        {
          "name": "stdout",
          "output_type": "stream",
          "text": [
            "8/8 [==============================] - 23s 3s/step - loss: 0.7367 - acc: 0.7101 - f1_m: 0.1636 - precision_m: 0.7574 - recall_m: 0.5534 - val_loss: 0.3385 - val_acc: 0.8881 - val_f1_m: 0.2272 - val_precision_m: 0.9882 - val_recall_m: 0.7478\n",
            "Epoch 2/10\n",
            "8/8 [==============================] - 19s 2s/step - loss: 0.2786 - acc: 0.9409 - f1_m: 0.2703 - precision_m: 0.9974 - recall_m: 0.7821 - val_loss: 0.2109 - val_acc: 0.9636 - val_f1_m: 0.4213 - val_precision_m: 0.9842 - val_recall_m: 0.8922\n",
            "Epoch 3/10\n",
            "8/8 [==============================] - 21s 3s/step - loss: 0.1757 - acc: 0.9703 - f1_m: 0.4082 - precision_m: 0.9802 - recall_m: 0.9279 - val_loss: 0.1466 - val_acc: 0.9727 - val_f1_m: 0.4461 - val_precision_m: 0.9780 - val_recall_m: 0.9468\n",
            "Epoch 4/10\n",
            "8/8 [==============================] - 19s 2s/step - loss: 0.1305 - acc: 0.9725 - f1_m: 0.4080 - precision_m: 0.9768 - recall_m: 0.9537 - val_loss: 0.1250 - val_acc: 0.9702 - val_f1_m: 0.4471 - val_precision_m: 0.9740 - val_recall_m: 0.9540\n",
            "Epoch 5/10\n",
            "8/8 [==============================] - 20s 3s/step - loss: 0.1135 - acc: 0.9728 - f1_m: 0.4198 - precision_m: 0.9748 - recall_m: 0.9599 - val_loss: 0.1157 - val_acc: 0.9737 - val_f1_m: 0.4521 - val_precision_m: 0.9754 - val_recall_m: 0.9668\n",
            "Epoch 6/10\n",
            "8/8 [==============================] - 19s 2s/step - loss: 0.1027 - acc: 0.9737 - f1_m: 0.4224 - precision_m: 0.9774 - recall_m: 0.9701 - val_loss: 0.1096 - val_acc: 0.9739 - val_f1_m: 0.4555 - val_precision_m: 0.9755 - val_recall_m: 0.9704\n",
            "Epoch 7/10\n",
            "8/8 [==============================] - 19s 2s/step - loss: 0.0931 - acc: 0.9745 - f1_m: 0.4210 - precision_m: 0.9761 - recall_m: 0.9713 - val_loss: 0.1053 - val_acc: 0.9739 - val_f1_m: 0.4558 - val_precision_m: 0.9754 - val_recall_m: 0.9711\n",
            "Epoch 8/10\n",
            "8/8 [==============================] - 21s 3s/step - loss: 0.0845 - acc: 0.9753 - f1_m: 0.4193 - precision_m: 0.9772 - recall_m: 0.9718 - val_loss: 0.1026 - val_acc: 0.9739 - val_f1_m: 0.4562 - val_precision_m: 0.9756 - val_recall_m: 0.9716\n",
            "Epoch 9/10\n",
            "8/8 [==============================] - 29s 4s/step - loss: 0.0768 - acc: 0.9759 - f1_m: 0.4162 - precision_m: 0.9785 - recall_m: 0.9734 - val_loss: 0.1010 - val_acc: 0.9739 - val_f1_m: 0.4563 - val_precision_m: 0.9755 - val_recall_m: 0.9716\n",
            "Epoch 10/10\n",
            "8/8 [==============================] - 54s 7s/step - loss: 0.0693 - acc: 0.9775 - f1_m: 0.4331 - precision_m: 0.9819 - recall_m: 0.9753 - val_loss: 0.0998 - val_acc: 0.9737 - val_f1_m: 0.4562 - val_precision_m: 0.9750 - val_recall_m: 0.9710\n"
          ]
        }
      ],
      "source": [
        "import numpy as np\n",
        "\n",
        "# Convert input data to numpy arrays\n",
        "# X_train_np = np.array(X_train)\n",
        "# X_validation_np = np.array(X_validation)\n",
        "# Reshape the input data to remove the extra dimension\n",
        "X_train_np = np.array(X_train)\n",
        "X_validation_np = np.array(X_validation)\n",
        "\n",
        "y_train_np = np.array(y_train)\n",
        "y_validation_np = np.array(y_validation)\n",
        "\n",
        "# Train the model\n",
        "rnn_training = rnn_model.fit(X_train, y_train, batch_size=128, epochs=10, validation_data=(X_validation, y_validation))\n",
        "#write code to print the training and validation loss and f1 macro not the graph\n",
        "\n",
        "\n",
        "\n",
        "\n"
      ]
    },
    {
      "cell_type": "code",
      "execution_count": 26,
      "metadata": {
        "colab": {
          "base_uri": "https://localhost:8080/",
          "height": 487
        },
        "id": "eoTP0ZNfL_c0",
        "outputId": "a33da075-7b33-4691-cdc0-778302e9d30b"
      },
      "outputs": [
        {
          "data": {
            "image/png": "[encoded data removed]",
            "text/plain": [
              "<Figure size 800x500 with 1 Axes>"
            ]
          },
          "metadata": {},
          "output_type": "display_data"
        }
      ],
      "source": [
        "import matplotlib.pyplot as plt\n",
        "\n",
        "train_loss = rnn_training.history['loss']\n",
        "val_loss = rnn_training.history['val_loss']\n",
        "\n",
        "epochs = range(1, len(train_loss) + 1)\n",
        "\n",
        "\n",
        "plt.figure(figsize=(8, 5))\n",
        "plt.plot(epochs, train_loss, 'o-', label='Training Loss')\n",
        "plt.plot(epochs, val_loss, 'o-', label='Validation Loss')\n",
        "\n",
        "plt.xlabel('Epoch')\n",
        "plt.ylabel('Loss')\n",
        "plt.title('Training vs. Validation Loss')\n",
        "\n",
        "plt.legend()\n",
        "plt.savefig('ATEFasttextRNNloss.png')\n",
        "plt.grid(True)\n",
        "\n",
        "plt.show()\n"
      ]
    },
    {
      "cell_type": "code",
      "execution_count": 27,
      "metadata": {
        "colab": {
          "base_uri": "https://localhost:8080/",
          "height": 487
        },
        "id": "eKBRJaJ08aaz",
        "outputId": "3565a7eb-0701-471f-a64a-983fef6206bb"
      },
      "outputs": [
        {
          "data": {
            "image/png": "[encoded data removed]",
            "text/plain": [
              "<Figure size 800x500 with 1 Axes>"
            ]
          },
          "metadata": {},
          "output_type": "display_data"
        }
      ],
      "source": [
        "import matplotlib.pyplot as plt\n",
        "\n",
        "train_loss = rnn_training.history['f1_m']\n",
        "val_loss = rnn_training.history['val_f1_m']\n",
        "\n",
        "epochs = range(1, len(train_loss) + 1)\n",
        "\n",
        "\n",
        "plt.figure(figsize=(8, 5))\n",
        "plt.plot(epochs, train_loss, 'o-', label='Training F1')\n",
        "plt.plot(epochs, val_loss, 'o-', label='Validation F1')\n",
        "\n",
        "plt.xlabel('Epoch')\n",
        "plt.ylabel('F1')\n",
        "plt.title('Training vs. Validation F1')\n",
        "plt.legend()\n",
        "plt.savefig('ATEFasttextRNNf1.png')\n",
        "\n",
        "plt.grid(True)\n",
        "\n",
        "plt.show()"
      ]
    },
    {
      "cell_type": "code",
      "execution_count": 28,
      "metadata": {
        "id": "1zmkLmpexzsa"
      },
      "outputs": [],
      "source": [
        "json_file_path = 'ATE_test_data.json'\n",
        "\n",
        "# Read the JSON file\n",
        "with open(json_file_path) as f:\n",
        "    test_data = json.load(f)\n"
      ]
    },
    {
      "cell_type": "code",
      "execution_count": 29,
      "metadata": {
        "id": "PDhFqaH-xzsa"
      },
      "outputs": [],
      "source": [
        "for key, value in test_data.items():\n",
        "    word = value['text'].split(\" \")\n",
        "    labels = value['labels']\n",
        "    new_labels = []\n",
        "    new_word = []\n",
        "    for i in range(len(word)):\n",
        "        if(word[i]==''):\n",
        "            print(\"SADf\")\n",
        "            continue\n",
        "        new_word.append(word[i])\n",
        "    value['word'] = new_word"
      ]
    },
    {
      "cell_type": "code",
      "execution_count": 30,
      "metadata": {
        "id": "uauxeyuaxzsb"
      },
      "outputs": [],
      "source": [
        "X_test = []\n",
        "tags_for_testing = []\n",
        "sentence_for_testing = []\n",
        "for key, value in test_data.items():\n",
        "    word = value['word']\n",
        "    tags = value['labels']\n",
        "    sentence = value['text']\n",
        "    # Pad the entire sentence\n",
        "    # if len(word) < max_len:\n",
        "    #     word += [''] * (max_len - len(word))\n",
        "    #     tags += ['O'] * (max_len - len(tags))\n",
        "\n",
        "    sentence_for_testing.append(word)\n",
        "    tags_for_testing.append(tags)\n",
        "\n",
        "    # Tokenize the entire sentence\n",
        "    # tokenizer = Tokenizer()\n",
        "    # tokenizer.fit_on_texts([word])\n",
        "    X_test.append(word)\n",
        "\n",
        "tokenizer = Tokenizer()\n",
        "tokenizer.fit_on_texts(X_test)\n",
        "X_test = tokenizer.texts_to_sequences(X_test)\n",
        "X_test = pad_sequences(X_test,  maxlen= max_len, padding='post', truncating='pre')"
      ]
    },
    {
      "cell_type": "code",
      "execution_count": 31,
      "metadata": {
        "colab": {
          "base_uri": "https://localhost:8080/"
        },
        "id": "vyTwLewfxzsb",
        "outputId": "e217100e-584d-4403-bfbd-53887e2c14b7"
      },
      "outputs": [
        {
          "name": "stdout",
          "output_type": "stream",
          "text": [
            "[491 119   6 149  26   4 186 236  91 492 307   9 493 494   1   0   0   0\n",
            "   0   0   0   0   0   0   0   0   0   0   0   0   0   0   0   0   0   0\n",
            "   0   0   0   0   0   0   0   0   0   0   0   0   0   0   0   0   0   0\n",
            "   0   0   0   0   0   0   0   0   0   0   0   0   0   0   0   0   0   0\n",
            "   0   0   0   0   0   0]\n",
            "['I', 'charge', 'it', 'at', 'night', 'and', 'skip', 'taking', 'the', 'cord', 'with', 'me', 'because', 'of', 'the', 'good', 'battery', 'life', '.']\n"
          ]
        }
      ],
      "source": [
        "print(X_test[0])\n",
        "print(sentence_for_training[0])"
      ]
    },
    {
      "cell_type": "code",
      "execution_count": 32,
      "metadata": {
        "id": "oJe2FoGHxzsb"
      },
      "outputs": [],
      "source": [
        "\n",
        "word_tokenizer = Tokenizer()                      # instantiate tokeniser\n",
        "word_tokenizer.fit_on_texts(tags_for_testing)                    # fit tokeniser on data\n",
        "y_test = word_tokenizer.texts_to_sequences(tags_for_testing)  # use the tokeniser to encode input sequence\n",
        "\n",
        "\n",
        "# for i in range(len(y_test)):\n",
        "#     for j in range(len(y_test[i])):\n",
        "#         y_test[i][j]-=1\n",
        "\n",
        "y_test = pad_sequences(y_test,  maxlen= max_len, padding='post', truncating='pre')\n",
        "y_test = to_categorical(y_test)\n"
      ]
    },
    {
      "cell_type": "code",
      "execution_count": 33,
      "metadata": {
        "colab": {
          "base_uri": "https://localhost:8080/"
        },
        "id": "PWA3pE0yxzsb",
        "outputId": "10f35077-7066-4f96-d990-eed5ff04a764"
      },
      "outputs": [
        {
          "name": "stdout",
          "output_type": "stream",
          "text": [
            "(328, 78, 4)\n"
          ]
        }
      ],
      "source": [
        "print(y_test.shape)\n",
        "# print(tags_for_testing[0])"
      ]
    },
    {
      "cell_type": "code",
      "execution_count": 34,
      "metadata": {
        "id": "mOefCfKWxzsb"
      },
      "outputs": [],
      "source": [
        "# take 5 random sentence, print it , its label and the predicted label\n",
        "\n"
      ]
    },
    {
      "cell_type": "code",
      "execution_count": 35,
      "metadata": {
        "colab": {
          "base_uri": "https://localhost:8080/"
        },
        "id": "devI8yFxxzsb",
        "outputId": "6d269147-e174-4e90-be7c-dbcace5af1fc"
      },
      "outputs": [
        {
          "name": "stdout",
          "output_type": "stream",
          "text": [
            "11/11 [==============================] - 3s 228ms/step - loss: 0.1183 - acc: 0.9650 - f1_m: 0.3648 - precision_m: 0.9723 - recall_m: 0.9576\n",
            "Loss: 0.11825689673423767\n",
            "Metrics: [0.9649780988693237, 0.36484163999557495, 0.9722982048988342, 0.9575685262680054]\n"
          ]
        }
      ],
      "source": [
        "# Evaluate the model\n",
        "results = rnn_model.evaluate(X_test, y_test, verbose=1)\n",
        "\n",
        "# Extracting loss and metrics from the results\n",
        "loss = results[0]\n",
        "metrics = results[1:]\n",
        "\n",
        "# Printing loss and metrics\n",
        "print(\"Loss:\", loss)\n",
        "print(\"Metrics:\", metrics)"
      ]
    },
    {
      "cell_type": "code",
      "execution_count": 36,
      "metadata": {
        "colab": {
          "base_uri": "https://localhost:8080/"
        },
        "id": "fQvHxeDsxzsb",
        "outputId": "85111d21-545b-4408-d21c-7a5111214340"
      },
      "outputs": [
        {
          "name": "stdout",
          "output_type": "stream",
          "text": [
            "11/11 [==============================] - 3s 251ms/step\n",
            "0.48464183607562605\n"
          ]
        }
      ],
      "source": [
        "# calculate f1 score\n",
        "\n",
        "from sklearn.metrics import f1_score\n",
        "y_pred = rnn_model.predict(X_test)\n",
        "y_pred = np.argmax(y_pred, axis=-1)\n",
        "y_test = np.argmax(y_test, axis=-1)\n",
        "f1 = f1_score(y_test.flatten(), y_pred.flatten(), average='macro')\n",
        "print(f1)"
      ]
    },
    {
      "cell_type": "code",
      "execution_count": 37,
      "metadata": {},
      "outputs": [
        {
          "name": "stdout",
          "output_type": "stream",
          "text": [
            "0.9649781113195748\n"
          ]
        }
      ],
      "source": [
        "# print accuracy\n",
        "from sklearn.metrics import accuracy_score\n",
        "accuracy = accuracy_score(y_test.flatten(), y_pred.flatten())\n",
        "print(accuracy)"
      ]
    },
    {
      "cell_type": "markdown",
      "metadata": {
        "id": "MeV2pWTzzX4O"
      },
      "source": [
        "**LSTM**"
      ]
    },
    {
      "cell_type": "code",
      "execution_count": null,
      "metadata": {
        "id": "APJkHGy4zz_q"
      },
      "outputs": [],
      "source": []
    },
    {
      "cell_type": "code",
      "execution_count": 38,
      "metadata": {
        "id": "dbN4Wcdpt9RK"
      },
      "outputs": [],
      "source": [
        "\n",
        "from gensim.models import KeyedVectors# Load pre-trained model\n",
        "# import torch\n",
        "# import torch.nn as nn\n",
        "import json\n",
        "import tensorflow as tf\n",
        "from tensorflow.keras.preprocessing.text import Tokenizer\n",
        "from tensorflow.keras.preprocessing.sequence import pad_sequences\n",
        "from keras.utils import to_categorical\n",
        "import numpy as np\n",
        "import keras\n"
      ]
    },
    {
      "cell_type": "code",
      "execution_count": 39,
      "metadata": {
        "id": "0d2INTfUt9RL"
      },
      "outputs": [],
      "source": [
        "# Specify the path to your JSON file\n",
        "json_file_path = 'ATE_training_data.json'\n",
        "\n",
        "# Read the JSON file\n",
        "with open(json_file_path) as f:\n",
        "    data = json.load(f)\n",
        "\n",
        "# data\n",
        "# print(len(data))\n",
        "\n",
        "# Specify the path to your JSON file\n",
        "json_file_path = 'ATE_validation_data.json'\n",
        "\n",
        "# Read the JSON file\n",
        "with open(json_file_path) as f:\n",
        "    validation_data = json.load(f)\n",
        "\n",
        "\n"
      ]
    },
    {
      "cell_type": "code",
      "execution_count": 40,
      "metadata": {
        "id": "At4Up5_Gt9RL"
      },
      "outputs": [],
      "source": [
        "# max_len=0\n",
        "# for key,value in data.items():\n",
        "#     max_len=max(max_len,len(value['text'].split(\" \")))\n",
        "max_len=100\n"
      ]
    },
    {
      "cell_type": "code",
      "execution_count": 41,
      "metadata": {
        "id": "-gG7xF4wt9RL"
      },
      "outputs": [],
      "source": [
        "c=1\n",
        "for key, value in data.items():\n",
        "    word = value['text'].split(\" \")\n",
        "    labels = value['labels']\n",
        "    new_labels = []\n",
        "    new_word = []\n",
        "    for i in range(len(word)):\n",
        "        if(word[i]==''):\n",
        "            print(word)\n",
        "            continue\n",
        "        # new_labels.append(labels[i])\n",
        "        new_word.append(word[i])\n",
        "    # value['labels'] = new_labels\n",
        "    value['word'] = new_word\n",
        "\n",
        "\n",
        "for key, value in validation_data.items():\n",
        "    word = value['text'].split(\" \")\n",
        "    labels = value['labels']\n",
        "    new_labels = []\n",
        "    new_word = []\n",
        "    for i in range(len(word)):\n",
        "        if(word[i]==''):\n",
        "            continue\n",
        "        # new_labels.append(labels[i])\n",
        "        new_word.append(word[i])\n",
        "    # value['labels'] = new_labels\n",
        "    value['word'] = new_word"
      ]
    },
    {
      "cell_type": "code",
      "execution_count": 42,
      "metadata": {
        "id": "4Y2oXlPdt9RM"
      },
      "outputs": [],
      "source": [
        "sentence_for_training = []\n",
        "tags_for_training = []\n",
        "X_train = []\n",
        "\n",
        "for key, value in data.items():\n",
        "    word = value['word']\n",
        "    tags = value['labels']\n",
        "    sentence = value['text']\n",
        "    # Pad the entire sentence\n",
        "    # if len(word) < max_len:\n",
        "    #     word += [''] * (max_len - len(word))\n",
        "    #     tags += ['O'] * (max_len - len(tags))\n",
        "\n",
        "    sentence_for_training.append(word)\n",
        "    tags_for_training.append(tags)\n",
        "\n",
        "    # # Tokenize the entire sentence\n",
        "    # tokenizer = Tokenizer()\n",
        "    # tokenizer.fit_on_texts([word])\n",
        "    X_train.append(word)\n",
        "\n",
        "\n",
        "tokenizer = Tokenizer()\n",
        "tokenizer.fit_on_texts(X_train)\n",
        "X_train = tokenizer.texts_to_sequences(X_train)\n",
        "X_train = pad_sequences(X_train, maxlen=max_len, padding='post', truncating='pre')\n",
        "# print(max_len)\n",
        "# for i in X_train:\n",
        "#     if(len(i)>max_len):\n",
        "#         print(len(i))"
      ]
    },
    {
      "cell_type": "code",
      "execution_count": null,
      "metadata": {
        "id": "oqkrGxInt9RM"
      },
      "outputs": [],
      "source": [
        "# len(y_train[0])"
      ]
    },
    {
      "cell_type": "code",
      "execution_count": null,
      "metadata": {
        "id": "6RSiFDd3t9RM"
      },
      "outputs": [],
      "source": [
        "# len(y_test[0])"
      ]
    },
    {
      "cell_type": "code",
      "execution_count": 43,
      "metadata": {
        "colab": {
          "base_uri": "https://localhost:8080/"
        },
        "id": "T5e8wV9Zt9RM",
        "outputId": "839605c6-8bba-4291-dc76-1cc74e194832"
      },
      "outputs": [
        {
          "name": "stdout",
          "output_type": "stream",
          "text": [
            "[ 327    3    1  414 1169    4  199 1170 1171  200  136   72  268  156\n",
            "  805   41  806   15  328  201   36    2    0    0    0    0    0    0\n",
            "    0    0    0    0    0    0    0    0    0    0    0    0    0    0\n",
            "    0    0    0    0    0    0    0    0    0    0    0    0    0    0\n",
            "    0    0    0    0    0    0    0    0    0    0    0    0    0    0\n",
            "    0    0    0    0    0    0    0    0    0    0    0    0    0    0\n",
            "    0    0    0    0    0    0    0    0    0    0    0    0    0    0\n",
            "    0    0]\n",
            "['However', ',', 'the', 'multi-touch', 'gestures', 'and', 'large', 'tracking', 'area', 'make', 'having', 'an', 'external', 'mouse', 'unnecessary', '(', 'unless', 'you', \"'re\", 'gaming', ')', '.']\n"
          ]
        }
      ],
      "source": [
        "print(X_train[5])\n",
        "print(sentence_for_training[5])"
      ]
    },
    {
      "cell_type": "code",
      "execution_count": 44,
      "metadata": {
        "colab": {
          "base_uri": "https://localhost:8080/"
        },
        "id": "LLyA1Lvnt9RM",
        "outputId": "f4e8d72b-a49a-41e3-c524-25c7612f1dca"
      },
      "outputs": [
        {
          "data": {
            "text/plain": [
              "(906, 100)"
            ]
          },
          "execution_count": 44,
          "metadata": {},
          "output_type": "execute_result"
        }
      ],
      "source": [
        "X_train.shape"
      ]
    },
    {
      "cell_type": "code",
      "execution_count": 45,
      "metadata": {
        "id": "8mVesYL3t9RN"
      },
      "outputs": [],
      "source": [
        "sentence_for_validation = []\n",
        "tags_for_validation = []\n",
        "X_validation = []\n",
        "\n",
        "for key, value in validation_data.items():\n",
        "    word = value['word']\n",
        "    tags = value['labels']\n",
        "\n",
        "    # # Pad the entire sentence\n",
        "    # if len(word) < max_len:\n",
        "    #     word += [''] * (max_len - len(word))\n",
        "    #     tags += ['O'] * (max_len - len(tags))\n",
        "\n",
        "    sentence_for_validation.append(word)\n",
        "    tags_for_validation.append(tags)\n",
        "\n",
        "    # Tokenize the entire sentence\n",
        "    # tokenizer = Tokenizer()\n",
        "    # tokenizer.fit_on_texts([word])\n",
        "    X_validation.append(word)\n",
        "\n",
        "\n",
        "tokenizer = Tokenizer()\n",
        "tokenizer.fit_on_texts(X_validation)\n",
        "X_validation = tokenizer.texts_to_sequences(X_validation)\n",
        "X_validation = pad_sequences(X_validation, maxlen= max_len, padding='post', truncating='pre')\n",
        "# y_validation = pad_sequences(y_validation, batch_first=True, padding_value=0)\n"
      ]
    },
    {
      "cell_type": "code",
      "execution_count": 46,
      "metadata": {
        "colab": {
          "base_uri": "https://localhost:8080/"
        },
        "id": "IMsGVrmBt9RN",
        "outputId": "221338a5-11b4-4a71-80f5-1ba3839fb354"
      },
      "outputs": [
        {
          "name": "stdout",
          "output_type": "stream",
          "text": [
            "(906, 100)\n"
          ]
        }
      ],
      "source": [
        "print(X_train.shape)"
      ]
    },
    {
      "cell_type": "code",
      "execution_count": 47,
      "metadata": {
        "colab": {
          "base_uri": "https://localhost:8080/"
        },
        "id": "MxdqPi6Rt9RN",
        "outputId": "7d34d30e-7491-45c8-8516-21f05ff8271e"
      },
      "outputs": [
        {
          "name": "stdout",
          "output_type": "stream",
          "text": [
            "['I', 'charge', 'it', 'at', 'night', 'and', 'skip', 'taking', 'the', 'cord', 'with', 'me', 'because', 'of', 'the', 'good', 'battery', 'life', '.']\n"
          ]
        }
      ],
      "source": [
        "print(sentence_for_training[0])"
      ]
    },
    {
      "cell_type": "code",
      "execution_count": 48,
      "metadata": {
        "colab": {
          "base_uri": "https://localhost:8080/"
        },
        "id": "1gQTzJuIt9RN",
        "outputId": "076d42fa-851e-4815-f717-14d485361382"
      },
      "outputs": [
        {
          "name": "stdout",
          "output_type": "stream",
          "text": [
            "2740\n"
          ]
        }
      ],
      "source": [
        "vocab = []\n",
        "for i in sentence_for_training:\n",
        "    for j in i:\n",
        "        if j not in vocab:\n",
        "            vocab.append(j)\n",
        "# vocab = list(set(vocab))\n",
        "print(len(vocab))    #30220"
      ]
    },
    {
      "cell_type": "code",
      "execution_count": 49,
      "metadata": {
        "id": "fyb9ZY_Vt9RN"
      },
      "outputs": [],
      "source": [
        "vocab_weight = {}\n",
        "c = 0\n",
        "for i in vocab:\n",
        "   if i in model_GloVe:\n",
        "       vocab_weight[i] = model_GloVe[i]"
      ]
    },
    {
      "cell_type": "code",
      "execution_count": 50,
      "metadata": {
        "id": "lKewbP9Ct9RN"
      },
      "outputs": [],
      "source": [
        "# give code to make embedding weight matrix\n",
        "# vocab=len(vocab)+1\n",
        "weights = np.zeros((len(vocab)+1, 300))\n",
        "for i in range(len(vocab)):\n",
        "    if(vocab[i] in vocab_weight):\n",
        "        weights[i] = vocab_weight[vocab[i]]\n",
        "    # weights[i] = vocab_weight[vocab[i]]\n",
        "\n"
      ]
    },
    {
      "cell_type": "code",
      "execution_count": 51,
      "metadata": {
        "colab": {
          "base_uri": "https://localhost:8080/"
        },
        "id": "TtTdBNsbt9RO",
        "outputId": "4c01c23d-7517-4306-d1d8-532f03f1c7fa"
      },
      "outputs": [
        {
          "data": {
            "text/plain": [
              "(2741, 300)"
            ]
          },
          "execution_count": 51,
          "metadata": {},
          "output_type": "execute_result"
        }
      ],
      "source": [
        "# weights = []\n",
        "# for i in vocab:\n",
        "#     weights.append(vocab_weight[i])\n",
        "# weights = np.array(weights)\n",
        "weights.shape\n",
        "# # weights"
      ]
    },
    {
      "cell_type": "code",
      "execution_count": 52,
      "metadata": {
        "id": "OTUVQz4at9RO"
      },
      "outputs": [],
      "source": [
        "y_train=[]\n",
        "y_validation=[]\n",
        "y_test=[]\n",
        "\n",
        "word_tokenizer = Tokenizer()                      # instantiate tokeniser\n",
        "word_tokenizer.fit_on_texts(tags_for_training)                    # fit tokeniser on data\n",
        "y_train = word_tokenizer.texts_to_sequences(tags_for_training)  # use the tokeniser to encode input sequence.\n",
        "y_train = pad_sequences(y_train, maxlen= max_len, padding='post', truncating='pre')\n",
        "\n",
        "\n",
        "# for i in range(len(y_train)):\n",
        "#     for j in range(len(y_train[i])):\n",
        "#         y_train[i][j]-=1\n",
        "\n",
        "\n",
        "word_tokenizer = Tokenizer()                      # instantiate tokeniser\n",
        "word_tokenizer.fit_on_texts(tags_for_training)                    # fit tokeniser on data\n",
        "y_validation = word_tokenizer.texts_to_sequences(tags_for_validation)  # use the tokeniser to encode input sequence\n",
        "y_validation = pad_sequences(y_validation,  maxlen= max_len, padding='post', truncating='pre')\n",
        "\n",
        "# for i in range(len(y_validation)):\n",
        "#     for j in range(len(y_validation[i])):\n",
        "#         y_validation[i][j]-=1\n",
        "\n",
        "\n",
        "# y_train = pad_sequences(y_train, maxlen= max_len, padding='pre', truncating='post')\n",
        "# y_validation = pad_sequences(y_validation,maxlen= max_len, padding='pre', truncating='post')\n",
        "y_train = to_categorical(y_train)\n",
        "y_validation = to_categorical(y_validation)\n",
        "\n",
        "\n",
        "# y_train.shape\n",
        "# y_validation.shape\n",
        "# y_train"
      ]
    },
    {
      "cell_type": "code",
      "execution_count": 53,
      "metadata": {
        "colab": {
          "base_uri": "https://localhost:8080/"
        },
        "id": "2AsBkHnOt9RO",
        "outputId": "8c3ff8c5-2b3c-4697-97e1-dd2cbe4c5b85"
      },
      "outputs": [
        {
          "name": "stdout",
          "output_type": "stream",
          "text": [
            "(906, 100, 4)\n",
            "(219, 100, 4)\n"
          ]
        }
      ],
      "source": [
        "print(y_train.shape)\n",
        "print(y_validation.shape)"
      ]
    },
    {
      "cell_type": "code",
      "execution_count": 54,
      "metadata": {
        "id": "Lj1FtUZvt9RO"
      },
      "outputs": [],
      "source": [
        "from tensorflow.keras import Model,Input\n",
        "from keras.models import Sequential\n",
        "\n",
        "from tensorflow.keras.layers import LSTM,Embedding,Dense\n",
        "from tensorflow.keras.layers import TimeDistributed, SpatialDropout1D,Bidirectional\n",
        "# create architecture\n",
        "\n",
        "# VOCABULARY_SIZE = len(vocab)\n",
        "\n",
        "\n",
        "lstm_model = Sequential()\n",
        "lstm_model.add(Embedding(input_dim     = len(vocab)+1,         # vocabulary size - number of unique words in data\n",
        "                         output_dim    = 300,          # length of vector with which each word is represented\n",
        "                         input_length  = max_len,          # length of input sequence\n",
        "                         weights       = [weights],     # word embedding matrix\n",
        "                         trainable     = True                     # True - update embeddings_weight matrix\n",
        "))\n",
        "lstm_model.add(LSTM(64, return_sequences=True))\n",
        "lstm_model.add(TimeDistributed(Dense(4, activation='softmax')))"
      ]
    },
    {
      "cell_type": "code",
      "execution_count": 57,
      "metadata": {
        "id": "pbBtw3aBt9RO"
      },
      "outputs": [],
      "source": [
        "from keras import backend as K\n",
        "from sklearn.metrics import f1_score\n",
        "import matplotlib.pyplot as plt\n",
        "\n",
        "def recall_m(y_true, y_pred):\n",
        "    true_positives = K.sum(K.round(K.clip(y_true * y_pred, 0, 1)))\n",
        "    possible_positives = K.sum(K.round(K.clip(y_true, 0, 1)))\n",
        "    recall = true_positives / (possible_positives + K.epsilon())\n",
        "    return recall\n",
        "\n",
        "def precision_m(y_true, y_pred):\n",
        "    true_positives = K.sum(K.round(K.clip(y_true * y_pred, 0, 1)))\n",
        "    predicted_positives = K.sum(K.round(K.clip(y_pred, 0, 1)))\n",
        "    precision = true_positives / (predicted_positives + K.epsilon())\n",
        "    return precision\n",
        "\n",
        "def f1_m(y_true, y_pred):\n",
        "    true_positives = K.sum(K.round(K.clip(y_true * y_pred, 0, 1)), axis=0)\n",
        "    predicted_positives = K.sum(K.round(K.clip(y_pred, 0, 1)), axis=0)\n",
        "    possible_positives = K.sum(K.round(K.clip(y_true, 0, 1)), axis=0)\n",
        "\n",
        "    precision = true_positives / (predicted_positives + K.epsilon())\n",
        "    recall = true_positives / (possible_positives + K.epsilon())\n",
        "\n",
        "    f1 = 2 * precision * recall / (precision + recall + K.epsilon())\n",
        "\n",
        "    macro_f1 = K.mean(f1)\n",
        "    return macro_f1\n",
        "\n",
        "# compile the model\n",
        "lstm_model.compile(optimizer='adam', loss='categorical_crossentropy', metrics=['acc',f1_m,precision_m, recall_m])\n",
        "\n",
        "\n"
      ]
    },
    {
      "cell_type": "code",
      "execution_count": 58,
      "metadata": {
        "id": "59r0NjGXS95i"
      },
      "outputs": [],
      "source": [
        "import numpy as np\n",
        "\n",
        "# Convert input data to numpy arrays\n",
        "# X_train_np = np.array(X_train)\n",
        "# X_validation_np = np.array(X_validation)\n",
        "# Reshape the input data to remove the extra dimension\n",
        "X_train_np = np.array(X_train)\n",
        "X_validation_np = np.array(X_validation)\n",
        "\n",
        "y_train_np = np.array(y_train)\n",
        "y_validation_np = np.array(y_validation)"
      ]
    },
    {
      "cell_type": "code",
      "execution_count": 59,
      "metadata": {
        "colab": {
          "base_uri": "https://localhost:8080/"
        },
        "id": "brPUqkfSS_SQ",
        "outputId": "74802750-73a9-42d8-b64e-a8f87833269c"
      },
      "outputs": [
        {
          "name": "stdout",
          "output_type": "stream",
          "text": [
            "Shape of X_train_np: (906, 100)\n",
            "Shape of X_validation_np: (219, 100)\n",
            "Shape of y_train_np: (906, 100, 4)\n",
            "Shape of y_validation_np: (219, 100, 4)\n"
          ]
        }
      ],
      "source": [
        "print(\"Shape of X_train_np:\", X_train_np.shape)\n",
        "print(\"Shape of X_validation_np:\", X_validation_np.shape)\n",
        "print(\"Shape of y_train_np:\", y_train_np.shape)\n",
        "print(\"Shape of y_validation_np:\", y_validation_np.shape)"
      ]
    },
    {
      "cell_type": "code",
      "execution_count": 61,
      "metadata": {
        "colab": {
          "base_uri": "https://localhost:8080/"
        },
        "id": "JZj1_Ucrt9RO",
        "outputId": "52c66147-fbd8-4050-ce2f-61d3b6fa61e7"
      },
      "outputs": [
        {
          "name": "stdout",
          "output_type": "stream",
          "text": [
            "Epoch 1/20\n",
            "8/8 [==============================] - 1s 98ms/step - loss: 0.0698 - acc: 0.9793 - f1_m: 0.3792 - precision_m: 0.9820 - recall_m: 0.9780 - val_loss: 0.0877 - val_acc: 0.9797 - val_f1_m: 0.4170 - val_precision_m: 0.9808 - val_recall_m: 0.9776\n",
            "Epoch 2/20\n",
            "8/8 [==============================] - 1s 90ms/step - loss: 0.0645 - acc: 0.9794 - f1_m: 0.3881 - precision_m: 0.9813 - recall_m: 0.9769 - val_loss: 0.0878 - val_acc: 0.9795 - val_f1_m: 0.4168 - val_precision_m: 0.9808 - val_recall_m: 0.9775\n",
            "Epoch 3/20\n",
            "8/8 [==============================] - 1s 79ms/step - loss: 0.0594 - acc: 0.9795 - f1_m: 0.3806 - precision_m: 0.9836 - recall_m: 0.9787 - val_loss: 0.0880 - val_acc: 0.9795 - val_f1_m: 0.4167 - val_precision_m: 0.9810 - val_recall_m: 0.9770\n",
            "Epoch 4/20\n",
            "8/8 [==============================] - 1s 151ms/step - loss: 0.0546 - acc: 0.9797 - f1_m: 0.3861 - precision_m: 0.9857 - recall_m: 0.9784 - val_loss: 0.0894 - val_acc: 0.9792 - val_f1_m: 0.4165 - val_precision_m: 0.9811 - val_recall_m: 0.9762\n",
            "Epoch 5/20\n",
            "8/8 [==============================] - 1s 104ms/step - loss: 0.0501 - acc: 0.9801 - f1_m: 0.3836 - precision_m: 0.9868 - recall_m: 0.9778 - val_loss: 0.0915 - val_acc: 0.9788 - val_f1_m: 0.4163 - val_precision_m: 0.9814 - val_recall_m: 0.9754\n",
            "Epoch 6/20\n",
            "8/8 [==============================] - 1s 96ms/step - loss: 0.0461 - acc: 0.9807 - f1_m: 0.3848 - precision_m: 0.9896 - recall_m: 0.9788 - val_loss: 0.0941 - val_acc: 0.9783 - val_f1_m: 0.4151 - val_precision_m: 0.9819 - val_recall_m: 0.9730\n",
            "Epoch 7/20\n",
            "8/8 [==============================] - 1s 86ms/step - loss: 0.0425 - acc: 0.9819 - f1_m: 0.3880 - precision_m: 0.9921 - recall_m: 0.9780 - val_loss: 0.0972 - val_acc: 0.9771 - val_f1_m: 0.4120 - val_precision_m: 0.9823 - val_recall_m: 0.9704\n",
            "Epoch 8/20\n",
            "8/8 [==============================] - 1s 88ms/step - loss: 0.0393 - acc: 0.9842 - f1_m: 0.3933 - precision_m: 0.9935 - recall_m: 0.9784 - val_loss: 0.1007 - val_acc: 0.9743 - val_f1_m: 0.4107 - val_precision_m: 0.9825 - val_recall_m: 0.9682\n",
            "Epoch 9/20\n",
            "8/8 [==============================] - 1s 79ms/step - loss: 0.0366 - acc: 0.9864 - f1_m: 0.3973 - precision_m: 0.9950 - recall_m: 0.9791 - val_loss: 0.1046 - val_acc: 0.9714 - val_f1_m: 0.4097 - val_precision_m: 0.9814 - val_recall_m: 0.9668\n",
            "Epoch 10/20\n",
            "8/8 [==============================] - 1s 80ms/step - loss: 0.0342 - acc: 0.9881 - f1_m: 0.4124 - precision_m: 0.9945 - recall_m: 0.9796 - val_loss: 0.1085 - val_acc: 0.9705 - val_f1_m: 0.4121 - val_precision_m: 0.9787 - val_recall_m: 0.9664\n",
            "Epoch 11/20\n",
            "8/8 [==============================] - 1s 82ms/step - loss: 0.0322 - acc: 0.9897 - f1_m: 0.4282 - precision_m: 0.9956 - recall_m: 0.9818 - val_loss: 0.1121 - val_acc: 0.9696 - val_f1_m: 0.4125 - val_precision_m: 0.9773 - val_recall_m: 0.9659\n",
            "Epoch 12/20\n",
            "8/8 [==============================] - 1s 74ms/step - loss: 0.0304 - acc: 0.9907 - f1_m: 0.4331 - precision_m: 0.9958 - recall_m: 0.9839 - val_loss: 0.1161 - val_acc: 0.9697 - val_f1_m: 0.4139 - val_precision_m: 0.9762 - val_recall_m: 0.9666\n",
            "Epoch 13/20\n",
            "8/8 [==============================] - 1s 80ms/step - loss: 0.0288 - acc: 0.9911 - f1_m: 0.4462 - precision_m: 0.9951 - recall_m: 0.9840 - val_loss: 0.1197 - val_acc: 0.9694 - val_f1_m: 0.4163 - val_precision_m: 0.9749 - val_recall_m: 0.9670\n",
            "Epoch 14/20\n",
            "8/8 [==============================] - 1s 72ms/step - loss: 0.0274 - acc: 0.9916 - f1_m: 0.4513 - precision_m: 0.9953 - recall_m: 0.9858 - val_loss: 0.1226 - val_acc: 0.9691 - val_f1_m: 0.4188 - val_precision_m: 0.9743 - val_recall_m: 0.9668\n",
            "Epoch 15/20\n",
            "8/8 [==============================] - 1s 71ms/step - loss: 0.0261 - acc: 0.9923 - f1_m: 0.4770 - precision_m: 0.9951 - recall_m: 0.9874 - val_loss: 0.1252 - val_acc: 0.9689 - val_f1_m: 0.4200 - val_precision_m: 0.9740 - val_recall_m: 0.9665\n",
            "Epoch 16/20\n",
            "8/8 [==============================] - 1s 75ms/step - loss: 0.0249 - acc: 0.9927 - f1_m: 0.4702 - precision_m: 0.9961 - recall_m: 0.9892 - val_loss: 0.1276 - val_acc: 0.9686 - val_f1_m: 0.4210 - val_precision_m: 0.9728 - val_recall_m: 0.9663\n",
            "Epoch 17/20\n",
            "8/8 [==============================] - 1s 75ms/step - loss: 0.0237 - acc: 0.9933 - f1_m: 0.4876 - precision_m: 0.9954 - recall_m: 0.9893 - val_loss: 0.1307 - val_acc: 0.9685 - val_f1_m: 0.4213 - val_precision_m: 0.9723 - val_recall_m: 0.9666\n",
            "Epoch 18/20\n",
            "8/8 [==============================] - 1s 76ms/step - loss: 0.0225 - acc: 0.9937 - f1_m: 0.4811 - precision_m: 0.9956 - recall_m: 0.9901 - val_loss: 0.1320 - val_acc: 0.9695 - val_f1_m: 0.4216 - val_precision_m: 0.9728 - val_recall_m: 0.9673\n",
            "Epoch 19/20\n",
            "8/8 [==============================] - 1s 83ms/step - loss: 0.0215 - acc: 0.9939 - f1_m: 0.4901 - precision_m: 0.9960 - recall_m: 0.9918 - val_loss: 0.1344 - val_acc: 0.9692 - val_f1_m: 0.4217 - val_precision_m: 0.9720 - val_recall_m: 0.9671\n",
            "Epoch 20/20\n",
            "8/8 [==============================] - 1s 109ms/step - loss: 0.0204 - acc: 0.9942 - f1_m: 0.4952 - precision_m: 0.9961 - recall_m: 0.9919 - val_loss: 0.1366 - val_acc: 0.9688 - val_f1_m: 0.4217 - val_precision_m: 0.9718 - val_recall_m: 0.9669\n"
          ]
        }
      ],
      "source": [
        "lstm_training = lstm_model.fit(X_train, y_train, batch_size=128, epochs=20, validation_data=(X_validation, y_validation))\n"
      ]
    },
    {
      "cell_type": "code",
      "execution_count": 62,
      "metadata": {
        "colab": {
          "base_uri": "https://localhost:8080/",
          "height": 487
        },
        "id": "BthrNinSNE4e",
        "outputId": "90a86dbd-2d2c-4080-8475-8deaf091906c"
      },
      "outputs": [
        {
          "data": {
            "image/png": "[encoded data removed]",
            "text/plain": [
              "<Figure size 800x500 with 1 Axes>"
            ]
          },
          "metadata": {},
          "output_type": "display_data"
        }
      ],
      "source": [
        "import matplotlib.pyplot as plt\n",
        "\n",
        "train_loss = lstm_training.history['loss']\n",
        "val_loss = lstm_training.history['val_loss']\n",
        "\n",
        "epochs = range(1, len(train_loss) + 1)\n",
        "\n",
        "plt.figure(figsize=(8, 5))\n",
        "plt.plot(epochs, train_loss, 'o-', label='Training Loss')\n",
        "plt.plot(epochs, val_loss, 'o-', label='Validation Loss')\n",
        "\n",
        "plt.xlabel('Epoch')\n",
        "plt.ylabel('Loss')\n",
        "plt.title('Training vs. Validation Loss')\n",
        "plt.legend()\n",
        "plt.savefig('ATEFasttextLSTMloss.png')\n",
        "\n",
        "plt.grid(True)\n",
        "\n",
        "plt.show()\n"
      ]
    },
    {
      "cell_type": "code",
      "execution_count": 63,
      "metadata": {
        "colab": {
          "base_uri": "https://localhost:8080/",
          "height": 487
        },
        "id": "PLd-rPoY_Mye",
        "outputId": "ccdfb7ee-ca10-4a14-9bb8-e30fe2b8d928"
      },
      "outputs": [
        {
          "data": {
            "image/png": "[encoded data removed]",
            "text/plain": [
              "<Figure size 800x500 with 1 Axes>"
            ]
          },
          "metadata": {},
          "output_type": "display_data"
        }
      ],
      "source": [
        "import matplotlib.pyplot as plt\n",
        "\n",
        "train_loss = lstm_training.history['f1_m']\n",
        "val_loss = lstm_training.history['val_f1_m']\n",
        "\n",
        "epochs = range(1, len(train_loss) + 1)\n",
        "\n",
        "plt.figure(figsize=(8, 5))\n",
        "plt.plot(epochs, train_loss, 'o-', label='Training F1')\n",
        "plt.plot(epochs, val_loss, 'o-', label='Validation F1')\n",
        "\n",
        "plt.xlabel('Epoch')\n",
        "plt.ylabel('F1')\n",
        "plt.title('Training vs. Validation F1')\n",
        "plt.legend()\n",
        "plt.savefig('ATEFasttextLSTMf1.png')\n",
        "\n",
        "plt.grid(True)\n",
        "\n",
        "plt.show()\n"
      ]
    },
    {
      "cell_type": "code",
      "execution_count": 64,
      "metadata": {
        "id": "OqOxaaYXt9RO"
      },
      "outputs": [],
      "source": [
        "json_file_path = 'ATE_test_data.json'\n",
        "\n",
        "# Read the JSON file\n",
        "with open(json_file_path) as f:\n",
        "    test_data = json.load(f)\n"
      ]
    },
    {
      "cell_type": "code",
      "execution_count": 65,
      "metadata": {
        "id": "CvysUklRt9RO"
      },
      "outputs": [],
      "source": [
        "for key, value in test_data.items():\n",
        "    word = value['text'].split(\" \")\n",
        "    labels = value['labels']\n",
        "    new_labels = []\n",
        "    new_word = []\n",
        "    for i in range(len(word)):\n",
        "        if(word[i]==''):\n",
        "            print(\"SADf\")\n",
        "            continue\n",
        "        new_word.append(word[i])\n",
        "    value['word'] = new_word"
      ]
    },
    {
      "cell_type": "code",
      "execution_count": 66,
      "metadata": {
        "id": "eMswpxbIt9RP"
      },
      "outputs": [],
      "source": [
        "X_test = []\n",
        "tags_for_testing = []\n",
        "sentence_for_testing = []\n",
        "for key, value in test_data.items():\n",
        "    word = value['word']\n",
        "    tags = value['labels']\n",
        "    sentence = value['text']\n",
        "    # Pad the entire sentence\n",
        "    # if len(word) < max_len:\n",
        "    #     word += [''] * (max_len - len(word))\n",
        "    #     tags += ['O'] * (max_len - len(tags))\n",
        "\n",
        "    sentence_for_testing.append(word)\n",
        "    tags_for_testing.append(tags)\n",
        "\n",
        "    # Tokenize the entire sentence\n",
        "    # tokenizer = Tokenizer()\n",
        "    # tokenizer.fit_on_texts([word])\n",
        "    X_test.append(word)\n",
        "\n",
        "tokenizer = Tokenizer()\n",
        "tokenizer.fit_on_texts(X_test)\n",
        "X_test = tokenizer.texts_to_sequences(X_test)\n",
        "X_test = pad_sequences(X_test,  maxlen= max_len, padding='post', truncating='pre')"
      ]
    },
    {
      "cell_type": "code",
      "execution_count": 67,
      "metadata": {
        "colab": {
          "base_uri": "https://localhost:8080/"
        },
        "id": "52n58Iyst9RP",
        "outputId": "0c117fde-38ef-4658-e81e-1dfd5cc7e9df"
      },
      "outputs": [
        {
          "name": "stdout",
          "output_type": "stream",
          "text": [
            "[491 119   6 149  26   4 186 236  91 492 307   9 493 494   1   0   0   0\n",
            "   0   0   0   0   0   0   0   0   0   0   0   0   0   0   0   0   0   0\n",
            "   0   0   0   0   0   0   0   0   0   0   0   0   0   0   0   0   0   0\n",
            "   0   0   0   0   0   0   0   0   0   0   0   0   0   0   0   0   0   0\n",
            "   0   0   0   0   0   0   0   0   0   0   0   0   0   0   0   0   0   0\n",
            "   0   0   0   0   0   0   0   0   0   0]\n",
            "['I', 'charge', 'it', 'at', 'night', 'and', 'skip', 'taking', 'the', 'cord', 'with', 'me', 'because', 'of', 'the', 'good', 'battery', 'life', '.']\n"
          ]
        }
      ],
      "source": [
        "print(X_test[0])\n",
        "print(sentence_for_training[0])"
      ]
    },
    {
      "cell_type": "code",
      "execution_count": 68,
      "metadata": {
        "id": "7ogMidZyt9RP"
      },
      "outputs": [],
      "source": [
        "\n",
        "word_tokenizer = Tokenizer()                      # instantiate tokeniser\n",
        "word_tokenizer.fit_on_texts(tags_for_testing)                    # fit tokeniser on data\n",
        "y_test = word_tokenizer.texts_to_sequences(tags_for_testing)  # use the tokeniser to encode input sequence\n",
        "\n",
        "\n",
        "# for i in range(len(y_test)):\n",
        "#     for j in range(len(y_test[i])):\n",
        "#         y_test[i][j]-=1\n",
        "\n",
        "y_test = pad_sequences(y_test,  maxlen= max_len, padding='post', truncating='pre')\n",
        "y_test = to_categorical(y_test)\n"
      ]
    },
    {
      "cell_type": "code",
      "execution_count": 69,
      "metadata": {
        "colab": {
          "base_uri": "https://localhost:8080/"
        },
        "id": "bbm4zXCUt9RP",
        "outputId": "2a7b04dc-88f0-4fab-b0ef-b0666df2236f"
      },
      "outputs": [
        {
          "name": "stdout",
          "output_type": "stream",
          "text": [
            "(328, 100, 4)\n"
          ]
        }
      ],
      "source": [
        "print(y_test.shape)\n",
        "# print(tags_for_testing[0])"
      ]
    },
    {
      "cell_type": "code",
      "execution_count": 70,
      "metadata": {
        "colab": {
          "base_uri": "https://localhost:8080/"
        },
        "id": "GbtRDnY-t9RQ",
        "outputId": "b865c9f1-f7d9-4d4b-eb7f-84c3fe2b53f1"
      },
      "outputs": [
        {
          "name": "stdout",
          "output_type": "stream",
          "text": [
            "11/11 [==============================] - 4s 343ms/step - loss: 0.0925 - acc: 0.9727 - f1_m: 0.3396 - precision_m: 0.9785 - recall_m: 0.9669\n",
            "Loss: 0.09247327595949173\n",
            "Metrics: [0.9726829528808594, 0.33957651257514954, 0.9784657955169678, 0.9669034481048584]\n"
          ]
        }
      ],
      "source": [
        "# Evaluate the model\n",
        "results = rnn_model.evaluate(X_test, y_test, verbose=1)\n",
        "\n",
        "# Extracting loss and metrics from the results\n",
        "loss = results[0]\n",
        "metrics = results[1:]\n",
        "\n",
        "# Printing loss and metrics\n",
        "print(\"Loss:\", loss)\n",
        "print(\"Metrics:\", metrics)\n"
      ]
    },
    {
      "cell_type": "code",
      "execution_count": 71,
      "metadata": {
        "colab": {
          "base_uri": "https://localhost:8080/"
        },
        "id": "RtCi-iSrt9RQ",
        "outputId": "4176a858-cc37-4437-9f4d-1a0f3353a6c7"
      },
      "outputs": [
        {
          "name": "stdout",
          "output_type": "stream",
          "text": [
            "11/11 [==============================] - 1s 21ms/step\n",
            "0.4973169330352471\n"
          ]
        }
      ],
      "source": [
        "# calculate f1 score\n",
        "\n",
        "from sklearn.metrics import f1_score\n",
        "y_pred = lstm_model.predict(X_test)\n",
        "y_pred = np.argmax(y_pred, axis=-1)\n",
        "y_test = np.argmax(y_test, axis=-1)\n",
        "f1 = f1_score(y_test.flatten(), y_pred.flatten(), average='macro')\n",
        "print(f1)"
      ]
    },
    {
      "cell_type": "code",
      "execution_count": 72,
      "metadata": {},
      "outputs": [
        {
          "name": "stdout",
          "output_type": "stream",
          "text": [
            "Accuracy: 0.9645426829268293\n"
          ]
        }
      ],
      "source": [
        "print(\"Accuracy:\", accuracy_score(y_test.flatten(), y_pred.flatten()))"
      ]
    },
    {
      "cell_type": "markdown",
      "metadata": {
        "id": "BvYMX-7A5agG"
      },
      "source": [
        "**GRU**"
      ]
    },
    {
      "cell_type": "code",
      "execution_count": 73,
      "metadata": {
        "id": "yDQ5-o_kuIfd"
      },
      "outputs": [],
      "source": [
        "\n",
        "from gensim.models import KeyedVectors# Load pre-trained model\n",
        "# import torch\n",
        "# import torch.nn as nn\n",
        "import json\n",
        "import tensorflow as tf\n",
        "from tensorflow.keras.preprocessing.text import Tokenizer\n",
        "from tensorflow.keras.preprocessing.sequence import pad_sequences\n",
        "from keras.utils import to_categorical\n",
        "import numpy as np\n",
        "import keras\n"
      ]
    },
    {
      "cell_type": "code",
      "execution_count": 74,
      "metadata": {
        "id": "3HsbFJcEuIfe"
      },
      "outputs": [],
      "source": [
        "# Specify the path to your JSON file\n",
        "json_file_path = 'ATE_training_data.json'\n",
        "\n",
        "# Read the JSON file\n",
        "with open(json_file_path) as f:\n",
        "    data = json.load(f)\n",
        "\n",
        "# data\n",
        "# print(len(data))\n",
        "\n",
        "# Specify the path to your JSON file\n",
        "json_file_path = 'ATE_validation_data.json'\n",
        "\n",
        "# Read the JSON file\n",
        "with open(json_file_path) as f:\n",
        "    validation_data = json.load(f)\n",
        "\n",
        "\n"
      ]
    },
    {
      "cell_type": "code",
      "execution_count": 75,
      "metadata": {
        "id": "90YR4gRnuIff"
      },
      "outputs": [],
      "source": [
        "# max_len=0\n",
        "# for key,value in data.items():\n",
        "#     max_len=max(max_len,len(value['text'].split(\" \")))\n",
        "max_len=100\n"
      ]
    },
    {
      "cell_type": "code",
      "execution_count": 76,
      "metadata": {
        "id": "YiK9y8OruIff"
      },
      "outputs": [],
      "source": [
        "c=1\n",
        "for key, value in data.items():\n",
        "    word = value['text'].split(\" \")\n",
        "    labels = value['labels']\n",
        "    new_labels = []\n",
        "    new_word = []\n",
        "    for i in range(len(word)):\n",
        "        if(word[i]==''):\n",
        "            print(word)\n",
        "            continue\n",
        "        # new_labels.append(labels[i])\n",
        "        new_word.append(word[i])\n",
        "    # value['labels'] = new_labels\n",
        "    value['word'] = new_word\n",
        "\n",
        "\n",
        "for key, value in validation_data.items():\n",
        "    word = value['text'].split(\" \")\n",
        "    labels = value['labels']\n",
        "    new_labels = []\n",
        "    new_word = []\n",
        "    for i in range(len(word)):\n",
        "        if(word[i]==''):\n",
        "            continue\n",
        "        # new_labels.append(labels[i])\n",
        "        new_word.append(word[i])\n",
        "    # value['labels'] = new_labels\n",
        "    value['word'] = new_word"
      ]
    },
    {
      "cell_type": "code",
      "execution_count": 77,
      "metadata": {
        "id": "xXF2XAHKuIff"
      },
      "outputs": [],
      "source": [
        "sentence_for_training = []\n",
        "tags_for_training = []\n",
        "X_train = []\n",
        "\n",
        "for key, value in data.items():\n",
        "    word = value['word']\n",
        "    tags = value['labels']\n",
        "    sentence = value['text']\n",
        "    # Pad the entire sentence\n",
        "    # if len(word) < max_len:\n",
        "    #     word += [''] * (max_len - len(word))\n",
        "    #     tags += ['O'] * (max_len - len(tags))\n",
        "\n",
        "    sentence_for_training.append(word)\n",
        "    tags_for_training.append(tags)\n",
        "\n",
        "    # # Tokenize the entire sentence\n",
        "    # tokenizer = Tokenizer()\n",
        "    # tokenizer.fit_on_texts([word])\n",
        "    X_train.append(word)\n",
        "\n",
        "\n",
        "tokenizer = Tokenizer()\n",
        "tokenizer.fit_on_texts(X_train)\n",
        "X_train = tokenizer.texts_to_sequences(X_train)\n",
        "X_train = pad_sequences(X_train, maxlen=max_len, padding='post', truncating='pre')\n",
        "# print(max_len)\n",
        "# for i in X_train:\n",
        "#     if(len(i)>max_len):\n",
        "#         print(len(i))"
      ]
    },
    {
      "cell_type": "code",
      "execution_count": 78,
      "metadata": {
        "id": "R6Skjcp4uIff"
      },
      "outputs": [],
      "source": [
        "sentence_for_validation = []\n",
        "tags_for_validation = []\n",
        "X_validation = []\n",
        "\n",
        "for key, value in validation_data.items():\n",
        "    word = value['word']\n",
        "    tags = value['labels']\n",
        "\n",
        "    # # Pad the entire sentence\n",
        "    # if len(word) < max_len:\n",
        "    #     word += [''] * (max_len - len(word))\n",
        "    #     tags += ['O'] * (max_len - len(tags))\n",
        "\n",
        "    sentence_for_validation.append(word)\n",
        "    tags_for_validation.append(tags)\n",
        "\n",
        "    # Tokenize the entire sentence\n",
        "    # tokenizer = Tokenizer()\n",
        "    # tokenizer.fit_on_texts([word])\n",
        "    X_validation.append(word)\n",
        "\n",
        "\n",
        "tokenizer = Tokenizer()\n",
        "tokenizer.fit_on_texts(X_validation)\n",
        "X_validation = tokenizer.texts_to_sequences(X_validation)\n",
        "X_validation = pad_sequences(X_validation, maxlen= max_len, padding='post', truncating='pre')\n",
        "# y_validation = pad_sequences(y_validation, batch_first=True, padding_value=0)\n"
      ]
    },
    {
      "cell_type": "code",
      "execution_count": 79,
      "metadata": {
        "colab": {
          "base_uri": "https://localhost:8080/"
        },
        "id": "rwGbgN0EuIfg",
        "outputId": "c765d528-e83b-42fc-8e23-7f4d6ff4ef36"
      },
      "outputs": [
        {
          "name": "stdout",
          "output_type": "stream",
          "text": [
            "(906, 100)\n"
          ]
        }
      ],
      "source": [
        "print(X_train.shape)"
      ]
    },
    {
      "cell_type": "code",
      "execution_count": 80,
      "metadata": {
        "colab": {
          "base_uri": "https://localhost:8080/"
        },
        "id": "Uu3713wouIfg",
        "outputId": "cd6e9493-6e30-4893-b43e-083a4a55b456"
      },
      "outputs": [
        {
          "name": "stdout",
          "output_type": "stream",
          "text": [
            "2740\n"
          ]
        }
      ],
      "source": [
        "vocab = []\n",
        "for i in sentence_for_training:\n",
        "    for j in i:\n",
        "        if j not in vocab:\n",
        "            vocab.append(j)\n",
        "# vocab = list(set(vocab))\n",
        "print(len(vocab))    #30220"
      ]
    },
    {
      "cell_type": "code",
      "execution_count": 81,
      "metadata": {
        "id": "P6XUlOSquIfg"
      },
      "outputs": [],
      "source": [
        "vocab_weight = {}\n",
        "c = 0\n",
        "for i in vocab:\n",
        "   if i in model_GloVe:\n",
        "       vocab_weight[i] = model_GloVe[i]"
      ]
    },
    {
      "cell_type": "code",
      "execution_count": 82,
      "metadata": {
        "id": "H_0wObNguIfh"
      },
      "outputs": [],
      "source": [
        "# give code to make embedding weight matrix\n",
        "# vocab=len(vocab)+1\n",
        "weights = np.zeros((len(vocab)+1, 300))\n",
        "for i in range(len(vocab)):\n",
        "    if(vocab[i] in vocab_weight):\n",
        "        weights[i] = vocab_weight[vocab[i]]\n",
        "    # weights[i] = vocab_weight[vocab[i]]\n",
        "\n"
      ]
    },
    {
      "cell_type": "code",
      "execution_count": 83,
      "metadata": {
        "colab": {
          "base_uri": "https://localhost:8080/"
        },
        "id": "FAyrWbpNuIfh",
        "outputId": "6926078e-dc2f-48b6-e0f0-9ff403dbddae"
      },
      "outputs": [
        {
          "data": {
            "text/plain": [
              "(2741, 300)"
            ]
          },
          "execution_count": 83,
          "metadata": {},
          "output_type": "execute_result"
        }
      ],
      "source": [
        "# weights = []\n",
        "# for i in vocab:\n",
        "#     weights.append(vocab_weight[i])\n",
        "# weights = np.array(weights)\n",
        "weights.shape\n",
        "# # weights"
      ]
    },
    {
      "cell_type": "code",
      "execution_count": 85,
      "metadata": {
        "id": "nRCxcDU5uIfh"
      },
      "outputs": [],
      "source": [
        "y_train=[]\n",
        "y_validation=[]\n",
        "y_test=[]\n",
        "\n",
        "word_tokenizer = Tokenizer()                      # instantiate tokeniser\n",
        "word_tokenizer.fit_on_texts(tags_for_training)                    # fit tokeniser on data\n",
        "y_train = word_tokenizer.texts_to_sequences(tags_for_training)  # use the tokeniser to encode input sequence.\n",
        "y_train = pad_sequences(y_train, maxlen= max_len, padding='post', truncating='pre')\n",
        "\n",
        "\n",
        "# for i in range(len(y_train)):\n",
        "#     for j in range(len(y_train[i])):\n",
        "#         y_train[i][j]-=1\n",
        "\n",
        "\n",
        "word_tokenizer = Tokenizer()                      # instantiate tokeniser\n",
        "word_tokenizer.fit_on_texts(tags_for_training)                    # fit tokeniser on data\n",
        "y_validation = word_tokenizer.texts_to_sequences(tags_for_validation)  # use the tokeniser to encode input sequence\n",
        "y_validation = pad_sequences(y_validation,  maxlen= max_len, padding='post', truncating='pre')\n",
        "\n",
        "# for i in range(len(y_validation)):\n",
        "#     for j in range(len(y_validation[i])):\n",
        "#         y_validation[i][j]-=1\n",
        "\n",
        "\n",
        "# y_train = pad_sequences(y_train, maxlen= max_len, padding='pre', truncating='post')\n",
        "# y_validation = pad_sequences(y_validation,maxlen= max_len, padding='pre', truncating='post')\n",
        "y_train = to_categorical(y_train)\n",
        "y_validation = to_categorical(y_validation)\n",
        "\n",
        "\n",
        "# y_train.shape\n",
        "# y_validation.shape\n",
        "# y_train"
      ]
    },
    {
      "cell_type": "code",
      "execution_count": 86,
      "metadata": {
        "colab": {
          "base_uri": "https://localhost:8080/"
        },
        "id": "bwchOLQJuIfh",
        "outputId": "7749858b-3c11-4f00-85f1-7f92a880961f"
      },
      "outputs": [
        {
          "name": "stdout",
          "output_type": "stream",
          "text": [
            "(906, 100, 4)\n",
            "(219, 100, 4)\n"
          ]
        }
      ],
      "source": [
        "print(y_train.shape)\n",
        "print(y_validation.shape)"
      ]
    },
    {
      "cell_type": "code",
      "execution_count": 98,
      "metadata": {
        "id": "Y-WsK0aEuIfh"
      },
      "outputs": [],
      "source": [
        "from tensorflow.keras import Model,Input\n",
        "from keras.models import Sequential\n",
        "\n",
        "from tensorflow.keras.layers import GRU,SimpleRNN,LSTM,Embedding,Dense\n",
        "from tensorflow.keras.layers import TimeDistributed, SpatialDropout1D,Bidirectional\n",
        "# create architecture\n",
        "\n",
        "# VOCABULARY_SIZE = len(vocab)\n",
        "\n",
        "\n",
        "gru_model = Sequential()\n",
        "gru_model.add(Embedding(input_dim     = len(vocab)+1,         # vocabulary size - number of unique words in data\n",
        "                         output_dim    = 300,          # length of vector with which each word is represented\n",
        "                         input_length  = max_len,          # length of input sequence\n",
        "                         weights       = [weights],     # word embedding matrix\n",
        "                         trainable     = True                     # True - update embeddings_weight matrix\n",
        "))\n",
        "gru_model.add(GRU(64, return_sequences=True))\n",
        "gru_model.add(TimeDistributed(Dense(4, activation='softmax')))"
      ]
    },
    {
      "cell_type": "code",
      "execution_count": 99,
      "metadata": {
        "id": "r6UJGAL6_zKu"
      },
      "outputs": [],
      "source": [
        "from keras import backend as K\n",
        "from sklearn.metrics import f1_score\n",
        "import matplotlib.pyplot as plt\n",
        "\n",
        "def recall_m(y_true, y_pred):\n",
        "    true_positives = K.sum(K.round(K.clip(y_true * y_pred, 0, 1)))\n",
        "    possible_positives = K.sum(K.round(K.clip(y_true, 0, 1)))\n",
        "    recall = true_positives / (possible_positives + K.epsilon())\n",
        "    return recall\n",
        "\n",
        "def precision_m(y_true, y_pred):\n",
        "    true_positives = K.sum(K.round(K.clip(y_true * y_pred, 0, 1)))\n",
        "    predicted_positives = K.sum(K.round(K.clip(y_pred, 0, 1)))\n",
        "    precision = true_positives / (predicted_positives + K.epsilon())\n",
        "    return precision\n",
        "\n",
        "def f1_m(y_true, y_pred):\n",
        "    true_positives = K.sum(K.round(K.clip(y_true * y_pred, 0, 1)), axis=0)\n",
        "    predicted_positives = K.sum(K.round(K.clip(y_pred, 0, 1)), axis=0)\n",
        "    possible_positives = K.sum(K.round(K.clip(y_true, 0, 1)), axis=0)\n",
        "\n",
        "    precision = true_positives / (predicted_positives + K.epsilon())\n",
        "    recall = true_positives / (possible_positives + K.epsilon())\n",
        "\n",
        "    f1 = 2 * precision * recall / (precision + recall + K.epsilon())\n",
        "\n",
        "    macro_f1 = K.mean(f1)\n",
        "    return macro_f1\n",
        "\n",
        "# compile the model\n",
        "gru_model.compile(optimizer='adam', loss='categorical_crossentropy', metrics=['acc',f1_m,precision_m, recall_m])\n",
        "\n",
        "\n"
      ]
    },
    {
      "cell_type": "code",
      "execution_count": 100,
      "metadata": {
        "colab": {
          "base_uri": "https://localhost:8080/"
        },
        "id": "Ft7GaGLOuIfi",
        "outputId": "41676745-b735-46e3-bbac-d061e1a54909"
      },
      "outputs": [
        {
          "name": "stdout",
          "output_type": "stream",
          "text": [
            "Epoch 1/10\n",
            "8/8 [==============================] - 4s 374ms/step - loss: 1.0622 - acc: 0.6531 - f1_m: 0.0843 - precision_m: 0.3750 - recall_m: 0.2983 - val_loss: 0.4446 - val_acc: 0.9638 - val_f1_m: 0.2326 - val_precision_m: 1.0000 - val_recall_m: 0.7987\n",
            "Epoch 2/10\n",
            "8/8 [==============================] - 1s 144ms/step - loss: 0.3236 - acc: 0.9692 - f1_m: 0.2379 - precision_m: 1.0000 - recall_m: 0.8060 - val_loss: 0.2170 - val_acc: 0.9771 - val_f1_m: 0.2387 - val_precision_m: 1.0000 - val_recall_m: 0.8072\n",
            "Epoch 3/10\n",
            "8/8 [==============================] - 1s 111ms/step - loss: 0.1889 - acc: 0.9779 - f1_m: 0.2739 - precision_m: 0.9979 - recall_m: 0.8413 - val_loss: 0.1472 - val_acc: 0.9799 - val_f1_m: 0.4044 - val_precision_m: 0.9873 - val_recall_m: 0.9396\n",
            "Epoch 4/10\n",
            "8/8 [==============================] - 1s 114ms/step - loss: 0.1277 - acc: 0.9792 - f1_m: 0.3748 - precision_m: 0.9833 - recall_m: 0.9588 - val_loss: 0.1018 - val_acc: 0.9803 - val_f1_m: 0.4152 - val_precision_m: 0.9812 - val_recall_m: 0.9703\n",
            "Epoch 5/10\n",
            "8/8 [==============================] - 1s 91ms/step - loss: 0.0908 - acc: 0.9793 - f1_m: 0.3839 - precision_m: 0.9799 - recall_m: 0.9752 - val_loss: 0.0858 - val_acc: 0.9804 - val_f1_m: 0.4172 - val_precision_m: 0.9806 - val_recall_m: 0.9785\n",
            "Epoch 6/10\n",
            "8/8 [==============================] - 1s 95ms/step - loss: 0.0782 - acc: 0.9794 - f1_m: 0.3896 - precision_m: 0.9804 - recall_m: 0.9787 - val_loss: 0.0838 - val_acc: 0.9803 - val_f1_m: 0.4173 - val_precision_m: 0.9806 - val_recall_m: 0.9788\n",
            "Epoch 7/10\n",
            "8/8 [==============================] - 1s 106ms/step - loss: 0.0714 - acc: 0.9794 - f1_m: 0.3826 - precision_m: 0.9803 - recall_m: 0.9787 - val_loss: 0.0822 - val_acc: 0.9803 - val_f1_m: 0.4173 - val_precision_m: 0.9805 - val_recall_m: 0.9790\n",
            "Epoch 8/10\n",
            "8/8 [==============================] - 1s 103ms/step - loss: 0.0635 - acc: 0.9795 - f1_m: 0.3885 - precision_m: 0.9810 - recall_m: 0.9789 - val_loss: 0.0814 - val_acc: 0.9801 - val_f1_m: 0.4173 - val_precision_m: 0.9806 - val_recall_m: 0.9789\n",
            "Epoch 9/10\n",
            "8/8 [==============================] - 2s 239ms/step - loss: 0.0564 - acc: 0.9798 - f1_m: 0.3893 - precision_m: 0.9822 - recall_m: 0.9789 - val_loss: 0.0825 - val_acc: 0.9795 - val_f1_m: 0.4167 - val_precision_m: 0.9808 - val_recall_m: 0.9771\n",
            "Epoch 10/10\n",
            "8/8 [==============================] - 1s 151ms/step - loss: 0.0500 - acc: 0.9809 - f1_m: 0.3911 - precision_m: 0.9862 - recall_m: 0.9790 - val_loss: 0.0855 - val_acc: 0.9776 - val_f1_m: 0.4151 - val_precision_m: 0.9801 - val_recall_m: 0.9736\n"
          ]
        }
      ],
      "source": [
        "import numpy as np\n",
        "\n",
        "# Convert input data to numpy arrays\n",
        "# X_train_np = np.array(X_train)\n",
        "# X_validation_np = np.array(X_validation)\n",
        "# Reshape the input data to remove the extra dimension\n",
        "X_train_np = np.array(X_train)\n",
        "X_validation_np = np.array(X_validation)\n",
        "\n",
        "y_train_np = np.array(y_train)\n",
        "y_validation_np = np.array(y_validation)\n",
        "\n",
        "# Train the model\n",
        "gru_training = gru_model.fit(X_train, y_train, batch_size=128, epochs=10, validation_data=(X_validation, y_validation))\n",
        "#write code to print the training and validation loss and f1 macro not the graph\n",
        "\n",
        "\n",
        "\n",
        "\n"
      ]
    },
    {
      "cell_type": "code",
      "execution_count": 103,
      "metadata": {
        "colab": {
          "base_uri": "https://localhost:8080/",
          "height": 487
        },
        "id": "ENF-LJGh_zK2",
        "outputId": "da265618-c6c3-4a53-e1b6-8d596edb64ad"
      },
      "outputs": [
        {
          "data": {
            "image/png": "[encoded data removed]",
            "text/plain": [
              "<Figure size 800x500 with 1 Axes>"
            ]
          },
          "metadata": {},
          "output_type": "display_data"
        }
      ],
      "source": [
        "import matplotlib.pyplot as plt\n",
        "\n",
        "train_loss = gru_training.history['loss']\n",
        "val_loss = gru_training.history['val_loss']\n",
        "\n",
        "epochs = range(1, len(train_loss) + 1)\n",
        "\n",
        "plt.figure(figsize=(8, 5))\n",
        "plt.plot(epochs, train_loss, 'o-', label='Training Loss')\n",
        "plt.plot(epochs, val_loss, 'o-', label='Validation Loss')\n",
        "\n",
        "plt.xlabel('Epoch')\n",
        "plt.ylabel('Loss')\n",
        "plt.title('Training vs. Validation Loss')\n",
        "plt.legend()\n",
        "plt.savefig('ATEFasttextGRUloss.png')   \n",
        "\n",
        "plt.grid(True)\n",
        "\n",
        "plt.show()\n"
      ]
    },
    {
      "cell_type": "code",
      "execution_count": 104,
      "metadata": {
        "colab": {
          "base_uri": "https://localhost:8080/",
          "height": 487
        },
        "id": "kV934tfl_zK2",
        "outputId": "430497e3-cd49-49b8-eba2-c3a2d48d6924"
      },
      "outputs": [
        {
          "data": {
            "image/png": "[encoded data removed]",
            "text/plain": [
              "<Figure size 800x500 with 1 Axes>"
            ]
          },
          "metadata": {},
          "output_type": "display_data"
        }
      ],
      "source": [
        "import matplotlib.pyplot as plt\n",
        "\n",
        "train_loss = lstm_training.history['f1_m']\n",
        "val_loss = lstm_training.history['val_f1_m']\n",
        "\n",
        "epochs = range(1, len(train_loss) + 1)\n",
        "\n",
        "plt.figure(figsize=(8, 5))\n",
        "plt.plot(epochs, train_loss, 'o-', label='Training F1')\n",
        "plt.plot(epochs, val_loss, 'o-', label='Validation F1')\n",
        "\n",
        "plt.xlabel('Epoch')\n",
        "plt.ylabel('F1')\n",
        "plt.title('Training vs. Validation F1')\n",
        "plt.legend()\n",
        "plt.savefig('ATEFasttextGRUf1.png')\n",
        "\n",
        "plt.grid(True)\n",
        "\n",
        "plt.show()\n"
      ]
    },
    {
      "cell_type": "code",
      "execution_count": 105,
      "metadata": {
        "id": "ZNfZ4oKpuIfi"
      },
      "outputs": [],
      "source": [
        "json_file_path = 'ATE_test_data.json'\n",
        "\n",
        "# Read the JSON file\n",
        "with open(json_file_path) as f:\n",
        "    test_data = json.load(f)\n"
      ]
    },
    {
      "cell_type": "code",
      "execution_count": 106,
      "metadata": {
        "id": "w5hVqz-_uIfi"
      },
      "outputs": [],
      "source": [
        "for key, value in test_data.items():\n",
        "    word = value['text'].split(\" \")\n",
        "    labels = value['labels']\n",
        "    new_labels = []\n",
        "    new_word = []\n",
        "    for i in range(len(word)):\n",
        "        if(word[i]==''):\n",
        "            print(\"SADf\")\n",
        "            continue\n",
        "        new_word.append(word[i])\n",
        "    value['word'] = new_word"
      ]
    },
    {
      "cell_type": "code",
      "execution_count": 107,
      "metadata": {
        "id": "o0DlSxt-uIfi"
      },
      "outputs": [],
      "source": [
        "X_test = []\n",
        "tags_for_testing = []\n",
        "sentence_for_testing = []\n",
        "for key, value in test_data.items():\n",
        "    word = value['word']\n",
        "    tags = value['labels']\n",
        "    sentence = value['text']\n",
        "    # Pad the entire sentence\n",
        "    # if len(word) < max_len:\n",
        "    #     word += [''] * (max_len - len(word))\n",
        "    #     tags += ['O'] * (max_len - len(tags))\n",
        "\n",
        "    sentence_for_testing.append(word)\n",
        "    tags_for_testing.append(tags)\n",
        "\n",
        "    # Tokenize the entire sentence\n",
        "    # tokenizer = Tokenizer()\n",
        "    # tokenizer.fit_on_texts([word])\n",
        "    X_test.append(word)\n",
        "\n",
        "tokenizer = Tokenizer()\n",
        "tokenizer.fit_on_texts(X_test)\n",
        "X_test = tokenizer.texts_to_sequences(X_test)\n",
        "X_test = pad_sequences(X_test,  maxlen= max_len, padding='post', truncating='pre')"
      ]
    },
    {
      "cell_type": "code",
      "execution_count": 108,
      "metadata": {
        "colab": {
          "base_uri": "https://localhost:8080/"
        },
        "id": "juSFAtAWuIfj",
        "outputId": "38aff026-8c34-4c15-d944-eb323f32e780"
      },
      "outputs": [
        {
          "name": "stdout",
          "output_type": "stream",
          "text": [
            "[491 119   6 149  26   4 186 236  91 492 307   9 493 494   1   0   0   0\n",
            "   0   0   0   0   0   0   0   0   0   0   0   0   0   0   0   0   0   0\n",
            "   0   0   0   0   0   0   0   0   0   0   0   0   0   0   0   0   0   0\n",
            "   0   0   0   0   0   0   0   0   0   0   0   0   0   0   0   0   0   0\n",
            "   0   0   0   0   0   0   0   0   0   0   0   0   0   0   0   0   0   0\n",
            "   0   0   0   0   0   0   0   0   0   0]\n",
            "['I', 'charge', 'it', 'at', 'night', 'and', 'skip', 'taking', 'the', 'cord', 'with', 'me', 'because', 'of', 'the', 'good', 'battery', 'life', '.']\n"
          ]
        }
      ],
      "source": [
        "print(X_test[0])\n",
        "print(sentence_for_training[0])"
      ]
    },
    {
      "cell_type": "code",
      "execution_count": 109,
      "metadata": {
        "id": "FfzYNSxXuIfj"
      },
      "outputs": [],
      "source": [
        "\n",
        "word_tokenizer = Tokenizer()                      # instantiate tokeniser\n",
        "word_tokenizer.fit_on_texts(tags_for_testing)                    # fit tokeniser on data\n",
        "y_test = word_tokenizer.texts_to_sequences(tags_for_testing)  # use the tokeniser to encode input sequence\n",
        "\n",
        "\n",
        "# for i in range(len(y_test)):\n",
        "#     for j in range(len(y_test[i])):\n",
        "#         y_test[i][j]-=1\n",
        "\n",
        "y_test = pad_sequences(y_test,  maxlen= max_len, padding='post', truncating='pre')\n",
        "y_test = to_categorical(y_test)\n"
      ]
    },
    {
      "cell_type": "code",
      "execution_count": 110,
      "metadata": {
        "colab": {
          "base_uri": "https://localhost:8080/"
        },
        "id": "yrGyCFCguIfj",
        "outputId": "74088db3-af06-49c0-955a-fcb61241a227"
      },
      "outputs": [
        {
          "name": "stdout",
          "output_type": "stream",
          "text": [
            "(328, 100, 4)\n"
          ]
        }
      ],
      "source": [
        "print(y_test.shape)\n",
        "# print(tags_for_testing[0])"
      ]
    },
    {
      "cell_type": "code",
      "execution_count": 111,
      "metadata": {
        "id": "dMhHo3gjuIfj"
      },
      "outputs": [],
      "source": [
        "# take 5 random sentence, print it , its label and the predicted label\n",
        "\n"
      ]
    },
    {
      "cell_type": "code",
      "execution_count": 112,
      "metadata": {
        "colab": {
          "base_uri": "https://localhost:8080/"
        },
        "id": "Dvz1Gy9RuIfj",
        "outputId": "164b6926-5009-4dab-ca79-8ee447a945fd"
      },
      "outputs": [
        {
          "name": "stdout",
          "output_type": "stream",
          "text": [
            "11/11 [==============================] - 4s 311ms/step - loss: 0.0925 - acc: 0.9727 - f1_m: 0.3396 - precision_m: 0.9785 - recall_m: 0.9669\n",
            "Loss: 0.09247327595949173\n",
            "Metrics: [0.9726829528808594, 0.33957651257514954, 0.9784657955169678, 0.9669034481048584]\n"
          ]
        }
      ],
      "source": [
        "# Evaluate the model\n",
        "results = rnn_model.evaluate(X_test, y_test, verbose=1)\n",
        "\n",
        "# Extracting loss and metrics from the results\n",
        "loss = results[0]\n",
        "metrics = results[1:]\n",
        "\n",
        "# Printing loss and metrics\n",
        "print(\"Loss:\", loss)\n",
        "print(\"Metrics:\", metrics)\n"
      ]
    },
    {
      "cell_type": "code",
      "execution_count": 113,
      "metadata": {
        "colab": {
          "base_uri": "https://localhost:8080/"
        },
        "id": "8Yxey8UGuIfk",
        "outputId": "1c158469-1e70-4595-d723-e73788f1441b"
      },
      "outputs": [
        {
          "name": "stdout",
          "output_type": "stream",
          "text": [
            "11/11 [==============================] - 1s 30ms/step\n",
            "0.488030598152626\n"
          ]
        }
      ],
      "source": [
        "# calculate f1 score\n",
        "\n",
        "from sklearn.metrics import f1_score\n",
        "y_pred = gru_model.predict(X_test)\n",
        "y_pred = np.argmax(y_pred, axis=-1)\n",
        "y_test = np.argmax(y_test, axis=-1)\n",
        "f1 = f1_score(y_test.flatten(), y_pred.flatten(), average='macro')\n",
        "print(f1)"
      ]
    },
    {
      "cell_type": "code",
      "execution_count": 114,
      "metadata": {},
      "outputs": [
        {
          "name": "stdout",
          "output_type": "stream",
          "text": [
            "Accuracy: 0.9764024390243903\n"
          ]
        }
      ],
      "source": [
        "print(\"Accuracy:\", accuracy_score(y_test.flatten(), y_pred.flatten()))  "
      ]
    },
    {
      "cell_type": "code",
      "execution_count": 115,
      "metadata": {},
      "outputs": [
        {
          "name": "stderr",
          "output_type": "stream",
          "text": [
            "/opt/homebrew/lib/python3.11/site-packages/keras/src/engine/training.py:3103: UserWarning: You are saving your model as an HDF5 file via `model.save()`. This file format is considered legacy. We recommend using instead the native Keras format, e.g. `model.save('my_model.keras')`.\n",
            "  saving_api.save_model(\n"
          ]
        }
      ],
      "source": [
        "# save the models\n",
        "rnn_model.save('ATEFasttextRNN.h5')\n",
        "lstm_model.save('ATEFasttextLSTM.h5')\n",
        "gru_model.save('ATEFasttextGRU.h5')\n"
      ]
    },
    {
      "cell_type": "code",
      "execution_count": null,
      "metadata": {},
      "outputs": [],
      "source": []
    }
  ],
  "metadata": {
    "colab": {
      "provenance": []
    },
    "kernelspec": {
      "display_name": "Python 3",
      "language": "python",
      "name": "python3"
    },
    "language_info": {
      "codemirror_mode": {
        "name": "ipython",
        "version": 3
      },
      "file_extension": ".py",
      "mimetype": "text/x-python",
      "name": "python",
      "nbconvert_exporter": "python",
      "pygments_lexer": "ipython3",
      "version": "3.11.3"
    }
  },
  "nbformat": 4,
  "nbformat_minor": 0
}
