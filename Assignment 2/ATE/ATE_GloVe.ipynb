{
  "cells": [
    {
      "cell_type": "code",
      "execution_count": 13,
      "metadata": {
        "id": "jfHG8zJPkQrk"
      },
      "outputs": [],
      "source": [
        "import gensim.downloader as api\n",
        "\n",
        "# Load the model using gensim.downloader\n",
        "model_Glove = api.load(\"glove-wiki-gigaword-300\")"
      ]
    },
    {
      "cell_type": "markdown",
      "metadata": {
        "id": "AulNRBjzIAp3"
      },
      "source": [
        "Vanilla **RNN**"
      ]
    },
    {
      "cell_type": "code",
      "execution_count": 14,
      "metadata": {
        "id": "ej0QUa4jxzsV"
      },
      "outputs": [],
      "source": [
        "\n",
        "from gensim.models import KeyedVectors# Load pre-trained model\n",
        "# import torch\n",
        "# import torch.nn as nn\n",
        "\n",
        "import json\n",
        "import tensorflow as tf\n",
        "from tensorflow.keras.preprocessing.text import Tokenizer\n",
        "from tensorflow.keras.preprocessing.sequence import pad_sequences\n",
        "from keras.utils import to_categorical\n",
        "import numpy as np\n",
        "import keras\n"
      ]
    },
    {
      "cell_type": "code",
      "execution_count": 15,
      "metadata": {
        "id": "cVFmMOoKxzsX"
      },
      "outputs": [],
      "source": [
        "# Specify the path to your JSON file\n",
        "json_file_path = 'ATE_training_data.json'\n",
        "\n",
        "# Read the JSON file\n",
        "with open(json_file_path) as f:\n",
        "    data = json.load(f)\n",
        "\n",
        "# data\n",
        "# print(len(data))\n",
        "\n",
        "# Specify the path to your JSON file\n",
        "json_file_path = 'ATE_validation_data.json'\n",
        "\n",
        "# Read the JSON file\n",
        "with open(json_file_path) as f:\n",
        "    validation_data = json.load(f)\n",
        "\n",
        "\n"
      ]
    },
    {
      "cell_type": "code",
      "execution_count": 16,
      "metadata": {
        "id": "tynHnkjqxzsX"
      },
      "outputs": [],
      "source": [
        "# max_len=0\n",
        "# for key,value in data.items():\n",
        "#     max_len=max(max_len,len(value['text'].split(\" \")))\n",
        "max_len=78\n"
      ]
    },
    {
      "cell_type": "code",
      "execution_count": 17,
      "metadata": {
        "id": "67jvkQyAxzsX"
      },
      "outputs": [],
      "source": [
        "c=1\n",
        "for key, value in data.items():\n",
        "    word = value['text'].split(\" \")\n",
        "    labels = value['labels']\n",
        "    new_labels = []\n",
        "    new_word = []\n",
        "    for i in range(len(word)):\n",
        "        if(word[i]==''):\n",
        "            print(word)\n",
        "            continue\n",
        "        # new_labels.append(labels[i])\n",
        "        new_word.append(word[i])\n",
        "    # value['labels'] = new_labels\n",
        "    value['word'] = new_word\n",
        "\n",
        "\n",
        "for key, value in validation_data.items():\n",
        "    word = value['text'].split(\" \")\n",
        "    labels = value['labels']\n",
        "    new_labels = []\n",
        "    new_word = []\n",
        "    for i in range(len(word)):\n",
        "        if(word[i]==''):\n",
        "            continue\n",
        "        # new_labels.append(labels[i])\n",
        "        new_word.append(word[i])\n",
        "    # value['labels'] = new_labels\n",
        "    value['word'] = new_word"
      ]
    },
    {
      "cell_type": "code",
      "execution_count": 18,
      "metadata": {
        "id": "uMSk9nHzxzsY"
      },
      "outputs": [],
      "source": [
        "sentence_for_training = []\n",
        "tags_for_training = []\n",
        "X_train = []\n",
        "\n",
        "for key, value in data.items():\n",
        "    word = value['word']\n",
        "    tags = value['labels']\n",
        "    sentence = value['text']\n",
        "    # Pad the entire sentence\n",
        "    # if len(word) < max_len:\n",
        "    #     word += [''] * (max_len - len(word))\n",
        "    #     tags += ['O'] * (max_len - len(tags))\n",
        "\n",
        "    sentence_for_training.append(word)\n",
        "    tags_for_training.append(tags)\n",
        "\n",
        "    # # Tokenize the entire sentence\n",
        "    # tokenizer = Tokenizer()\n",
        "    # tokenizer.fit_on_texts([word])\n",
        "    X_train.append(word)\n",
        "\n",
        "\n",
        "tokenizer = Tokenizer()\n",
        "tokenizer.fit_on_texts(X_train)\n",
        "X_train = tokenizer.texts_to_sequences(X_train)\n",
        "X_train = pad_sequences(X_train, maxlen=max_len, padding='post', truncating='pre')\n",
        "# print(max_len)\n",
        "# for i in X_train:\n",
        "#     if(len(i)>max_len):\n",
        "#         print(len(i))"
      ]
    },
    {
      "cell_type": "code",
      "execution_count": 19,
      "metadata": {
        "colab": {
          "base_uri": "https://localhost:8080/"
        },
        "id": "t-GOBDk56VlO",
        "outputId": "c14c40de-ff87-4eb0-e21a-18666125ccc2"
      },
      "outputs": [
        {
          "name": "stdout",
          "output_type": "stream",
          "text": [
            "[ 327    3    1  414 1169    4  199 1170 1171  200  136   72  268  156\n",
            "  805   41  806   15  328  201   36    2    0    0    0    0    0    0\n",
            "    0    0    0    0    0    0    0    0    0    0    0    0    0    0\n",
            "    0    0    0    0    0    0    0    0    0    0    0    0    0    0\n",
            "    0    0    0    0    0    0    0    0    0    0    0    0    0    0\n",
            "    0    0    0    0    0    0    0    0]\n",
            "['However', ',', 'the', 'multi-touch', 'gestures', 'and', 'large', 'tracking', 'area', 'make', 'having', 'an', 'external', 'mouse', 'unnecessary', '(', 'unless', 'you', \"'re\", 'gaming', ')', '.']\n"
          ]
        }
      ],
      "source": [
        "print(X_train[5])\n",
        "print(sentence_for_training[5])"
      ]
    },
    {
      "cell_type": "code",
      "execution_count": 20,
      "metadata": {
        "colab": {
          "base_uri": "https://localhost:8080/"
        },
        "id": "QdDIx9Eg6X-C",
        "outputId": "6d59bcb9-c55a-47f4-b989-a1c5d7e28a3d"
      },
      "outputs": [
        {
          "data": {
            "text/plain": [
              "(906, 78)"
            ]
          },
          "execution_count": 20,
          "metadata": {},
          "output_type": "execute_result"
        }
      ],
      "source": [
        "X_train.shape"
      ]
    },
    {
      "cell_type": "code",
      "execution_count": 21,
      "metadata": {
        "id": "0L2ZWSzgxzsY"
      },
      "outputs": [],
      "source": [
        "sentence_for_validation = []\n",
        "tags_for_validation = []\n",
        "X_validation = []\n",
        "\n",
        "for key, value in validation_data.items():\n",
        "    word = value['word']\n",
        "    tags = value['labels']\n",
        "\n",
        "    # # Pad the entire sentence\n",
        "    # if len(word) < max_len:\n",
        "    #     word += [''] * (max_len - len(word))\n",
        "    #     tags += ['O'] * (max_len - len(tags))\n",
        "\n",
        "    sentence_for_validation.append(word)\n",
        "    tags_for_validation.append(tags)\n",
        "\n",
        "    # Tokenize the entire sentence\n",
        "    # tokenizer = Tokenizer()\n",
        "    # tokenizer.fit_on_texts([word])\n",
        "    X_validation.append(word)\n",
        "\n",
        "\n",
        "tokenizer = Tokenizer()\n",
        "tokenizer.fit_on_texts(X_validation)\n",
        "X_validation = tokenizer.texts_to_sequences(X_validation)\n",
        "X_validation = pad_sequences(X_validation, maxlen= max_len, padding='post', truncating='pre')\n",
        "# y_validation = pad_sequences(y_validation, batch_first=True, padding_value=0)\n"
      ]
    },
    {
      "cell_type": "code",
      "execution_count": 22,
      "metadata": {
        "colab": {
          "base_uri": "https://localhost:8080/"
        },
        "id": "DbGAiKswxzsY",
        "outputId": "dc4d02fb-c652-4024-8fbb-bb17c024cabd"
      },
      "outputs": [
        {
          "name": "stdout",
          "output_type": "stream",
          "text": [
            "(906, 78)\n"
          ]
        }
      ],
      "source": [
        "print(X_train.shape)"
      ]
    },
    {
      "cell_type": "code",
      "execution_count": 23,
      "metadata": {
        "colab": {
          "base_uri": "https://localhost:8080/"
        },
        "id": "AwigSqXIxzsY",
        "outputId": "a0a7523c-fba3-4a14-e3ad-09679f79f780"
      },
      "outputs": [
        {
          "name": "stdout",
          "output_type": "stream",
          "text": [
            "2740\n"
          ]
        }
      ],
      "source": [
        "vocab = []\n",
        "for i in sentence_for_training:\n",
        "    for j in i:\n",
        "        if j not in vocab:\n",
        "            vocab.append(j)\n",
        "# vocab = list(set(vocab))\n",
        "print(len(vocab))    #30220"
      ]
    },
    {
      "cell_type": "code",
      "execution_count": 128,
      "metadata": {
        "id": "xXKObDiPxzsZ"
      },
      "outputs": [],
      "source": [
        "vocab_weight = {}\n",
        "c = 0\n",
        "for i in vocab:\n",
        "   if i in model_GloVe:  # Use model to access word vectors\n",
        "       vocab_weight[i] = model_GloVe[i]"
      ]
    },
    {
      "cell_type": "code",
      "execution_count": 25,
      "metadata": {
        "id": "Usrl5n3JxzsZ"
      },
      "outputs": [],
      "source": [
        "# give code to make embedding weight matrix\n",
        "# vocab=len(vocab)+1\n",
        "weights = np.zeros((len(vocab)+1, 300))\n",
        "for i in range(len(vocab)):\n",
        "    if(vocab[i] in vocab_weight):\n",
        "        weights[i] = vocab_weight[vocab[i]]\n",
        "    # weights[i] = vocab_weight[vocab[i]]\n",
        "\n"
      ]
    },
    {
      "cell_type": "code",
      "execution_count": 26,
      "metadata": {
        "colab": {
          "base_uri": "https://localhost:8080/"
        },
        "id": "o_xX9TKIxzsZ",
        "outputId": "3f95a402-2bc4-48b5-d04c-882a4da0b1bf"
      },
      "outputs": [
        {
          "data": {
            "text/plain": [
              "(2741, 300)"
            ]
          },
          "execution_count": 26,
          "metadata": {},
          "output_type": "execute_result"
        }
      ],
      "source": [
        "# weights = []\n",
        "# for i in vocab:\n",
        "#     weights.append(vocab_weight[i])\n",
        "# weights = np.array(weights)\n",
        "weights.shape\n",
        "# # weights"
      ]
    },
    {
      "cell_type": "code",
      "execution_count": 27,
      "metadata": {
        "id": "ckF6Jp_6xzsZ"
      },
      "outputs": [],
      "source": [
        "y_train=[]\n",
        "y_validation=[]\n",
        "y_test=[]\n",
        "\n",
        "word_tokenizer = Tokenizer()                      # instantiate tokeniser\n",
        "word_tokenizer.fit_on_texts(tags_for_training)                    # fit tokeniser on data\n",
        "y_train = word_tokenizer.texts_to_sequences(tags_for_training)  # use the tokeniser to encode input sequence.\n",
        "y_train = pad_sequences(y_train, maxlen= max_len, padding='post', truncating='pre')\n",
        "\n",
        "\n",
        "# for i in range(len(y_train)):\n",
        "#     for j in range(len(y_train[i])):\n",
        "#         y_train[i][j]-=1\n",
        "\n",
        "\n",
        "word_tokenizer = Tokenizer()                      # instantiate tokeniser\n",
        "word_tokenizer.fit_on_texts(tags_for_training)                    # fit tokeniser on data\n",
        "y_validation = word_tokenizer.texts_to_sequences(tags_for_validation)  # use the tokeniser to encode input sequence\n",
        "y_validation = pad_sequences(y_validation,  maxlen= max_len, padding='post', truncating='pre')\n",
        "\n",
        "# for i in range(len(y_validation)):\n",
        "#     for j in range(len(y_validation[i])):\n",
        "#         y_validation[i][j]-=1\n",
        "\n",
        "\n",
        "# y_train = pad_sequences(y_train, maxlen= max_len, padding='pre', truncating='post')\n",
        "# y_validation = pad_sequences(y_validation,maxlen= max_len, padding='pre', truncating='post')\n",
        "y_train = to_categorical(y_train)\n",
        "y_validation = to_categorical(y_validation)\n",
        "\n",
        "\n",
        "# y_train.shape\n",
        "# y_validation.shape\n",
        "# y_train"
      ]
    },
    {
      "cell_type": "code",
      "execution_count": 28,
      "metadata": {
        "colab": {
          "base_uri": "https://localhost:8080/"
        },
        "id": "2eF184lLxzsZ",
        "outputId": "b9c6ae7b-5b42-40a1-b91f-5dd80bc2a364"
      },
      "outputs": [
        {
          "name": "stdout",
          "output_type": "stream",
          "text": [
            "(906, 78, 4)\n",
            "(219, 78, 4)\n"
          ]
        }
      ],
      "source": [
        "print(y_train.shape)\n",
        "print(y_validation.shape)"
      ]
    },
    {
      "cell_type": "code",
      "execution_count": 29,
      "metadata": {
        "id": "fJJpDkRixzsa"
      },
      "outputs": [
        {
          "name": "stderr",
          "output_type": "stream",
          "text": [
            "2024-03-17 11:03:19.770340: I metal_plugin/src/device/metal_device.cc:1154] Metal device set to: Apple M2\n",
            "2024-03-17 11:03:19.770471: I metal_plugin/src/device/metal_device.cc:296] systemMemory: 8.00 GB\n",
            "2024-03-17 11:03:19.770483: I metal_plugin/src/device/metal_device.cc:313] maxCacheSize: 2.67 GB\n",
            "2024-03-17 11:03:19.770985: I tensorflow/core/common_runtime/pluggable_device/pluggable_device_factory.cc:306] Could not identify NUMA node of platform GPU ID 0, defaulting to 0. Your kernel may not have been built with NUMA support.\n",
            "2024-03-17 11:03:19.772117: I tensorflow/core/common_runtime/pluggable_device/pluggable_device_factory.cc:272] Created TensorFlow device (/job:localhost/replica:0/task:0/device:GPU:0 with 0 MB memory) -> physical PluggableDevice (device: 0, name: METAL, pci bus id: <undefined>)\n"
          ]
        }
      ],
      "source": [
        "from tensorflow.keras import Model,Input\n",
        "from keras.models import Sequential\n",
        "\n",
        "from tensorflow.keras.layers import SimpleRNN,LSTM,Embedding,Dense\n",
        "from tensorflow.keras.layers import TimeDistributed, SpatialDropout1D,Bidirectional\n",
        "# create architecture\n",
        "\n",
        "# VOCABULARY_SIZE = len(vocab)\n",
        "\n",
        "\n",
        "rnn_model = Sequential()\n",
        "rnn_model.add(Embedding(input_dim     = len(vocab)+1,         # vocabulary size - number of unique words in data\n",
        "                         output_dim    = 300,          # length of vector with which each word is represented\n",
        "                         input_length  = max_len,          # length of input sequence\n",
        "                         weights       = [weights],     # word embedding matrix\n",
        "                         trainable     = True                     # True - update embeddings_weight matrix\n",
        "))\n",
        "rnn_model.add(SimpleRNN(64, return_sequences=True))\n",
        "rnn_model.add(TimeDistributed(Dense(4, activation='softmax')))"
      ]
    },
    {
      "cell_type": "code",
      "execution_count": 30,
      "metadata": {
        "id": "RomJHQCs53Ny"
      },
      "outputs": [],
      "source": [
        "from sklearn.metrics import f1_score\n",
        "\n",
        "def macro_f1(y_true, y_pred):\n",
        "    # labels are one-hot encoded. so, need to convert\n",
        "    # [1,0,0] to 0 and\n",
        "    # [0,1,0] to 1 and\n",
        "    # [0,0,1] to 2. Then pass these arrays to sklearn f1_score.\n",
        "    y_true = np.argmax(y_true, axis=1)\n",
        "    y_pred = np.argmax(y_pred, axis=1)\n",
        "    return f1_score(y_true, y_pred, average='macro')"
      ]
    },
    {
      "cell_type": "code",
      "execution_count": 31,
      "metadata": {
        "colab": {
          "base_uri": "https://localhost:8080/"
        },
        "id": "0-QIuRfUxzsa",
        "outputId": "853df2b0-1132-4dc6-b6e4-64e9062816ae"
      },
      "outputs": [
        {
          "name": "stdout",
          "output_type": "stream",
          "text": [
            "Model: \"sequential\"\n",
            "_________________________________________________________________\n",
            " Layer (type)                Output Shape              Param #   \n",
            "=================================================================\n",
            " embedding (Embedding)       (None, 78, 300)           822300    \n",
            "                                                                 \n",
            " simple_rnn (SimpleRNN)      (None, 78, 64)            23360     \n",
            "                                                                 \n",
            " time_distributed (TimeDist  (None, 78, 4)             260       \n",
            " ributed)                                                        \n",
            "                                                                 \n",
            "=================================================================\n",
            "Total params: 845920 (3.23 MB)\n",
            "Trainable params: 845920 (3.23 MB)\n",
            "Non-trainable params: 0 (0.00 Byte)\n",
            "_________________________________________________________________\n"
          ]
        }
      ],
      "source": [
        "from keras import backend as K\n",
        "from sklearn.metrics import f1_score\n",
        "import matplotlib.pyplot as plt\n",
        "\n",
        "def recall_m(y_true, y_pred):\n",
        "    true_positives = K.sum(K.round(K.clip(y_true * y_pred, 0, 1)))\n",
        "    possible_positives = K.sum(K.round(K.clip(y_true, 0, 1)))\n",
        "    recall = true_positives / (possible_positives + K.epsilon())\n",
        "    return recall\n",
        "\n",
        "def precision_m(y_true, y_pred):\n",
        "    true_positives = K.sum(K.round(K.clip(y_true * y_pred, 0, 1)))\n",
        "    predicted_positives = K.sum(K.round(K.clip(y_pred, 0, 1)))\n",
        "    precision = true_positives / (predicted_positives + K.epsilon())\n",
        "    return precision\n",
        "\n",
        "def f1_m(y_true, y_pred):\n",
        "    true_positives = K.sum(K.round(K.clip(y_true * y_pred, 0, 1)), axis=0)\n",
        "    predicted_positives = K.sum(K.round(K.clip(y_pred, 0, 1)), axis=0)\n",
        "    possible_positives = K.sum(K.round(K.clip(y_true, 0, 1)), axis=0)\n",
        "\n",
        "    precision = true_positives / (predicted_positives + K.epsilon())\n",
        "    recall = true_positives / (possible_positives + K.epsilon())\n",
        "\n",
        "    f1 = 2 * precision * recall / (precision + recall + K.epsilon())\n",
        "\n",
        "    macro_f1 = K.mean(f1)\n",
        "    return macro_f1\n",
        "\n",
        "# compile the model\n",
        "rnn_model.compile(optimizer='adam', loss='categorical_crossentropy', metrics=['acc',f1_m,precision_m, recall_m])\n",
        "\n",
        "rnn_model.summary()"
      ]
    },
    {
      "cell_type": "code",
      "execution_count": 32,
      "metadata": {
        "colab": {
          "base_uri": "https://localhost:8080/"
        },
        "id": "lfFJoYlKxzsa",
        "outputId": "881c82d6-1080-4e67-ccf7-320b641bd2b8"
      },
      "outputs": [
        {
          "name": "stdout",
          "output_type": "stream",
          "text": [
            "Epoch 1/10\n"
          ]
        },
        {
          "name": "stderr",
          "output_type": "stream",
          "text": [
            "2024-03-17 11:03:25.196933: I tensorflow/core/grappler/optimizers/custom_graph_optimizer_registry.cc:117] Plugin optimizer for device_type GPU is enabled.\n"
          ]
        },
        {
          "name": "stdout",
          "output_type": "stream",
          "text": [
            "8/8 [==============================] - 28s 3s/step - loss: 0.9243 - acc: 0.7547 - f1_m: 0.1203 - precision_m: 0.5556 - recall_m: 0.4537 - val_loss: 0.5684 - val_acc: 0.7658 - val_f1_m: 0.2017 - val_precision_m: 0.8253 - val_recall_m: 0.7527\n",
            "Epoch 2/10\n",
            "8/8 [==============================] - 26s 3s/step - loss: 0.5199 - acc: 0.7948 - f1_m: 0.2073 - precision_m: 0.8401 - recall_m: 0.7563 - val_loss: 0.4027 - val_acc: 0.9069 - val_f1_m: 0.2431 - val_precision_m: 0.9287 - val_recall_m: 0.8095\n",
            "Epoch 3/10\n",
            "8/8 [==============================] - 24s 3s/step - loss: 0.4432 - acc: 0.8813 - f1_m: 0.2469 - precision_m: 0.9209 - recall_m: 0.8008 - val_loss: 0.3612 - val_acc: 0.8567 - val_f1_m: 0.2235 - val_precision_m: 0.8589 - val_recall_m: 0.7868\n",
            "Epoch 4/10\n",
            "8/8 [==============================] - 25s 3s/step - loss: 0.3202 - acc: 0.8723 - f1_m: 0.2567 - precision_m: 0.8980 - recall_m: 0.8220 - val_loss: 0.2607 - val_acc: 0.9730 - val_f1_m: 0.4427 - val_precision_m: 0.9804 - val_recall_m: 0.9316\n",
            "Epoch 5/10\n",
            "8/8 [==============================] - 21s 2s/step - loss: 0.2244 - acc: 0.9706 - f1_m: 0.4119 - precision_m: 0.9767 - recall_m: 0.9337 - val_loss: 0.1949 - val_acc: 0.9612 - val_f1_m: 0.4330 - val_precision_m: 0.9672 - val_recall_m: 0.9344\n",
            "Epoch 6/10\n",
            "8/8 [==============================] - 19s 2s/step - loss: 0.1734 - acc: 0.9654 - f1_m: 0.4025 - precision_m: 0.9717 - recall_m: 0.9373 - val_loss: 0.1598 - val_acc: 0.9665 - val_f1_m: 0.4409 - val_precision_m: 0.9719 - val_recall_m: 0.9427\n",
            "Epoch 7/10\n",
            "8/8 [==============================] - 22s 3s/step - loss: 0.1439 - acc: 0.9716 - f1_m: 0.4061 - precision_m: 0.9760 - recall_m: 0.9477 - val_loss: 0.1437 - val_acc: 0.9701 - val_f1_m: 0.4453 - val_precision_m: 0.9744 - val_recall_m: 0.9501\n",
            "Epoch 8/10\n",
            "8/8 [==============================] - 24s 3s/step - loss: 0.1276 - acc: 0.9737 - f1_m: 0.4152 - precision_m: 0.9766 - recall_m: 0.9521 - val_loss: 0.1344 - val_acc: 0.9707 - val_f1_m: 0.4469 - val_precision_m: 0.9740 - val_recall_m: 0.9535\n",
            "Epoch 9/10\n",
            "8/8 [==============================] - 30s 4s/step - loss: 0.1160 - acc: 0.9743 - f1_m: 0.4220 - precision_m: 0.9767 - recall_m: 0.9553 - val_loss: 0.1282 - val_acc: 0.9703 - val_f1_m: 0.4479 - val_precision_m: 0.9740 - val_recall_m: 0.9556\n",
            "Epoch 10/10\n",
            "8/8 [==============================] - 31s 4s/step - loss: 0.1067 - acc: 0.9752 - f1_m: 0.4147 - precision_m: 0.9770 - recall_m: 0.9582 - val_loss: 0.1236 - val_acc: 0.9709 - val_f1_m: 0.4497 - val_precision_m: 0.9745 - val_recall_m: 0.9580\n"
          ]
        }
      ],
      "source": [
        "import numpy as np\n",
        "\n",
        "# Convert input data to numpy arrays\n",
        "# X_train_np = np.array(X_train)\n",
        "# X_validation_np = np.array(X_validation)\n",
        "# Reshape the input data to remove the extra dimension\n",
        "X_train_np = np.array(X_train)\n",
        "X_validation_np = np.array(X_validation)\n",
        "\n",
        "y_train_np = np.array(y_train)\n",
        "y_validation_np = np.array(y_validation)\n",
        "\n",
        "# Train the model\n",
        "rnn_training = rnn_model.fit(X_train, y_train, batch_size=128, epochs=10, validation_data=(X_validation, y_validation))\n",
        "#write code to print the training and validation loss and f1 macro not the graph\n",
        "\n",
        "\n",
        "\n",
        "\n"
      ]
    },
    {
      "cell_type": "code",
      "execution_count": 129,
      "metadata": {
        "colab": {
          "base_uri": "https://localhost:8080/",
          "height": 487
        },
        "id": "eoTP0ZNfL_c0",
        "outputId": "fefec116-2dce-440d-8527-8810c6f3c36a"
      },
      "outputs": [
        {
          "data": {
            "image/png": "[encoded data removed]",
            "text/plain": [
              "<Figure size 800x500 with 1 Axes>"
            ]
          },
          "metadata": {},
          "output_type": "display_data"
        }
      ],
      "source": [
        "import matplotlib.pyplot as plt\n",
        "\n",
        "train_loss = rnn_training.history['loss']\n",
        "val_loss = rnn_training.history['val_loss']\n",
        "\n",
        "epochs = range(1, len(train_loss) + 1)\n",
        "\n",
        "\n",
        "plt.figure(figsize=(8, 5))\n",
        "plt.plot(epochs, train_loss, 'o-', label='Training Loss')\n",
        "plt.plot(epochs, val_loss, 'o-', label='Validation Loss')\n",
        "\n",
        "plt.xlabel('Epoch')\n",
        "plt.ylabel('Loss')\n",
        "plt.title('Training vs. Validation Loss')\n",
        "plt.legend()\n",
        "plt.savefig('ATE_Glove_lossRNN.png') \n",
        "\n",
        "plt.grid(True)\n",
        "\n",
        "plt.show()\n"
      ]
    },
    {
      "cell_type": "code",
      "execution_count": 130,
      "metadata": {
        "colab": {
          "base_uri": "https://localhost:8080/",
          "height": 487
        },
        "id": "eKBRJaJ08aaz",
        "outputId": "5afab18d-6116-40b2-c462-74e76c0bea30"
      },
      "outputs": [
        {
          "data": {
            "image/png": "[encoded data removed]",
            "text/plain": [
              "<Figure size 800x500 with 1 Axes>"
            ]
          },
          "metadata": {},
          "output_type": "display_data"
        }
      ],
      "source": [
        "import matplotlib.pyplot as plt\n",
        "\n",
        "train_loss = rnn_training.history['f1_m']\n",
        "val_loss = rnn_training.history['val_f1_m']\n",
        "\n",
        "epochs = range(1, len(train_loss) + 1)\n",
        "\n",
        "\n",
        "plt.figure(figsize=(8, 5))\n",
        "plt.plot(epochs, train_loss, 'o-', label='Training F1')\n",
        "plt.plot(epochs, val_loss, 'o-', label='Validation F1')\n",
        "\n",
        "plt.xlabel('Epoch')\n",
        "plt.ylabel('F1')\n",
        "plt.title('Training vs. Validation F1')\n",
        "plt.legend()\n",
        "plt.savefig('ATE_Glove_F1RNN.png')\n",
        "\n",
        "plt.grid(True)\n",
        "\n",
        "plt.show()"
      ]
    },
    {
      "cell_type": "code",
      "execution_count": 81,
      "metadata": {
        "id": "1zmkLmpexzsa"
      },
      "outputs": [],
      "source": [
        "json_file_path = 'ATE_test_data.json'\n",
        "\n",
        "# Read the JSON file\n",
        "with open(json_file_path) as f:\n",
        "    test_data = json.load(f)\n"
      ]
    },
    {
      "cell_type": "code",
      "execution_count": 82,
      "metadata": {
        "id": "PDhFqaH-xzsa"
      },
      "outputs": [],
      "source": [
        "for key, value in test_data.items():\n",
        "    word = value['text'].split(\" \")\n",
        "    labels = value['labels']\n",
        "    new_labels = []\n",
        "    new_word = []\n",
        "    for i in range(len(word)):\n",
        "        if(word[i]==''):\n",
        "            print(\"SADf\")\n",
        "            continue\n",
        "        new_word.append(word[i])\n",
        "    value['word'] = new_word"
      ]
    },
    {
      "cell_type": "code",
      "execution_count": 83,
      "metadata": {
        "id": "uauxeyuaxzsb"
      },
      "outputs": [],
      "source": [
        "X_test = []\n",
        "tags_for_testing = []\n",
        "sentence_for_testing = []\n",
        "for key, value in test_data.items():\n",
        "    word = value['word']\n",
        "    tags = value['labels']\n",
        "    sentence = value['text']\n",
        "    # Pad the entire sentence\n",
        "    # if len(word) < max_len:\n",
        "    #     word += [''] * (max_len - len(word))\n",
        "    #     tags += ['O'] * (max_len - len(tags))\n",
        "\n",
        "    sentence_for_testing.append(word)\n",
        "    tags_for_testing.append(tags)\n",
        "\n",
        "    # Tokenize the entire sentence\n",
        "    # tokenizer = Tokenizer()\n",
        "    # tokenizer.fit_on_texts([word])\n",
        "    X_test.append(word)\n",
        "\n",
        "tokenizer = Tokenizer()\n",
        "tokenizer.fit_on_texts(X_test)\n",
        "X_test = tokenizer.texts_to_sequences(X_test)\n",
        "X_test = pad_sequences(X_test,  maxlen= max_len, padding='post', truncating='pre')"
      ]
    },
    {
      "cell_type": "code",
      "execution_count": 84,
      "metadata": {
        "colab": {
          "base_uri": "https://localhost:8080/"
        },
        "id": "vyTwLewfxzsb",
        "outputId": "213f31d7-bcac-4158-8314-41b121b31c45"
      },
      "outputs": [
        {
          "name": "stdout",
          "output_type": "stream",
          "text": [
            "[491 119   6 149  26   4 186 236  91 492 307   9 493 494   1   0   0   0\n",
            "   0   0   0   0   0   0   0   0   0   0   0   0   0   0   0   0   0   0\n",
            "   0   0   0   0   0   0   0   0   0   0   0   0   0   0   0   0   0   0\n",
            "   0   0   0   0   0   0   0   0   0   0   0   0   0   0   0   0   0   0\n",
            "   0   0   0   0   0   0]\n",
            "['I', 'charge', 'it', 'at', 'night', 'and', 'skip', 'taking', 'the', 'cord', 'with', 'me', 'because', 'of', 'the', 'good', 'battery', 'life', '.']\n"
          ]
        }
      ],
      "source": [
        "print(X_test[0])\n",
        "print(sentence_for_training[0])"
      ]
    },
    {
      "cell_type": "code",
      "execution_count": 85,
      "metadata": {
        "id": "oJe2FoGHxzsb"
      },
      "outputs": [],
      "source": [
        "\n",
        "word_tokenizer = Tokenizer()                      # instantiate tokeniser\n",
        "word_tokenizer.fit_on_texts(tags_for_testing)                    # fit tokeniser on data\n",
        "y_test = word_tokenizer.texts_to_sequences(tags_for_testing)  # use the tokeniser to encode input sequence\n",
        "\n",
        "\n",
        "# for i in range(len(y_test)):\n",
        "#     for j in range(len(y_test[i])):\n",
        "#         y_test[i][j]-=1\n",
        "\n",
        "y_test = pad_sequences(y_test,  maxlen= max_len, padding='post', truncating='pre')\n",
        "y_test = to_categorical(y_test)\n"
      ]
    },
    {
      "cell_type": "code",
      "execution_count": 86,
      "metadata": {
        "colab": {
          "base_uri": "https://localhost:8080/"
        },
        "id": "PWA3pE0yxzsb",
        "outputId": "2a7e8a32-fabd-41f6-c35a-d44a4cb00d5c"
      },
      "outputs": [
        {
          "name": "stdout",
          "output_type": "stream",
          "text": [
            "(328, 78, 4)\n"
          ]
        }
      ],
      "source": [
        "print(y_test.shape)\n",
        "# print(tags_for_testing[0])"
      ]
    },
    {
      "cell_type": "code",
      "execution_count": 87,
      "metadata": {
        "id": "mOefCfKWxzsb"
      },
      "outputs": [],
      "source": [
        "# take 5 random sentence, print it , its label and the predicted label\n",
        "\n"
      ]
    },
    {
      "cell_type": "code",
      "execution_count": 88,
      "metadata": {
        "colab": {
          "base_uri": "https://localhost:8080/"
        },
        "id": "devI8yFxxzsb",
        "outputId": "40c97451-fe58-40f2-fc38-01bb82f15127"
      },
      "outputs": [
        {
          "name": "stdout",
          "output_type": "stream",
          "text": [
            "11/11 [==============================] - 2s 206ms/step - loss: 0.1641 - acc: 0.9470 - f1_m: 0.3478 - precision_m: 0.9515 - recall_m: 0.9325\n",
            "Loss: 0.1641041338443756\n",
            "Metrics: [0.9469590187072754, 0.34775933623313904, 0.9514949917793274, 0.9324737787246704]\n"
          ]
        }
      ],
      "source": [
        "# Evaluate the model\n",
        "results = rnn_model.evaluate(X_test, y_test, verbose=1)\n",
        "\n",
        "# Extracting loss and metrics from the results\n",
        "loss = results[0]\n",
        "metrics = results[1:]\n",
        "\n",
        "# Printing loss and metrics\n",
        "print(\"Loss:\", loss)\n",
        "print(\"Metrics:\", metrics)"
      ]
    },
    {
      "cell_type": "code",
      "execution_count": 89,
      "metadata": {},
      "outputs": [
        {
          "name": "stdout",
          "output_type": "stream",
          "text": [
            "Accuracy:  0.9469590187072754\n"
          ]
        }
      ],
      "source": [
        "accuracy=results[1]\n",
        "f1_score=results[2]\n",
        "precision=results[3]\n",
        "recall=results[4]\n",
        "print(\"Accuracy: \",accuracy)"
      ]
    },
    {
      "cell_type": "code",
      "execution_count": 90,
      "metadata": {
        "colab": {
          "base_uri": "https://localhost:8080/"
        },
        "id": "fQvHxeDsxzsb",
        "outputId": "c43a291c-4b28-4c4d-c572-fa23e4ae4520"
      },
      "outputs": [
        {
          "name": "stdout",
          "output_type": "stream",
          "text": [
            "11/11 [==============================] - 4s 359ms/step\n",
            "0.47317373335889584\n"
          ]
        }
      ],
      "source": [
        "# calculate f1 score\n",
        "\n",
        "from sklearn.metrics import f1_score\n",
        "y_pred = rnn_model.predict(X_test)\n",
        "y_pred = np.argmax(y_pred, axis=-1)\n",
        "y_test = np.argmax(y_test, axis=-1)\n",
        "f1 = f1_score(y_test.flatten(), y_pred.flatten(), average='macro')\n",
        "print(f1)\n"
      ]
    },
    {
      "cell_type": "markdown",
      "metadata": {
        "id": "MeV2pWTzzX4O"
      },
      "source": [
        "**LSTM**"
      ]
    },
    {
      "cell_type": "code",
      "execution_count": null,
      "metadata": {
        "id": "APJkHGy4zz_q"
      },
      "outputs": [],
      "source": []
    },
    {
      "cell_type": "code",
      "execution_count": 102,
      "metadata": {
        "id": "dbN4Wcdpt9RK"
      },
      "outputs": [],
      "source": [
        "\n",
        "from gensim.models import KeyedVectors# Load pre-trained model\n",
        "# import torch\n",
        "# import torch.nn as nn\n",
        "import json\n",
        "import tensorflow as tf\n",
        "from tensorflow.keras.preprocessing.text import Tokenizer\n",
        "from tensorflow.keras.preprocessing.sequence import pad_sequences\n",
        "from keras.utils import to_categorical\n",
        "import numpy as np\n",
        "import keras\n"
      ]
    },
    {
      "cell_type": "code",
      "execution_count": 103,
      "metadata": {
        "id": "0d2INTfUt9RL"
      },
      "outputs": [],
      "source": [
        "# Specify the path to your JSON file\n",
        "json_file_path = 'ATE_training_data.json'\n",
        "\n",
        "# Read the JSON file\n",
        "with open(json_file_path) as f:\n",
        "    data = json.load(f)\n",
        "\n",
        "# data\n",
        "# print(len(data))\n",
        "\n",
        "# Specify the path to your JSON file\n",
        "json_file_path = 'ATE_validation_data.json'\n",
        "\n",
        "# Read the JSON file\n",
        "with open(json_file_path) as f:\n",
        "    validation_data = json.load(f)\n",
        "\n",
        "\n"
      ]
    },
    {
      "cell_type": "code",
      "execution_count": 104,
      "metadata": {
        "id": "At4Up5_Gt9RL"
      },
      "outputs": [],
      "source": [
        "# max_len=0\n",
        "# for key,value in data.items():\n",
        "#     max_len=max(max_len,len(value['text'].split(\" \")))\n",
        "max_len=100\n"
      ]
    },
    {
      "cell_type": "code",
      "execution_count": 105,
      "metadata": {
        "id": "-gG7xF4wt9RL"
      },
      "outputs": [],
      "source": [
        "c=1\n",
        "for key, value in data.items():\n",
        "    word = value['text'].split(\" \")\n",
        "    labels = value['labels']\n",
        "    new_labels = []\n",
        "    new_word = []\n",
        "    for i in range(len(word)):\n",
        "        if(word[i]==''):\n",
        "            print(word)\n",
        "            continue\n",
        "        # new_labels.append(labels[i])\n",
        "        new_word.append(word[i])\n",
        "    # value['labels'] = new_labels\n",
        "    value['word'] = new_word\n",
        "\n",
        "\n",
        "for key, value in validation_data.items():\n",
        "    word = value['text'].split(\" \")\n",
        "    labels = value['labels']\n",
        "    new_labels = []\n",
        "    new_word = []\n",
        "    for i in range(len(word)):\n",
        "        if(word[i]==''):\n",
        "            continue\n",
        "        # new_labels.append(labels[i])\n",
        "        new_word.append(word[i])\n",
        "    # value['labels'] = new_labels\n",
        "    value['word'] = new_word"
      ]
    },
    {
      "cell_type": "code",
      "execution_count": 106,
      "metadata": {
        "id": "4Y2oXlPdt9RM"
      },
      "outputs": [],
      "source": [
        "sentence_for_training = []\n",
        "tags_for_training = []\n",
        "X_train = []\n",
        "\n",
        "for key, value in data.items():\n",
        "    word = value['word']\n",
        "    tags = value['labels']\n",
        "    sentence = value['text']\n",
        "    # Pad the entire sentence\n",
        "    # if len(word) < max_len:\n",
        "    #     word += [''] * (max_len - len(word))\n",
        "    #     tags += ['O'] * (max_len - len(tags))\n",
        "\n",
        "    sentence_for_training.append(word)\n",
        "    tags_for_training.append(tags)\n",
        "\n",
        "    # # Tokenize the entire sentence\n",
        "    # tokenizer = Tokenizer()\n",
        "    # tokenizer.fit_on_texts([word])\n",
        "    X_train.append(word)\n",
        "\n",
        "\n",
        "tokenizer = Tokenizer()\n",
        "tokenizer.fit_on_texts(X_train)\n",
        "X_train = tokenizer.texts_to_sequences(X_train)\n",
        "X_train = pad_sequences(X_train, maxlen=max_len, padding='post', truncating='pre')\n",
        "# print(max_len)\n",
        "# for i in X_train:\n",
        "#     if(len(i)>max_len):\n",
        "#         print(len(i))"
      ]
    },
    {
      "cell_type": "code",
      "execution_count": 107,
      "metadata": {
        "id": "oqkrGxInt9RM"
      },
      "outputs": [],
      "source": [
        "# len(y_train[0])"
      ]
    },
    {
      "cell_type": "code",
      "execution_count": 108,
      "metadata": {
        "id": "6RSiFDd3t9RM"
      },
      "outputs": [],
      "source": [
        "# len(y_test[0])"
      ]
    },
    {
      "cell_type": "code",
      "execution_count": 109,
      "metadata": {
        "colab": {
          "base_uri": "https://localhost:8080/"
        },
        "id": "T5e8wV9Zt9RM",
        "outputId": "414b899e-3ed4-43a4-8696-d9196557102c"
      },
      "outputs": [
        {
          "name": "stdout",
          "output_type": "stream",
          "text": [
            "[ 327    3    1  414 1169    4  199 1170 1171  200  136   72  268  156\n",
            "  805   41  806   15  328  201   36    2    0    0    0    0    0    0\n",
            "    0    0    0    0    0    0    0    0    0    0    0    0    0    0\n",
            "    0    0    0    0    0    0    0    0    0    0    0    0    0    0\n",
            "    0    0    0    0    0    0    0    0    0    0    0    0    0    0\n",
            "    0    0    0    0    0    0    0    0    0    0    0    0    0    0\n",
            "    0    0    0    0    0    0    0    0    0    0    0    0    0    0\n",
            "    0    0]\n",
            "['However', ',', 'the', 'multi-touch', 'gestures', 'and', 'large', 'tracking', 'area', 'make', 'having', 'an', 'external', 'mouse', 'unnecessary', '(', 'unless', 'you', \"'re\", 'gaming', ')', '.']\n"
          ]
        }
      ],
      "source": [
        "print(X_train[5])\n",
        "print(sentence_for_training[5])"
      ]
    },
    {
      "cell_type": "code",
      "execution_count": 110,
      "metadata": {
        "colab": {
          "base_uri": "https://localhost:8080/"
        },
        "id": "LLyA1Lvnt9RM",
        "outputId": "b7fe7f70-3b35-4d18-ddef-1889e60aeb12"
      },
      "outputs": [
        {
          "data": {
            "text/plain": [
              "(906, 100)"
            ]
          },
          "execution_count": 110,
          "metadata": {},
          "output_type": "execute_result"
        }
      ],
      "source": [
        "X_train.shape"
      ]
    },
    {
      "cell_type": "code",
      "execution_count": 111,
      "metadata": {
        "id": "8mVesYL3t9RN"
      },
      "outputs": [],
      "source": [
        "sentence_for_validation = []\n",
        "tags_for_validation = []\n",
        "X_validation = []\n",
        "\n",
        "for key, value in validation_data.items():\n",
        "    word = value['word']\n",
        "    tags = value['labels']\n",
        "\n",
        "    # # Pad the entire sentence\n",
        "    # if len(word) < max_len:\n",
        "    #     word += [''] * (max_len - len(word))\n",
        "    #     tags += ['O'] * (max_len - len(tags))\n",
        "\n",
        "    sentence_for_validation.append(word)\n",
        "    tags_for_validation.append(tags)\n",
        "\n",
        "    # Tokenize the entire sentence\n",
        "    # tokenizer = Tokenizer()\n",
        "    # tokenizer.fit_on_texts([word])\n",
        "    X_validation.append(word)\n",
        "\n",
        "\n",
        "tokenizer = Tokenizer()\n",
        "tokenizer.fit_on_texts(X_validation)\n",
        "X_validation = tokenizer.texts_to_sequences(X_validation)\n",
        "X_validation = pad_sequences(X_validation, maxlen= max_len, padding='post', truncating='pre')\n",
        "# y_validation = pad_sequences(y_validation, batch_first=True, padding_value=0)\n"
      ]
    },
    {
      "cell_type": "code",
      "execution_count": 112,
      "metadata": {
        "colab": {
          "base_uri": "https://localhost:8080/"
        },
        "id": "IMsGVrmBt9RN",
        "outputId": "463802d4-1178-44f1-b73d-7309839b05d4"
      },
      "outputs": [
        {
          "name": "stdout",
          "output_type": "stream",
          "text": [
            "(906, 100)\n"
          ]
        }
      ],
      "source": [
        "print(X_train.shape)"
      ]
    },
    {
      "cell_type": "code",
      "execution_count": 113,
      "metadata": {
        "colab": {
          "base_uri": "https://localhost:8080/"
        },
        "id": "MxdqPi6Rt9RN",
        "outputId": "f7039746-ef93-463d-f829-d218ad9cdf8e"
      },
      "outputs": [
        {
          "name": "stdout",
          "output_type": "stream",
          "text": [
            "['I', 'charge', 'it', 'at', 'night', 'and', 'skip', 'taking', 'the', 'cord', 'with', 'me', 'because', 'of', 'the', 'good', 'battery', 'life', '.']\n"
          ]
        }
      ],
      "source": [
        "print(sentence_for_training[0])"
      ]
    },
    {
      "cell_type": "code",
      "execution_count": 114,
      "metadata": {
        "colab": {
          "base_uri": "https://localhost:8080/"
        },
        "id": "1gQTzJuIt9RN",
        "outputId": "7e0d27bc-3348-4395-b0a2-6fab3451e7b7"
      },
      "outputs": [
        {
          "name": "stdout",
          "output_type": "stream",
          "text": [
            "2740\n"
          ]
        }
      ],
      "source": [
        "vocab = []\n",
        "for i in sentence_for_training:\n",
        "    for j in i:\n",
        "        if j not in vocab:\n",
        "            vocab.append(j)\n",
        "# vocab = list(set(vocab))\n",
        "print(len(vocab))    #30220"
      ]
    },
    {
      "cell_type": "code",
      "execution_count": 117,
      "metadata": {},
      "outputs": [],
      "source": [
        "model_GloVe=model_Glove"
      ]
    },
    {
      "cell_type": "code",
      "execution_count": 118,
      "metadata": {
        "id": "fyb9ZY_Vt9RN"
      },
      "outputs": [],
      "source": [
        "vocab_weight = {}\n",
        "c = 0\n",
        "for i in vocab:\n",
        "   if i in model_GloVe:\n",
        "       vocab_weight[i] = model_GloVe[i]"
      ]
    },
    {
      "cell_type": "code",
      "execution_count": 119,
      "metadata": {
        "id": "lKewbP9Ct9RN"
      },
      "outputs": [],
      "source": [
        "# give code to make embedding weight matrix\n",
        "# vocab=len(vocab)+1\n",
        "\n",
        "weights = np.zeros((len(vocab)+1, 300))\n",
        "for i in range(len(vocab)):\n",
        "    if(vocab[i] in vocab_weight):\n",
        "        weights[i] = vocab_weight[vocab[i]]\n",
        "    # weights[i] = vocab_weight[vocab[i]]\n",
        "\n"
      ]
    },
    {
      "cell_type": "code",
      "execution_count": 120,
      "metadata": {
        "colab": {
          "base_uri": "https://localhost:8080/"
        },
        "id": "TtTdBNsbt9RO",
        "outputId": "6787242a-5518-4a9a-9b9d-4305ef18687f"
      },
      "outputs": [
        {
          "data": {
            "text/plain": [
              "(2741, 300)"
            ]
          },
          "execution_count": 120,
          "metadata": {},
          "output_type": "execute_result"
        }
      ],
      "source": [
        "# weights = []\n",
        "# for i in vocab:\n",
        "#     weights.append(vocab_weight[i])\n",
        "# weights = np.array(weights)\n",
        "weights.shape\n",
        "# # weights"
      ]
    },
    {
      "cell_type": "code",
      "execution_count": 121,
      "metadata": {
        "id": "OTUVQz4at9RO"
      },
      "outputs": [],
      "source": [
        "y_train=[]\n",
        "y_validation=[]\n",
        "y_test=[]\n",
        "\n",
        "word_tokenizer = Tokenizer()                      # instantiate tokeniser\n",
        "word_tokenizer.fit_on_texts(tags_for_training)                    # fit tokeniser on data\n",
        "y_train = word_tokenizer.texts_to_sequences(tags_for_training)  # use the tokeniser to encode input sequence.\n",
        "y_train = pad_sequences(y_train, maxlen= max_len, padding='post', truncating='pre')\n",
        "\n",
        "\n",
        "# for i in range(len(y_train)):\n",
        "#     for j in range(len(y_train[i])):\n",
        "#         y_train[i][j]-=1\n",
        "\n",
        "\n",
        "word_tokenizer = Tokenizer()                      # instantiate tokeniser\n",
        "word_tokenizer.fit_on_texts(tags_for_training)                    # fit tokeniser on data\n",
        "y_validation = word_tokenizer.texts_to_sequences(tags_for_validation)  # use the tokeniser to encode input sequence\n",
        "y_validation = pad_sequences(y_validation,  maxlen= max_len, padding='post', truncating='pre')\n",
        "\n",
        "# for i in range(len(y_validation)):\n",
        "#     for j in range(len(y_validation[i])):\n",
        "#         y_validation[i][j]-=1\n",
        "\n",
        "\n",
        "# y_train = pad_sequences(y_train, maxlen= max_len, padding='pre', truncating='post')\n",
        "# y_validation = pad_sequences(y_validation,maxlen= max_len, padding='pre', truncating='post')\n",
        "y_train = to_categorical(y_train)\n",
        "y_validation = to_categorical(y_validation)\n",
        "\n",
        "\n",
        "# y_train.shape\n",
        "# y_validation.shape\n",
        "# y_train"
      ]
    },
    {
      "cell_type": "code",
      "execution_count": 122,
      "metadata": {
        "colab": {
          "base_uri": "https://localhost:8080/"
        },
        "id": "2AsBkHnOt9RO",
        "outputId": "25cc2505-eef3-45e4-b2b0-4460d9f41c88"
      },
      "outputs": [
        {
          "name": "stdout",
          "output_type": "stream",
          "text": [
            "(906, 100, 4)\n",
            "(219, 100, 4)\n"
          ]
        }
      ],
      "source": [
        "print(y_train.shape)\n",
        "print(y_validation.shape)"
      ]
    },
    {
      "cell_type": "code",
      "execution_count": 123,
      "metadata": {
        "id": "Lj1FtUZvt9RO"
      },
      "outputs": [],
      "source": [
        "from tensorflow.keras import Model,Input\n",
        "from keras.models import Sequential\n",
        "\n",
        "from tensorflow.keras.layers import LSTM,Embedding,Dense\n",
        "from tensorflow.keras.layers import TimeDistributed, SpatialDropout1D,Bidirectional\n",
        "# create architecture\n",
        "\n",
        "# VOCABULARY_SIZE = len(vocab)\n",
        "\n",
        "\n",
        "lstm_model = Sequential()\n",
        "lstm_model.add(Embedding(input_dim     = len(vocab)+1,         # vocabulary size - number of unique words in data\n",
        "                         output_dim    = 300,          # length of vector with which each word is represented\n",
        "                         input_length  = max_len,          # length of input sequence\n",
        "                         weights       = [weights],     # word embedding matrix\n",
        "                         trainable     = True                     # True - update embeddings_weight matrix\n",
        "))\n",
        "lstm_model.add(LSTM(64, return_sequences=True))\n",
        "lstm_model.add(TimeDistributed(Dense(4, activation='softmax')))"
      ]
    },
    {
      "cell_type": "code",
      "execution_count": 124,
      "metadata": {
        "id": "pbBtw3aBt9RO"
      },
      "outputs": [],
      "source": [
        "from keras import backend as K\n",
        "from sklearn.metrics import f1_score\n",
        "import matplotlib.pyplot as plt\n",
        "\n",
        "def recall_m(y_true, y_pred):\n",
        "    true_positives = K.sum(K.round(K.clip(y_true * y_pred, 0, 1)))\n",
        "    possible_positives = K.sum(K.round(K.clip(y_true, 0, 1)))\n",
        "    recall = true_positives / (possible_positives + K.epsilon())\n",
        "    return recall\n",
        "\n",
        "def precision_m(y_true, y_pred):\n",
        "    true_positives = K.sum(K.round(K.clip(y_true * y_pred, 0, 1)))\n",
        "    predicted_positives = K.sum(K.round(K.clip(y_pred, 0, 1)))\n",
        "    precision = true_positives / (predicted_positives + K.epsilon())\n",
        "    return precision\n",
        "\n",
        "def f1_m(y_true, y_pred):\n",
        "    true_positives = K.sum(K.round(K.clip(y_true * y_pred, 0, 1)), axis=0)\n",
        "    predicted_positives = K.sum(K.round(K.clip(y_pred, 0, 1)), axis=0)\n",
        "    possible_positives = K.sum(K.round(K.clip(y_true, 0, 1)), axis=0)\n",
        "\n",
        "    precision = true_positives / (predicted_positives + K.epsilon())\n",
        "    recall = true_positives / (possible_positives + K.epsilon())\n",
        "\n",
        "    f1 = 2 * precision * recall / (precision + recall + K.epsilon())\n",
        "\n",
        "    macro_f1 = K.mean(f1)\n",
        "    return macro_f1\n",
        "\n",
        "# compile the model\n",
        "lstm_model.compile(optimizer='adam', loss='categorical_crossentropy', metrics=['acc',f1_m,precision_m, recall_m])\n",
        "\n",
        "\n"
      ]
    },
    {
      "cell_type": "code",
      "execution_count": 125,
      "metadata": {
        "id": "59r0NjGXS95i"
      },
      "outputs": [],
      "source": [
        "import numpy as np\n",
        "\n",
        "# Convert input data to numpy arrays\n",
        "# X_train_np = np.array(X_train)\n",
        "# X_validation_np = np.array(X_validation)\n",
        "# Reshape the input data to remove the extra dimension\n",
        "X_train_np = np.array(X_train)\n",
        "X_validation_np = np.array(X_validation)\n",
        "\n",
        "y_train_np = np.array(y_train)\n",
        "y_validation_np = np.array(y_validation)"
      ]
    },
    {
      "cell_type": "code",
      "execution_count": 126,
      "metadata": {
        "colab": {
          "base_uri": "https://localhost:8080/"
        },
        "id": "brPUqkfSS_SQ",
        "outputId": "01105b56-a1e0-4331-a3f1-ce35fb6c3529"
      },
      "outputs": [
        {
          "name": "stdout",
          "output_type": "stream",
          "text": [
            "Shape of X_train_np: (906, 100)\n",
            "Shape of X_validation_np: (219, 100)\n",
            "Shape of y_train_np: (906, 100, 4)\n",
            "Shape of y_validation_np: (219, 100, 4)\n"
          ]
        }
      ],
      "source": [
        "print(\"Shape of X_train_np:\", X_train_np.shape)\n",
        "print(\"Shape of X_validation_np:\", X_validation_np.shape)\n",
        "print(\"Shape of y_train_np:\", y_train_np.shape)\n",
        "print(\"Shape of y_validation_np:\", y_validation_np.shape)"
      ]
    },
    {
      "cell_type": "code",
      "execution_count": 127,
      "metadata": {
        "colab": {
          "base_uri": "https://localhost:8080/"
        },
        "id": "JZj1_Ucrt9RO",
        "outputId": "ddd42632-8d5d-417f-bacd-944c677c058a"
      },
      "outputs": [
        {
          "name": "stdout",
          "output_type": "stream",
          "text": [
            "Epoch 1/10\n",
            "8/8 [==============================] - 5s 311ms/step - loss: 1.2598 - acc: 0.8175 - f1_m: 0.0361 - precision_m: 0.4495 - recall_m: 0.0429 - val_loss: 0.9877 - val_acc: 0.9418 - val_f1_m: 0.1635 - val_precision_m: 0.8497 - val_recall_m: 0.1355\n",
            "Epoch 2/10\n",
            "8/8 [==============================] - 2s 185ms/step - loss: 0.7215 - acc: 0.9523 - f1_m: 0.2522 - precision_m: 0.9106 - recall_m: 0.5547 - val_loss: 0.2611 - val_acc: 0.9681 - val_f1_m: 0.3998 - val_precision_m: 0.9733 - val_recall_m: 0.9538\n",
            "Epoch 3/10\n",
            "8/8 [==============================] - 1s 147ms/step - loss: 0.1850 - acc: 0.9703 - f1_m: 0.3702 - precision_m: 0.9736 - recall_m: 0.9580 - val_loss: 0.1275 - val_acc: 0.9715 - val_f1_m: 0.4065 - val_precision_m: 0.9738 - val_recall_m: 0.9660\n",
            "Epoch 4/10\n",
            "8/8 [==============================] - 1s 101ms/step - loss: 0.1208 - acc: 0.9699 - f1_m: 0.3697 - precision_m: 0.9721 - recall_m: 0.9654 - val_loss: 0.1082 - val_acc: 0.9716 - val_f1_m: 0.4068 - val_precision_m: 0.9728 - val_recall_m: 0.9677\n",
            "Epoch 5/10\n",
            "8/8 [==============================] - 1s 90ms/step - loss: 0.1029 - acc: 0.9744 - f1_m: 0.3773 - precision_m: 0.9761 - recall_m: 0.9706 - val_loss: 0.0976 - val_acc: 0.9763 - val_f1_m: 0.4111 - val_precision_m: 0.9776 - val_recall_m: 0.9726\n",
            "Epoch 6/10\n",
            "8/8 [==============================] - 1s 81ms/step - loss: 0.0930 - acc: 0.9774 - f1_m: 0.3735 - precision_m: 0.9788 - recall_m: 0.9740 - val_loss: 0.0916 - val_acc: 0.9773 - val_f1_m: 0.4141 - val_precision_m: 0.9786 - val_recall_m: 0.9741\n",
            "Epoch 7/10\n",
            "8/8 [==============================] - 1s 83ms/step - loss: 0.0867 - acc: 0.9783 - f1_m: 0.3811 - precision_m: 0.9794 - recall_m: 0.9747 - val_loss: 0.0877 - val_acc: 0.9788 - val_f1_m: 0.4150 - val_precision_m: 0.9797 - val_recall_m: 0.9756\n",
            "Epoch 8/10\n",
            "8/8 [==============================] - 1s 93ms/step - loss: 0.0815 - acc: 0.9787 - f1_m: 0.3837 - precision_m: 0.9797 - recall_m: 0.9766 - val_loss: 0.0848 - val_acc: 0.9790 - val_f1_m: 0.4157 - val_precision_m: 0.9797 - val_recall_m: 0.9764\n",
            "Epoch 9/10\n",
            "8/8 [==============================] - 1s 88ms/step - loss: 0.0771 - acc: 0.9789 - f1_m: 0.3856 - precision_m: 0.9794 - recall_m: 0.9763 - val_loss: 0.0829 - val_acc: 0.9793 - val_f1_m: 0.4162 - val_precision_m: 0.9799 - val_recall_m: 0.9767\n",
            "Epoch 10/10\n",
            "8/8 [==============================] - 1s 95ms/step - loss: 0.0730 - acc: 0.9790 - f1_m: 0.3840 - precision_m: 0.9806 - recall_m: 0.9775 - val_loss: 0.0814 - val_acc: 0.9793 - val_f1_m: 0.4163 - val_precision_m: 0.9800 - val_recall_m: 0.9768\n"
          ]
        }
      ],
      "source": [
        "lstm_training = lstm_model.fit(X_train, y_train, batch_size=128, epochs=10, validation_data=(X_validation, y_validation))\n"
      ]
    },
    {
      "cell_type": "code",
      "execution_count": 141,
      "metadata": {
        "colab": {
          "base_uri": "https://localhost:8080/",
          "height": 487
        },
        "id": "BthrNinSNE4e",
        "outputId": "0ebe83bb-e328-4239-ef4c-21a7fd5628c6"
      },
      "outputs": [
        {
          "data": {
            "image/png": "[encoded data removed]",
            "text/plain": [
              "<Figure size 800x500 with 1 Axes>"
            ]
          },
          "metadata": {},
          "output_type": "display_data"
        }
      ],
      "source": [
        "import matplotlib.pyplot as plt\n",
        "\n",
        "train_loss = lstm_training.history['loss']\n",
        "val_loss = lstm_training.history['val_loss']\n",
        "\n",
        "epochs = range(1, len(train_loss) + 1)\n",
        "\n",
        "plt.figure(figsize=(8, 5))\n",
        "plt.plot(epochs, train_loss, 'o-', label='Training Loss')\n",
        "plt.plot(epochs, val_loss, 'o-', label='Validation Loss')\n",
        "\n",
        "plt.xlabel('Epoch')\n",
        "plt.ylabel('Loss')\n",
        "plt.title('Training vs. Validation Loss')\n",
        "plt.legend()\n",
        "plt.savefig('ATE_Glove_lossLSTM.png')\n",
        "\n",
        "plt.grid(True)\n",
        "\n",
        "plt.show()\n"
      ]
    },
    {
      "cell_type": "code",
      "execution_count": 142,
      "metadata": {
        "colab": {
          "base_uri": "https://localhost:8080/",
          "height": 487
        },
        "id": "PLd-rPoY_Mye",
        "outputId": "1fa55679-f0e3-475a-bdc6-aa652086d1e1"
      },
      "outputs": [
        {
          "data": {
            "image/png": "[encoded data removed]",
            "text/plain": [
              "<Figure size 800x500 with 1 Axes>"
            ]
          },
          "metadata": {},
          "output_type": "display_data"
        }
      ],
      "source": [
        "import matplotlib.pyplot as plt\n",
        "\n",
        "train_loss = lstm_training.history['f1_m']\n",
        "val_loss = lstm_training.history['val_f1_m']\n",
        "\n",
        "epochs = range(1, len(train_loss) + 1)\n",
        "\n",
        "plt.figure(figsize=(8, 5))\n",
        "plt.plot(epochs, train_loss, 'o-', label='Training F1')\n",
        "plt.plot(epochs, val_loss, 'o-', label='Validation F1')\n",
        "\n",
        "plt.xlabel('Epoch')\n",
        "plt.ylabel('F1')\n",
        "plt.title('Training vs. Validation F1')\n",
        "plt.legend()\n",
        "plt.savefig('ATE_Glove_F1LSTM.png')\n",
        "plt.grid(True)\n",
        "\n",
        "plt.show()\n"
      ]
    },
    {
      "cell_type": "code",
      "execution_count": 189,
      "metadata": {
        "id": "OqOxaaYXt9RO"
      },
      "outputs": [],
      "source": [
        "json_file_path = 'ATE_test_data.json'\n",
        "\n",
        "# Read the JSON file\n",
        "with open(json_file_path) as f:\n",
        "    test_data = json.load(f)\n"
      ]
    },
    {
      "cell_type": "code",
      "execution_count": 190,
      "metadata": {
        "id": "CvysUklRt9RO"
      },
      "outputs": [],
      "source": [
        "for key, value in test_data.items():\n",
        "    word = value['text'].split(\" \")\n",
        "    labels = value['labels']\n",
        "    new_labels = []\n",
        "    new_word = []\n",
        "    for i in range(len(word)):\n",
        "        if(word[i]==''):\n",
        "            print(\"SADf\")\n",
        "            continue\n",
        "        new_word.append(word[i])\n",
        "    value['word'] = new_word"
      ]
    },
    {
      "cell_type": "code",
      "execution_count": 191,
      "metadata": {
        "id": "eMswpxbIt9RP"
      },
      "outputs": [],
      "source": [
        "X_test = []\n",
        "tags_for_testing = []\n",
        "sentence_for_testing = []\n",
        "for key, value in test_data.items():\n",
        "    word = value['word']\n",
        "    tags = value['labels']\n",
        "    sentence = value['text']\n",
        "    # Pad the entire sentence\n",
        "    # if len(word) < max_len:\n",
        "    #     word += [''] * (max_len - len(word))\n",
        "    #     tags += ['O'] * (max_len - len(tags))\n",
        "\n",
        "    sentence_for_testing.append(word)\n",
        "    tags_for_testing.append(tags)\n",
        "\n",
        "    # Tokenize the entire sentence\n",
        "    # tokenizer = Tokenizer()\n",
        "    # tokenizer.fit_on_texts([word])\n",
        "    X_test.append(word)\n",
        "\n",
        "tokenizer = Tokenizer()\n",
        "tokenizer.fit_on_texts(X_test)\n",
        "X_test = tokenizer.texts_to_sequences(X_test)\n",
        "X_test = pad_sequences(X_test,  maxlen= max_len, padding='post', truncating='pre')"
      ]
    },
    {
      "cell_type": "code",
      "execution_count": 192,
      "metadata": {
        "colab": {
          "base_uri": "https://localhost:8080/"
        },
        "id": "52n58Iyst9RP",
        "outputId": "5ba2a899-0afa-4b4e-e6c9-9aa0f434fbbd"
      },
      "outputs": [
        {
          "name": "stdout",
          "output_type": "stream",
          "text": [
            "[491 119   6 149  26   4 186 236  91 492 307   9 493 494   1   0   0   0\n",
            "   0   0   0   0   0   0   0   0   0   0   0   0   0   0   0   0   0   0\n",
            "   0   0   0   0   0   0   0   0   0   0   0   0   0   0   0   0   0   0\n",
            "   0   0   0   0   0   0   0   0   0   0   0   0   0   0   0   0   0   0\n",
            "   0   0   0   0   0   0   0   0   0   0   0   0   0   0   0   0   0   0\n",
            "   0   0   0   0   0   0   0   0   0   0]\n",
            "['I', 'charge', 'it', 'at', 'night', 'and', 'skip', 'taking', 'the', 'cord', 'with', 'me', 'because', 'of', 'the', 'good', 'battery', 'life', '.']\n"
          ]
        }
      ],
      "source": [
        "print(X_test[0])\n",
        "print(sentence_for_training[0])"
      ]
    },
    {
      "cell_type": "code",
      "execution_count": 193,
      "metadata": {
        "id": "7ogMidZyt9RP"
      },
      "outputs": [],
      "source": [
        "\n",
        "word_tokenizer = Tokenizer()                      # instantiate tokeniser\n",
        "word_tokenizer.fit_on_texts(tags_for_testing)                    # fit tokeniser on data\n",
        "y_test = word_tokenizer.texts_to_sequences(tags_for_testing)  # use the tokeniser to encode input sequence\n",
        "\n",
        "\n",
        "# for i in range(len(y_test)):\n",
        "#     for j in range(len(y_test[i])):\n",
        "#         y_test[i][j]-=1\n",
        "\n",
        "y_test = pad_sequences(y_test,  maxlen= max_len, padding='post', truncating='pre')\n",
        "y_test = to_categorical(y_test)\n"
      ]
    },
    {
      "cell_type": "code",
      "execution_count": 194,
      "metadata": {
        "colab": {
          "base_uri": "https://localhost:8080/"
        },
        "id": "bbm4zXCUt9RP",
        "outputId": "a59967fd-abdc-45cb-b964-777bcc633721"
      },
      "outputs": [
        {
          "name": "stdout",
          "output_type": "stream",
          "text": [
            "(328, 100, 4)\n"
          ]
        }
      ],
      "source": [
        "print(y_test.shape)\n",
        "# print(tags_for_testing[0])"
      ]
    },
    {
      "cell_type": "code",
      "execution_count": 195,
      "metadata": {
        "colab": {
          "base_uri": "https://localhost:8080/"
        },
        "id": "GbtRDnY-t9RQ",
        "outputId": "f901464c-5461-4127-e855-63b40e3aceb8"
      },
      "outputs": [
        {
          "name": "stdout",
          "output_type": "stream",
          "text": [
            "11/11 [==============================] - 4s 315ms/step - loss: 0.1286 - acc: 0.9586 - f1_m: 0.3263 - precision_m: 0.9623 - recall_m: 0.9473\n",
            "Loss: 0.12857964634895325\n",
            "Metrics: [0.9586280584335327, 0.326252281665802, 0.9623359441757202, 0.947329580783844]\n"
          ]
        }
      ],
      "source": [
        "# Evaluate the model\n",
        "results = rnn_model.evaluate(X_test, y_test, verbose=1)\n",
        "\n",
        "# Extracting loss and metrics from the results\n",
        "loss = results[0]\n",
        "metrics = results[1:]\n",
        "\n",
        "# Printing loss and metrics\n",
        "print(\"Loss:\", loss)\n",
        "print(\"Metrics:\", metrics)\n"
      ]
    },
    {
      "cell_type": "code",
      "execution_count": 196,
      "metadata": {
        "colab": {
          "base_uri": "https://localhost:8080/"
        },
        "id": "RtCi-iSrt9RQ",
        "outputId": "41a50071-3ba6-487b-d6d9-d933c2e538bf"
      },
      "outputs": [
        {
          "name": "stdout",
          "output_type": "stream",
          "text": [
            " 1/11 [=>............................] - ETA: 0s"
          ]
        },
        {
          "name": "stdout",
          "output_type": "stream",
          "text": [
            "11/11 [==============================] - 0s 8ms/step\n",
            "0.46490726705887164\n",
            "Accuracy:  0.9586280584335327\n"
          ]
        }
      ],
      "source": [
        "# calculate f1 score\n",
        "\n",
        "from sklearn.metrics import f1_score\n",
        "y_pred = lstm_model.predict(X_test)\n",
        "y_pred = np.argmax(y_pred, axis=-1)\n",
        "y_test = np.argmax(y_test, axis=-1)\n",
        "f1 = f1_score(y_test.flatten(), y_pred.flatten(), average='macro')\n",
        "print(f1)\n",
        "accuracy=results[1]\n",
        "print(\"Accuracy: \",accuracy)"
      ]
    },
    {
      "cell_type": "markdown",
      "metadata": {
        "id": "BvYMX-7A5agG"
      },
      "source": [
        "**GRU**"
      ]
    },
    {
      "cell_type": "code",
      "execution_count": 151,
      "metadata": {
        "id": "yDQ5-o_kuIfd"
      },
      "outputs": [],
      "source": [
        "\n",
        "from gensim.models import KeyedVectors# Load pre-trained model\n",
        "# import torch\n",
        "# import torch.nn as nn\n",
        "import json\n",
        "import tensorflow as tf\n",
        "from tensorflow.keras.preprocessing.text import Tokenizer\n",
        "from tensorflow.keras.preprocessing.sequence import pad_sequences\n",
        "from keras.utils import to_categorical\n",
        "import numpy as np\n",
        "import keras\n"
      ]
    },
    {
      "cell_type": "code",
      "execution_count": 152,
      "metadata": {
        "id": "3HsbFJcEuIfe"
      },
      "outputs": [],
      "source": [
        "# Specify the path to your JSON file\n",
        "json_file_path = 'ATE_training_data.json'\n",
        "\n",
        "# Read the JSON file\n",
        "with open(json_file_path) as f:\n",
        "    data = json.load(f)\n",
        "\n",
        "# data\n",
        "# print(len(data))\n",
        "\n",
        "# Specify the path to your JSON file\n",
        "json_file_path = 'ATE_validation_data.json'\n",
        "\n",
        "# Read the JSON file\n",
        "with open(json_file_path) as f:\n",
        "    validation_data = json.load(f)\n",
        "\n",
        "\n"
      ]
    },
    {
      "cell_type": "code",
      "execution_count": 153,
      "metadata": {
        "id": "90YR4gRnuIff"
      },
      "outputs": [],
      "source": [
        "# max_len=0\n",
        "# for key,value in data.items():\n",
        "#     max_len=max(max_len,len(value['text'].split(\" \")))\n",
        "max_len=100\n"
      ]
    },
    {
      "cell_type": "code",
      "execution_count": 154,
      "metadata": {
        "id": "YiK9y8OruIff"
      },
      "outputs": [],
      "source": [
        "c=1\n",
        "for key, value in data.items():\n",
        "    word = value['text'].split(\" \")\n",
        "    labels = value['labels']\n",
        "    new_labels = []\n",
        "    new_word = []\n",
        "    for i in range(len(word)):\n",
        "        if(word[i]==''):\n",
        "            print(word)\n",
        "            continue\n",
        "        # new_labels.append(labels[i])\n",
        "        new_word.append(word[i])\n",
        "    # value['labels'] = new_labels\n",
        "    value['word'] = new_word\n",
        "\n",
        "\n",
        "for key, value in validation_data.items():\n",
        "    word = value['text'].split(\" \")\n",
        "    labels = value['labels']\n",
        "    new_labels = []\n",
        "    new_word = []\n",
        "    for i in range(len(word)):\n",
        "        if(word[i]==''):\n",
        "            continue\n",
        "        # new_labels.append(labels[i])\n",
        "        new_word.append(word[i])\n",
        "    # value['labels'] = new_labels\n",
        "    value['word'] = new_word"
      ]
    },
    {
      "cell_type": "code",
      "execution_count": 155,
      "metadata": {
        "id": "xXF2XAHKuIff"
      },
      "outputs": [],
      "source": [
        "sentence_for_training = []\n",
        "tags_for_training = []\n",
        "X_train = []\n",
        "\n",
        "for key, value in data.items():\n",
        "    word = value['word']\n",
        "    tags = value['labels']\n",
        "    sentence = value['text']\n",
        "    # Pad the entire sentence\n",
        "    # if len(word) < max_len:\n",
        "    #     word += [''] * (max_len - len(word))\n",
        "    #     tags += ['O'] * (max_len - len(tags))\n",
        "\n",
        "    sentence_for_training.append(word)\n",
        "    tags_for_training.append(tags)\n",
        "\n",
        "    # # Tokenize the entire sentence\n",
        "    # tokenizer = Tokenizer()\n",
        "    # tokenizer.fit_on_texts([word])\n",
        "    X_train.append(word)\n",
        "\n",
        "\n",
        "tokenizer = Tokenizer()\n",
        "tokenizer.fit_on_texts(X_train)\n",
        "X_train = tokenizer.texts_to_sequences(X_train)\n",
        "X_train = pad_sequences(X_train, maxlen=max_len, padding='post', truncating='pre')\n",
        "# print(max_len)\n",
        "# for i in X_train:\n",
        "#     if(len(i)>max_len):\n",
        "#         print(len(i))"
      ]
    },
    {
      "cell_type": "code",
      "execution_count": 156,
      "metadata": {
        "id": "R6Skjcp4uIff"
      },
      "outputs": [],
      "source": [
        "sentence_for_validation = []\n",
        "tags_for_validation = []\n",
        "X_validation = []\n",
        "\n",
        "for key, value in validation_data.items():\n",
        "    word = value['word']\n",
        "    tags = value['labels']\n",
        "\n",
        "    # # Pad the entire sentence\n",
        "    # if len(word) < max_len:\n",
        "    #     word += [''] * (max_len - len(word))\n",
        "    #     tags += ['O'] * (max_len - len(tags))\n",
        "\n",
        "    sentence_for_validation.append(word)\n",
        "    tags_for_validation.append(tags)\n",
        "\n",
        "    # Tokenize the entire sentence\n",
        "    # tokenizer = Tokenizer()\n",
        "    # tokenizer.fit_on_texts([word])\n",
        "    X_validation.append(word)\n",
        "\n",
        "\n",
        "tokenizer = Tokenizer()\n",
        "tokenizer.fit_on_texts(X_validation)\n",
        "X_validation = tokenizer.texts_to_sequences(X_validation)\n",
        "X_validation = pad_sequences(X_validation, maxlen= max_len, padding='post', truncating='pre')\n",
        "# y_validation = pad_sequences(y_validation, batch_first=True, padding_value=0)\n"
      ]
    },
    {
      "cell_type": "code",
      "execution_count": 157,
      "metadata": {
        "colab": {
          "base_uri": "https://localhost:8080/"
        },
        "id": "rwGbgN0EuIfg",
        "outputId": "51e8a1f6-a26f-40a5-bca2-f04a3a34ef9a"
      },
      "outputs": [
        {
          "name": "stdout",
          "output_type": "stream",
          "text": [
            "(906, 100)\n"
          ]
        }
      ],
      "source": [
        "print(X_train.shape)"
      ]
    },
    {
      "cell_type": "code",
      "execution_count": 158,
      "metadata": {
        "colab": {
          "base_uri": "https://localhost:8080/"
        },
        "id": "Uu3713wouIfg",
        "outputId": "18ab71e9-da86-49a3-c4ac-e9a3b0a75d5e"
      },
      "outputs": [
        {
          "name": "stdout",
          "output_type": "stream",
          "text": [
            "2740\n"
          ]
        }
      ],
      "source": [
        "vocab = []\n",
        "for i in sentence_for_training:\n",
        "    for j in i:\n",
        "        if j not in vocab:\n",
        "            vocab.append(j)\n",
        "# vocab = list(set(vocab))\n",
        "print(len(vocab))    #30220"
      ]
    },
    {
      "cell_type": "code",
      "execution_count": 159,
      "metadata": {
        "id": "P6XUlOSquIfg"
      },
      "outputs": [],
      "source": [
        "vocab_weight = {}\n",
        "c = 0\n",
        "for i in vocab:\n",
        "   if i in model_GloVe:\n",
        "       vocab_weight[i] = model_GloVe[i]"
      ]
    },
    {
      "cell_type": "code",
      "execution_count": 160,
      "metadata": {
        "id": "H_0wObNguIfh"
      },
      "outputs": [],
      "source": [
        "# give code to make embedding weight matrix\n",
        "# vocab=len(vocab)+1\n",
        "weights = np.zeros((len(vocab)+1, 300))\n",
        "for i in range(len(vocab)):\n",
        "    if(vocab[i] in vocab_weight):\n",
        "        weights[i] = vocab_weight[vocab[i]]\n",
        "    # weights[i] = vocab_weight[vocab[i]]\n",
        "\n"
      ]
    },
    {
      "cell_type": "code",
      "execution_count": 161,
      "metadata": {
        "colab": {
          "base_uri": "https://localhost:8080/"
        },
        "id": "FAyrWbpNuIfh",
        "outputId": "15c8b918-6ac9-4286-960d-cf06c7366212"
      },
      "outputs": [
        {
          "data": {
            "text/plain": [
              "(2741, 300)"
            ]
          },
          "execution_count": 161,
          "metadata": {},
          "output_type": "execute_result"
        }
      ],
      "source": [
        "# weights = []\n",
        "# for i in vocab:\n",
        "#     weights.append(vocab_weight[i])\n",
        "# weights = np.array(weights)\n",
        "weights.shape\n",
        "# # weights"
      ]
    },
    {
      "cell_type": "code",
      "execution_count": 162,
      "metadata": {
        "id": "nRCxcDU5uIfh"
      },
      "outputs": [],
      "source": [
        "y_train=[]\n",
        "y_validation=[]\n",
        "y_test=[]\n",
        "\n",
        "word_tokenizer = Tokenizer()                      # instantiate tokeniser\n",
        "word_tokenizer.fit_on_texts(tags_for_training)                    # fit tokeniser on data\n",
        "y_train = word_tokenizer.texts_to_sequences(tags_for_training)  # use the tokeniser to encode input sequence.\n",
        "y_train = pad_sequences(y_train, maxlen= max_len, padding='post', truncating='pre')\n",
        "\n",
        "\n",
        "# for i in range(len(y_train)):\n",
        "#     for j in range(len(y_train[i])):\n",
        "#         y_train[i][j]-=1\n",
        "\n",
        "\n",
        "word_tokenizer = Tokenizer()                      # instantiate tokeniser\n",
        "word_tokenizer.fit_on_texts(tags_for_training)                    # fit tokeniser on data\n",
        "y_validation = word_tokenizer.texts_to_sequences(tags_for_validation)  # use the tokeniser to encode input sequence\n",
        "y_validation = pad_sequences(y_validation,  maxlen= max_len, padding='post', truncating='pre')\n",
        "\n",
        "# for i in range(len(y_validation)):\n",
        "#     for j in range(len(y_validation[i])):\n",
        "#         y_validation[i][j]-=1\n",
        "\n",
        "\n",
        "# y_train = pad_sequences(y_train, maxlen= max_len, padding='pre', truncating='post')\n",
        "# y_validation = pad_sequences(y_validation,maxlen= max_len, padding='pre', truncating='post')\n",
        "y_train = to_categorical(y_train)\n",
        "y_validation = to_categorical(y_validation)\n",
        "\n",
        "\n",
        "# y_train.shape\n",
        "# y_validation.shape\n",
        "# y_train"
      ]
    },
    {
      "cell_type": "code",
      "execution_count": 163,
      "metadata": {
        "colab": {
          "base_uri": "https://localhost:8080/"
        },
        "id": "bwchOLQJuIfh",
        "outputId": "672f11f8-2a09-460d-a2df-6eb0cc88d3f9"
      },
      "outputs": [
        {
          "name": "stdout",
          "output_type": "stream",
          "text": [
            "(906, 100, 4)\n",
            "(219, 100, 4)\n"
          ]
        }
      ],
      "source": [
        "print(y_train.shape)\n",
        "print(y_validation.shape)"
      ]
    },
    {
      "cell_type": "code",
      "execution_count": 164,
      "metadata": {
        "id": "Y-WsK0aEuIfh"
      },
      "outputs": [],
      "source": [
        "from tensorflow.keras import Model,Input\n",
        "from keras.models import Sequential\n",
        "\n",
        "from tensorflow.keras.layers import GRU,SimpleRNN,LSTM,Embedding,Dense\n",
        "from tensorflow.keras.layers import TimeDistributed, SpatialDropout1D,Bidirectional\n",
        "# create architecture\n",
        "\n",
        "# VOCABULARY_SIZE = len(vocab)\n",
        "\n",
        "\n",
        "gru_model = Sequential()\n",
        "gru_model.add(Embedding(input_dim     = len(vocab)+1,         # vocabulary size - number of unique words in data\n",
        "                         output_dim    = 300,          # length of vector with which each word is represented\n",
        "                         input_length  = max_len,          # length of input sequence\n",
        "                         weights       = [weights],     # word embedding matrix\n",
        "                         trainable     = True                     # True - update embeddings_weight matrix\n",
        "))\n",
        "gru_model.add(GRU(64, return_sequences=True))\n",
        "gru_model.add(TimeDistributed(Dense(4, activation='softmax')))"
      ]
    },
    {
      "cell_type": "code",
      "execution_count": 165,
      "metadata": {
        "id": "r6UJGAL6_zKu"
      },
      "outputs": [],
      "source": [
        "from keras import backend as K\n",
        "from sklearn.metrics import f1_score\n",
        "import matplotlib.pyplot as plt\n",
        "\n",
        "def recall_m(y_true, y_pred):\n",
        "    true_positives = K.sum(K.round(K.clip(y_true * y_pred, 0, 1)))\n",
        "    possible_positives = K.sum(K.round(K.clip(y_true, 0, 1)))\n",
        "    recall = true_positives / (possible_positives + K.epsilon())\n",
        "    return recall\n",
        "\n",
        "def precision_m(y_true, y_pred):\n",
        "    true_positives = K.sum(K.round(K.clip(y_true * y_pred, 0, 1)))\n",
        "    predicted_positives = K.sum(K.round(K.clip(y_pred, 0, 1)))\n",
        "    precision = true_positives / (predicted_positives + K.epsilon())\n",
        "    return precision\n",
        "\n",
        "def f1_m(y_true, y_pred):\n",
        "    true_positives = K.sum(K.round(K.clip(y_true * y_pred, 0, 1)), axis=0)\n",
        "    predicted_positives = K.sum(K.round(K.clip(y_pred, 0, 1)), axis=0)\n",
        "    possible_positives = K.sum(K.round(K.clip(y_true, 0, 1)), axis=0)\n",
        "\n",
        "    precision = true_positives / (predicted_positives + K.epsilon())\n",
        "    recall = true_positives / (possible_positives + K.epsilon())\n",
        "\n",
        "    f1 = 2 * precision * recall / (precision + recall + K.epsilon())\n",
        "\n",
        "    macro_f1 = K.mean(f1)\n",
        "    return macro_f1\n",
        "\n",
        "# compile the model\n",
        "gru_model.compile(optimizer='adam', loss='categorical_crossentropy', metrics=['acc',f1_m,precision_m, recall_m])\n",
        "\n",
        "\n"
      ]
    },
    {
      "cell_type": "code",
      "execution_count": 166,
      "metadata": {
        "colab": {
          "base_uri": "https://localhost:8080/"
        },
        "id": "Ft7GaGLOuIfi",
        "outputId": "9519f8fe-bec2-45fd-a530-4c5c5bd051ea"
      },
      "outputs": [
        {
          "name": "stdout",
          "output_type": "stream",
          "text": [
            "Epoch 1/10\n"
          ]
        },
        {
          "name": "stdout",
          "output_type": "stream",
          "text": [
            "8/8 [==============================] - 3s 263ms/step - loss: 1.2294 - acc: 0.8858 - f1_m: 0.0575 - precision_m: 0.6667 - recall_m: 0.0629 - val_loss: 0.9949 - val_acc: 0.9511 - val_f1_m: 0.1693 - val_precision_m: 0.8582 - val_recall_m: 0.1579\n",
            "Epoch 2/10\n",
            "8/8 [==============================] - 1s 124ms/step - loss: 0.8123 - acc: 0.9581 - f1_m: 0.1932 - precision_m: 0.8829 - recall_m: 0.3613 - val_loss: 0.4485 - val_acc: 0.9695 - val_f1_m: 0.4009 - val_precision_m: 0.9711 - val_recall_m: 0.9626\n",
            "Epoch 3/10\n",
            "8/8 [==============================] - 1s 98ms/step - loss: 0.2656 - acc: 0.9706 - f1_m: 0.3754 - precision_m: 0.9740 - recall_m: 0.9675 - val_loss: 0.1092 - val_acc: 0.9766 - val_f1_m: 0.4127 - val_precision_m: 0.9788 - val_recall_m: 0.9734\n",
            "Epoch 4/10\n",
            "8/8 [==============================] - 1s 115ms/step - loss: 0.0949 - acc: 0.9778 - f1_m: 0.3850 - precision_m: 0.9800 - recall_m: 0.9755 - val_loss: 0.0870 - val_acc: 0.9781 - val_f1_m: 0.4148 - val_precision_m: 0.9800 - val_recall_m: 0.9755\n",
            "Epoch 5/10\n",
            "8/8 [==============================] - 1s 195ms/step - loss: 0.0792 - acc: 0.9791 - f1_m: 0.3824 - precision_m: 0.9816 - recall_m: 0.9766 - val_loss: 0.0816 - val_acc: 0.9791 - val_f1_m: 0.4167 - val_precision_m: 0.9805 - val_recall_m: 0.9766\n",
            "Epoch 6/10\n",
            "8/8 [==============================] - 1s 148ms/step - loss: 0.0708 - acc: 0.9799 - f1_m: 0.3930 - precision_m: 0.9812 - recall_m: 0.9781 - val_loss: 0.0791 - val_acc: 0.9792 - val_f1_m: 0.4171 - val_precision_m: 0.9805 - val_recall_m: 0.9772\n",
            "Epoch 7/10\n",
            "8/8 [==============================] - 1s 158ms/step - loss: 0.0645 - acc: 0.9802 - f1_m: 0.3919 - precision_m: 0.9815 - recall_m: 0.9787 - val_loss: 0.0782 - val_acc: 0.9786 - val_f1_m: 0.4177 - val_precision_m: 0.9800 - val_recall_m: 0.9769\n",
            "Epoch 8/10\n",
            "8/8 [==============================] - 1s 101ms/step - loss: 0.0588 - acc: 0.9806 - f1_m: 0.3929 - precision_m: 0.9827 - recall_m: 0.9792 - val_loss: 0.0784 - val_acc: 0.9780 - val_f1_m: 0.4193 - val_precision_m: 0.9796 - val_recall_m: 0.9763\n",
            "Epoch 9/10\n",
            "8/8 [==============================] - 1s 83ms/step - loss: 0.0535 - acc: 0.9818 - f1_m: 0.3940 - precision_m: 0.9845 - recall_m: 0.9799 - val_loss: 0.0797 - val_acc: 0.9777 - val_f1_m: 0.4209 - val_precision_m: 0.9789 - val_recall_m: 0.9761\n",
            "Epoch 10/10\n",
            "8/8 [==============================] - 1s 72ms/step - loss: 0.0485 - acc: 0.9830 - f1_m: 0.3997 - precision_m: 0.9867 - recall_m: 0.9811 - val_loss: 0.0820 - val_acc: 0.9773 - val_f1_m: 0.4216 - val_precision_m: 0.9784 - val_recall_m: 0.9755\n"
          ]
        }
      ],
      "source": [
        "import numpy as np\n",
        "\n",
        "# Convert input data to numpy arrays\n",
        "# X_train_np = np.array(X_train)\n",
        "# X_validation_np = np.array(X_validation)\n",
        "# Reshape the input data to remove the extra dimension\n",
        "X_train_np = np.array(X_train)\n",
        "X_validation_np = np.array(X_validation)\n",
        "\n",
        "y_train_np = np.array(y_train)\n",
        "y_validation_np = np.array(y_validation)\n",
        "\n",
        "# Train the model\n",
        "gru_training = gru_model.fit(X_train, y_train, batch_size=128, epochs=10, validation_data=(X_validation, y_validation))\n",
        "#write code to print the training and validation loss and f1 macro not the graph\n",
        "\n",
        "\n",
        "\n",
        "\n"
      ]
    },
    {
      "cell_type": "code",
      "execution_count": 167,
      "metadata": {
        "colab": {
          "base_uri": "https://localhost:8080/",
          "height": 487
        },
        "id": "ENF-LJGh_zK2",
        "outputId": "d5c24b00-5807-496d-a925-da051106c949"
      },
      "outputs": [
        {
          "data": {
            "image/png": "[encoded data removed]",
            "text/plain": [
              "<Figure size 800x500 with 1 Axes>"
            ]
          },
          "metadata": {},
          "output_type": "display_data"
        }
      ],
      "source": [
        "import matplotlib.pyplot as plt\n",
        "\n",
        "train_loss = gru_training.history['loss']\n",
        "val_loss = gru_training.history['val_loss']\n",
        "\n",
        "epochs = range(1, len(train_loss) + 1)\n",
        "\n",
        "plt.figure(figsize=(8, 5))\n",
        "plt.plot(epochs, train_loss, 'o-', label='Training Loss')\n",
        "plt.plot(epochs, val_loss, 'o-', label='Validation Loss')\n",
        "\n",
        "plt.xlabel('Epoch')\n",
        "plt.ylabel('Loss')\n",
        "plt.title('Training vs. Validation Loss')\n",
        "plt.legend()\n",
        "plt.savefig('ATE_Glove_lossGRU.png')\n",
        "\n",
        "plt.grid(True)\n",
        "\n",
        "plt.show()\n"
      ]
    },
    {
      "cell_type": "code",
      "execution_count": 168,
      "metadata": {
        "colab": {
          "base_uri": "https://localhost:8080/",
          "height": 487
        },
        "id": "kV934tfl_zK2",
        "outputId": "29129e61-901e-4cc0-ed72-cae85b8a49cf"
      },
      "outputs": [
        {
          "data": {
            "image/png": "[encoded data removed]",
            "text/plain": [
              "<Figure size 800x500 with 1 Axes>"
            ]
          },
          "metadata": {},
          "output_type": "display_data"
        }
      ],
      "source": [
        "import matplotlib.pyplot as plt\n",
        "\n",
        "train_loss = lstm_training.history['f1_m']\n",
        "val_loss = lstm_training.history['val_f1_m']\n",
        "\n",
        "epochs = range(1, len(train_loss) + 1)\n",
        "\n",
        "plt.figure(figsize=(8, 5))\n",
        "plt.plot(epochs, train_loss, 'o-', label='Training F1')\n",
        "plt.plot(epochs, val_loss, 'o-', label='Validation F1')\n",
        "\n",
        "plt.xlabel('Epoch')\n",
        "plt.ylabel('F1')\n",
        "plt.title('Training vs. Validation F1')\n",
        "plt.legend()\n",
        "plt.savefig('ATE_Glove_F1GRU.png')\n",
        "\n",
        "plt.grid(True)\n",
        "\n",
        "plt.show()\n"
      ]
    },
    {
      "cell_type": "code",
      "execution_count": 169,
      "metadata": {
        "id": "ZNfZ4oKpuIfi"
      },
      "outputs": [],
      "source": [
        "json_file_path = 'ATE_test_data.json'\n",
        "\n",
        "# Read the JSON file\n",
        "with open(json_file_path) as f:\n",
        "    test_data = json.load(f)\n"
      ]
    },
    {
      "cell_type": "code",
      "execution_count": 170,
      "metadata": {
        "id": "w5hVqz-_uIfi"
      },
      "outputs": [],
      "source": [
        "for key, value in test_data.items():\n",
        "    word = value['text'].split(\" \")\n",
        "    labels = value['labels']\n",
        "    new_labels = []\n",
        "    new_word = []\n",
        "    for i in range(len(word)):\n",
        "        if(word[i]==''):\n",
        "            print(\"SADf\")\n",
        "            continue\n",
        "        new_word.append(word[i])\n",
        "    value['word'] = new_word"
      ]
    },
    {
      "cell_type": "code",
      "execution_count": 171,
      "metadata": {
        "id": "o0DlSxt-uIfi"
      },
      "outputs": [],
      "source": [
        "X_test = []\n",
        "tags_for_testing = []\n",
        "sentence_for_testing = []\n",
        "for key, value in test_data.items():\n",
        "    word = value['word']\n",
        "    tags = value['labels']\n",
        "    sentence = value['text']\n",
        "    # Pad the entire sentence\n",
        "    # if len(word) < max_len:\n",
        "    #     word += [''] * (max_len - len(word))\n",
        "    #     tags += ['O'] * (max_len - len(tags))\n",
        "\n",
        "    sentence_for_testing.append(word)\n",
        "    tags_for_testing.append(tags)\n",
        "\n",
        "    # Tokenize the entire sentence\n",
        "    # tokenizer = Tokenizer()\n",
        "    # tokenizer.fit_on_texts([word])\n",
        "    X_test.append(word)\n",
        "\n",
        "tokenizer = Tokenizer()\n",
        "tokenizer.fit_on_texts(X_test)\n",
        "X_test = tokenizer.texts_to_sequences(X_test)\n",
        "X_test = pad_sequences(X_test,  maxlen= max_len, padding='post', truncating='pre')"
      ]
    },
    {
      "cell_type": "code",
      "execution_count": 172,
      "metadata": {
        "colab": {
          "base_uri": "https://localhost:8080/"
        },
        "id": "juSFAtAWuIfj",
        "outputId": "6387b677-c7e7-4b86-edeb-a3db4f4b341d"
      },
      "outputs": [
        {
          "name": "stdout",
          "output_type": "stream",
          "text": [
            "[491 119   6 149  26   4 186 236  91 492 307   9 493 494   1   0   0   0\n",
            "   0   0   0   0   0   0   0   0   0   0   0   0   0   0   0   0   0   0\n",
            "   0   0   0   0   0   0   0   0   0   0   0   0   0   0   0   0   0   0\n",
            "   0   0   0   0   0   0   0   0   0   0   0   0   0   0   0   0   0   0\n",
            "   0   0   0   0   0   0   0   0   0   0   0   0   0   0   0   0   0   0\n",
            "   0   0   0   0   0   0   0   0   0   0]\n",
            "['I', 'charge', 'it', 'at', 'night', 'and', 'skip', 'taking', 'the', 'cord', 'with', 'me', 'because', 'of', 'the', 'good', 'battery', 'life', '.']\n"
          ]
        }
      ],
      "source": [
        "print(X_test[0])\n",
        "print(sentence_for_training[0])"
      ]
    },
    {
      "cell_type": "code",
      "execution_count": 173,
      "metadata": {
        "id": "FfzYNSxXuIfj"
      },
      "outputs": [],
      "source": [
        "\n",
        "word_tokenizer = Tokenizer()                      # instantiate tokeniser\n",
        "word_tokenizer.fit_on_texts(tags_for_testing)                    # fit tokeniser on data\n",
        "y_test = word_tokenizer.texts_to_sequences(tags_for_testing)  # use the tokeniser to encode input sequence\n",
        "\n",
        "\n",
        "# for i in range(len(y_test)):\n",
        "#     for j in range(len(y_test[i])):\n",
        "#         y_test[i][j]-=1\n",
        "\n",
        "y_test = pad_sequences(y_test,  maxlen= max_len, padding='post', truncating='pre')\n",
        "y_test = to_categorical(y_test)\n"
      ]
    },
    {
      "cell_type": "code",
      "execution_count": 174,
      "metadata": {
        "colab": {
          "base_uri": "https://localhost:8080/"
        },
        "id": "yrGyCFCguIfj",
        "outputId": "dfff4c7c-c480-404c-aa0b-29cd176f49d9"
      },
      "outputs": [
        {
          "name": "stdout",
          "output_type": "stream",
          "text": [
            "(328, 100, 4)\n"
          ]
        }
      ],
      "source": [
        "print(y_test.shape)\n",
        "# print(tags_for_testing[0])"
      ]
    },
    {
      "cell_type": "code",
      "execution_count": 175,
      "metadata": {
        "id": "dMhHo3gjuIfj"
      },
      "outputs": [],
      "source": [
        "# take 5 random sentence, print it , its label and the predicted label\n",
        "\n"
      ]
    },
    {
      "cell_type": "code",
      "execution_count": 176,
      "metadata": {
        "colab": {
          "base_uri": "https://localhost:8080/"
        },
        "id": "Dvz1Gy9RuIfj",
        "outputId": "2616c15d-b2d0-4921-c2aa-b4aeb907eae2"
      },
      "outputs": [
        {
          "name": "stdout",
          "output_type": "stream",
          "text": [
            "11/11 [==============================] - 4s 388ms/step - loss: 0.1286 - acc: 0.9586 - f1_m: 0.3263 - precision_m: 0.9623 - recall_m: 0.9473\n",
            "Loss: 0.12857964634895325\n",
            "Metrics: [0.9586280584335327, 0.326252281665802, 0.9623359441757202, 0.947329580783844]\n"
          ]
        }
      ],
      "source": [
        "# Evaluate the model\n",
        "results = rnn_model.evaluate(X_test, y_test, verbose=1)\n",
        "\n",
        "# Extracting loss and metrics from the results\n",
        "loss = results[0]\n",
        "metrics = results[1:]\n",
        "\n",
        "# Printing loss and metrics\n",
        "print(\"Loss:\", loss)\n",
        "print(\"Metrics:\", metrics)\n"
      ]
    },
    {
      "cell_type": "code",
      "execution_count": 177,
      "metadata": {
        "colab": {
          "base_uri": "https://localhost:8080/"
        },
        "id": "8Yxey8UGuIfk",
        "outputId": "6bab93bc-61b8-45db-8af5-013a8e3467af"
      },
      "outputs": [
        {
          "name": "stdout",
          "output_type": "stream",
          "text": [
            "11/11 [==============================] - 1s 28ms/step\n",
            "0.47571090914869746\n"
          ]
        }
      ],
      "source": [
        "# calculate f1 score\n",
        "\n",
        "from sklearn.metrics import f1_score\n",
        "y_pred = gru_model.predict(X_test)\n",
        "y_pred = np.argmax(y_pred, axis=-1)\n",
        "y_test = np.argmax(y_test, axis=-1)\n",
        "f1 = f1_score(y_test.flatten(), y_pred.flatten(), average='macro')\n",
        "print(f1)"
      ]
    },
    {
      "cell_type": "code",
      "execution_count": 179,
      "metadata": {},
      "outputs": [
        {
          "name": "stdout",
          "output_type": "stream",
          "text": [
            "0.9586280584335327\n"
          ]
        }
      ],
      "source": [
        "accuracy=results[1] \n",
        "print(accuracy)"
      ]
    },
    {
      "cell_type": "code",
      "execution_count": 197,
      "metadata": {},
      "outputs": [
        {
          "name": "stderr",
          "output_type": "stream",
          "text": [
            "/opt/homebrew/lib/python3.11/site-packages/keras/src/engine/training.py:3103: UserWarning: You are saving your model as an HDF5 file via `model.save()`. This file format is considered legacy. We recommend using instead the native Keras format, e.g. `model.save('my_model.keras')`.\n",
            "  saving_api.save_model(\n"
          ]
        }
      ],
      "source": [
        "\n",
        "\n",
        "# save the models\n",
        "rnn_model.save('ATErnnGlvoe.h5')\n",
        "lstm_model.save('ATElstmGlove.h5')\n",
        "gru_model.save('ATEgruGlove.h5')\n"
      ]
    },
    {
      "cell_type": "code",
      "execution_count": null,
      "metadata": {},
      "outputs": [],
      "source": []
    }
  ],
  "metadata": {
    "colab": {
      "provenance": []
    },
    "kernelspec": {
      "display_name": "Python 3",
      "language": "python",
      "name": "python3"
    },
    "language_info": {
      "codemirror_mode": {
        "name": "ipython",
        "version": 3
      },
      "file_extension": ".py",
      "mimetype": "text/x-python",
      "name": "python",
      "nbconvert_exporter": "python",
      "pygments_lexer": "ipython3",
      "version": "3.11.3"
    }
  },
  "nbformat": 4,
  "nbformat_minor": 0
}
