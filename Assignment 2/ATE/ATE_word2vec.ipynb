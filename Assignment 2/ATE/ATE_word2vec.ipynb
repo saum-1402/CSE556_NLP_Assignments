{
  "cells": [
    {
      "cell_type": "code",
      "source": [
        "import gensim.downloader as api\n",
        "\n",
        "# Load the model using gensim.downloader\n",
        "model_GloVe = api.load(\"word2vec-google-news-300\")"
      ],
      "metadata": {
        "colab": {
          "base_uri": "https://localhost:8080/",
          "height": 321
        },
        "id": "_mRTM8XMzAp7",
        "outputId": "7d2c9c6f-3974-4f2e-a72f-11f86481962d"
      },
      "execution_count": null,
      "outputs": [
        {
          "output_type": "error",
          "ename": "KeyboardInterrupt",
          "evalue": "",
          "traceback": [
            "\u001b[0;31m---------------------------------------------------------------------------\u001b[0m",
            "\u001b[0;31mKeyboardInterrupt\u001b[0m                         Traceback (most recent call last)",
            "\u001b[0;32m<ipython-input-149-5c6df8d1d72b>\u001b[0m in \u001b[0;36m<cell line: 4>\u001b[0;34m()\u001b[0m\n\u001b[1;32m      2\u001b[0m \u001b[0;34m\u001b[0m\u001b[0m\n\u001b[1;32m      3\u001b[0m \u001b[0;31m# Load the model using gensim.downloader\u001b[0m\u001b[0;34m\u001b[0m\u001b[0;34m\u001b[0m\u001b[0m\n\u001b[0;32m----> 4\u001b[0;31m \u001b[0mmodel_GloVe\u001b[0m \u001b[0;34m=\u001b[0m \u001b[0mapi\u001b[0m\u001b[0;34m.\u001b[0m\u001b[0mload\u001b[0m\u001b[0;34m(\u001b[0m\u001b[0;34m\"word2vec-google-news-300\"\u001b[0m\u001b[0;34m)\u001b[0m\u001b[0;34m\u001b[0m\u001b[0;34m\u001b[0m\u001b[0m\n\u001b[0m",
            "\u001b[0;32m/usr/local/lib/python3.10/dist-packages/gensim/downloader.py\u001b[0m in \u001b[0;36mload\u001b[0;34m(name, return_path)\u001b[0m\n\u001b[1;32m    501\u001b[0m         \u001b[0msys\u001b[0m\u001b[0;34m.\u001b[0m\u001b[0mpath\u001b[0m\u001b[0;34m.\u001b[0m\u001b[0minsert\u001b[0m\u001b[0;34m(\u001b[0m\u001b[0;36m0\u001b[0m\u001b[0;34m,\u001b[0m \u001b[0mBASE_DIR\u001b[0m\u001b[0;34m)\u001b[0m\u001b[0;34m\u001b[0m\u001b[0;34m\u001b[0m\u001b[0m\n\u001b[1;32m    502\u001b[0m         \u001b[0mmodule\u001b[0m \u001b[0;34m=\u001b[0m \u001b[0m__import__\u001b[0m\u001b[0;34m(\u001b[0m\u001b[0mname\u001b[0m\u001b[0;34m)\u001b[0m\u001b[0;34m\u001b[0m\u001b[0;34m\u001b[0m\u001b[0m\n\u001b[0;32m--> 503\u001b[0;31m         \u001b[0;32mreturn\u001b[0m \u001b[0mmodule\u001b[0m\u001b[0;34m.\u001b[0m\u001b[0mload_data\u001b[0m\u001b[0;34m(\u001b[0m\u001b[0;34m)\u001b[0m\u001b[0;34m\u001b[0m\u001b[0;34m\u001b[0m\u001b[0m\n\u001b[0m\u001b[1;32m    504\u001b[0m \u001b[0;34m\u001b[0m\u001b[0m\n\u001b[1;32m    505\u001b[0m \u001b[0;34m\u001b[0m\u001b[0m\n",
            "\u001b[0;32m~/gensim-data/word2vec-google-news-300/__init__.py\u001b[0m in \u001b[0;36mload_data\u001b[0;34m()\u001b[0m\n\u001b[1;32m      6\u001b[0m \u001b[0;32mdef\u001b[0m \u001b[0mload_data\u001b[0m\u001b[0;34m(\u001b[0m\u001b[0;34m)\u001b[0m\u001b[0;34m:\u001b[0m\u001b[0;34m\u001b[0m\u001b[0;34m\u001b[0m\u001b[0m\n\u001b[1;32m      7\u001b[0m     \u001b[0mpath\u001b[0m \u001b[0;34m=\u001b[0m \u001b[0mos\u001b[0m\u001b[0;34m.\u001b[0m\u001b[0mpath\u001b[0m\u001b[0;34m.\u001b[0m\u001b[0mjoin\u001b[0m\u001b[0;34m(\u001b[0m\u001b[0mbase_dir\u001b[0m\u001b[0;34m,\u001b[0m \u001b[0;34m'word2vec-google-news-300'\u001b[0m\u001b[0;34m,\u001b[0m \u001b[0;34m\"word2vec-google-news-300.gz\"\u001b[0m\u001b[0;34m)\u001b[0m\u001b[0;34m\u001b[0m\u001b[0;34m\u001b[0m\u001b[0m\n\u001b[0;32m----> 8\u001b[0;31m     \u001b[0mmodel\u001b[0m \u001b[0;34m=\u001b[0m \u001b[0mKeyedVectors\u001b[0m\u001b[0;34m.\u001b[0m\u001b[0mload_word2vec_format\u001b[0m\u001b[0;34m(\u001b[0m\u001b[0mpath\u001b[0m\u001b[0;34m,\u001b[0m \u001b[0mbinary\u001b[0m\u001b[0;34m=\u001b[0m\u001b[0;32mTrue\u001b[0m\u001b[0;34m)\u001b[0m\u001b[0;34m\u001b[0m\u001b[0;34m\u001b[0m\u001b[0m\n\u001b[0m\u001b[1;32m      9\u001b[0m     \u001b[0;32mreturn\u001b[0m \u001b[0mmodel\u001b[0m\u001b[0;34m\u001b[0m\u001b[0;34m\u001b[0m\u001b[0m\n",
            "\u001b[0;32m/usr/local/lib/python3.10/dist-packages/gensim/models/keyedvectors.py\u001b[0m in \u001b[0;36mload_word2vec_format\u001b[0;34m(cls, fname, fvocab, binary, encoding, unicode_errors, limit, datatype, no_header)\u001b[0m\n\u001b[1;32m   1717\u001b[0m \u001b[0;34m\u001b[0m\u001b[0m\n\u001b[1;32m   1718\u001b[0m         \"\"\"\n\u001b[0;32m-> 1719\u001b[0;31m         return _load_word2vec_format(\n\u001b[0m\u001b[1;32m   1720\u001b[0m             \u001b[0mcls\u001b[0m\u001b[0;34m,\u001b[0m \u001b[0mfname\u001b[0m\u001b[0;34m,\u001b[0m \u001b[0mfvocab\u001b[0m\u001b[0;34m=\u001b[0m\u001b[0mfvocab\u001b[0m\u001b[0;34m,\u001b[0m \u001b[0mbinary\u001b[0m\u001b[0;34m=\u001b[0m\u001b[0mbinary\u001b[0m\u001b[0;34m,\u001b[0m \u001b[0mencoding\u001b[0m\u001b[0;34m=\u001b[0m\u001b[0mencoding\u001b[0m\u001b[0;34m,\u001b[0m \u001b[0municode_errors\u001b[0m\u001b[0;34m=\u001b[0m\u001b[0municode_errors\u001b[0m\u001b[0;34m,\u001b[0m\u001b[0;34m\u001b[0m\u001b[0;34m\u001b[0m\u001b[0m\n\u001b[1;32m   1721\u001b[0m             \u001b[0mlimit\u001b[0m\u001b[0;34m=\u001b[0m\u001b[0mlimit\u001b[0m\u001b[0;34m,\u001b[0m \u001b[0mdatatype\u001b[0m\u001b[0;34m=\u001b[0m\u001b[0mdatatype\u001b[0m\u001b[0;34m,\u001b[0m \u001b[0mno_header\u001b[0m\u001b[0;34m=\u001b[0m\u001b[0mno_header\u001b[0m\u001b[0;34m,\u001b[0m\u001b[0;34m\u001b[0m\u001b[0;34m\u001b[0m\u001b[0m\n",
            "\u001b[0;32m/usr/local/lib/python3.10/dist-packages/gensim/models/keyedvectors.py\u001b[0m in \u001b[0;36m_load_word2vec_format\u001b[0;34m(cls, fname, fvocab, binary, encoding, unicode_errors, limit, datatype, no_header, binary_chunk_size)\u001b[0m\n\u001b[1;32m   2063\u001b[0m \u001b[0;34m\u001b[0m\u001b[0m\n\u001b[1;32m   2064\u001b[0m         \u001b[0;32mif\u001b[0m \u001b[0mbinary\u001b[0m\u001b[0;34m:\u001b[0m\u001b[0;34m\u001b[0m\u001b[0;34m\u001b[0m\u001b[0m\n\u001b[0;32m-> 2065\u001b[0;31m             _word2vec_read_binary(\n\u001b[0m\u001b[1;32m   2066\u001b[0m                 \u001b[0mfin\u001b[0m\u001b[0;34m,\u001b[0m \u001b[0mkv\u001b[0m\u001b[0;34m,\u001b[0m \u001b[0mcounts\u001b[0m\u001b[0;34m,\u001b[0m \u001b[0mvocab_size\u001b[0m\u001b[0;34m,\u001b[0m \u001b[0mvector_size\u001b[0m\u001b[0;34m,\u001b[0m \u001b[0mdatatype\u001b[0m\u001b[0;34m,\u001b[0m \u001b[0municode_errors\u001b[0m\u001b[0;34m,\u001b[0m \u001b[0mbinary_chunk_size\u001b[0m\u001b[0;34m,\u001b[0m \u001b[0mencoding\u001b[0m\u001b[0;34m\u001b[0m\u001b[0;34m\u001b[0m\u001b[0m\n\u001b[1;32m   2067\u001b[0m             )\n",
            "\u001b[0;32m/usr/local/lib/python3.10/dist-packages/gensim/models/keyedvectors.py\u001b[0m in \u001b[0;36m_word2vec_read_binary\u001b[0;34m(fin, kv, counts, vocab_size, vector_size, datatype, unicode_errors, binary_chunk_size, encoding)\u001b[0m\n\u001b[1;32m   1958\u001b[0m         \u001b[0mnew_chunk\u001b[0m \u001b[0;34m=\u001b[0m \u001b[0mfin\u001b[0m\u001b[0;34m.\u001b[0m\u001b[0mread\u001b[0m\u001b[0;34m(\u001b[0m\u001b[0mbinary_chunk_size\u001b[0m\u001b[0;34m)\u001b[0m\u001b[0;34m\u001b[0m\u001b[0;34m\u001b[0m\u001b[0m\n\u001b[1;32m   1959\u001b[0m         \u001b[0mchunk\u001b[0m \u001b[0;34m+=\u001b[0m \u001b[0mnew_chunk\u001b[0m\u001b[0;34m\u001b[0m\u001b[0;34m\u001b[0m\u001b[0m\n\u001b[0;32m-> 1960\u001b[0;31m         processed_words, chunk = _add_bytes_to_kv(\n\u001b[0m\u001b[1;32m   1961\u001b[0m             kv, counts, chunk, vocab_size, vector_size, datatype, unicode_errors, encoding)\n\u001b[1;32m   1962\u001b[0m         \u001b[0mtot_processed_words\u001b[0m \u001b[0;34m+=\u001b[0m \u001b[0mprocessed_words\u001b[0m\u001b[0;34m\u001b[0m\u001b[0;34m\u001b[0m\u001b[0m\n",
            "\u001b[0;32m/usr/local/lib/python3.10/dist-packages/gensim/models/keyedvectors.py\u001b[0m in \u001b[0;36m_add_bytes_to_kv\u001b[0;34m(kv, counts, chunk, vocab_size, vector_size, datatype, unicode_errors, encoding)\u001b[0m\n\u001b[1;32m   1941\u001b[0m         \u001b[0mword\u001b[0m \u001b[0;34m=\u001b[0m \u001b[0mword\u001b[0m\u001b[0;34m.\u001b[0m\u001b[0mlstrip\u001b[0m\u001b[0;34m(\u001b[0m\u001b[0;34m'\\n'\u001b[0m\u001b[0;34m)\u001b[0m\u001b[0;34m\u001b[0m\u001b[0;34m\u001b[0m\u001b[0m\n\u001b[1;32m   1942\u001b[0m         \u001b[0mvector\u001b[0m \u001b[0;34m=\u001b[0m \u001b[0mfrombuffer\u001b[0m\u001b[0;34m(\u001b[0m\u001b[0mchunk\u001b[0m\u001b[0;34m,\u001b[0m \u001b[0moffset\u001b[0m\u001b[0;34m=\u001b[0m\u001b[0mi_vector\u001b[0m\u001b[0;34m,\u001b[0m \u001b[0mcount\u001b[0m\u001b[0;34m=\u001b[0m\u001b[0mvector_size\u001b[0m\u001b[0;34m,\u001b[0m \u001b[0mdtype\u001b[0m\u001b[0;34m=\u001b[0m\u001b[0mREAL\u001b[0m\u001b[0;34m)\u001b[0m\u001b[0;34m.\u001b[0m\u001b[0mastype\u001b[0m\u001b[0;34m(\u001b[0m\u001b[0mdatatype\u001b[0m\u001b[0;34m)\u001b[0m\u001b[0;34m\u001b[0m\u001b[0;34m\u001b[0m\u001b[0m\n\u001b[0;32m-> 1943\u001b[0;31m         \u001b[0m_add_word_to_kv\u001b[0m\u001b[0;34m(\u001b[0m\u001b[0mkv\u001b[0m\u001b[0;34m,\u001b[0m \u001b[0mcounts\u001b[0m\u001b[0;34m,\u001b[0m \u001b[0mword\u001b[0m\u001b[0;34m,\u001b[0m \u001b[0mvector\u001b[0m\u001b[0;34m,\u001b[0m \u001b[0mvocab_size\u001b[0m\u001b[0;34m)\u001b[0m\u001b[0;34m\u001b[0m\u001b[0;34m\u001b[0m\u001b[0m\n\u001b[0m\u001b[1;32m   1944\u001b[0m         \u001b[0mstart\u001b[0m \u001b[0;34m=\u001b[0m \u001b[0mi_vector\u001b[0m \u001b[0;34m+\u001b[0m \u001b[0mbytes_per_vector\u001b[0m\u001b[0;34m\u001b[0m\u001b[0;34m\u001b[0m\u001b[0m\n\u001b[1;32m   1945\u001b[0m         \u001b[0mprocessed_words\u001b[0m \u001b[0;34m+=\u001b[0m \u001b[0;36m1\u001b[0m\u001b[0;34m\u001b[0m\u001b[0;34m\u001b[0m\u001b[0m\n",
            "\u001b[0;32m/usr/local/lib/python3.10/dist-packages/gensim/models/keyedvectors.py\u001b[0m in \u001b[0;36m_add_word_to_kv\u001b[0;34m(kv, counts, word, weights, vocab_size)\u001b[0m\n\u001b[1;32m   1906\u001b[0m \u001b[0;32mdef\u001b[0m \u001b[0m_add_word_to_kv\u001b[0m\u001b[0;34m(\u001b[0m\u001b[0mkv\u001b[0m\u001b[0;34m,\u001b[0m \u001b[0mcounts\u001b[0m\u001b[0;34m,\u001b[0m \u001b[0mword\u001b[0m\u001b[0;34m,\u001b[0m \u001b[0mweights\u001b[0m\u001b[0;34m,\u001b[0m \u001b[0mvocab_size\u001b[0m\u001b[0;34m)\u001b[0m\u001b[0;34m:\u001b[0m\u001b[0;34m\u001b[0m\u001b[0;34m\u001b[0m\u001b[0m\n\u001b[1;32m   1907\u001b[0m \u001b[0;34m\u001b[0m\u001b[0m\n\u001b[0;32m-> 1908\u001b[0;31m     \u001b[0;32mif\u001b[0m \u001b[0mkv\u001b[0m\u001b[0;34m.\u001b[0m\u001b[0mhas_index_for\u001b[0m\u001b[0;34m(\u001b[0m\u001b[0mword\u001b[0m\u001b[0;34m)\u001b[0m\u001b[0;34m:\u001b[0m\u001b[0;34m\u001b[0m\u001b[0;34m\u001b[0m\u001b[0m\n\u001b[0m\u001b[1;32m   1909\u001b[0m         \u001b[0mlogger\u001b[0m\u001b[0;34m.\u001b[0m\u001b[0mwarning\u001b[0m\u001b[0;34m(\u001b[0m\u001b[0;34m\"duplicate word '%s' in word2vec file, ignoring all but first\"\u001b[0m\u001b[0;34m,\u001b[0m \u001b[0mword\u001b[0m\u001b[0;34m)\u001b[0m\u001b[0;34m\u001b[0m\u001b[0;34m\u001b[0m\u001b[0m\n\u001b[1;32m   1910\u001b[0m         \u001b[0;32mreturn\u001b[0m\u001b[0;34m\u001b[0m\u001b[0;34m\u001b[0m\u001b[0m\n",
            "\u001b[0;32m/usr/local/lib/python3.10/dist-packages/gensim/models/keyedvectors.py\u001b[0m in \u001b[0;36mhas_index_for\u001b[0;34m(self, key)\u001b[0m\n\u001b[1;32m    644\u001b[0m \u001b[0;34m\u001b[0m\u001b[0m\n\u001b[1;32m    645\u001b[0m         \"\"\"\n\u001b[0;32m--> 646\u001b[0;31m         \u001b[0;32mreturn\u001b[0m \u001b[0mself\u001b[0m\u001b[0;34m.\u001b[0m\u001b[0mget_index\u001b[0m\u001b[0;34m(\u001b[0m\u001b[0mkey\u001b[0m\u001b[0;34m,\u001b[0m \u001b[0;34m-\u001b[0m\u001b[0;36m1\u001b[0m\u001b[0;34m)\u001b[0m \u001b[0;34m>=\u001b[0m \u001b[0;36m0\u001b[0m\u001b[0;34m\u001b[0m\u001b[0;34m\u001b[0m\u001b[0m\n\u001b[0m\u001b[1;32m    647\u001b[0m \u001b[0;34m\u001b[0m\u001b[0m\n\u001b[1;32m    648\u001b[0m     \u001b[0;32mdef\u001b[0m \u001b[0m__contains__\u001b[0m\u001b[0;34m(\u001b[0m\u001b[0mself\u001b[0m\u001b[0;34m,\u001b[0m \u001b[0mkey\u001b[0m\u001b[0;34m)\u001b[0m\u001b[0;34m:\u001b[0m\u001b[0;34m\u001b[0m\u001b[0;34m\u001b[0m\u001b[0m\n",
            "\u001b[0;32m/usr/local/lib/python3.10/dist-packages/gensim/models/keyedvectors.py\u001b[0m in \u001b[0;36mget_index\u001b[0;34m(self, key, default)\u001b[0m\n\u001b[1;32m    410\u001b[0m \u001b[0;34m\u001b[0m\u001b[0m\n\u001b[1;32m    411\u001b[0m         \"\"\"\n\u001b[0;32m--> 412\u001b[0;31m         \u001b[0mval\u001b[0m \u001b[0;34m=\u001b[0m \u001b[0mself\u001b[0m\u001b[0;34m.\u001b[0m\u001b[0mkey_to_index\u001b[0m\u001b[0;34m.\u001b[0m\u001b[0mget\u001b[0m\u001b[0;34m(\u001b[0m\u001b[0mkey\u001b[0m\u001b[0;34m,\u001b[0m \u001b[0;34m-\u001b[0m\u001b[0;36m1\u001b[0m\u001b[0;34m)\u001b[0m\u001b[0;34m\u001b[0m\u001b[0;34m\u001b[0m\u001b[0m\n\u001b[0m\u001b[1;32m    413\u001b[0m         \u001b[0;32mif\u001b[0m \u001b[0mval\u001b[0m \u001b[0;34m>=\u001b[0m \u001b[0;36m0\u001b[0m\u001b[0;34m:\u001b[0m\u001b[0;34m\u001b[0m\u001b[0;34m\u001b[0m\u001b[0m\n\u001b[1;32m    414\u001b[0m             \u001b[0;32mreturn\u001b[0m \u001b[0mval\u001b[0m\u001b[0;34m\u001b[0m\u001b[0;34m\u001b[0m\u001b[0m\n",
            "\u001b[0;31mKeyboardInterrupt\u001b[0m: "
          ]
        }
      ]
    },
    {
      "cell_type": "markdown",
      "source": [
        "Vanilla **RNN**"
      ],
      "metadata": {
        "id": "AulNRBjzIAp3"
      }
    },
    {
      "cell_type": "code",
      "source": [
        "pip install tensorflow_addons"
      ],
      "metadata": {
        "colab": {
          "base_uri": "https://localhost:8080/"
        },
        "id": "gNg5X9Qt4z6F",
        "outputId": "9d9b9610-ad53-4429-e39a-605fe6bcb1b8"
      },
      "execution_count": null,
      "outputs": [
        {
          "output_type": "stream",
          "name": "stdout",
          "text": [
            "Requirement already satisfied: tensorflow_addons in /usr/local/lib/python3.10/dist-packages (0.23.0)\n",
            "Requirement already satisfied: packaging in /usr/local/lib/python3.10/dist-packages (from tensorflow_addons) (24.0)\n",
            "Requirement already satisfied: typeguard<3.0.0,>=2.7 in /usr/local/lib/python3.10/dist-packages (from tensorflow_addons) (2.13.3)\n"
          ]
        }
      ]
    },
    {
      "cell_type": "code",
      "source": [
        "import tensorflow_addons as tfa"
      ],
      "metadata": {
        "id": "iS4m2brx5Ggt"
      },
      "execution_count": null,
      "outputs": []
    },
    {
      "cell_type": "code",
      "execution_count": null,
      "metadata": {
        "id": "ej0QUa4jxzsV"
      },
      "outputs": [],
      "source": [
        "\n",
        "from gensim.models import KeyedVectors# Load pre-trained model\n",
        "# import torch\n",
        "# import torch.nn as nn\n",
        "import json\n",
        "import tensorflow as tf\n",
        "from tensorflow.keras.preprocessing.text import Tokenizer\n",
        "from tensorflow.keras.preprocessing.sequence import pad_sequences\n",
        "from keras.utils import to_categorical\n",
        "import numpy as np\n",
        "import keras\n"
      ]
    },
    {
      "cell_type": "code",
      "execution_count": null,
      "metadata": {
        "id": "cVFmMOoKxzsX"
      },
      "outputs": [],
      "source": [
        "# Specify the path to your JSON file\n",
        "json_file_path = 'ATE_training_data.json'\n",
        "\n",
        "# Read the JSON file\n",
        "with open(json_file_path) as f:\n",
        "    data = json.load(f)\n",
        "\n",
        "# data\n",
        "# print(len(data))\n",
        "\n",
        "# Specify the path to your JSON file\n",
        "json_file_path = 'ATE_validation_data.json'\n",
        "\n",
        "# Read the JSON file\n",
        "with open(json_file_path) as f:\n",
        "    validation_data = json.load(f)\n",
        "\n",
        "\n"
      ]
    },
    {
      "cell_type": "code",
      "execution_count": null,
      "metadata": {
        "id": "tynHnkjqxzsX"
      },
      "outputs": [],
      "source": [
        "# max_len=0\n",
        "# for key,value in data.items():\n",
        "#     max_len=max(max_len,len(value['text'].split(\" \")))\n",
        "max_len=78\n"
      ]
    },
    {
      "cell_type": "code",
      "execution_count": null,
      "metadata": {
        "id": "67jvkQyAxzsX"
      },
      "outputs": [],
      "source": [
        "c=1\n",
        "for key, value in data.items():\n",
        "    word = value['text'].split(\" \")\n",
        "    labels = value['labels']\n",
        "    new_labels = []\n",
        "    new_word = []\n",
        "    for i in range(len(word)):\n",
        "        if(word[i]==''):\n",
        "            print(word)\n",
        "            continue\n",
        "        # new_labels.append(labels[i])\n",
        "        new_word.append(word[i])\n",
        "    # value['labels'] = new_labels\n",
        "    value['word'] = new_word\n",
        "\n",
        "\n",
        "for key, value in validation_data.items():\n",
        "    word = value['text'].split(\" \")\n",
        "    labels = value['labels']\n",
        "    new_labels = []\n",
        "    new_word = []\n",
        "    for i in range(len(word)):\n",
        "        if(word[i]==''):\n",
        "            continue\n",
        "        # new_labels.append(labels[i])\n",
        "        new_word.append(word[i])\n",
        "    # value['labels'] = new_labels\n",
        "    value['word'] = new_word"
      ]
    },
    {
      "cell_type": "code",
      "execution_count": null,
      "metadata": {
        "id": "uMSk9nHzxzsY"
      },
      "outputs": [],
      "source": [
        "sentence_for_training = []\n",
        "tags_for_training = []\n",
        "X_train = []\n",
        "\n",
        "for key, value in data.items():\n",
        "    word = value['word']\n",
        "    tags = value['labels']\n",
        "    sentence = value['text']\n",
        "    # Pad the entire sentence\n",
        "    # if len(word) < max_len:\n",
        "    #     word += [''] * (max_len - len(word))\n",
        "    #     tags += ['O'] * (max_len - len(tags))\n",
        "\n",
        "    sentence_for_training.append(word)\n",
        "    tags_for_training.append(tags)\n",
        "\n",
        "    # # Tokenize the entire sentence\n",
        "    # tokenizer = Tokenizer()\n",
        "    # tokenizer.fit_on_texts([word])\n",
        "    X_train.append(word)\n",
        "\n",
        "\n",
        "tokenizer = Tokenizer()\n",
        "tokenizer.fit_on_texts(X_train)\n",
        "X_train = tokenizer.texts_to_sequences(X_train)\n",
        "X_train = pad_sequences(X_train, maxlen=max_len, padding='post', truncating='pre')\n",
        "# print(max_len)\n",
        "# for i in X_train:\n",
        "#     if(len(i)>max_len):\n",
        "#         print(len(i))"
      ]
    },
    {
      "cell_type": "code",
      "source": [
        "print(X_train[5])\n",
        "print(sentence_for_training[5])"
      ],
      "metadata": {
        "colab": {
          "base_uri": "https://localhost:8080/"
        },
        "id": "t-GOBDk56VlO",
        "outputId": "2e8e4c7f-6c15-441f-9498-066e1b334a8f"
      },
      "execution_count": null,
      "outputs": [
        {
          "output_type": "stream",
          "name": "stdout",
          "text": [
            "[ 327    3    1  414 1169    4  199 1170 1171  200  136   72  268  156\n",
            "  805   41  806   15  328  201   36    2    0    0    0    0    0    0\n",
            "    0    0    0    0    0    0    0    0    0    0    0    0    0    0\n",
            "    0    0    0    0    0    0    0    0    0    0    0    0    0    0\n",
            "    0    0    0    0    0    0    0    0    0    0    0    0    0    0\n",
            "    0    0    0    0    0    0    0    0]\n",
            "['However', ',', 'the', 'multi-touch', 'gestures', 'and', 'large', 'tracking', 'area', 'make', 'having', 'an', 'external', 'mouse', 'unnecessary', '(', 'unless', 'you', \"'re\", 'gaming', ')', '.']\n"
          ]
        }
      ]
    },
    {
      "cell_type": "code",
      "source": [
        "X_train.shape"
      ],
      "metadata": {
        "colab": {
          "base_uri": "https://localhost:8080/"
        },
        "id": "QdDIx9Eg6X-C",
        "outputId": "01b83154-a099-42af-d0c6-c49339fbfa37"
      },
      "execution_count": null,
      "outputs": [
        {
          "output_type": "execute_result",
          "data": {
            "text/plain": [
              "(906, 78)"
            ]
          },
          "metadata": {},
          "execution_count": 145
        }
      ]
    },
    {
      "cell_type": "code",
      "execution_count": null,
      "metadata": {
        "id": "0L2ZWSzgxzsY"
      },
      "outputs": [],
      "source": [
        "sentence_for_validation = []\n",
        "tags_for_validation = []\n",
        "X_validation = []\n",
        "\n",
        "for key, value in validation_data.items():\n",
        "    word = value['word']\n",
        "    tags = value['labels']\n",
        "\n",
        "    # # Pad the entire sentence\n",
        "    # if len(word) < max_len:\n",
        "    #     word += [''] * (max_len - len(word))\n",
        "    #     tags += ['O'] * (max_len - len(tags))\n",
        "\n",
        "    sentence_for_validation.append(word)\n",
        "    tags_for_validation.append(tags)\n",
        "\n",
        "    # Tokenize the entire sentence\n",
        "    # tokenizer = Tokenizer()\n",
        "    # tokenizer.fit_on_texts([word])\n",
        "    X_validation.append(word)\n",
        "\n",
        "\n",
        "tokenizer = Tokenizer()\n",
        "tokenizer.fit_on_texts(X_validation)\n",
        "X_validation = tokenizer.texts_to_sequences(X_validation)\n",
        "X_validation = pad_sequences(X_validation, maxlen= max_len, padding='post', truncating='pre')\n",
        "# y_validation = pad_sequences(y_validation, batch_first=True, padding_value=0)\n"
      ]
    },
    {
      "cell_type": "code",
      "execution_count": null,
      "metadata": {
        "colab": {
          "base_uri": "https://localhost:8080/"
        },
        "id": "DbGAiKswxzsY",
        "outputId": "2756af91-39ef-43fb-9a2b-f7faa8711ecf"
      },
      "outputs": [
        {
          "output_type": "stream",
          "name": "stdout",
          "text": [
            "(906, 78)\n"
          ]
        }
      ],
      "source": [
        "print(X_train.shape)"
      ]
    },
    {
      "cell_type": "code",
      "execution_count": null,
      "metadata": {
        "colab": {
          "base_uri": "https://localhost:8080/"
        },
        "id": "AwigSqXIxzsY",
        "outputId": "eac75dc1-178b-47f7-ef13-6541fbd0e337"
      },
      "outputs": [
        {
          "output_type": "stream",
          "name": "stdout",
          "text": [
            "2740\n"
          ]
        }
      ],
      "source": [
        "vocab = []\n",
        "for i in sentence_for_training:\n",
        "    for j in i:\n",
        "        if j not in vocab:\n",
        "            vocab.append(j)\n",
        "# vocab = list(set(vocab))\n",
        "print(len(vocab))    #30220"
      ]
    },
    {
      "cell_type": "code",
      "execution_count": null,
      "metadata": {
        "id": "xXKObDiPxzsZ"
      },
      "outputs": [],
      "source": [
        "vocab_weight = {}\n",
        "c = 0\n",
        "for i in vocab:\n",
        "   if i in model_GloVe:  # Use model to access word vectors\n",
        "       vocab_weight[i] = model_GloVe[i]"
      ]
    },
    {
      "cell_type": "code",
      "execution_count": null,
      "metadata": {
        "id": "Usrl5n3JxzsZ"
      },
      "outputs": [],
      "source": [
        "# give code to make embedding weight matrix\n",
        "# vocab=len(vocab)+1\n",
        "weights = np.zeros((len(vocab)+1, 300))\n",
        "for i in range(len(vocab)):\n",
        "    if(vocab[i] in vocab_weight):\n",
        "        weights[i] = vocab_weight[vocab[i]]\n",
        "    # weights[i] = vocab_weight[vocab[i]]\n",
        "\n"
      ]
    },
    {
      "cell_type": "code",
      "execution_count": null,
      "metadata": {
        "colab": {
          "base_uri": "https://localhost:8080/"
        },
        "id": "o_xX9TKIxzsZ",
        "outputId": "3d11c19b-7197-484e-8c3b-e82d5fd64525"
      },
      "outputs": [
        {
          "output_type": "execute_result",
          "data": {
            "text/plain": [
              "(2741, 300)"
            ]
          },
          "metadata": {},
          "execution_count": 152
        }
      ],
      "source": [
        "# weights = []\n",
        "# for i in vocab:\n",
        "#     weights.append(vocab_weight[i])\n",
        "# weights = np.array(weights)\n",
        "weights.shape\n",
        "# # weights"
      ]
    },
    {
      "cell_type": "code",
      "execution_count": null,
      "metadata": {
        "id": "ckF6Jp_6xzsZ"
      },
      "outputs": [],
      "source": [
        "y_train=[]\n",
        "y_validation=[]\n",
        "y_test=[]\n",
        "\n",
        "word_tokenizer = Tokenizer()                      # instantiate tokeniser\n",
        "word_tokenizer.fit_on_texts(tags_for_training)                    # fit tokeniser on data\n",
        "y_train = word_tokenizer.texts_to_sequences(tags_for_training)  # use the tokeniser to encode input sequence.\n",
        "y_train = pad_sequences(y_train, maxlen= max_len, padding='post', truncating='pre')\n",
        "\n",
        "\n",
        "# for i in range(len(y_train)):\n",
        "#     for j in range(len(y_train[i])):\n",
        "#         y_train[i][j]-=1\n",
        "\n",
        "\n",
        "word_tokenizer = Tokenizer()                      # instantiate tokeniser\n",
        "word_tokenizer.fit_on_texts(tags_for_training)                    # fit tokeniser on data\n",
        "y_validation = word_tokenizer.texts_to_sequences(tags_for_validation)  # use the tokeniser to encode input sequence\n",
        "y_validation = pad_sequences(y_validation,  maxlen= max_len, padding='post', truncating='pre')\n",
        "\n",
        "# for i in range(len(y_validation)):\n",
        "#     for j in range(len(y_validation[i])):\n",
        "#         y_validation[i][j]-=1\n",
        "\n",
        "\n",
        "# y_train = pad_sequences(y_train, maxlen= max_len, padding='pre', truncating='post')\n",
        "# y_validation = pad_sequences(y_validation,maxlen= max_len, padding='pre', truncating='post')\n",
        "y_train = to_categorical(y_train)\n",
        "y_validation = to_categorical(y_validation)\n",
        "\n",
        "\n",
        "# y_train.shape\n",
        "# y_validation.shape\n",
        "# y_train"
      ]
    },
    {
      "cell_type": "code",
      "execution_count": null,
      "metadata": {
        "colab": {
          "base_uri": "https://localhost:8080/"
        },
        "id": "2eF184lLxzsZ",
        "outputId": "522e1922-9178-42e0-feaf-28a0a18dcbfb"
      },
      "outputs": [
        {
          "output_type": "stream",
          "name": "stdout",
          "text": [
            "(906, 78, 4)\n",
            "(219, 78, 4)\n"
          ]
        }
      ],
      "source": [
        "print(y_train.shape)\n",
        "print(y_validation.shape)"
      ]
    },
    {
      "cell_type": "code",
      "execution_count": null,
      "metadata": {
        "id": "fJJpDkRixzsa"
      },
      "outputs": [],
      "source": [
        "from tensorflow.keras import Model,Input\n",
        "from keras.models import Sequential\n",
        "\n",
        "from tensorflow.keras.layers import SimpleRNN,LSTM,Embedding,Dense\n",
        "from tensorflow.keras.layers import TimeDistributed, SpatialDropout1D,Bidirectional\n",
        "# create architecture\n",
        "\n",
        "# VOCABULARY_SIZE = len(vocab)\n",
        "\n",
        "\n",
        "rnn_model = Sequential()\n",
        "rnn_model.add(Embedding(input_dim     = len(vocab)+1,         # vocabulary size - number of unique words in data\n",
        "                         output_dim    = 300,          # length of vector with which each word is represented\n",
        "                         input_length  = max_len,          # length of input sequence\n",
        "                         weights       = [weights],     # word embedding matrix\n",
        "                         trainable     = True                     # True - update embeddings_weight matrix\n",
        "))\n",
        "rnn_model.add(SimpleRNN(64, return_sequences=True))\n",
        "rnn_model.add(TimeDistributed(Dense(4, activation='softmax')))"
      ]
    },
    {
      "cell_type": "code",
      "source": [
        "from sklearn.metrics import f1_score\n",
        "\n",
        "def macro_f1(y_true, y_pred):\n",
        "    # labels are one-hot encoded. so, need to convert\n",
        "    # [1,0,0] to 0 and\n",
        "    # [0,1,0] to 1 and\n",
        "    # [0,0,1] to 2. Then pass these arrays to sklearn f1_score.\n",
        "    y_true = np.argmax(y_true, axis=1)\n",
        "    y_pred = np.argmax(y_pred, axis=1)\n",
        "    return f1_score(y_true, y_pred, average='macro')"
      ],
      "metadata": {
        "id": "RomJHQCs53Ny"
      },
      "execution_count": null,
      "outputs": []
    },
    {
      "cell_type": "code",
      "execution_count": null,
      "metadata": {
        "colab": {
          "base_uri": "https://localhost:8080/"
        },
        "id": "0-QIuRfUxzsa",
        "outputId": "fbffec22-52f6-43da-e97a-6d33032eebad"
      },
      "outputs": [
        {
          "output_type": "stream",
          "name": "stdout",
          "text": [
            "Model: \"sequential_4\"\n",
            "_________________________________________________________________\n",
            " Layer (type)                Output Shape              Param #   \n",
            "=================================================================\n",
            " embedding_4 (Embedding)     (None, 78, 300)           822300    \n",
            "                                                                 \n",
            " simple_rnn_2 (SimpleRNN)    (None, 78, 64)            23360     \n",
            "                                                                 \n",
            " time_distributed_4 (TimeDi  (None, 78, 4)             260       \n",
            " stributed)                                                      \n",
            "                                                                 \n",
            "=================================================================\n",
            "Total params: 845920 (3.23 MB)\n",
            "Trainable params: 845920 (3.23 MB)\n",
            "Non-trainable params: 0 (0.00 Byte)\n",
            "_________________________________________________________________\n"
          ]
        }
      ],
      "source": [
        "from keras import backend as K\n",
        "from sklearn.metrics import f1_score\n",
        "import matplotlib.pyplot as plt\n",
        "\n",
        "def recall_m(y_true, y_pred):\n",
        "    true_positives = K.sum(K.round(K.clip(y_true * y_pred, 0, 1)))\n",
        "    possible_positives = K.sum(K.round(K.clip(y_true, 0, 1)))\n",
        "    recall = true_positives / (possible_positives + K.epsilon())\n",
        "    return recall\n",
        "\n",
        "def precision_m(y_true, y_pred):\n",
        "    true_positives = K.sum(K.round(K.clip(y_true * y_pred, 0, 1)))\n",
        "    predicted_positives = K.sum(K.round(K.clip(y_pred, 0, 1)))\n",
        "    precision = true_positives / (predicted_positives + K.epsilon())\n",
        "    return precision\n",
        "\n",
        "def f1_m(y_true, y_pred):\n",
        "    true_positives = K.sum(K.round(K.clip(y_true * y_pred, 0, 1)), axis=0)\n",
        "    predicted_positives = K.sum(K.round(K.clip(y_pred, 0, 1)), axis=0)\n",
        "    possible_positives = K.sum(K.round(K.clip(y_true, 0, 1)), axis=0)\n",
        "\n",
        "    precision = true_positives / (predicted_positives + K.epsilon())\n",
        "    recall = true_positives / (possible_positives + K.epsilon())\n",
        "\n",
        "    f1 = 2 * precision * recall / (precision + recall + K.epsilon())\n",
        "\n",
        "    macro_f1 = K.mean(f1)\n",
        "    return macro_f1\n",
        "\n",
        "# compile the model\n",
        "rnn_model.compile(optimizer='adam', loss='categorical_crossentropy', metrics=['acc',f1_m,precision_m, recall_m])\n",
        "\n",
        "rnn_model.summary()"
      ]
    },
    {
      "cell_type": "code",
      "execution_count": null,
      "metadata": {
        "colab": {
          "base_uri": "https://localhost:8080/"
        },
        "id": "lfFJoYlKxzsa",
        "outputId": "61ccc925-3e02-44a2-ed67-c3f33ec4adba"
      },
      "outputs": [
        {
          "output_type": "stream",
          "name": "stdout",
          "text": [
            "Epoch 1/10\n",
            "8/8 [==============================] - 2s 138ms/step - loss: 0.0465 - acc: 0.9855 - f1_m: 0.4213 - precision_m: 0.9887 - recall_m: 0.9825 - val_loss: 0.0818 - val_acc: 0.9782 - val_f1_m: 0.4197 - val_precision_m: 0.9803 - val_recall_m: 0.9760\n",
            "Epoch 2/10\n",
            "8/8 [==============================] - 1s 129ms/step - loss: 0.0421 - acc: 0.9873 - f1_m: 0.4253 - precision_m: 0.9909 - recall_m: 0.9845 - val_loss: 0.0826 - val_acc: 0.9775 - val_f1_m: 0.4198 - val_precision_m: 0.9797 - val_recall_m: 0.9745\n",
            "Epoch 3/10\n",
            "8/8 [==============================] - 1s 127ms/step - loss: 0.0384 - acc: 0.9885 - f1_m: 0.4333 - precision_m: 0.9922 - recall_m: 0.9860 - val_loss: 0.0839 - val_acc: 0.9767 - val_f1_m: 0.4203 - val_precision_m: 0.9790 - val_recall_m: 0.9736\n",
            "Epoch 4/10\n",
            "8/8 [==============================] - 1s 116ms/step - loss: 0.0353 - acc: 0.9898 - f1_m: 0.4490 - precision_m: 0.9928 - recall_m: 0.9868 - val_loss: 0.0854 - val_acc: 0.9753 - val_f1_m: 0.4195 - val_precision_m: 0.9784 - val_recall_m: 0.9724\n",
            "Epoch 5/10\n",
            "8/8 [==============================] - 1s 127ms/step - loss: 0.0325 - acc: 0.9911 - f1_m: 0.4527 - precision_m: 0.9939 - recall_m: 0.9872 - val_loss: 0.0870 - val_acc: 0.9745 - val_f1_m: 0.4192 - val_precision_m: 0.9776 - val_recall_m: 0.9717\n",
            "Epoch 6/10\n",
            "8/8 [==============================] - 1s 131ms/step - loss: 0.0302 - acc: 0.9922 - f1_m: 0.4714 - precision_m: 0.9949 - recall_m: 0.9901 - val_loss: 0.0887 - val_acc: 0.9734 - val_f1_m: 0.4190 - val_precision_m: 0.9770 - val_recall_m: 0.9707\n",
            "Epoch 7/10\n",
            "8/8 [==============================] - 1s 132ms/step - loss: 0.0281 - acc: 0.9930 - f1_m: 0.4694 - precision_m: 0.9952 - recall_m: 0.9905 - val_loss: 0.0906 - val_acc: 0.9731 - val_f1_m: 0.4186 - val_precision_m: 0.9765 - val_recall_m: 0.9706\n",
            "Epoch 8/10\n",
            "8/8 [==============================] - 1s 116ms/step - loss: 0.0262 - acc: 0.9935 - f1_m: 0.4754 - precision_m: 0.9951 - recall_m: 0.9904 - val_loss: 0.0925 - val_acc: 0.9722 - val_f1_m: 0.4184 - val_precision_m: 0.9754 - val_recall_m: 0.9697\n",
            "Epoch 9/10\n",
            "8/8 [==============================] - 1s 165ms/step - loss: 0.0247 - acc: 0.9943 - f1_m: 0.4796 - precision_m: 0.9958 - recall_m: 0.9923 - val_loss: 0.0942 - val_acc: 0.9711 - val_f1_m: 0.4179 - val_precision_m: 0.9741 - val_recall_m: 0.9689\n",
            "Epoch 10/10\n",
            "8/8 [==============================] - 2s 195ms/step - loss: 0.0231 - acc: 0.9946 - f1_m: 0.4871 - precision_m: 0.9962 - recall_m: 0.9934 - val_loss: 0.0960 - val_acc: 0.9722 - val_f1_m: 0.4186 - val_precision_m: 0.9749 - val_recall_m: 0.9700\n"
          ]
        }
      ],
      "source": [
        "import numpy as np\n",
        "\n",
        "# Convert input data to numpy arrays\n",
        "# X_train_np = np.array(X_train)\n",
        "# X_validation_np = np.array(X_validation)\n",
        "# Reshape the input data to remove the extra dimension\n",
        "X_train_np = np.array(X_train)\n",
        "X_validation_np = np.array(X_validation)\n",
        "\n",
        "y_train_np = np.array(y_train)\n",
        "y_validation_np = np.array(y_validation)\n",
        "\n",
        "# Train the model\n",
        "rnn_training = rnn_model.fit(X_train, y_train, batch_size=128, epochs=10, validation_data=(X_validation, y_validation))\n",
        "#write code to print the training and validation loss and f1 macro not the graph\n",
        "\n",
        "\n",
        "\n",
        "\n"
      ]
    },
    {
      "cell_type": "code",
      "source": [
        "import matplotlib.pyplot as plt\n",
        "\n",
        "train_loss = rnn_training.history['loss']\n",
        "val_loss = rnn_training.history['val_loss']\n",
        "\n",
        "epochs = range(1, len(train_loss) + 1)\n",
        "\n",
        "\n",
        "plt.figure(figsize=(8, 5))\n",
        "plt.plot(epochs, train_loss, 'o-', label='Training Loss')\n",
        "plt.plot(epochs, val_loss, 'o-', label='Validation Loss')\n",
        "\n",
        "plt.xlabel('Epoch')\n",
        "plt.ylabel('Loss')\n",
        "plt.title('Training vs. Validation Loss')\n",
        "plt.legend()\n",
        "\n",
        "plt.grid(True)\n",
        "\n",
        "plt.show()\n"
      ],
      "metadata": {
        "colab": {
          "base_uri": "https://localhost:8080/",
          "height": 487
        },
        "id": "eoTP0ZNfL_c0",
        "outputId": "a25277b0-a0a5-495b-d521-f6dbf3fb258d"
      },
      "execution_count": null,
      "outputs": [
        {
          "output_type": "display_data",
          "data": {
            "text/plain": [
              "<Figure size 800x500 with 1 Axes>"
            ],
            "image/png": "[encoded data removed]"
          },
          "metadata": {}
        }
      ]
    },
    {
      "cell_type": "code",
      "source": [
        "import matplotlib.pyplot as plt\n",
        "\n",
        "train_loss = rnn_training.history['f1_m']\n",
        "val_loss = rnn_training.history['val_f1_m']\n",
        "\n",
        "epochs = range(1, len(train_loss) + 1)\n",
        "\n",
        "\n",
        "plt.figure(figsize=(8, 5))\n",
        "plt.plot(epochs, train_loss, 'o-', label='Training F1')\n",
        "plt.plot(epochs, val_loss, 'o-', label='Validation F1')\n",
        "\n",
        "plt.xlabel('Epoch')\n",
        "plt.ylabel('F1')\n",
        "plt.title('Training vs. Validation F1')\n",
        "plt.legend()\n",
        "\n",
        "plt.grid(True)\n",
        "\n",
        "plt.show()"
      ],
      "metadata": {
        "colab": {
          "base_uri": "https://localhost:8080/",
          "height": 487
        },
        "id": "eKBRJaJ08aaz",
        "outputId": "52fc281e-58ae-4662-8670-af514ec61a81"
      },
      "execution_count": null,
      "outputs": [
        {
          "output_type": "display_data",
          "data": {
            "text/plain": [
              "<Figure size 800x500 with 1 Axes>"
            ],
            "image/png": "[encoded data removed]"
          },
          "metadata": {}
        }
      ]
    },
    {
      "cell_type": "code",
      "execution_count": null,
      "metadata": {
        "id": "1zmkLmpexzsa"
      },
      "outputs": [],
      "source": [
        "json_file_path = 'ATE_test_data.json'\n",
        "\n",
        "# Read the JSON file\n",
        "with open(json_file_path) as f:\n",
        "    test_data = json.load(f)\n"
      ]
    },
    {
      "cell_type": "code",
      "execution_count": null,
      "metadata": {
        "id": "PDhFqaH-xzsa"
      },
      "outputs": [],
      "source": [
        "for key, value in test_data.items():\n",
        "    word = value['text'].split(\" \")\n",
        "    labels = value['labels']\n",
        "    new_labels = []\n",
        "    new_word = []\n",
        "    for i in range(len(word)):\n",
        "        if(word[i]==''):\n",
        "            print(\"SADf\")\n",
        "            continue\n",
        "        new_word.append(word[i])\n",
        "    value['word'] = new_word"
      ]
    },
    {
      "cell_type": "code",
      "execution_count": null,
      "metadata": {
        "id": "uauxeyuaxzsb"
      },
      "outputs": [],
      "source": [
        "X_test = []\n",
        "tags_for_testing = []\n",
        "sentence_for_testing = []\n",
        "for key, value in test_data.items():\n",
        "    word = value['word']\n",
        "    tags = value['labels']\n",
        "    sentence = value['text']\n",
        "    # Pad the entire sentence\n",
        "    # if len(word) < max_len:\n",
        "    #     word += [''] * (max_len - len(word))\n",
        "    #     tags += ['O'] * (max_len - len(tags))\n",
        "\n",
        "    sentence_for_testing.append(word)\n",
        "    tags_for_testing.append(tags)\n",
        "\n",
        "    # Tokenize the entire sentence\n",
        "    # tokenizer = Tokenizer()\n",
        "    # tokenizer.fit_on_texts([word])\n",
        "    X_test.append(word)\n",
        "\n",
        "tokenizer = Tokenizer()\n",
        "tokenizer.fit_on_texts(X_test)\n",
        "X_test = tokenizer.texts_to_sequences(X_test)\n",
        "X_test = pad_sequences(X_test,  maxlen= max_len, padding='post', truncating='pre')"
      ]
    },
    {
      "cell_type": "code",
      "execution_count": null,
      "metadata": {
        "colab": {
          "base_uri": "https://localhost:8080/"
        },
        "id": "vyTwLewfxzsb",
        "outputId": "7ae1e8e6-47d2-4222-91ce-7ff506bdc513"
      },
      "outputs": [
        {
          "output_type": "stream",
          "name": "stdout",
          "text": [
            "[491 119   6 149  26   4 186 236  91 492 307   9 493 494   1   0   0   0\n",
            "   0   0   0   0   0   0   0   0   0   0   0   0   0   0   0   0   0   0\n",
            "   0   0   0   0   0   0   0   0   0   0   0   0   0   0   0   0   0   0\n",
            "   0   0   0   0   0   0   0   0   0   0   0   0   0   0   0   0   0   0\n",
            "   0   0   0   0   0   0]\n",
            "['I', 'charge', 'it', 'at', 'night', 'and', 'skip', 'taking', 'the', 'cord', 'with', 'me', 'because', 'of', 'the', 'good', 'battery', 'life', '.']\n"
          ]
        }
      ],
      "source": [
        "print(X_test[0])\n",
        "print(sentence_for_training[0])"
      ]
    },
    {
      "cell_type": "code",
      "execution_count": null,
      "metadata": {
        "id": "oJe2FoGHxzsb"
      },
      "outputs": [],
      "source": [
        "\n",
        "word_tokenizer = Tokenizer()                      # instantiate tokeniser\n",
        "word_tokenizer.fit_on_texts(tags_for_testing)                    # fit tokeniser on data\n",
        "y_test = word_tokenizer.texts_to_sequences(tags_for_testing)  # use the tokeniser to encode input sequence\n",
        "\n",
        "\n",
        "# for i in range(len(y_test)):\n",
        "#     for j in range(len(y_test[i])):\n",
        "#         y_test[i][j]-=1\n",
        "\n",
        "y_test = pad_sequences(y_test,  maxlen= max_len, padding='post', truncating='pre')\n",
        "y_test = to_categorical(y_test)\n"
      ]
    },
    {
      "cell_type": "code",
      "execution_count": null,
      "metadata": {
        "colab": {
          "base_uri": "https://localhost:8080/"
        },
        "id": "PWA3pE0yxzsb",
        "outputId": "3d130b9a-3658-45b7-e485-798937080c36"
      },
      "outputs": [
        {
          "output_type": "stream",
          "name": "stdout",
          "text": [
            "(328, 78, 4)\n"
          ]
        }
      ],
      "source": [
        "print(y_test.shape)\n",
        "# print(tags_for_testing[0])"
      ]
    },
    {
      "cell_type": "code",
      "execution_count": null,
      "metadata": {
        "id": "mOefCfKWxzsb"
      },
      "outputs": [],
      "source": [
        "# take 5 random sentence, print it , its label and the predicted label\n",
        "\n"
      ]
    },
    {
      "cell_type": "code",
      "execution_count": null,
      "metadata": {
        "colab": {
          "base_uri": "https://localhost:8080/"
        },
        "id": "devI8yFxxzsb",
        "outputId": "13747332-93d2-4dae-ef77-7c3b8331b2b9"
      },
      "outputs": [
        {
          "output_type": "stream",
          "name": "stdout",
          "text": [
            "11/11 [==============================] - 0s 28ms/step - loss: 0.1243 - acc: 0.9682 - f1_m: 0.3676 - precision_m: 0.9712 - recall_m: 0.9615\n",
            "Loss: 0.12434762716293335\n",
            "Metrics: [0.9681832194328308, 0.36756810545921326, 0.9711622595787048, 0.96146559715271]\n"
          ]
        }
      ],
      "source": [
        "# Evaluate the model\n",
        "results = rnn_model.evaluate(X_test, y_test, verbose=1)\n",
        "\n",
        "# Extracting loss and metrics from the results\n",
        "loss = results[0]\n",
        "metrics = results[1:]\n",
        "\n",
        "# Printing loss and metrics\n",
        "print(\"Loss:\", loss)\n",
        "print(\"Metrics:\", metrics)"
      ]
    },
    {
      "cell_type": "code",
      "execution_count": null,
      "metadata": {
        "colab": {
          "base_uri": "https://localhost:8080/"
        },
        "id": "fQvHxeDsxzsb",
        "outputId": "f9b55cc9-4e4c-4827-d673-a65c4f2e03e2"
      },
      "outputs": [
        {
          "output_type": "stream",
          "name": "stdout",
          "text": [
            "11/11 [==============================] - 0s 9ms/step\n",
            "0.4869181753317442\n"
          ]
        }
      ],
      "source": [
        "# calculate f1 score\n",
        "\n",
        "from sklearn.metrics import f1_score\n",
        "y_pred = rnn_model.predict(X_test)\n",
        "y_pred = np.argmax(y_pred, axis=-1)\n",
        "y_test = np.argmax(y_test, axis=-1)\n",
        "f1 = f1_score(y_test.flatten(), y_pred.flatten(), average='macro')\n",
        "print(f1)"
      ]
    },
    {
      "cell_type": "markdown",
      "source": [
        "**LSTM**"
      ],
      "metadata": {
        "id": "MeV2pWTzzX4O"
      }
    },
    {
      "cell_type": "code",
      "source": [],
      "metadata": {
        "id": "APJkHGy4zz_q"
      },
      "execution_count": null,
      "outputs": []
    },
    {
      "cell_type": "code",
      "execution_count": null,
      "metadata": {
        "id": "dbN4Wcdpt9RK"
      },
      "outputs": [],
      "source": [
        "\n",
        "from gensim.models import KeyedVectors# Load pre-trained model\n",
        "# import torch\n",
        "# import torch.nn as nn\n",
        "import json\n",
        "import tensorflow as tf\n",
        "from tensorflow.keras.preprocessing.text import Tokenizer\n",
        "from tensorflow.keras.preprocessing.sequence import pad_sequences\n",
        "from keras.utils import to_categorical\n",
        "import numpy as np\n",
        "import keras\n"
      ]
    },
    {
      "cell_type": "code",
      "execution_count": null,
      "metadata": {
        "id": "0d2INTfUt9RL"
      },
      "outputs": [],
      "source": [
        "# Specify the path to your JSON file\n",
        "json_file_path = 'ATE_training_data.json'\n",
        "\n",
        "# Read the JSON file\n",
        "with open(json_file_path) as f:\n",
        "    data = json.load(f)\n",
        "\n",
        "# data\n",
        "# print(len(data))\n",
        "\n",
        "# Specify the path to your JSON file\n",
        "json_file_path = 'ATE_validation_data.json'\n",
        "\n",
        "# Read the JSON file\n",
        "with open(json_file_path) as f:\n",
        "    validation_data = json.load(f)\n",
        "\n",
        "\n"
      ]
    },
    {
      "cell_type": "code",
      "execution_count": null,
      "metadata": {
        "id": "At4Up5_Gt9RL"
      },
      "outputs": [],
      "source": [
        "# max_len=0\n",
        "# for key,value in data.items():\n",
        "#     max_len=max(max_len,len(value['text'].split(\" \")))\n",
        "max_len=100\n"
      ]
    },
    {
      "cell_type": "code",
      "execution_count": null,
      "metadata": {
        "id": "-gG7xF4wt9RL"
      },
      "outputs": [],
      "source": [
        "c=1\n",
        "for key, value in data.items():\n",
        "    word = value['text'].split(\" \")\n",
        "    labels = value['labels']\n",
        "    new_labels = []\n",
        "    new_word = []\n",
        "    for i in range(len(word)):\n",
        "        if(word[i]==''):\n",
        "            print(word)\n",
        "            continue\n",
        "        # new_labels.append(labels[i])\n",
        "        new_word.append(word[i])\n",
        "    # value['labels'] = new_labels\n",
        "    value['word'] = new_word\n",
        "\n",
        "\n",
        "for key, value in validation_data.items():\n",
        "    word = value['text'].split(\" \")\n",
        "    labels = value['labels']\n",
        "    new_labels = []\n",
        "    new_word = []\n",
        "    for i in range(len(word)):\n",
        "        if(word[i]==''):\n",
        "            continue\n",
        "        # new_labels.append(labels[i])\n",
        "        new_word.append(word[i])\n",
        "    # value['labels'] = new_labels\n",
        "    value['word'] = new_word"
      ]
    },
    {
      "cell_type": "code",
      "execution_count": null,
      "metadata": {
        "id": "4Y2oXlPdt9RM"
      },
      "outputs": [],
      "source": [
        "sentence_for_training = []\n",
        "tags_for_training = []\n",
        "X_train = []\n",
        "\n",
        "for key, value in data.items():\n",
        "    word = value['word']\n",
        "    tags = value['labels']\n",
        "    sentence = value['text']\n",
        "    # Pad the entire sentence\n",
        "    # if len(word) < max_len:\n",
        "    #     word += [''] * (max_len - len(word))\n",
        "    #     tags += ['O'] * (max_len - len(tags))\n",
        "\n",
        "    sentence_for_training.append(word)\n",
        "    tags_for_training.append(tags)\n",
        "\n",
        "    # # Tokenize the entire sentence\n",
        "    # tokenizer = Tokenizer()\n",
        "    # tokenizer.fit_on_texts([word])\n",
        "    X_train.append(word)\n",
        "\n",
        "\n",
        "tokenizer = Tokenizer()\n",
        "tokenizer.fit_on_texts(X_train)\n",
        "X_train = tokenizer.texts_to_sequences(X_train)\n",
        "X_train = pad_sequences(X_train, maxlen=max_len, padding='post', truncating='pre')\n",
        "# print(max_len)\n",
        "# for i in X_train:\n",
        "#     if(len(i)>max_len):\n",
        "#         print(len(i))"
      ]
    },
    {
      "cell_type": "code",
      "execution_count": null,
      "metadata": {
        "id": "oqkrGxInt9RM"
      },
      "outputs": [],
      "source": [
        "# len(y_train[0])"
      ]
    },
    {
      "cell_type": "code",
      "execution_count": null,
      "metadata": {
        "id": "6RSiFDd3t9RM"
      },
      "outputs": [],
      "source": [
        "# len(y_test[0])"
      ]
    },
    {
      "cell_type": "code",
      "execution_count": null,
      "metadata": {
        "id": "T5e8wV9Zt9RM",
        "outputId": "4b18e793-28d9-4dab-9a99-440de79a7bed",
        "colab": {
          "base_uri": "https://localhost:8080/"
        }
      },
      "outputs": [
        {
          "output_type": "stream",
          "name": "stdout",
          "text": [
            "[ 327    3    1  414 1169    4  199 1170 1171  200  136   72  268  156\n",
            "  805   41  806   15  328  201   36    2    0    0    0    0    0    0\n",
            "    0    0    0    0    0    0    0    0    0    0    0    0    0    0\n",
            "    0    0    0    0    0    0    0    0    0    0    0    0    0    0\n",
            "    0    0    0    0    0    0    0    0    0    0    0    0    0    0\n",
            "    0    0    0    0    0    0    0    0    0    0    0    0    0    0\n",
            "    0    0    0    0    0    0    0    0    0    0    0    0    0    0\n",
            "    0    0]\n",
            "['However', ',', 'the', 'multi-touch', 'gestures', 'and', 'large', 'tracking', 'area', 'make', 'having', 'an', 'external', 'mouse', 'unnecessary', '(', 'unless', 'you', \"'re\", 'gaming', ')', '.']\n"
          ]
        }
      ],
      "source": [
        "print(X_train[5])\n",
        "print(sentence_for_training[5])"
      ]
    },
    {
      "cell_type": "code",
      "execution_count": null,
      "metadata": {
        "id": "LLyA1Lvnt9RM",
        "outputId": "36447a47-b518-4e09-9092-c9d03e6fed63",
        "colab": {
          "base_uri": "https://localhost:8080/"
        }
      },
      "outputs": [
        {
          "output_type": "execute_result",
          "data": {
            "text/plain": [
              "(906, 100)"
            ]
          },
          "metadata": {},
          "execution_count": 247
        }
      ],
      "source": [
        "X_train.shape"
      ]
    },
    {
      "cell_type": "code",
      "execution_count": null,
      "metadata": {
        "id": "8mVesYL3t9RN"
      },
      "outputs": [],
      "source": [
        "sentence_for_validation = []\n",
        "tags_for_validation = []\n",
        "X_validation = []\n",
        "\n",
        "for key, value in validation_data.items():\n",
        "    word = value['word']\n",
        "    tags = value['labels']\n",
        "\n",
        "    # # Pad the entire sentence\n",
        "    # if len(word) < max_len:\n",
        "    #     word += [''] * (max_len - len(word))\n",
        "    #     tags += ['O'] * (max_len - len(tags))\n",
        "\n",
        "    sentence_for_validation.append(word)\n",
        "    tags_for_validation.append(tags)\n",
        "\n",
        "    # Tokenize the entire sentence\n",
        "    # tokenizer = Tokenizer()\n",
        "    # tokenizer.fit_on_texts([word])\n",
        "    X_validation.append(word)\n",
        "\n",
        "\n",
        "tokenizer = Tokenizer()\n",
        "tokenizer.fit_on_texts(X_validation)\n",
        "X_validation = tokenizer.texts_to_sequences(X_validation)\n",
        "X_validation = pad_sequences(X_validation, maxlen= max_len, padding='post', truncating='pre')\n",
        "# y_validation = pad_sequences(y_validation, batch_first=True, padding_value=0)\n"
      ]
    },
    {
      "cell_type": "code",
      "execution_count": null,
      "metadata": {
        "id": "IMsGVrmBt9RN",
        "outputId": "da59d6eb-c231-403f-f1c0-dffb1cfccddd",
        "colab": {
          "base_uri": "https://localhost:8080/"
        }
      },
      "outputs": [
        {
          "output_type": "stream",
          "name": "stdout",
          "text": [
            "(906, 100)\n"
          ]
        }
      ],
      "source": [
        "print(X_train.shape)"
      ]
    },
    {
      "cell_type": "code",
      "execution_count": null,
      "metadata": {
        "id": "MxdqPi6Rt9RN",
        "outputId": "002dea62-fd56-47e6-c767-91a3051fb2bc",
        "colab": {
          "base_uri": "https://localhost:8080/"
        }
      },
      "outputs": [
        {
          "output_type": "stream",
          "name": "stdout",
          "text": [
            "['I', 'charge', 'it', 'at', 'night', 'and', 'skip', 'taking', 'the', 'cord', 'with', 'me', 'because', 'of', 'the', 'good', 'battery', 'life', '.']\n"
          ]
        }
      ],
      "source": [
        "print(sentence_for_training[0])"
      ]
    },
    {
      "cell_type": "code",
      "execution_count": null,
      "metadata": {
        "id": "1gQTzJuIt9RN",
        "outputId": "95095580-beaf-4ab7-c5c5-867f7817d57e",
        "colab": {
          "base_uri": "https://localhost:8080/"
        }
      },
      "outputs": [
        {
          "output_type": "stream",
          "name": "stdout",
          "text": [
            "2740\n"
          ]
        }
      ],
      "source": [
        "vocab = []\n",
        "for i in sentence_for_training:\n",
        "    for j in i:\n",
        "        if j not in vocab:\n",
        "            vocab.append(j)\n",
        "# vocab = list(set(vocab))\n",
        "print(len(vocab))    #30220"
      ]
    },
    {
      "cell_type": "code",
      "execution_count": null,
      "metadata": {
        "id": "fyb9ZY_Vt9RN"
      },
      "outputs": [],
      "source": [
        "vocab_weight = {}\n",
        "c = 0\n",
        "for i in vocab:\n",
        "   if i in model_GloVe:\n",
        "       vocab_weight[i] = model_GloVe[i]"
      ]
    },
    {
      "cell_type": "code",
      "execution_count": null,
      "metadata": {
        "id": "lKewbP9Ct9RN"
      },
      "outputs": [],
      "source": [
        "# give code to make embedding weight matrix\n",
        "# vocab=len(vocab)+1\n",
        "weights = np.zeros((len(vocab)+1, 300))\n",
        "for i in range(len(vocab)):\n",
        "    if(vocab[i] in vocab_weight):\n",
        "        weights[i] = vocab_weight[vocab[i]]\n",
        "    # weights[i] = vocab_weight[vocab[i]]\n",
        "\n"
      ]
    },
    {
      "cell_type": "code",
      "execution_count": null,
      "metadata": {
        "id": "TtTdBNsbt9RO",
        "outputId": "f0f52291-f851-44bd-f6ee-870f11f318c0",
        "colab": {
          "base_uri": "https://localhost:8080/"
        }
      },
      "outputs": [
        {
          "output_type": "execute_result",
          "data": {
            "text/plain": [
              "(2741, 300)"
            ]
          },
          "metadata": {},
          "execution_count": 254
        }
      ],
      "source": [
        "# weights = []\n",
        "# for i in vocab:\n",
        "#     weights.append(vocab_weight[i])\n",
        "# weights = np.array(weights)\n",
        "weights.shape\n",
        "# # weights"
      ]
    },
    {
      "cell_type": "code",
      "execution_count": null,
      "metadata": {
        "id": "OTUVQz4at9RO"
      },
      "outputs": [],
      "source": [
        "y_train=[]\n",
        "y_validation=[]\n",
        "y_test=[]\n",
        "\n",
        "word_tokenizer = Tokenizer()                      # instantiate tokeniser\n",
        "word_tokenizer.fit_on_texts(tags_for_training)                    # fit tokeniser on data\n",
        "y_train = word_tokenizer.texts_to_sequences(tags_for_training)  # use the tokeniser to encode input sequence.\n",
        "y_train = pad_sequences(y_train, maxlen= max_len, padding='post', truncating='pre')\n",
        "\n",
        "\n",
        "# for i in range(len(y_train)):\n",
        "#     for j in range(len(y_train[i])):\n",
        "#         y_train[i][j]-=1\n",
        "\n",
        "\n",
        "word_tokenizer = Tokenizer()                      # instantiate tokeniser\n",
        "word_tokenizer.fit_on_texts(tags_for_training)                    # fit tokeniser on data\n",
        "y_validation = word_tokenizer.texts_to_sequences(tags_for_validation)  # use the tokeniser to encode input sequence\n",
        "y_validation = pad_sequences(y_validation,  maxlen= max_len, padding='post', truncating='pre')\n",
        "\n",
        "# for i in range(len(y_validation)):\n",
        "#     for j in range(len(y_validation[i])):\n",
        "#         y_validation[i][j]-=1\n",
        "\n",
        "\n",
        "# y_train = pad_sequences(y_train, maxlen= max_len, padding='pre', truncating='post')\n",
        "# y_validation = pad_sequences(y_validation,maxlen= max_len, padding='pre', truncating='post')\n",
        "y_train = to_categorical(y_train)\n",
        "y_validation = to_categorical(y_validation)\n",
        "\n",
        "\n",
        "# y_train.shape\n",
        "# y_validation.shape\n",
        "# y_train"
      ]
    },
    {
      "cell_type": "code",
      "execution_count": null,
      "metadata": {
        "id": "2AsBkHnOt9RO",
        "outputId": "01f06f29-5115-44b5-c4ce-c2c16d4e3e7e",
        "colab": {
          "base_uri": "https://localhost:8080/"
        }
      },
      "outputs": [
        {
          "output_type": "stream",
          "name": "stdout",
          "text": [
            "(906, 100, 4)\n",
            "(219, 100, 4)\n"
          ]
        }
      ],
      "source": [
        "print(y_train.shape)\n",
        "print(y_validation.shape)"
      ]
    },
    {
      "cell_type": "code",
      "execution_count": null,
      "metadata": {
        "id": "Lj1FtUZvt9RO"
      },
      "outputs": [],
      "source": [
        "from tensorflow.keras import Model,Input\n",
        "from keras.models import Sequential\n",
        "\n",
        "from tensorflow.keras.layers import LSTM,Embedding,Dense\n",
        "from tensorflow.keras.layers import TimeDistributed, SpatialDropout1D,Bidirectional\n",
        "# create architecture\n",
        "\n",
        "# VOCABULARY_SIZE = len(vocab)\n",
        "\n",
        "\n",
        "lstm_model = Sequential()\n",
        "lstm_model.add(Embedding(input_dim     = len(vocab)+1,         # vocabulary size - number of unique words in data\n",
        "                         output_dim    = 300,          # length of vector with which each word is represented\n",
        "                         input_length  = max_len,          # length of input sequence\n",
        "                         weights       = [weights],     # word embedding matrix\n",
        "                         trainable     = True                     # True - update embeddings_weight matrix\n",
        "))\n",
        "lstm_model.add(LSTM(64, return_sequences=True))\n",
        "lstm_model.add(TimeDistributed(Dense(4, activation='softmax')))"
      ]
    },
    {
      "cell_type": "code",
      "execution_count": null,
      "metadata": {
        "id": "pbBtw3aBt9RO"
      },
      "outputs": [],
      "source": [
        "from keras import backend as K\n",
        "from sklearn.metrics import f1_score\n",
        "import matplotlib.pyplot as plt\n",
        "\n",
        "def recall_m(y_true, y_pred):\n",
        "    true_positives = K.sum(K.round(K.clip(y_true * y_pred, 0, 1)))\n",
        "    possible_positives = K.sum(K.round(K.clip(y_true, 0, 1)))\n",
        "    recall = true_positives / (possible_positives + K.epsilon())\n",
        "    return recall\n",
        "\n",
        "def precision_m(y_true, y_pred):\n",
        "    true_positives = K.sum(K.round(K.clip(y_true * y_pred, 0, 1)))\n",
        "    predicted_positives = K.sum(K.round(K.clip(y_pred, 0, 1)))\n",
        "    precision = true_positives / (predicted_positives + K.epsilon())\n",
        "    return precision\n",
        "\n",
        "def f1_m(y_true, y_pred):\n",
        "    true_positives = K.sum(K.round(K.clip(y_true * y_pred, 0, 1)), axis=0)\n",
        "    predicted_positives = K.sum(K.round(K.clip(y_pred, 0, 1)), axis=0)\n",
        "    possible_positives = K.sum(K.round(K.clip(y_true, 0, 1)), axis=0)\n",
        "\n",
        "    precision = true_positives / (predicted_positives + K.epsilon())\n",
        "    recall = true_positives / (possible_positives + K.epsilon())\n",
        "\n",
        "    f1 = 2 * precision * recall / (precision + recall + K.epsilon())\n",
        "\n",
        "    macro_f1 = K.mean(f1)\n",
        "    return macro_f1\n",
        "\n",
        "# compile the model\n",
        "lstm_model.compile(optimizer='adam', loss='categorical_crossentropy', metrics=['acc',f1_m,precision_m, recall_m])\n",
        "\n",
        "\n"
      ]
    },
    {
      "cell_type": "code",
      "source": [
        "import numpy as np\n",
        "\n",
        "# Convert input data to numpy arrays\n",
        "# X_train_np = np.array(X_train)\n",
        "# X_validation_np = np.array(X_validation)\n",
        "# Reshape the input data to remove the extra dimension\n",
        "X_train_np = np.array(X_train)\n",
        "X_validation_np = np.array(X_validation)\n",
        "\n",
        "y_train_np = np.array(y_train)\n",
        "y_validation_np = np.array(y_validation)"
      ],
      "metadata": {
        "id": "59r0NjGXS95i"
      },
      "execution_count": null,
      "outputs": []
    },
    {
      "cell_type": "code",
      "source": [
        "print(\"Shape of X_train_np:\", X_train_np.shape)\n",
        "print(\"Shape of X_validation_np:\", X_validation_np.shape)\n",
        "print(\"Shape of y_train_np:\", y_train_np.shape)\n",
        "print(\"Shape of y_validation_np:\", y_validation_np.shape)"
      ],
      "metadata": {
        "colab": {
          "base_uri": "https://localhost:8080/"
        },
        "id": "brPUqkfSS_SQ",
        "outputId": "33acbaea-b59a-4db9-9dd4-67661bf55966"
      },
      "execution_count": null,
      "outputs": [
        {
          "output_type": "stream",
          "name": "stdout",
          "text": [
            "Shape of X_train_np: (906, 100)\n",
            "Shape of X_validation_np: (219, 100)\n",
            "Shape of y_train_np: (906, 100, 4)\n",
            "Shape of y_validation_np: (219, 100, 4)\n"
          ]
        }
      ]
    },
    {
      "cell_type": "code",
      "execution_count": null,
      "metadata": {
        "id": "JZj1_Ucrt9RO",
        "outputId": "0199186b-5e9e-4790-f219-afcfad0d2f8a",
        "colab": {
          "base_uri": "https://localhost:8080/"
        }
      },
      "outputs": [
        {
          "output_type": "stream",
          "name": "stdout",
          "text": [
            "Epoch 1/10\n",
            "8/8 [==============================] - 5s 376ms/step - loss: 0.7181 - acc: 0.8262 - f1_m: 0.1681 - precision_m: 0.7500 - recall_m: 0.5914 - val_loss: 0.3031 - val_acc: 0.8313 - val_f1_m: 0.2374 - val_precision_m: 0.9973 - val_recall_m: 0.8071\n",
            "Epoch 2/10\n",
            "8/8 [==============================] - 3s 427ms/step - loss: 0.2658 - acc: 0.8637 - f1_m: 0.2388 - precision_m: 0.9946 - recall_m: 0.8084 - val_loss: 0.2079 - val_acc: 0.9595 - val_f1_m: 0.2471 - val_precision_m: 0.9969 - val_recall_m: 0.8096\n",
            "Epoch 3/10\n",
            "8/8 [==============================] - 2s 285ms/step - loss: 0.1812 - acc: 0.9725 - f1_m: 0.3261 - precision_m: 0.9910 - recall_m: 0.8826 - val_loss: 0.1459 - val_acc: 0.9720 - val_f1_m: 0.4013 - val_precision_m: 0.9793 - val_recall_m: 0.9393\n",
            "Epoch 4/10\n",
            "8/8 [==============================] - 2s 276ms/step - loss: 0.1369 - acc: 0.9698 - f1_m: 0.3757 - precision_m: 0.9737 - recall_m: 0.9451 - val_loss: 0.1263 - val_acc: 0.9681 - val_f1_m: 0.4007 - val_precision_m: 0.9712 - val_recall_m: 0.9513\n",
            "Epoch 5/10\n",
            "8/8 [==============================] - 2s 293ms/step - loss: 0.1200 - acc: 0.9695 - f1_m: 0.3755 - precision_m: 0.9718 - recall_m: 0.9550 - val_loss: 0.1118 - val_acc: 0.9714 - val_f1_m: 0.4049 - val_precision_m: 0.9728 - val_recall_m: 0.9582\n",
            "Epoch 6/10\n",
            "8/8 [==============================] - 2s 277ms/step - loss: 0.1065 - acc: 0.9752 - f1_m: 0.3780 - precision_m: 0.9786 - recall_m: 0.9639 - val_loss: 0.1037 - val_acc: 0.9794 - val_f1_m: 0.4140 - val_precision_m: 0.9805 - val_recall_m: 0.9669\n",
            "Epoch 7/10\n",
            "8/8 [==============================] - 3s 412ms/step - loss: 0.0984 - acc: 0.9791 - f1_m: 0.3771 - precision_m: 0.9808 - recall_m: 0.9685 - val_loss: 0.0981 - val_acc: 0.9799 - val_f1_m: 0.4149 - val_precision_m: 0.9806 - val_recall_m: 0.9698\n",
            "Epoch 8/10\n",
            "8/8 [==============================] - 2s 251ms/step - loss: 0.0911 - acc: 0.9792 - f1_m: 0.3862 - precision_m: 0.9797 - recall_m: 0.9722 - val_loss: 0.0940 - val_acc: 0.9798 - val_f1_m: 0.4160 - val_precision_m: 0.9807 - val_recall_m: 0.9735\n",
            "Epoch 9/10\n",
            "8/8 [==============================] - 2s 277ms/step - loss: 0.0851 - acc: 0.9792 - f1_m: 0.3873 - precision_m: 0.9798 - recall_m: 0.9740 - val_loss: 0.0914 - val_acc: 0.9797 - val_f1_m: 0.4160 - val_precision_m: 0.9805 - val_recall_m: 0.9739\n",
            "Epoch 10/10\n",
            "8/8 [==============================] - 2s 273ms/step - loss: 0.0799 - acc: 0.9792 - f1_m: 0.3861 - precision_m: 0.9814 - recall_m: 0.9755 - val_loss: 0.0889 - val_acc: 0.9798 - val_f1_m: 0.4163 - val_precision_m: 0.9804 - val_recall_m: 0.9751\n"
          ]
        }
      ],
      "source": [
        "lstm_training = lstm_model.fit(X_train, y_train, batch_size=128, epochs=10, validation_data=(X_validation, y_validation))\n"
      ]
    },
    {
      "cell_type": "code",
      "source": [
        "import matplotlib.pyplot as plt\n",
        "\n",
        "train_loss = lstm_training.history['loss']\n",
        "val_loss = lstm_training.history['val_loss']\n",
        "\n",
        "epochs = range(1, len(train_loss) + 1)\n",
        "\n",
        "plt.figure(figsize=(8, 5))\n",
        "plt.plot(epochs, train_loss, 'o-', label='Training Loss')\n",
        "plt.plot(epochs, val_loss, 'o-', label='Validation Loss')\n",
        "\n",
        "plt.xlabel('Epoch')\n",
        "plt.ylabel('Loss')\n",
        "plt.title('Training vs. Validation Loss')\n",
        "plt.legend()\n",
        "\n",
        "plt.grid(True)\n",
        "\n",
        "plt.show()\n"
      ],
      "metadata": {
        "colab": {
          "base_uri": "https://localhost:8080/",
          "height": 487
        },
        "id": "BthrNinSNE4e",
        "outputId": "8eef42c2-83c2-44f1-f114-da53dbb0da61"
      },
      "execution_count": null,
      "outputs": [
        {
          "output_type": "display_data",
          "data": {
            "text/plain": [
              "<Figure size 800x500 with 1 Axes>"
            ],
            "image/png": "[encoded data removed]"
          },
          "metadata": {}
        }
      ]
    },
    {
      "cell_type": "code",
      "source": [
        "import matplotlib.pyplot as plt\n",
        "\n",
        "train_loss = lstm_training.history['f1_m']\n",
        "val_loss = lstm_training.history['val_f1_m']\n",
        "\n",
        "epochs = range(1, len(train_loss) + 1)\n",
        "\n",
        "plt.figure(figsize=(8, 5))\n",
        "plt.plot(epochs, train_loss, 'o-', label='Training F1')\n",
        "plt.plot(epochs, val_loss, 'o-', label='Validation F1')\n",
        "\n",
        "plt.xlabel('Epoch')\n",
        "plt.ylabel('F1')\n",
        "plt.title('Training vs. Validation F1')\n",
        "plt.legend()\n",
        "\n",
        "plt.grid(True)\n",
        "\n",
        "plt.show()\n"
      ],
      "metadata": {
        "colab": {
          "base_uri": "https://localhost:8080/",
          "height": 487
        },
        "id": "PLd-rPoY_Mye",
        "outputId": "85f7d0cb-3370-4c2c-df33-56628b7d64a0"
      },
      "execution_count": null,
      "outputs": [
        {
          "output_type": "display_data",
          "data": {
            "text/plain": [
              "<Figure size 800x500 with 1 Axes>"
            ],
            "image/png": "[encoded data removed]"
          },
          "metadata": {}
        }
      ]
    },
    {
      "cell_type": "code",
      "execution_count": null,
      "metadata": {
        "id": "OqOxaaYXt9RO"
      },
      "outputs": [],
      "source": [
        "json_file_path = 'ATE_test_data.json'\n",
        "\n",
        "# Read the JSON file\n",
        "with open(json_file_path) as f:\n",
        "    test_data = json.load(f)\n"
      ]
    },
    {
      "cell_type": "code",
      "execution_count": null,
      "metadata": {
        "id": "CvysUklRt9RO"
      },
      "outputs": [],
      "source": [
        "for key, value in test_data.items():\n",
        "    word = value['text'].split(\" \")\n",
        "    labels = value['labels']\n",
        "    new_labels = []\n",
        "    new_word = []\n",
        "    for i in range(len(word)):\n",
        "        if(word[i]==''):\n",
        "            print(\"SADf\")\n",
        "            continue\n",
        "        new_word.append(word[i])\n",
        "    value['word'] = new_word"
      ]
    },
    {
      "cell_type": "code",
      "execution_count": null,
      "metadata": {
        "id": "eMswpxbIt9RP"
      },
      "outputs": [],
      "source": [
        "X_test = []\n",
        "tags_for_testing = []\n",
        "sentence_for_testing = []\n",
        "for key, value in test_data.items():\n",
        "    word = value['word']\n",
        "    tags = value['labels']\n",
        "    sentence = value['text']\n",
        "    # Pad the entire sentence\n",
        "    # if len(word) < max_len:\n",
        "    #     word += [''] * (max_len - len(word))\n",
        "    #     tags += ['O'] * (max_len - len(tags))\n",
        "\n",
        "    sentence_for_testing.append(word)\n",
        "    tags_for_testing.append(tags)\n",
        "\n",
        "    # Tokenize the entire sentence\n",
        "    # tokenizer = Tokenizer()\n",
        "    # tokenizer.fit_on_texts([word])\n",
        "    X_test.append(word)\n",
        "\n",
        "tokenizer = Tokenizer()\n",
        "tokenizer.fit_on_texts(X_test)\n",
        "X_test = tokenizer.texts_to_sequences(X_test)\n",
        "X_test = pad_sequences(X_test,  maxlen= max_len, padding='post', truncating='pre')"
      ]
    },
    {
      "cell_type": "code",
      "execution_count": null,
      "metadata": {
        "id": "52n58Iyst9RP",
        "outputId": "fb1686df-c52e-455a-8a17-6b6fd6ad0fbd",
        "colab": {
          "base_uri": "https://localhost:8080/"
        }
      },
      "outputs": [
        {
          "output_type": "stream",
          "name": "stdout",
          "text": [
            "[491 119   6 149  26   4 186 236  91 492 307   9 493 494   1   0   0   0\n",
            "   0   0   0   0   0   0   0   0   0   0   0   0   0   0   0   0   0   0\n",
            "   0   0   0   0   0   0   0   0   0   0   0   0   0   0   0   0   0   0\n",
            "   0   0   0   0   0   0   0   0   0   0   0   0   0   0   0   0   0   0\n",
            "   0   0   0   0   0   0   0   0   0   0   0   0   0   0   0   0   0   0\n",
            "   0   0   0   0   0   0   0   0   0   0]\n",
            "['I', 'charge', 'it', 'at', 'night', 'and', 'skip', 'taking', 'the', 'cord', 'with', 'me', 'because', 'of', 'the', 'good', 'battery', 'life', '.']\n"
          ]
        }
      ],
      "source": [
        "print(X_test[0])\n",
        "print(sentence_for_training[0])"
      ]
    },
    {
      "cell_type": "code",
      "execution_count": null,
      "metadata": {
        "id": "7ogMidZyt9RP"
      },
      "outputs": [],
      "source": [
        "\n",
        "word_tokenizer = Tokenizer()                      # instantiate tokeniser\n",
        "word_tokenizer.fit_on_texts(tags_for_testing)                    # fit tokeniser on data\n",
        "y_test = word_tokenizer.texts_to_sequences(tags_for_testing)  # use the tokeniser to encode input sequence\n",
        "\n",
        "\n",
        "# for i in range(len(y_test)):\n",
        "#     for j in range(len(y_test[i])):\n",
        "#         y_test[i][j]-=1\n",
        "\n",
        "y_test = pad_sequences(y_test,  maxlen= max_len, padding='post', truncating='pre')\n",
        "y_test = to_categorical(y_test)\n"
      ]
    },
    {
      "cell_type": "code",
      "execution_count": null,
      "metadata": {
        "id": "bbm4zXCUt9RP",
        "outputId": "f3b2a973-b632-48a6-fd60-ec48d5774375",
        "colab": {
          "base_uri": "https://localhost:8080/"
        }
      },
      "outputs": [
        {
          "output_type": "stream",
          "name": "stdout",
          "text": [
            "(328, 100, 4)\n"
          ]
        }
      ],
      "source": [
        "print(y_test.shape)\n",
        "# print(tags_for_testing[0])"
      ]
    },
    {
      "cell_type": "code",
      "execution_count": null,
      "metadata": {
        "id": "GbtRDnY-t9RQ",
        "outputId": "115b4ce2-e16b-472c-d34d-b5cd4836d685",
        "colab": {
          "base_uri": "https://localhost:8080/"
        }
      },
      "outputs": [
        {
          "output_type": "stream",
          "name": "stdout",
          "text": [
            "11/11 [==============================] - 0s 27ms/step - loss: 0.1129 - acc: 0.9718 - f1_m: 0.3422 - precision_m: 0.9747 - recall_m: 0.9673\n",
            "Loss: 0.11289666593074799\n",
            "Metrics: [0.971768319606781, 0.3421818017959595, 0.9746668338775635, 0.9673296213150024]\n"
          ]
        }
      ],
      "source": [
        "# Evaluate the model\n",
        "results = rnn_model.evaluate(X_test, y_test, verbose=1)\n",
        "\n",
        "# Extracting loss and metrics from the results\n",
        "loss = results[0]\n",
        "metrics = results[1:]\n",
        "\n",
        "# Printing loss and metrics\n",
        "print(\"Loss:\", loss)\n",
        "print(\"Metrics:\", metrics)\n"
      ]
    },
    {
      "cell_type": "code",
      "execution_count": null,
      "metadata": {
        "id": "RtCi-iSrt9RQ",
        "outputId": "44d63b39-6cdd-4980-fc08-dd65bb69f450",
        "colab": {
          "base_uri": "https://localhost:8080/"
        }
      },
      "outputs": [
        {
          "output_type": "stream",
          "name": "stdout",
          "text": [
            "11/11 [==============================] - 1s 34ms/step\n",
            "0.47194246402119094\n"
          ]
        }
      ],
      "source": [
        "# calculate f1 score\n",
        "\n",
        "from sklearn.metrics import f1_score\n",
        "y_pred = lstm_model.predict(X_test)\n",
        "y_pred = np.argmax(y_pred, axis=-1)\n",
        "y_test = np.argmax(y_test, axis=-1)\n",
        "f1 = f1_score(y_test.flatten(), y_pred.flatten(), average='macro')\n",
        "print(f1)"
      ]
    },
    {
      "cell_type": "markdown",
      "source": [
        "**GRU**"
      ],
      "metadata": {
        "id": "BvYMX-7A5agG"
      }
    },
    {
      "cell_type": "code",
      "execution_count": null,
      "metadata": {
        "id": "yDQ5-o_kuIfd"
      },
      "outputs": [],
      "source": [
        "\n",
        "from gensim.models import KeyedVectors# Load pre-trained model\n",
        "# import torch\n",
        "# import torch.nn as nn\n",
        "import json\n",
        "import tensorflow as tf\n",
        "from tensorflow.keras.preprocessing.text import Tokenizer\n",
        "from tensorflow.keras.preprocessing.sequence import pad_sequences\n",
        "from keras.utils import to_categorical\n",
        "import numpy as np\n",
        "import keras\n"
      ]
    },
    {
      "cell_type": "code",
      "execution_count": null,
      "metadata": {
        "id": "3HsbFJcEuIfe"
      },
      "outputs": [],
      "source": [
        "# Specify the path to your JSON file\n",
        "json_file_path = 'ATE_training_data.json'\n",
        "\n",
        "# Read the JSON file\n",
        "with open(json_file_path) as f:\n",
        "    data = json.load(f)\n",
        "\n",
        "# data\n",
        "# print(len(data))\n",
        "\n",
        "# Specify the path to your JSON file\n",
        "json_file_path = 'ATE_validation_data.json'\n",
        "\n",
        "# Read the JSON file\n",
        "with open(json_file_path) as f:\n",
        "    validation_data = json.load(f)\n",
        "\n",
        "\n"
      ]
    },
    {
      "cell_type": "code",
      "execution_count": null,
      "metadata": {
        "id": "90YR4gRnuIff"
      },
      "outputs": [],
      "source": [
        "# max_len=0\n",
        "# for key,value in data.items():\n",
        "#     max_len=max(max_len,len(value['text'].split(\" \")))\n",
        "max_len=100\n"
      ]
    },
    {
      "cell_type": "code",
      "execution_count": null,
      "metadata": {
        "id": "YiK9y8OruIff"
      },
      "outputs": [],
      "source": [
        "c=1\n",
        "for key, value in data.items():\n",
        "    word = value['text'].split(\" \")\n",
        "    labels = value['labels']\n",
        "    new_labels = []\n",
        "    new_word = []\n",
        "    for i in range(len(word)):\n",
        "        if(word[i]==''):\n",
        "            print(word)\n",
        "            continue\n",
        "        # new_labels.append(labels[i])\n",
        "        new_word.append(word[i])\n",
        "    # value['labels'] = new_labels\n",
        "    value['word'] = new_word\n",
        "\n",
        "\n",
        "for key, value in validation_data.items():\n",
        "    word = value['text'].split(\" \")\n",
        "    labels = value['labels']\n",
        "    new_labels = []\n",
        "    new_word = []\n",
        "    for i in range(len(word)):\n",
        "        if(word[i]==''):\n",
        "            continue\n",
        "        # new_labels.append(labels[i])\n",
        "        new_word.append(word[i])\n",
        "    # value['labels'] = new_labels\n",
        "    value['word'] = new_word"
      ]
    },
    {
      "cell_type": "code",
      "execution_count": null,
      "metadata": {
        "id": "xXF2XAHKuIff"
      },
      "outputs": [],
      "source": [
        "sentence_for_training = []\n",
        "tags_for_training = []\n",
        "X_train = []\n",
        "\n",
        "for key, value in data.items():\n",
        "    word = value['word']\n",
        "    tags = value['labels']\n",
        "    sentence = value['text']\n",
        "    # Pad the entire sentence\n",
        "    # if len(word) < max_len:\n",
        "    #     word += [''] * (max_len - len(word))\n",
        "    #     tags += ['O'] * (max_len - len(tags))\n",
        "\n",
        "    sentence_for_training.append(word)\n",
        "    tags_for_training.append(tags)\n",
        "\n",
        "    # # Tokenize the entire sentence\n",
        "    # tokenizer = Tokenizer()\n",
        "    # tokenizer.fit_on_texts([word])\n",
        "    X_train.append(word)\n",
        "\n",
        "\n",
        "tokenizer = Tokenizer()\n",
        "tokenizer.fit_on_texts(X_train)\n",
        "X_train = tokenizer.texts_to_sequences(X_train)\n",
        "X_train = pad_sequences(X_train, maxlen=max_len, padding='post', truncating='pre')\n",
        "# print(max_len)\n",
        "# for i in X_train:\n",
        "#     if(len(i)>max_len):\n",
        "#         print(len(i))"
      ]
    },
    {
      "cell_type": "code",
      "execution_count": null,
      "metadata": {
        "id": "R6Skjcp4uIff"
      },
      "outputs": [],
      "source": [
        "sentence_for_validation = []\n",
        "tags_for_validation = []\n",
        "X_validation = []\n",
        "\n",
        "for key, value in validation_data.items():\n",
        "    word = value['word']\n",
        "    tags = value['labels']\n",
        "\n",
        "    # # Pad the entire sentence\n",
        "    # if len(word) < max_len:\n",
        "    #     word += [''] * (max_len - len(word))\n",
        "    #     tags += ['O'] * (max_len - len(tags))\n",
        "\n",
        "    sentence_for_validation.append(word)\n",
        "    tags_for_validation.append(tags)\n",
        "\n",
        "    # Tokenize the entire sentence\n",
        "    # tokenizer = Tokenizer()\n",
        "    # tokenizer.fit_on_texts([word])\n",
        "    X_validation.append(word)\n",
        "\n",
        "\n",
        "tokenizer = Tokenizer()\n",
        "tokenizer.fit_on_texts(X_validation)\n",
        "X_validation = tokenizer.texts_to_sequences(X_validation)\n",
        "X_validation = pad_sequences(X_validation, maxlen= max_len, padding='post', truncating='pre')\n",
        "# y_validation = pad_sequences(y_validation, batch_first=True, padding_value=0)\n"
      ]
    },
    {
      "cell_type": "code",
      "execution_count": null,
      "metadata": {
        "id": "rwGbgN0EuIfg",
        "outputId": "66942262-2fc9-4724-fa7c-f56211bceca7",
        "colab": {
          "base_uri": "https://localhost:8080/"
        }
      },
      "outputs": [
        {
          "output_type": "stream",
          "name": "stdout",
          "text": [
            "(906, 100)\n"
          ]
        }
      ],
      "source": [
        "print(X_train.shape)"
      ]
    },
    {
      "cell_type": "code",
      "execution_count": null,
      "metadata": {
        "id": "Uu3713wouIfg",
        "outputId": "224456cd-9a5b-4465-b776-d58e4bb2fa99",
        "colab": {
          "base_uri": "https://localhost:8080/"
        }
      },
      "outputs": [
        {
          "output_type": "stream",
          "name": "stdout",
          "text": [
            "2740\n"
          ]
        }
      ],
      "source": [
        "vocab = []\n",
        "for i in sentence_for_training:\n",
        "    for j in i:\n",
        "        if j not in vocab:\n",
        "            vocab.append(j)\n",
        "# vocab = list(set(vocab))\n",
        "print(len(vocab))    #30220"
      ]
    },
    {
      "cell_type": "code",
      "execution_count": null,
      "metadata": {
        "id": "P6XUlOSquIfg"
      },
      "outputs": [],
      "source": [
        "vocab_weight = {}\n",
        "c = 0\n",
        "for i in vocab:\n",
        "   if i in model_GloVe:\n",
        "       vocab_weight[i] = model_GloVe[i]"
      ]
    },
    {
      "cell_type": "code",
      "execution_count": null,
      "metadata": {
        "id": "H_0wObNguIfh"
      },
      "outputs": [],
      "source": [
        "# give code to make embedding weight matrix\n",
        "# vocab=len(vocab)+1\n",
        "weights = np.zeros((len(vocab)+1, 300))\n",
        "for i in range(len(vocab)):\n",
        "    if(vocab[i] in vocab_weight):\n",
        "        weights[i] = vocab_weight[vocab[i]]\n",
        "    # weights[i] = vocab_weight[vocab[i]]\n",
        "\n"
      ]
    },
    {
      "cell_type": "code",
      "execution_count": null,
      "metadata": {
        "id": "FAyrWbpNuIfh",
        "outputId": "c3c1524c-fffa-4834-d0e8-a3f71aa3f82e",
        "colab": {
          "base_uri": "https://localhost:8080/"
        }
      },
      "outputs": [
        {
          "output_type": "execute_result",
          "data": {
            "text/plain": [
              "(2741, 300)"
            ]
          },
          "metadata": {},
          "execution_count": 284
        }
      ],
      "source": [
        "# weights = []\n",
        "# for i in vocab:\n",
        "#     weights.append(vocab_weight[i])\n",
        "# weights = np.array(weights)\n",
        "weights.shape\n",
        "# # weights"
      ]
    },
    {
      "cell_type": "code",
      "execution_count": null,
      "metadata": {
        "id": "nRCxcDU5uIfh"
      },
      "outputs": [],
      "source": [
        "y_train=[]\n",
        "y_validation=[]\n",
        "y_test=[]\n",
        "\n",
        "word_tokenizer = Tokenizer()                      # instantiate tokeniser\n",
        "word_tokenizer.fit_on_texts(tags_for_training)                    # fit tokeniser on data\n",
        "y_train = word_tokenizer.texts_to_sequences(tags_for_training)  # use the tokeniser to encode input sequence.\n",
        "y_train = pad_sequences(y_train, maxlen= max_len, padding='post', truncating='pre')\n",
        "\n",
        "\n",
        "# for i in range(len(y_train)):\n",
        "#     for j in range(len(y_train[i])):\n",
        "#         y_train[i][j]-=1\n",
        "\n",
        "\n",
        "word_tokenizer = Tokenizer()                      # instantiate tokeniser\n",
        "word_tokenizer.fit_on_texts(tags_for_training)                    # fit tokeniser on data\n",
        "y_validation = word_tokenizer.texts_to_sequences(tags_for_validation)  # use the tokeniser to encode input sequence\n",
        "y_validation = pad_sequences(y_validation,  maxlen= max_len, padding='post', truncating='pre')\n",
        "\n",
        "# for i in range(len(y_validation)):\n",
        "#     for j in range(len(y_validation[i])):\n",
        "#         y_validation[i][j]-=1\n",
        "\n",
        "\n",
        "# y_train = pad_sequences(y_train, maxlen= max_len, padding='pre', truncating='post')\n",
        "# y_validation = pad_sequences(y_validation,maxlen= max_len, padding='pre', truncating='post')\n",
        "y_train = to_categorical(y_train)\n",
        "y_validation = to_categorical(y_validation)\n",
        "\n",
        "\n",
        "# y_train.shape\n",
        "# y_validation.shape\n",
        "# y_train"
      ]
    },
    {
      "cell_type": "code",
      "execution_count": null,
      "metadata": {
        "id": "bwchOLQJuIfh",
        "outputId": "71e388fa-9a96-4fc6-bd5a-dd2166ef7e9a",
        "colab": {
          "base_uri": "https://localhost:8080/"
        }
      },
      "outputs": [
        {
          "output_type": "stream",
          "name": "stdout",
          "text": [
            "(906, 100, 4)\n",
            "(219, 100, 4)\n"
          ]
        }
      ],
      "source": [
        "print(y_train.shape)\n",
        "print(y_validation.shape)"
      ]
    },
    {
      "cell_type": "code",
      "execution_count": null,
      "metadata": {
        "id": "Y-WsK0aEuIfh"
      },
      "outputs": [],
      "source": [
        "from tensorflow.keras import Model,Input\n",
        "from keras.models import Sequential\n",
        "\n",
        "from tensorflow.keras.layers import GRU,SimpleRNN,LSTM,Embedding,Dense\n",
        "from tensorflow.keras.layers import TimeDistributed, SpatialDropout1D,Bidirectional\n",
        "# create architecture\n",
        "\n",
        "# VOCABULARY_SIZE = len(vocab)\n",
        "\n",
        "\n",
        "gru_model = Sequential()\n",
        "gru_model.add(Embedding(input_dim     = len(vocab)+1,         # vocabulary size - number of unique words in data\n",
        "                         output_dim    = 300,          # length of vector with which each word is represented\n",
        "                         input_length  = max_len,          # length of input sequence\n",
        "                         weights       = [weights],     # word embedding matrix\n",
        "                         trainable     = True                     # True - update embeddings_weight matrix\n",
        "))\n",
        "gru_model.add(GRU(64, return_sequences=True))\n",
        "gru_model.add(TimeDistributed(Dense(4, activation='softmax')))"
      ]
    },
    {
      "cell_type": "code",
      "execution_count": null,
      "metadata": {
        "id": "r6UJGAL6_zKu"
      },
      "outputs": [],
      "source": [
        "from keras import backend as K\n",
        "from sklearn.metrics import f1_score\n",
        "import matplotlib.pyplot as plt\n",
        "\n",
        "def recall_m(y_true, y_pred):\n",
        "    true_positives = K.sum(K.round(K.clip(y_true * y_pred, 0, 1)))\n",
        "    possible_positives = K.sum(K.round(K.clip(y_true, 0, 1)))\n",
        "    recall = true_positives / (possible_positives + K.epsilon())\n",
        "    return recall\n",
        "\n",
        "def precision_m(y_true, y_pred):\n",
        "    true_positives = K.sum(K.round(K.clip(y_true * y_pred, 0, 1)))\n",
        "    predicted_positives = K.sum(K.round(K.clip(y_pred, 0, 1)))\n",
        "    precision = true_positives / (predicted_positives + K.epsilon())\n",
        "    return precision\n",
        "\n",
        "def f1_m(y_true, y_pred):\n",
        "    true_positives = K.sum(K.round(K.clip(y_true * y_pred, 0, 1)), axis=0)\n",
        "    predicted_positives = K.sum(K.round(K.clip(y_pred, 0, 1)), axis=0)\n",
        "    possible_positives = K.sum(K.round(K.clip(y_true, 0, 1)), axis=0)\n",
        "\n",
        "    precision = true_positives / (predicted_positives + K.epsilon())\n",
        "    recall = true_positives / (possible_positives + K.epsilon())\n",
        "\n",
        "    f1 = 2 * precision * recall / (precision + recall + K.epsilon())\n",
        "\n",
        "    macro_f1 = K.mean(f1)\n",
        "    return macro_f1\n",
        "\n",
        "# compile the model\n",
        "gru_model.compile(optimizer='adam', loss='categorical_crossentropy', metrics=['acc',f1_m,precision_m, recall_m])\n",
        "\n",
        "\n"
      ]
    },
    {
      "cell_type": "code",
      "execution_count": null,
      "metadata": {
        "id": "Ft7GaGLOuIfi",
        "outputId": "6cb74911-5b57-4e69-d952-d4fdc9bcc248",
        "colab": {
          "base_uri": "https://localhost:8080/"
        }
      },
      "outputs": [
        {
          "output_type": "stream",
          "name": "stdout",
          "text": [
            "Epoch 1/10\n",
            "8/8 [==============================] - 6s 473ms/step - loss: 0.8237 - acc: 0.7190 - f1_m: 0.1476 - precision_m: 0.6249 - recall_m: 0.4987 - val_loss: 0.3357 - val_acc: 0.8532 - val_f1_m: 0.2374 - val_precision_m: 0.9971 - val_recall_m: 0.8072\n",
            "Epoch 2/10\n",
            "8/8 [==============================] - 2s 222ms/step - loss: 0.2823 - acc: 0.8789 - f1_m: 0.2360 - precision_m: 0.9939 - recall_m: 0.8066 - val_loss: 0.2170 - val_acc: 0.9430 - val_f1_m: 0.2440 - val_precision_m: 0.9937 - val_recall_m: 0.8104\n",
            "Epoch 3/10\n",
            "8/8 [==============================] - 2s 232ms/step - loss: 0.1883 - acc: 0.9600 - f1_m: 0.3038 - precision_m: 0.9919 - recall_m: 0.8622 - val_loss: 0.1429 - val_acc: 0.9780 - val_f1_m: 0.4051 - val_precision_m: 0.9831 - val_recall_m: 0.9500\n",
            "Epoch 4/10\n",
            "8/8 [==============================] - 2s 232ms/step - loss: 0.1253 - acc: 0.9780 - f1_m: 0.3716 - precision_m: 0.9817 - recall_m: 0.9635 - val_loss: 0.1041 - val_acc: 0.9800 - val_f1_m: 0.4165 - val_precision_m: 0.9806 - val_recall_m: 0.9748\n",
            "Epoch 5/10\n",
            "8/8 [==============================] - 2s 230ms/step - loss: 0.0968 - acc: 0.9791 - f1_m: 0.3871 - precision_m: 0.9804 - recall_m: 0.9755 - val_loss: 0.0940 - val_acc: 0.9800 - val_f1_m: 0.4167 - val_precision_m: 0.9805 - val_recall_m: 0.9760\n",
            "Epoch 6/10\n",
            "8/8 [==============================] - 2s 226ms/step - loss: 0.0869 - acc: 0.9793 - f1_m: 0.3834 - precision_m: 0.9798 - recall_m: 0.9772 - val_loss: 0.0893 - val_acc: 0.9803 - val_f1_m: 0.4172 - val_precision_m: 0.9805 - val_recall_m: 0.9786\n",
            "Epoch 7/10\n",
            "8/8 [==============================] - 2s 310ms/step - loss: 0.0780 - acc: 0.9794 - f1_m: 0.3896 - precision_m: 0.9788 - recall_m: 0.9770 - val_loss: 0.0850 - val_acc: 0.9803 - val_f1_m: 0.4173 - val_precision_m: 0.9805 - val_recall_m: 0.9791\n",
            "Epoch 8/10\n",
            "8/8 [==============================] - 2s 266ms/step - loss: 0.0698 - acc: 0.9794 - f1_m: 0.3817 - precision_m: 0.9804 - recall_m: 0.9788 - val_loss: 0.0828 - val_acc: 0.9801 - val_f1_m: 0.4173 - val_precision_m: 0.9804 - val_recall_m: 0.9790\n",
            "Epoch 9/10\n",
            "8/8 [==============================] - 2s 227ms/step - loss: 0.0632 - acc: 0.9795 - f1_m: 0.3871 - precision_m: 0.9821 - recall_m: 0.9798 - val_loss: 0.0822 - val_acc: 0.9798 - val_f1_m: 0.4171 - val_precision_m: 0.9806 - val_recall_m: 0.9783\n",
            "Epoch 10/10\n",
            "8/8 [==============================] - 2s 218ms/step - loss: 0.0570 - acc: 0.9802 - f1_m: 0.3810 - precision_m: 0.9837 - recall_m: 0.9796 - val_loss: 0.0828 - val_acc: 0.9786 - val_f1_m: 0.4162 - val_precision_m: 0.9803 - val_recall_m: 0.9761\n"
          ]
        }
      ],
      "source": [
        "import numpy as np\n",
        "\n",
        "# Convert input data to numpy arrays\n",
        "# X_train_np = np.array(X_train)\n",
        "# X_validation_np = np.array(X_validation)\n",
        "# Reshape the input data to remove the extra dimension\n",
        "X_train_np = np.array(X_train)\n",
        "X_validation_np = np.array(X_validation)\n",
        "\n",
        "y_train_np = np.array(y_train)\n",
        "y_validation_np = np.array(y_validation)\n",
        "\n",
        "# Train the model\n",
        "gru_training = gru_model.fit(X_train, y_train, batch_size=128, epochs=10, validation_data=(X_validation, y_validation))\n",
        "#write code to print the training and validation loss and f1 macro not the graph\n",
        "\n",
        "\n",
        "\n",
        "\n"
      ]
    },
    {
      "cell_type": "code",
      "source": [
        "import matplotlib.pyplot as plt\n",
        "\n",
        "train_loss = gru_training.history['loss']\n",
        "val_loss = gru_training.history['val_loss']\n",
        "\n",
        "epochs = range(1, len(train_loss) + 1)\n",
        "\n",
        "plt.figure(figsize=(8, 5))\n",
        "plt.plot(epochs, train_loss, 'o-', label='Training Loss')\n",
        "plt.plot(epochs, val_loss, 'o-', label='Validation Loss')\n",
        "\n",
        "plt.xlabel('Epoch')\n",
        "plt.ylabel('Loss')\n",
        "plt.title('Training vs. Validation Loss')\n",
        "plt.legend()\n",
        "\n",
        "plt.grid(True)\n",
        "\n",
        "plt.show()\n"
      ],
      "metadata": {
        "colab": {
          "base_uri": "https://localhost:8080/",
          "height": 487
        },
        "outputId": "f19f95c2-4133-49cf-be84-b949132a133d",
        "id": "ENF-LJGh_zK2"
      },
      "execution_count": null,
      "outputs": [
        {
          "output_type": "display_data",
          "data": {
            "text/plain": [
              "<Figure size 800x500 with 1 Axes>"
            ],
            "image/png": "[encoded data removed]"
          },
          "metadata": {}
        }
      ]
    },
    {
      "cell_type": "code",
      "source": [
        "import matplotlib.pyplot as plt\n",
        "\n",
        "train_loss = lstm_training.history['f1_m']\n",
        "val_loss = lstm_training.history['val_f1_m']\n",
        "\n",
        "epochs = range(1, len(train_loss) + 1)\n",
        "\n",
        "plt.figure(figsize=(8, 5))\n",
        "plt.plot(epochs, train_loss, 'o-', label='Training F1')\n",
        "plt.plot(epochs, val_loss, 'o-', label='Validation F1')\n",
        "\n",
        "plt.xlabel('Epoch')\n",
        "plt.ylabel('F1')\n",
        "plt.title('Training vs. Validation F1')\n",
        "plt.legend()\n",
        "\n",
        "plt.grid(True)\n",
        "\n",
        "plt.show()\n"
      ],
      "metadata": {
        "colab": {
          "base_uri": "https://localhost:8080/",
          "height": 487
        },
        "outputId": "dd3f26a9-214d-4d05-ab7d-457aaeda180b",
        "id": "kV934tfl_zK2"
      },
      "execution_count": null,
      "outputs": [
        {
          "output_type": "display_data",
          "data": {
            "text/plain": [
              "<Figure size 800x500 with 1 Axes>"
            ],
            "image/png": "[encoded data removed]"
          },
          "metadata": {}
        }
      ]
    },
    {
      "cell_type": "code",
      "execution_count": null,
      "metadata": {
        "id": "ZNfZ4oKpuIfi"
      },
      "outputs": [],
      "source": [
        "json_file_path = 'ATE_test_data.json'\n",
        "\n",
        "# Read the JSON file\n",
        "with open(json_file_path) as f:\n",
        "    test_data = json.load(f)\n"
      ]
    },
    {
      "cell_type": "code",
      "execution_count": null,
      "metadata": {
        "id": "w5hVqz-_uIfi"
      },
      "outputs": [],
      "source": [
        "for key, value in test_data.items():\n",
        "    word = value['text'].split(\" \")\n",
        "    labels = value['labels']\n",
        "    new_labels = []\n",
        "    new_word = []\n",
        "    for i in range(len(word)):\n",
        "        if(word[i]==''):\n",
        "            print(\"SADf\")\n",
        "            continue\n",
        "        new_word.append(word[i])\n",
        "    value['word'] = new_word"
      ]
    },
    {
      "cell_type": "code",
      "execution_count": null,
      "metadata": {
        "id": "o0DlSxt-uIfi"
      },
      "outputs": [],
      "source": [
        "X_test = []\n",
        "tags_for_testing = []\n",
        "sentence_for_testing = []\n",
        "for key, value in test_data.items():\n",
        "    word = value['word']\n",
        "    tags = value['labels']\n",
        "    sentence = value['text']\n",
        "    # Pad the entire sentence\n",
        "    # if len(word) < max_len:\n",
        "    #     word += [''] * (max_len - len(word))\n",
        "    #     tags += ['O'] * (max_len - len(tags))\n",
        "\n",
        "    sentence_for_testing.append(word)\n",
        "    tags_for_testing.append(tags)\n",
        "\n",
        "    # Tokenize the entire sentence\n",
        "    # tokenizer = Tokenizer()\n",
        "    # tokenizer.fit_on_texts([word])\n",
        "    X_test.append(word)\n",
        "\n",
        "tokenizer = Tokenizer()\n",
        "tokenizer.fit_on_texts(X_test)\n",
        "X_test = tokenizer.texts_to_sequences(X_test)\n",
        "X_test = pad_sequences(X_test,  maxlen= max_len, padding='post', truncating='pre')"
      ]
    },
    {
      "cell_type": "code",
      "execution_count": null,
      "metadata": {
        "id": "juSFAtAWuIfj",
        "outputId": "e064c8e1-ef00-4e32-84a4-1c09bc42e708",
        "colab": {
          "base_uri": "https://localhost:8080/"
        }
      },
      "outputs": [
        {
          "output_type": "stream",
          "name": "stdout",
          "text": [
            "[491 119   6 149  26   4 186 236  91 492 307   9 493 494   1   0   0   0\n",
            "   0   0   0   0   0   0   0   0   0   0   0   0   0   0   0   0   0   0\n",
            "   0   0   0   0   0   0   0   0   0   0   0   0   0   0   0   0   0   0\n",
            "   0   0   0   0   0   0   0   0   0   0   0   0   0   0   0   0   0   0\n",
            "   0   0   0   0   0   0   0   0   0   0   0   0   0   0   0   0   0   0\n",
            "   0   0   0   0   0   0   0   0   0   0]\n",
            "['I', 'charge', 'it', 'at', 'night', 'and', 'skip', 'taking', 'the', 'cord', 'with', 'me', 'because', 'of', 'the', 'good', 'battery', 'life', '.']\n"
          ]
        }
      ],
      "source": [
        "print(X_test[0])\n",
        "print(sentence_for_training[0])"
      ]
    },
    {
      "cell_type": "code",
      "execution_count": null,
      "metadata": {
        "id": "FfzYNSxXuIfj"
      },
      "outputs": [],
      "source": [
        "\n",
        "word_tokenizer = Tokenizer()                      # instantiate tokeniser\n",
        "word_tokenizer.fit_on_texts(tags_for_testing)                    # fit tokeniser on data\n",
        "y_test = word_tokenizer.texts_to_sequences(tags_for_testing)  # use the tokeniser to encode input sequence\n",
        "\n",
        "\n",
        "# for i in range(len(y_test)):\n",
        "#     for j in range(len(y_test[i])):\n",
        "#         y_test[i][j]-=1\n",
        "\n",
        "y_test = pad_sequences(y_test,  maxlen= max_len, padding='post', truncating='pre')\n",
        "y_test = to_categorical(y_test)\n"
      ]
    },
    {
      "cell_type": "code",
      "execution_count": null,
      "metadata": {
        "id": "yrGyCFCguIfj",
        "outputId": "ac14aaed-d661-4791-9f9e-90a6db58b366",
        "colab": {
          "base_uri": "https://localhost:8080/"
        }
      },
      "outputs": [
        {
          "output_type": "stream",
          "name": "stdout",
          "text": [
            "(328, 100, 4)\n"
          ]
        }
      ],
      "source": [
        "print(y_test.shape)\n",
        "# print(tags_for_testing[0])"
      ]
    },
    {
      "cell_type": "code",
      "execution_count": null,
      "metadata": {
        "id": "dMhHo3gjuIfj"
      },
      "outputs": [],
      "source": [
        "# take 5 random sentence, print it , its label and the predicted label\n",
        "\n"
      ]
    },
    {
      "cell_type": "code",
      "execution_count": null,
      "metadata": {
        "id": "Dvz1Gy9RuIfj",
        "outputId": "dff2f1f7-3723-4102-c70c-101d43af721f",
        "colab": {
          "base_uri": "https://localhost:8080/"
        }
      },
      "outputs": [
        {
          "output_type": "stream",
          "name": "stdout",
          "text": [
            "11/11 [==============================] - 0s 25ms/step - loss: 0.1129 - acc: 0.9718 - f1_m: 0.3422 - precision_m: 0.9747 - recall_m: 0.9673\n",
            "Loss: 0.11289666593074799\n",
            "Metrics: [0.971768319606781, 0.3421818017959595, 0.9746668338775635, 0.9673296213150024]\n"
          ]
        }
      ],
      "source": [
        "# Evaluate the model\n",
        "results = rnn_model.evaluate(X_test, y_test, verbose=1)\n",
        "\n",
        "# Extracting loss and metrics from the results\n",
        "loss = results[0]\n",
        "metrics = results[1:]\n",
        "\n",
        "# Printing loss and metrics\n",
        "print(\"Loss:\", loss)\n",
        "print(\"Metrics:\", metrics)\n"
      ]
    },
    {
      "cell_type": "code",
      "execution_count": null,
      "metadata": {
        "id": "8Yxey8UGuIfk",
        "outputId": "328cb080-4f0e-4253-ad46-c99dce45e08a",
        "colab": {
          "base_uri": "https://localhost:8080/"
        }
      },
      "outputs": [
        {
          "output_type": "stream",
          "name": "stdout",
          "text": [
            "11/11 [==============================] - 1s 27ms/step\n",
            "0.4885332363193045\n"
          ]
        }
      ],
      "source": [
        "# calculate f1 score\n",
        "\n",
        "from sklearn.metrics import f1_score\n",
        "y_pred = gru_model.predict(X_test)\n",
        "y_pred = np.argmax(y_pred, axis=-1)\n",
        "y_test = np.argmax(y_test, axis=-1)\n",
        "f1 = f1_score(y_test.flatten(), y_pred.flatten(), average='macro')\n",
        "print(f1)"
      ]
    }
  ],
  "metadata": {
    "kernelspec": {
      "display_name": "Python 3",
      "language": "python",
      "name": "python3"
    },
    "language_info": {
      "codemirror_mode": {
        "name": "ipython",
        "version": 3
      },
      "file_extension": ".py",
      "mimetype": "text/x-python",
      "name": "python",
      "nbconvert_exporter": "python",
      "pygments_lexer": "ipython3",
      "version": "3.9.12"
    },
    "colab": {
      "provenance": []
    }
  },
  "nbformat": 4,
  "nbformat_minor": 0
}